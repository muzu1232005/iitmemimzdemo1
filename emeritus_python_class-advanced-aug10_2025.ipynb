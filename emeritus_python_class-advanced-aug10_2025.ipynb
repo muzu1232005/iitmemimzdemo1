{
  "nbformat": 4,
  "nbformat_minor": 0,
  "metadata": {
    "colab": {
      "provenance": []
    },
    "kernelspec": {
      "name": "python3",
      "display_name": "Python 3"
    },
    "language_info": {
      "name": "python"
    }
  },
  "cells": [
    {
      "cell_type": "markdown",
      "source": [
        "list and tuples are ordered\n",
        "\n",
        "dictionaires: key value pair"
      ],
      "metadata": {
        "id": "iJBLrJfaCAG9"
      }
    },
    {
      "cell_type": "code",
      "execution_count": null,
      "metadata": {
        "colab": {
          "base_uri": "https://localhost:8080/"
        },
        "id": "IkiOFmvKBsP3",
        "outputId": "b40b0813-dce5-4448-a4ce-8ed3137c99cc"
      },
      "outputs": [
        {
          "output_type": "execute_result",
          "data": {
            "text/plain": [
              "(1, 2, 3, 4, 5, 6, 7, 8, 9)"
            ]
          },
          "metadata": {},
          "execution_count": 4
        }
      ],
      "source": [
        "a = (1,2,3,4,5)\n",
        "b = (6,7,8,9)\n",
        "\n",
        "a = a + b\n",
        "a"
      ]
    },
    {
      "cell_type": "code",
      "source": [
        "dict = {\"name\": \"nikkhil\", \"age\": 36, \"country\": \"india\", \"name\":\"garg\"}\n",
        "print(dict)\n"
      ],
      "metadata": {
        "colab": {
          "base_uri": "https://localhost:8080/"
        },
        "id": "K8X3wismDGq0",
        "outputId": "6e98c442-8978-4b78-d39a-58858f4a76ff"
      },
      "execution_count": null,
      "outputs": [
        {
          "output_type": "stream",
          "name": "stdout",
          "text": [
            "{'name': 'garg', 'age': 36, 'country': 'india'}\n"
          ]
        }
      ]
    },
    {
      "cell_type": "code",
      "source": [
        "t1 = (1, 2, 3)\n",
        "t2 = (4, 5, 6)\n"
      ],
      "metadata": {
        "id": "szg9ITQZFPcd"
      },
      "execution_count": null,
      "outputs": []
    },
    {
      "cell_type": "code",
      "source": [
        "id(t1)"
      ],
      "metadata": {
        "colab": {
          "base_uri": "https://localhost:8080/"
        },
        "id": "wX3MwfJvF5Z5",
        "outputId": "67a2dbe3-1cfa-4d1c-99c9-63397f6bfc22"
      },
      "execution_count": null,
      "outputs": [
        {
          "output_type": "execute_result",
          "data": {
            "text/plain": [
              "132089376932992"
            ]
          },
          "metadata": {},
          "execution_count": 7
        }
      ]
    },
    {
      "cell_type": "code",
      "source": [
        "t1 = t1 + t2\n",
        "id(t1)"
      ],
      "metadata": {
        "colab": {
          "base_uri": "https://localhost:8080/"
        },
        "id": "VQtreizCFtSH",
        "outputId": "8dba3da8-e68d-499b-9a98-6f27543c0566"
      },
      "execution_count": null,
      "outputs": [
        {
          "output_type": "execute_result",
          "data": {
            "text/plain": [
              "132089376863136"
            ]
          },
          "metadata": {},
          "execution_count": 8
        }
      ]
    },
    {
      "cell_type": "code",
      "source": [
        "num = [1,2,3,4,5,6,7,8,9,10]\n",
        "\n",
        "#add 2 to each number and then print result\n",
        "\n",
        "i = 0 #iterator\n",
        "\n",
        "while(i < len(num)):#defining the condition is based on iterator variable\n",
        "    print(num[i]+2) #define your operation  by connecting the iterator with the sequence\n",
        "    i += 1 #increment"
      ],
      "metadata": {
        "colab": {
          "base_uri": "https://localhost:8080/"
        },
        "id": "1Asm2GZpGAcJ",
        "outputId": "2e29650b-dbe6-4847-f4f8-edb232890812"
      },
      "execution_count": null,
      "outputs": [
        {
          "output_type": "stream",
          "name": "stdout",
          "text": [
            "3\n",
            "4\n",
            "5\n",
            "6\n",
            "7\n",
            "8\n",
            "9\n",
            "10\n",
            "11\n",
            "12\n"
          ]
        }
      ]
    },
    {
      "cell_type": "code",
      "source": [
        "for i in num:\n",
        "    print(i+2)"
      ],
      "metadata": {
        "colab": {
          "base_uri": "https://localhost:8080/"
        },
        "id": "bFTzF9FVIMKd",
        "outputId": "05918f5c-b168-49b1-8402-f1823c2f4f65"
      },
      "execution_count": null,
      "outputs": [
        {
          "output_type": "stream",
          "name": "stdout",
          "text": [
            "3\n",
            "4\n",
            "5\n",
            "6\n",
            "7\n",
            "8\n",
            "9\n",
            "10\n",
            "11\n",
            "12\n"
          ]
        }
      ]
    },
    {
      "cell_type": "code",
      "source": [
        "for i in num:\n",
        "    print(i+2,end=\" \")"
      ],
      "metadata": {
        "colab": {
          "base_uri": "https://localhost:8080/"
        },
        "id": "Ll8GSdPpJOiV",
        "outputId": "42186e71-b335-4332-a7f1-f977351613c4"
      },
      "execution_count": null,
      "outputs": [
        {
          "output_type": "stream",
          "name": "stdout",
          "text": [
            "3 4 5 6 7 8 9 10 11 12 "
          ]
        }
      ]
    },
    {
      "cell_type": "markdown",
      "source": [
        "Conditional Statements"
      ],
      "metadata": {
        "id": "94kOcPcgLPAm"
      }
    },
    {
      "cell_type": "code",
      "source": [
        "x = 15\n",
        "y = 18\n",
        "\n",
        "#first condition will always start from if\n",
        "if x > y:\n",
        "  print(\"x is greater than y\") #if above condition is true\n",
        "elif x < y:\n",
        "  print(\"x is less than y\")\n",
        "else:\n",
        "    print(\"y is equal to x\")\n",
        "#else will always come in last"
      ],
      "metadata": {
        "colab": {
          "base_uri": "https://localhost:8080/"
        },
        "id": "IXou_y32K53Q",
        "outputId": "18c1dacf-a197-4995-f005-354815865f90"
      },
      "execution_count": null,
      "outputs": [
        {
          "output_type": "stream",
          "name": "stdout",
          "text": [
            "x is less than y\n"
          ]
        }
      ]
    },
    {
      "cell_type": "code",
      "source": [
        "# If else statement\n",
        "a=18\n",
        "\n",
        "if(a<10):\n",
        "    print(\"Less than 10\")\n",
        "elif(10<=a<=25):\n",
        "    print(\"In between 10 and 25\")\n",
        "else:\n",
        "    print(\"Greater than 25\")"
      ],
      "metadata": {
        "id": "SFJUcxg7NchC"
      },
      "execution_count": null,
      "outputs": []
    },
    {
      "cell_type": "code",
      "source": [
        "# If else statement\n",
        "a=18\n",
        "\n",
        "if(a<10):\n",
        "    print(\"Less than 10\")\n",
        "else:\n",
        "    print(\"Greater than or equal to 10\")"
      ],
      "metadata": {
        "colab": {
          "base_uri": "https://localhost:8080/"
        },
        "id": "x4Zg6ZmqOBoG",
        "outputId": "93eb257e-afc6-4413-dcf6-520514743eae"
      },
      "execution_count": null,
      "outputs": [
        {
          "output_type": "stream",
          "name": "stdout",
          "text": [
            "Greater than or equal to 10\n"
          ]
        }
      ]
    },
    {
      "cell_type": "markdown",
      "source": [
        "develop a conditional block\n",
        "\n",
        "marks =\n",
        "\n",
        "if your marks are less than 40 then I want you to print a message Fail\n",
        "\n",
        "between 40 and 60, Average\n",
        "\n",
        "between 60 - 80, excellent\n",
        "\n",
        "between 80-95, outstanding\n",
        "\n",
        "above 95, You will be admitted in a Delhi University College"
      ],
      "metadata": {
        "id": "0MYCsBZzOUU_"
      }
    },
    {
      "cell_type": "markdown",
      "source": [],
      "metadata": {
        "id": "GSPNraplOsjM"
      }
    },
    {
      "cell_type": "code",
      "source": [
        "marks = 60\n",
        "\n",
        "#first condition starts with if keyword\n",
        "\n",
        "if(marks<40):\n",
        "    print(\"Fail\")\n",
        "elif(40<=marks<=60):\n",
        "    print(\"Average\")\n",
        "elif(60<marks<=80):\n",
        "    print(\"Excellent\")\n",
        "elif(80<marks<=95):\n",
        "    print(\"Outstanding\")\n",
        "else:\n",
        "    print(\"You will be admitted in a Delhi University College\")"
      ],
      "metadata": {
        "id": "JSJLlbjlRQsm"
      },
      "execution_count": null,
      "outputs": []
    },
    {
      "cell_type": "code",
      "source": [
        "a = 8\n",
        "print(\"okay\") if a < 10 else print(\"bye\")"
      ],
      "metadata": {
        "colab": {
          "base_uri": "https://localhost:8080/"
        },
        "id": "lB5h0giNOIoZ",
        "outputId": "0272cb69-b054-4313-b56e-c9c1a8bfe3e1"
      },
      "execution_count": null,
      "outputs": [
        {
          "output_type": "stream",
          "name": "stdout",
          "text": [
            "okay\n"
          ]
        }
      ]
    },
    {
      "cell_type": "code",
      "source": [
        "#and\n",
        "a = 200\n",
        "b = 33\n",
        "c = 350\n",
        "if a > b and c > a:\n",
        "  print(\"Both conditions are True\")"
      ],
      "metadata": {
        "id": "b7h1X6K4O3Jb"
      },
      "execution_count": null,
      "outputs": []
    },
    {
      "cell_type": "code",
      "source": [
        "#or\n",
        "a = 200\n",
        "b = 33\n",
        "c = 500\n",
        "if a > b or a > c:\n",
        "  print(\"At least one of the conditions is True\")"
      ],
      "metadata": {
        "id": "mNJGLJoyR7W3"
      },
      "execution_count": null,
      "outputs": []
    },
    {
      "cell_type": "code",
      "source": [
        "#Nested If\n",
        "#You can have if statements inside if statements, this is called nested if statements.\n",
        "\n",
        "x = 12\n",
        "\n",
        "#outer and inner block combination\n",
        "#inner block will activate only if outer block condition is satisfied\n",
        "\n",
        "if x < 10:#outer block/condition/case one\n",
        "    print(\"below ten,\")#outer block operation\n",
        "    if x > 5:#inner block\n",
        "        print(\"and also above 5\")\n",
        "    else:\n",
        "        print(\"but not above 5\")\n",
        "elif 10<=x<20: #case 2, outer block no. 2\n",
        "    print(\"Above ten\")\n",
        "    if x > 15:\n",
        "        print(\"number above 15\")\n",
        "    elif x==15:\n",
        "        print(\"the number is equal to 15\")\n",
        "    else:\n",
        "        print(\"below 15\")\n"
      ],
      "metadata": {
        "colab": {
          "base_uri": "https://localhost:8080/"
        },
        "id": "X9UcmcRHX-SI",
        "outputId": "481bd33a-6037-4e73-ca12-c3f3a9c9fe11"
      },
      "execution_count": null,
      "outputs": [
        {
          "output_type": "stream",
          "name": "stdout",
          "text": [
            "Above ten\n",
            "below 15\n"
          ]
        }
      ]
    },
    {
      "cell_type": "markdown",
      "source": [
        "text File handling in python"
      ],
      "metadata": {
        "id": "vw3inP8pagnp"
      }
    },
    {
      "cell_type": "code",
      "source": [
        "z = open(\"worktodo.txt\")\n",
        "#the file is opened in read mode by default"
      ],
      "metadata": {
        "id": "Ng1EoD-zeeVi"
      },
      "execution_count": null,
      "outputs": []
    },
    {
      "cell_type": "code",
      "source": [
        "z = open(\"/content/worktodo.txt\")\n",
        "#the file is opened in read mode by default"
      ],
      "metadata": {
        "id": "cCTV8Ie1cChJ"
      },
      "execution_count": null,
      "outputs": []
    },
    {
      "cell_type": "code",
      "source": [
        "print(z.read()) #read the entire content of text file"
      ],
      "metadata": {
        "colab": {
          "base_uri": "https://localhost:8080/"
        },
        "id": "RhK5WskYcCSV",
        "outputId": "b57607c7-72e3-4996-c1fa-f22c4743c9db"
      },
      "execution_count": null,
      "outputs": [
        {
          "output_type": "stream",
          "name": "stdout",
          "text": [
            "Hello, my name is Nikkhil garg. I am your instructor and mentor for data science and machine learning course. Hope you are having a wonderful day.\n",
            "\n",
            "Its a pleasure to be with you and become part of your learning environment. Anything you wish to ask and talk, do let me know.\n",
            "\n",
            "I am all there.\n"
          ]
        }
      ]
    },
    {
      "cell_type": "code",
      "source": [
        "z.close()"
      ],
      "metadata": {
        "id": "r4WAf8EOeZHF"
      },
      "execution_count": null,
      "outputs": []
    },
    {
      "cell_type": "code",
      "source": [
        "z = open(\"worktodo.txt\")\n",
        "#the file is opened in read mode by default"
      ],
      "metadata": {
        "id": "ICe4b45pe_g4"
      },
      "execution_count": null,
      "outputs": []
    },
    {
      "cell_type": "code",
      "source": [
        "\n",
        "print(z.readline())"
      ],
      "metadata": {
        "colab": {
          "base_uri": "https://localhost:8080/"
        },
        "id": "GMD57QekfHB3",
        "outputId": "9010a36d-ba2c-4989-90b4-5d57ee78ba08"
      },
      "execution_count": null,
      "outputs": [
        {
          "output_type": "stream",
          "name": "stdout",
          "text": [
            "Hello, my name is Nikkhil garg. I am your instructor and mentor for data science and machine learning course. Hope you are having a wonderful day.\n",
            "\n"
          ]
        }
      ]
    },
    {
      "cell_type": "code",
      "source": [
        "z.close()"
      ],
      "metadata": {
        "id": "BFajf_KKfOi5"
      },
      "execution_count": null,
      "outputs": []
    },
    {
      "cell_type": "code",
      "source": [
        "z = open(\"worktodo.txt\")\n",
        "#the file is opened in read mode by default"
      ],
      "metadata": {
        "id": "oLKBkpY6fTBQ"
      },
      "execution_count": null,
      "outputs": []
    },
    {
      "cell_type": "code",
      "source": [
        "print(z.readline())\n",
        "print(z.readline())\n",
        "print(z.readline())"
      ],
      "metadata": {
        "colab": {
          "base_uri": "https://localhost:8080/"
        },
        "id": "XQ-KrtNxfb1J",
        "outputId": "f0636960-8da0-4937-d635-57b2081d97dc"
      },
      "execution_count": null,
      "outputs": [
        {
          "output_type": "stream",
          "name": "stdout",
          "text": [
            "Hello, my name is Nikkhil garg. I am your instructor and mentor for data science and machine learning course. Hope you are having a wonderful day.\n",
            "\n",
            "\n",
            "\n",
            "Its a pleasure to be with you and become part of your learning environment. Anything you wish to ask and talk, do let me know.\n",
            "\n"
          ]
        }
      ]
    },
    {
      "cell_type": "code",
      "source": [
        "print(z.readline())"
      ],
      "metadata": {
        "colab": {
          "base_uri": "https://localhost:8080/"
        },
        "id": "ZgcBvpFafe7w",
        "outputId": "8c4b245e-be44-42c1-ab08-94cd521ce3a7"
      },
      "execution_count": null,
      "outputs": [
        {
          "output_type": "stream",
          "name": "stdout",
          "text": [
            "\n",
            "\n"
          ]
        }
      ]
    },
    {
      "cell_type": "code",
      "source": [
        "z.close()"
      ],
      "metadata": {
        "id": "UIrXl_IqfmIM"
      },
      "execution_count": null,
      "outputs": []
    },
    {
      "cell_type": "markdown",
      "source": [
        "pen function: Filename (pwd), mode mention the complete address of the file\n",
        "\n",
        "Read : \"r\" #default\n",
        "\n",
        "Write: \"w\"\n",
        "\n",
        "Append: \"a\"\n",
        "\n",
        "Create: \"x\"\n",
        "\n",
        "text mode and the binary (images)"
      ],
      "metadata": {
        "id": "j8RCZxT3fxli"
      }
    },
    {
      "cell_type": "code",
      "source": [
        "z = open(\"worktodo.txt\", \"a\") #open file in append mode\n",
        "#the file is opened in read mode by default\n",
        "\n",
        "z.write(\"\\nI hope all of you are practicing well\")\n",
        "\n",
        "z.close()\n",
        "\n",
        "z = open(\"worktodo.txt\")\n",
        "\n",
        "print(z.read())\n",
        "\n",
        "z.close()"
      ],
      "metadata": {
        "colab": {
          "base_uri": "https://localhost:8080/"
        },
        "id": "AFxBiLqofpdQ",
        "outputId": "b6a5614e-85ba-44f9-e05f-2bd87cff1ca0"
      },
      "execution_count": null,
      "outputs": [
        {
          "output_type": "stream",
          "name": "stdout",
          "text": [
            "Hello, my name is Nikkhil garg. I am your instructor and mentor for data science and machine learning course. Hope you are having a wonderful day.\n",
            "\n",
            "Its a pleasure to be with you and become part of your learning environment. Anything you wish to ask and talk, do let me know.\n",
            "\n",
            "I am all there.\n",
            "I hope all of you are practicing well\n",
            "I hope all of you are practicing well\n"
          ]
        }
      ]
    },
    {
      "cell_type": "code",
      "source": [
        "z = open(\"worktodo.txt\", \"w\") #open file in append mode\n",
        "#the file is opened in read mode by default\n",
        "\n",
        "z.write(\"\\nI wish you all the best for your future\")\n",
        "\n",
        "z.close()\n",
        "\n",
        "z = open(\"worktodo.txt\")\n",
        "\n",
        "print(z.read())\n",
        "\n",
        "z.close()"
      ],
      "metadata": {
        "colab": {
          "base_uri": "https://localhost:8080/"
        },
        "id": "i6abD9_OhOO2",
        "outputId": "83fda21b-600e-49c0-c0b5-df46b1dc8d91"
      },
      "execution_count": null,
      "outputs": [
        {
          "output_type": "stream",
          "name": "stdout",
          "text": [
            "\n",
            "I wish you all the best for your future\n"
          ]
        }
      ]
    },
    {
      "cell_type": "code",
      "source": [
        "z = open(\"worktodo.txt\",'a')\n",
        "z.write(\"\\ni love india \")\n",
        "z.close() # this is wrong which i corrected later\n",
        "z = open(\"worktodo.txt\",'r')\n",
        "print(z.read())"
      ],
      "metadata": {
        "colab": {
          "base_uri": "https://localhost:8080/"
        },
        "id": "WR1w1U2nhcFn",
        "outputId": "d8e24f90-4efd-4cc7-94d9-81a54c2cbf0a"
      },
      "execution_count": null,
      "outputs": [
        {
          "output_type": "stream",
          "name": "stdout",
          "text": [
            "\n",
            "I wish you all the best for your future\n",
            "i love india \n",
            "i love india \n",
            "i love india \n",
            "i love india \n",
            "i love india \n"
          ]
        }
      ]
    },
    {
      "cell_type": "code",
      "source": [
        "f = open(\"worktodo.txt\")\n",
        "\n",
        "for x in f.readlines():\n",
        "    print(x)"
      ],
      "metadata": {
        "colab": {
          "base_uri": "https://localhost:8080/"
        },
        "id": "wF1A2Nz1lfVJ",
        "outputId": "a9b57f2a-d83d-49a8-9f8b-410c77a7adf7"
      },
      "execution_count": null,
      "outputs": [
        {
          "output_type": "stream",
          "name": "stdout",
          "text": [
            "\n",
            "\n",
            "I wish you all the best for your future\n",
            "\n",
            "i love india \n",
            "\n",
            "i love india \n",
            "\n",
            "i love india \n",
            "\n",
            "i love india \n",
            "\n",
            "i love india \n"
          ]
        }
      ]
    },
    {
      "cell_type": "markdown",
      "source": [
        "list comprehension"
      ],
      "metadata": {
        "id": "ljitjxdXna6d"
      }
    },
    {
      "cell_type": "code",
      "source": [
        "#numbers = [1,2,3,4,5,6,7,8]\n",
        "\n",
        "def get_even(numbers):\n",
        "  for num in numbers:\n",
        "    if num % 2 == 0:\n",
        "      print(num)\n",
        "\n",
        "get_even([1, 2, 3, 4, 5, 6])"
      ],
      "metadata": {
        "colab": {
          "base_uri": "https://localhost:8080/"
        },
        "id": "p7V-owe5mKRe",
        "outputId": "b107aa1c-4797-43d0-cbc2-61b8bc12e96a"
      },
      "execution_count": null,
      "outputs": [
        {
          "output_type": "stream",
          "name": "stdout",
          "text": [
            "2\n",
            "4\n",
            "6\n"
          ]
        }
      ]
    },
    {
      "cell_type": "code",
      "source": [
        "#print the even numbers from a sequence, condition number % 2 == 0\n",
        "def get_even(numbers):\n",
        "  even_nums = [num for num in numbers if num % 2==0] #list comrephension\n",
        "  return even_nums\n",
        "\n",
        "get_even([1, 2, 3, 4, 5, 6])\n"
      ],
      "metadata": {
        "colab": {
          "base_uri": "https://localhost:8080/"
        },
        "id": "lMZ54HGan5RT",
        "outputId": "5afac899-4783-4a7d-c287-49293d981bbe"
      },
      "execution_count": null,
      "outputs": [
        {
          "output_type": "execute_result",
          "data": {
            "text/plain": [
              "[2, 4, 6]"
            ]
          },
          "metadata": {},
          "execution_count": 51
        }
      ]
    },
    {
      "cell_type": "code",
      "source": [
        "#print the even numbers from a sequence, condition number % 2 == 0\n",
        "def get_even(numbers):\n",
        "  print([num for num in numbers if num % 2==0]) #list comrephension\n",
        "\n",
        "get_even([1, 2, 3, 4, 5, 6])\n"
      ],
      "metadata": {
        "colab": {
          "base_uri": "https://localhost:8080/"
        },
        "id": "9hRNYsK2oZxG",
        "outputId": "e8535848-a467-4131-a142-0a54c521d1a8"
      },
      "execution_count": null,
      "outputs": [
        {
          "output_type": "stream",
          "name": "stdout",
          "text": [
            "[2, 4, 6]\n"
          ]
        }
      ]
    },
    {
      "cell_type": "code",
      "source": [
        "f = open(\"worktodo.txt\")\n",
        "content = f.read()\n",
        "for i in content:\n",
        "    print(i)"
      ],
      "metadata": {
        "colab": {
          "base_uri": "https://localhost:8080/"
        },
        "collapsed": true,
        "id": "lYZDO6RlopjY",
        "outputId": "84f48c81-0032-46c0-f700-8577cb20c5b4"
      },
      "execution_count": null,
      "outputs": [
        {
          "output_type": "stream",
          "name": "stdout",
          "text": [
            "\n",
            "\n",
            "I\n",
            " \n",
            "w\n",
            "i\n",
            "s\n",
            "h\n",
            " \n",
            "y\n",
            "o\n",
            "u\n",
            " \n",
            "a\n",
            "l\n",
            "l\n",
            " \n",
            "t\n",
            "h\n",
            "e\n",
            " \n",
            "b\n",
            "e\n",
            "s\n",
            "t\n",
            " \n",
            "f\n",
            "o\n",
            "r\n",
            " \n",
            "y\n",
            "o\n",
            "u\n",
            "r\n",
            " \n",
            "f\n",
            "u\n",
            "t\n",
            "u\n",
            "r\n",
            "e\n",
            "\n",
            "\n",
            "i\n",
            " \n",
            "l\n",
            "o\n",
            "v\n",
            "e\n",
            " \n",
            "i\n",
            "n\n",
            "d\n",
            "i\n",
            "a\n",
            " \n",
            "\n",
            "\n",
            "i\n",
            " \n",
            "l\n",
            "o\n",
            "v\n",
            "e\n",
            " \n",
            "i\n",
            "n\n",
            "d\n",
            "i\n",
            "a\n",
            " \n",
            "\n",
            "\n",
            "i\n",
            " \n",
            "l\n",
            "o\n",
            "v\n",
            "e\n",
            " \n",
            "i\n",
            "n\n",
            "d\n",
            "i\n",
            "a\n",
            " \n",
            "\n",
            "\n",
            "i\n",
            " \n",
            "l\n",
            "o\n",
            "v\n",
            "e\n",
            " \n",
            "i\n",
            "n\n",
            "d\n",
            "i\n",
            "a\n",
            " \n",
            "\n",
            "\n",
            "i\n",
            " \n",
            "l\n",
            "o\n",
            "v\n",
            "e\n",
            " \n",
            "i\n",
            "n\n",
            "d\n",
            "i\n",
            "a\n",
            " \n"
          ]
        }
      ]
    },
    {
      "cell_type": "code",
      "source": [
        "f = open(\"worktodo.txt\")\n",
        "content = f.read().split()   # split into words\n",
        "for word in content:\n",
        "    print(word, end=\" \")     # print words on one line with spaces\n",
        "f.close()"
      ],
      "metadata": {
        "colab": {
          "base_uri": "https://localhost:8080/"
        },
        "id": "zouklmW8rS4A",
        "outputId": "d7c8099b-9380-4b47-83db-fa7812a2623e"
      },
      "execution_count": null,
      "outputs": [
        {
          "output_type": "stream",
          "name": "stdout",
          "text": [
            "I wish you all the best for your future i love india i love india i love india i love india i love india "
          ]
        }
      ]
    },
    {
      "cell_type": "code",
      "source": [
        "f = open(\"worktodo.txt\")\n",
        "\n",
        "for line in f.readlines():\n",
        "    print(line.strip())\n",
        "\n",
        "f.close()\n"
      ],
      "metadata": {
        "colab": {
          "base_uri": "https://localhost:8080/"
        },
        "id": "-R0dOCabsWPS",
        "outputId": "e2dc1639-ee28-4ee3-e04d-bf767dcbb281"
      },
      "execution_count": null,
      "outputs": [
        {
          "output_type": "stream",
          "name": "stdout",
          "text": [
            "\n",
            "I wish you all the best for your future\n",
            "i love india\n",
            "i love india\n",
            "i love india\n",
            "i love india\n",
            "i love india\n"
          ]
        }
      ]
    },
    {
      "cell_type": "markdown",
      "source": [
        "Errors & Exceptions"
      ],
      "metadata": {
        "id": "XRqdGxRYDoTb"
      }
    },
    {
      "cell_type": "markdown",
      "source": [
        "**Type error, value error, syntax error, not implemented, out of index, key error, indentation error, attribute error, file not found error, variable not defined, name error, module not found error**"
      ],
      "metadata": {
        "id": "-lflcxJrEySj"
      }
    },
    {
      "cell_type": "code",
      "source": [
        "x"
      ],
      "metadata": {
        "colab": {
          "base_uri": "https://localhost:8080/",
          "height": 141
        },
        "id": "xNETPS-_FZ9H",
        "outputId": "885f839e-e6f8-4715-faa7-8921bb0610c0"
      },
      "execution_count": null,
      "outputs": [
        {
          "output_type": "error",
          "ename": "NameError",
          "evalue": "name 'x' is not defined",
          "traceback": [
            "\u001b[0;31m---------------------------------------------------------------------------\u001b[0m",
            "\u001b[0;31mNameError\u001b[0m                                 Traceback (most recent call last)",
            "\u001b[0;32m/tmp/ipython-input-32546335.py\u001b[0m in \u001b[0;36m<cell line: 0>\u001b[0;34m()\u001b[0m\n\u001b[0;32m----> 1\u001b[0;31m \u001b[0mx\u001b[0m\u001b[0;34m\u001b[0m\u001b[0;34m\u001b[0m\u001b[0m\n\u001b[0m",
            "\u001b[0;31mNameError\u001b[0m: name 'x' is not defined"
          ]
        }
      ]
    },
    {
      "cell_type": "code",
      "source": [
        "import xghk"
      ],
      "metadata": {
        "colab": {
          "base_uri": "https://localhost:8080/",
          "height": 315
        },
        "id": "6FegJ_4AFZ5O",
        "outputId": "cfb5f484-1f26-4a7c-cac8-d20fce45c2d6"
      },
      "execution_count": null,
      "outputs": [
        {
          "output_type": "error",
          "ename": "ModuleNotFoundError",
          "evalue": "No module named 'xghk'",
          "traceback": [
            "\u001b[0;31m---------------------------------------------------------------------------\u001b[0m",
            "\u001b[0;31mModuleNotFoundError\u001b[0m                       Traceback (most recent call last)",
            "\u001b[0;32m/tmp/ipython-input-3523425847.py\u001b[0m in \u001b[0;36m<cell line: 0>\u001b[0;34m()\u001b[0m\n\u001b[0;32m----> 1\u001b[0;31m \u001b[0;32mimport\u001b[0m \u001b[0mxghk\u001b[0m\u001b[0;34m\u001b[0m\u001b[0;34m\u001b[0m\u001b[0m\n\u001b[0m",
            "\u001b[0;31mModuleNotFoundError\u001b[0m: No module named 'xghk'",
            "",
            "\u001b[0;31m---------------------------------------------------------------------------\u001b[0;32m\nNOTE: If your import is failing due to a missing package, you can\nmanually install dependencies using either !pip or !apt.\n\nTo view examples of installing some common dependencies, click the\n\"Open Examples\" button below.\n\u001b[0;31m---------------------------------------------------------------------------\u001b[0m\n"
          ],
          "errorDetails": {
            "actions": [
              {
                "action": "open_url",
                "actionText": "Open Examples",
                "url": "/notebooks/snippets/importing_libraries.ipynb"
              }
            ]
          }
        }
      ]
    },
    {
      "cell_type": "markdown",
      "source": [
        "Common Built-in Exceptions:\n",
        "\n",
        "ZeroDivisionError: Occurs when dividing by zero.\n",
        "\n",
        "NameError: When a local or global name is not found.\n",
        "\n",
        "TypeError: Passing an object of an inappropriate type.\n",
        "\n",
        "IndexError: When an index is not found in a sequence.\n",
        "\n",
        "KeyError: When a dictionary key is not found.\n",
        "\n",
        "FileNotFoundError: When a file or directory is requested but doesn't exist.\n",
        "\n",
        "Handling Exceptions with try and except:\n",
        "\n",
        "Python uses try and except blocks to catch and handle exceptions."
      ],
      "metadata": {
        "id": "lV3pxkw8FTAG"
      }
    },
    {
      "cell_type": "code",
      "source": [
        "3/0"
      ],
      "metadata": {
        "id": "PTc2zzsMsm5s",
        "colab": {
          "base_uri": "https://localhost:8080/",
          "height": 141
        },
        "outputId": "d60578f8-90ec-490f-b69e-48663a323268"
      },
      "execution_count": null,
      "outputs": [
        {
          "output_type": "error",
          "ename": "ZeroDivisionError",
          "evalue": "division by zero",
          "traceback": [
            "\u001b[0;31m---------------------------------------------------------------------------\u001b[0m",
            "\u001b[0;31mZeroDivisionError\u001b[0m                         Traceback (most recent call last)",
            "\u001b[0;32m/tmp/ipython-input-3150626867.py\u001b[0m in \u001b[0;36m<cell line: 0>\u001b[0;34m()\u001b[0m\n\u001b[0;32m----> 1\u001b[0;31m \u001b[0;36m3\u001b[0m\u001b[0;34m/\u001b[0m\u001b[0;36m0\u001b[0m\u001b[0;34m\u001b[0m\u001b[0;34m\u001b[0m\u001b[0m\n\u001b[0m",
            "\u001b[0;31mZeroDivisionError\u001b[0m: division by zero"
          ]
        }
      ]
    },
    {
      "cell_type": "code",
      "source": [
        "print(Tax)"
      ],
      "metadata": {
        "colab": {
          "base_uri": "https://localhost:8080/",
          "height": 141
        },
        "id": "FjeZjjgFF9Cq",
        "outputId": "8748c3f8-f97c-4132-e734-40148f0ebf52"
      },
      "execution_count": null,
      "outputs": [
        {
          "output_type": "error",
          "ename": "NameError",
          "evalue": "name 'Tax' is not defined",
          "traceback": [
            "\u001b[0;31m---------------------------------------------------------------------------\u001b[0m",
            "\u001b[0;31mNameError\u001b[0m                                 Traceback (most recent call last)",
            "\u001b[0;32m/tmp/ipython-input-369803586.py\u001b[0m in \u001b[0;36m<cell line: 0>\u001b[0;34m()\u001b[0m\n\u001b[0;32m----> 1\u001b[0;31m \u001b[0mprint\u001b[0m\u001b[0;34m(\u001b[0m\u001b[0mTax\u001b[0m\u001b[0;34m)\u001b[0m\u001b[0;34m\u001b[0m\u001b[0;34m\u001b[0m\u001b[0m\n\u001b[0m",
            "\u001b[0;31mNameError\u001b[0m: name 'Tax' is not defined"
          ]
        }
      ]
    },
    {
      "cell_type": "markdown",
      "source": [
        "len(nikkhil)"
      ],
      "metadata": {
        "id": "UmJEMMsoGmzQ"
      }
    },
    {
      "cell_type": "code",
      "source": [
        "len(\"nikkhil\")"
      ],
      "metadata": {
        "colab": {
          "base_uri": "https://localhost:8080/"
        },
        "id": "GfQnLSwDGpcb",
        "outputId": "7f2436b3-f5c6-4891-ca3e-19ce43b56b56"
      },
      "execution_count": null,
      "outputs": [
        {
          "output_type": "execute_result",
          "data": {
            "text/plain": [
              "7"
            ]
          },
          "metadata": {},
          "execution_count": 5
        }
      ]
    },
    {
      "cell_type": "code",
      "source": [
        "len(5)"
      ],
      "metadata": {
        "colab": {
          "base_uri": "https://localhost:8080/",
          "height": 141
        },
        "id": "MKhyZJo0GGv6",
        "outputId": "011ad421-92d0-4de8-ee9d-257049346f9d"
      },
      "execution_count": null,
      "outputs": [
        {
          "output_type": "error",
          "ename": "TypeError",
          "evalue": "object of type 'int' has no len()",
          "traceback": [
            "\u001b[0;31m---------------------------------------------------------------------------\u001b[0m",
            "\u001b[0;31mTypeError\u001b[0m                                 Traceback (most recent call last)",
            "\u001b[0;32m/tmp/ipython-input-4108502181.py\u001b[0m in \u001b[0;36m<cell line: 0>\u001b[0;34m()\u001b[0m\n\u001b[0;32m----> 1\u001b[0;31m \u001b[0mlen\u001b[0m\u001b[0;34m(\u001b[0m\u001b[0;36m5\u001b[0m\u001b[0;34m)\u001b[0m\u001b[0;34m\u001b[0m\u001b[0;34m\u001b[0m\u001b[0m\n\u001b[0m",
            "\u001b[0;31mTypeError\u001b[0m: object of type 'int' has no len()"
          ]
        }
      ]
    },
    {
      "cell_type": "code",
      "source": [
        "lst = [1,2,3]\n",
        "lst[3]"
      ],
      "metadata": {
        "colab": {
          "base_uri": "https://localhost:8080/",
          "height": 158
        },
        "id": "xAHGQ9PUG2UI",
        "outputId": "5cf60845-036e-42a5-8cf8-60232b03f488"
      },
      "execution_count": null,
      "outputs": [
        {
          "output_type": "error",
          "ename": "IndexError",
          "evalue": "list index out of range",
          "traceback": [
            "\u001b[0;31m---------------------------------------------------------------------------\u001b[0m",
            "\u001b[0;31mIndexError\u001b[0m                                Traceback (most recent call last)",
            "\u001b[0;32m/tmp/ipython-input-2977494772.py\u001b[0m in \u001b[0;36m<cell line: 0>\u001b[0;34m()\u001b[0m\n\u001b[1;32m      1\u001b[0m \u001b[0mlst\u001b[0m \u001b[0;34m=\u001b[0m \u001b[0;34m[\u001b[0m\u001b[0;36m1\u001b[0m\u001b[0;34m,\u001b[0m\u001b[0;36m2\u001b[0m\u001b[0;34m,\u001b[0m\u001b[0;36m3\u001b[0m\u001b[0;34m]\u001b[0m\u001b[0;34m\u001b[0m\u001b[0;34m\u001b[0m\u001b[0m\n\u001b[0;32m----> 2\u001b[0;31m \u001b[0mlst\u001b[0m\u001b[0;34m[\u001b[0m\u001b[0;36m3\u001b[0m\u001b[0;34m]\u001b[0m\u001b[0;34m\u001b[0m\u001b[0;34m\u001b[0m\u001b[0m\n\u001b[0m",
            "\u001b[0;31mIndexError\u001b[0m: list index out of range"
          ]
        }
      ]
    },
    {
      "cell_type": "code",
      "source": [
        "dic = {\"name\": \"nikhil\"}\n",
        "dic[\"age\"]"
      ],
      "metadata": {
        "colab": {
          "base_uri": "https://localhost:8080/",
          "height": 158
        },
        "id": "u9_FHKdaH2LQ",
        "outputId": "08b1812d-1663-4166-eab7-2da3da314954"
      },
      "execution_count": null,
      "outputs": [
        {
          "output_type": "error",
          "ename": "KeyError",
          "evalue": "'age'",
          "traceback": [
            "\u001b[0;31m---------------------------------------------------------------------------\u001b[0m",
            "\u001b[0;31mKeyError\u001b[0m                                  Traceback (most recent call last)",
            "\u001b[0;32m/tmp/ipython-input-505359191.py\u001b[0m in \u001b[0;36m<cell line: 0>\u001b[0;34m()\u001b[0m\n\u001b[1;32m      1\u001b[0m \u001b[0mdic\u001b[0m \u001b[0;34m=\u001b[0m \u001b[0;34m{\u001b[0m\u001b[0;34m\"name\"\u001b[0m\u001b[0;34m:\u001b[0m \u001b[0;34m\"nikhil\"\u001b[0m\u001b[0;34m}\u001b[0m\u001b[0;34m\u001b[0m\u001b[0;34m\u001b[0m\u001b[0m\n\u001b[0;32m----> 2\u001b[0;31m \u001b[0mdic\u001b[0m\u001b[0;34m[\u001b[0m\u001b[0;34m\"age\"\u001b[0m\u001b[0;34m]\u001b[0m\u001b[0;34m\u001b[0m\u001b[0;34m\u001b[0m\u001b[0m\n\u001b[0m",
            "\u001b[0;31mKeyError\u001b[0m: 'age'"
          ]
        }
      ]
    },
    {
      "cell_type": "code",
      "source": [
        "int(\"xyz\")"
      ],
      "metadata": {
        "colab": {
          "base_uri": "https://localhost:8080/",
          "height": 141
        },
        "id": "n_v-UFH7IJT2",
        "outputId": "6782c07a-351d-46c5-c031-60af8140faa6"
      },
      "execution_count": null,
      "outputs": [
        {
          "output_type": "error",
          "ename": "ValueError",
          "evalue": "invalid literal for int() with base 10: 'xyz'",
          "traceback": [
            "\u001b[0;31m---------------------------------------------------------------------------\u001b[0m",
            "\u001b[0;31mValueError\u001b[0m                                Traceback (most recent call last)",
            "\u001b[0;32m/tmp/ipython-input-4058481231.py\u001b[0m in \u001b[0;36m<cell line: 0>\u001b[0;34m()\u001b[0m\n\u001b[0;32m----> 1\u001b[0;31m \u001b[0mint\u001b[0m\u001b[0;34m(\u001b[0m\u001b[0;34m\"xyz\"\u001b[0m\u001b[0;34m)\u001b[0m\u001b[0;34m\u001b[0m\u001b[0;34m\u001b[0m\u001b[0m\n\u001b[0m",
            "\u001b[0;31mValueError\u001b[0m: invalid literal for int() with base 10: 'xyz'"
          ]
        }
      ]
    },
    {
      "cell_type": "code",
      "source": [
        "\"hello\".append(\"age\")"
      ],
      "metadata": {
        "colab": {
          "base_uri": "https://localhost:8080/",
          "height": 141
        },
        "id": "YiKEisRBIeZt",
        "outputId": "8950c8f4-bc59-46a2-fd79-08b9d99f3631"
      },
      "execution_count": null,
      "outputs": [
        {
          "output_type": "error",
          "ename": "AttributeError",
          "evalue": "'str' object has no attribute 'append'",
          "traceback": [
            "\u001b[0;31m---------------------------------------------------------------------------\u001b[0m",
            "\u001b[0;31mAttributeError\u001b[0m                            Traceback (most recent call last)",
            "\u001b[0;32m/tmp/ipython-input-2714028974.py\u001b[0m in \u001b[0;36m<cell line: 0>\u001b[0;34m()\u001b[0m\n\u001b[0;32m----> 1\u001b[0;31m \u001b[0;34m\"hello\"\u001b[0m\u001b[0;34m.\u001b[0m\u001b[0mappend\u001b[0m\u001b[0;34m(\u001b[0m\u001b[0;34m\"age\"\u001b[0m\u001b[0;34m)\u001b[0m\u001b[0;34m\u001b[0m\u001b[0;34m\u001b[0m\u001b[0m\n\u001b[0m",
            "\u001b[0;31mAttributeError\u001b[0m: 'str' object has no attribute 'append'"
          ]
        }
      ]
    },
    {
      "cell_type": "code",
      "source": [
        "try:\n",
        "    # Code block where exception can occur\n",
        "except ExceptionType:\n",
        "    # Code to execute if there is an ExceptionType exception"
      ],
      "metadata": {
        "id": "jPzu75mjIrLp"
      },
      "execution_count": null,
      "outputs": []
    },
    {
      "cell_type": "code",
      "source": [
        "try:\n",
        "  result = 20 /0\n",
        "except ZeroDivisionError:\n",
        "  print(\"Attempt to divide by zero will not work\")\n",
        "\n",
        "  #ZeroDivisionError: division by zero"
      ],
      "metadata": {
        "colab": {
          "base_uri": "https://localhost:8080/"
        },
        "id": "NnPGHq2KMKxv",
        "outputId": "8cfa8103-bb26-427f-8660-40d6ad854a41"
      },
      "execution_count": null,
      "outputs": [
        {
          "output_type": "stream",
          "name": "stdout",
          "text": [
            "Attempt to divide by zero will not work\n"
          ]
        }
      ]
    },
    {
      "cell_type": "code",
      "source": [
        "try:\n",
        "    result = 20 / 0\n",
        "except ZeroDivisionError:\n",
        "    while True:\n",
        "        pass   # infinite loop\n",
        "#illogical bug"
      ],
      "metadata": {
        "colab": {
          "base_uri": "https://localhost:8080/",
          "height": 367
        },
        "id": "aZO5PITpMspo",
        "outputId": "bc537284-fb51-4277-a9de-de6ae731a354"
      },
      "execution_count": null,
      "outputs": [
        {
          "output_type": "error",
          "ename": "KeyboardInterrupt",
          "evalue": "",
          "traceback": [
            "\u001b[0;31m---------------------------------------------------------------------------\u001b[0m",
            "\u001b[0;31mZeroDivisionError\u001b[0m                         Traceback (most recent call last)",
            "\u001b[0;32m/tmp/ipython-input-3110819296.py\u001b[0m in \u001b[0;36m<cell line: 0>\u001b[0;34m()\u001b[0m\n\u001b[1;32m      1\u001b[0m \u001b[0;32mtry\u001b[0m\u001b[0;34m:\u001b[0m\u001b[0;34m\u001b[0m\u001b[0;34m\u001b[0m\u001b[0m\n\u001b[0;32m----> 2\u001b[0;31m     \u001b[0mresult\u001b[0m \u001b[0;34m=\u001b[0m \u001b[0;36m20\u001b[0m \u001b[0;34m/\u001b[0m \u001b[0;36m0\u001b[0m\u001b[0;34m\u001b[0m\u001b[0;34m\u001b[0m\u001b[0m\n\u001b[0m\u001b[1;32m      3\u001b[0m \u001b[0;32mexcept\u001b[0m \u001b[0mZeroDivisionError\u001b[0m\u001b[0;34m:\u001b[0m\u001b[0;34m\u001b[0m\u001b[0;34m\u001b[0m\u001b[0m\n",
            "\u001b[0;31mZeroDivisionError\u001b[0m: division by zero",
            "\nDuring handling of the above exception, another exception occurred:\n",
            "\u001b[0;31mKeyboardInterrupt\u001b[0m                         Traceback (most recent call last)",
            "\u001b[0;32m/tmp/ipython-input-3110819296.py\u001b[0m in \u001b[0;36m<cell line: 0>\u001b[0;34m()\u001b[0m\n\u001b[1;32m      2\u001b[0m     \u001b[0mresult\u001b[0m \u001b[0;34m=\u001b[0m \u001b[0;36m20\u001b[0m \u001b[0;34m/\u001b[0m \u001b[0;36m0\u001b[0m\u001b[0;34m\u001b[0m\u001b[0;34m\u001b[0m\u001b[0m\n\u001b[1;32m      3\u001b[0m \u001b[0;32mexcept\u001b[0m \u001b[0mZeroDivisionError\u001b[0m\u001b[0;34m:\u001b[0m\u001b[0;34m\u001b[0m\u001b[0;34m\u001b[0m\u001b[0m\n\u001b[0;32m----> 4\u001b[0;31m     \u001b[0;32mwhile\u001b[0m \u001b[0;32mTrue\u001b[0m\u001b[0;34m:\u001b[0m\u001b[0;34m\u001b[0m\u001b[0;34m\u001b[0m\u001b[0m\n\u001b[0m\u001b[1;32m      5\u001b[0m         \u001b[0;32mpass\u001b[0m   \u001b[0;31m# infinite loop\u001b[0m\u001b[0;34m\u001b[0m\u001b[0;34m\u001b[0m\u001b[0m\n",
            "\u001b[0;31mKeyboardInterrupt\u001b[0m: "
          ]
        }
      ]
    },
    {
      "cell_type": "code",
      "source": [
        "try:\n",
        "  print(nikhil)\n",
        "except NameError:\n",
        "  print(\"Variable of such name doesnt exist\")"
      ],
      "metadata": {
        "colab": {
          "base_uri": "https://localhost:8080/"
        },
        "id": "DNYGJ7jQN9gC",
        "outputId": "68ecf2d6-b424-4891-b69f-8323bbd5b5d9"
      },
      "execution_count": null,
      "outputs": [
        {
          "output_type": "stream",
          "name": "stdout",
          "text": [
            "Variable of such name doesnt exist\n"
          ]
        }
      ]
    },
    {
      "cell_type": "code",
      "source": [
        "try:\n",
        "  len(5)\n",
        "except TypeError:\n",
        "  print('wrong data type with len method')"
      ],
      "metadata": {
        "colab": {
          "base_uri": "https://localhost:8080/"
        },
        "id": "koC-uU2WOpGH",
        "outputId": "7fab0d35-a35b-4a04-f030-7011338fb48b"
      },
      "execution_count": null,
      "outputs": [
        {
          "output_type": "stream",
          "name": "stdout",
          "text": [
            "wrong data type with len method\n"
          ]
        }
      ]
    },
    {
      "cell_type": "code",
      "source": [
        "try:\n",
        "  print(lste)\n",
        "  print(len(5))\n",
        "except NameError:\n",
        "  print(\"Variable of such name doesnt exist\")\n",
        "except TypeError:\n",
        "  print(\"'wrong data type with len method'\")"
      ],
      "metadata": {
        "colab": {
          "base_uri": "https://localhost:8080/"
        },
        "id": "SyKSiCseO0cv",
        "outputId": "b999cb1b-e103-421d-c5b7-eab7ff9c4778"
      },
      "execution_count": null,
      "outputs": [
        {
          "output_type": "stream",
          "name": "stdout",
          "text": [
            "Variable of such name doesnt exist\n"
          ]
        }
      ]
    },
    {
      "cell_type": "code",
      "source": [
        "#nested try and except\n",
        "\n",
        "try:\n",
        "    file = open(\"data.txt\", \"r\")\n",
        "    try:\n",
        "        content = file.read()\n",
        "        print(content[1000])  # Might raise IndexError\n",
        "    except IndexError:\n",
        "        print(\"Inner except: Tried to access content beyond range\")\n",
        "    finally:\n",
        "        file.close()\n",
        "        print(\"Inner finally: File closed\")\n",
        "except FileNotFoundError:\n",
        "    print(\"Outer except: File does not exist\")\n"
      ],
      "metadata": {
        "id": "EaNrzw9PPKoQ"
      },
      "execution_count": null,
      "outputs": []
    },
    {
      "cell_type": "markdown",
      "source": [
        "OOPs"
      ],
      "metadata": {
        "id": "KMK9SYUyR4sC"
      }
    },
    {
      "cell_type": "code",
      "source": [
        "class Employee:\n",
        "    name = \"John\"\n",
        "    age = 26\n",
        "\n",
        "#declare object using class employee\n",
        "h1 = Employee() #object is the instance of the class\n",
        "\n",
        "#print features\n",
        "print(h1.name)\n",
        "print(h1.age)"
      ],
      "metadata": {
        "colab": {
          "base_uri": "https://localhost:8080/"
        },
        "id": "yJiJaWKER5r5",
        "outputId": "e7ade3fa-29e4-406a-faaf-3848c8acefb9"
      },
      "execution_count": null,
      "outputs": [
        {
          "output_type": "stream",
          "name": "stdout",
          "text": [
            "John\n",
            "26\n"
          ]
        }
      ]
    },
    {
      "cell_type": "code",
      "source": [
        "class customer:\n",
        "    def identity(self,name, age):\n",
        "        print(\"I am a customer \" + name)\n",
        "        print(\"The age is \", age)\n",
        "\n",
        "cust = customer() #declaration of object\n",
        "\n",
        "cust.identity(\"NIkhil\", 36)\n",
        "cust.identity(\"Poonam\", 32)\n",
        "cust.identity(\"Sarvesh\", 42)"
      ],
      "metadata": {
        "colab": {
          "base_uri": "https://localhost:8080/"
        },
        "id": "DvUDehLfXUgw",
        "outputId": "15cef62c-ea40-425b-ed8e-92c9cbc4b16a"
      },
      "execution_count": null,
      "outputs": [
        {
          "output_type": "stream",
          "name": "stdout",
          "text": [
            "I am a customer NIkhil\n",
            "The age is  36\n",
            "I am a customer Poonam\n",
            "The age is  32\n",
            "I am a customer Sarvesh\n",
            "The age is  42\n"
          ]
        }
      ]
    },
    {
      "cell_type": "code",
      "source": [
        "class Customer:\n",
        "    def set_details(self, new_name, new_age):\n",
        "        self.name = new_name#declaring name attribute\n",
        "        self.age = new_age#declaring age attribute\n",
        "\n",
        "cust = Customer()#declaration of an object\n",
        "\n",
        "cust.set_details(\"Nikhil\", 36)\n",
        "print(cust.name, cust.age)\n",
        "\n",
        "cust.set_details(\"Poonam\", 32)\n",
        "print(cust.name, cust.age)\n",
        "\n",
        "cust.set_details(\"Sarvesh\", 42)\n",
        "print(cust.name, cust.age)"
      ],
      "metadata": {
        "colab": {
          "base_uri": "https://localhost:8080/"
        },
        "id": "IzqLO5Baee-m",
        "outputId": "66d249ed-d7a7-4fc2-9c66-90d75e195fd8"
      },
      "execution_count": null,
      "outputs": [
        {
          "output_type": "stream",
          "name": "stdout",
          "text": [
            "Nikhil 36\n",
            "Poonam 32\n",
            "Sarvesh 42\n"
          ]
        }
      ]
    },
    {
      "cell_type": "code",
      "source": [
        "class Employee:\n",
        "    def __init__(self, name, age):\n",
        "        self.name = name\n",
        "        self.age = age\n",
        "\n",
        "e1 = Employee(\"Sam\", 36) #init is implicitly called\n",
        "e2 = Employee(\"Rakesh\", 42)\n",
        "e3 = Employee(\"Aditya\", 24)\n",
        "\n",
        "print(e1.name, e1.age)\n",
        "print(e2.name, e2.age)\n",
        "print(e3.name, e3.age)"
      ],
      "metadata": {
        "colab": {
          "base_uri": "https://localhost:8080/"
        },
        "id": "HePZ91t7fbaJ",
        "outputId": "4148d308-9d97-45fd-d572-0153af4504e2"
      },
      "execution_count": null,
      "outputs": [
        {
          "output_type": "stream",
          "name": "stdout",
          "text": [
            "Sam 36\n",
            "Rakesh 42\n",
            "Aditya 24\n"
          ]
        }
      ]
    },
    {
      "cell_type": "code",
      "source": [
        "class Employee:\n",
        "    def __init__(self, name, age):\n",
        "        self.name = name\n",
        "        self.age = age\n",
        "\n",
        "    def Print(self):#no parameters\n",
        "        print(\"My name is \", self.name)\n",
        "        print(\"My age is \", self.age)\n",
        "\n",
        "p1 = Employee(\"NIkhil\", 36).Print()\n",
        "p2 = Employee(\"Prerna\", 30)\n",
        "p3 = Employee(\"Sriram\", 26)\n",
        "p4 = Employee(\"Mangesh\", 18)\n",
        "p5 = Employee(\"Shukla\", 32)\n",
        "p6 = Employee(\"Hari\", 15)\n",
        "\n",
        "p1.Print()\n",
        "p2.Print()\n",
        "p3.Print()\n",
        "p4.Print()\n",
        "p5.Print()\n",
        "p6.Print()\n"
      ],
      "metadata": {
        "colab": {
          "base_uri": "https://localhost:8080/"
        },
        "id": "FfrZpOXFggwK",
        "outputId": "25ab49af-f9ea-4aa6-dc6e-9a8e2faffe39"
      },
      "execution_count": null,
      "outputs": [
        {
          "output_type": "stream",
          "name": "stdout",
          "text": [
            "My name is  NIkhil\n",
            "My age is  36\n"
          ]
        }
      ]
    },
    {
      "cell_type": "code",
      "source": [
        "class Customer:\n",
        "    def __init__(self, name, balance=0):\n",
        "        self.name = name\n",
        "        self.balance = balance\n",
        "\n",
        "cust = Customer(\"Brain Lara\")\n",
        "\n",
        "print(cust.name, cust.balance)"
      ],
      "metadata": {
        "colab": {
          "base_uri": "https://localhost:8080/"
        },
        "id": "ZTyCWO1chjTc",
        "outputId": "53ef90a1-b214-4aaa-9f03-64170153ced6"
      },
      "execution_count": null,
      "outputs": [
        {
          "output_type": "stream",
          "name": "stdout",
          "text": [
            "Brain Lara 0\n"
          ]
        }
      ]
    },
    {
      "cell_type": "code",
      "source": [
        "class Person:\n",
        "    def __init__(self, fname, lname):\n",
        "        self.firstname = fname\n",
        "        self.lastname = lname\n",
        "\n",
        "    def printname(self):\n",
        "        print(self.firstname, self.lastname)\n",
        "\n",
        "x = Person(\"John\", \"Doe\")\n",
        "\n",
        "x.printname()"
      ],
      "metadata": {
        "colab": {
          "base_uri": "https://localhost:8080/"
        },
        "id": "nUlzQBwIjVKS",
        "outputId": "608d7a46-4e73-4abb-a41c-4260c8832595"
      },
      "execution_count": null,
      "outputs": [
        {
          "output_type": "stream",
          "name": "stdout",
          "text": [
            "John Doe\n"
          ]
        }
      ]
    },
    {
      "cell_type": "code",
      "source": [
        "class child(Person):\n",
        "    pass"
      ],
      "metadata": {
        "id": "3Wi7o8WYnaR4"
      },
      "execution_count": null,
      "outputs": []
    },
    {
      "cell_type": "code",
      "source": [
        "y = Person(\"John\", \"Doe\")\n",
        "\n",
        "y.printname()"
      ],
      "metadata": {
        "colab": {
          "base_uri": "https://localhost:8080/"
        },
        "id": "6qxLq7ZunsQY",
        "outputId": "0e1f4873-1eff-44cc-d900-7bd3abcad619"
      },
      "execution_count": null,
      "outputs": [
        {
          "output_type": "stream",
          "name": "stdout",
          "text": [
            "John Doe\n"
          ]
        }
      ]
    },
    {
      "cell_type": "code",
      "source": [
        "class child(Person):\n",
        "    def __init__\n",
        "#inheritance is lost if init constructor is used in child class"
      ],
      "metadata": {
        "colab": {
          "base_uri": "https://localhost:8080/",
          "height": 106
        },
        "id": "XOWfbKZPn4Uy",
        "outputId": "59689fa1-7813-46af-de89-92fd4ba14b71"
      },
      "execution_count": null,
      "outputs": [
        {
          "output_type": "error",
          "ename": "SyntaxError",
          "evalue": "expected '(' (ipython-input-3063416455.py, line 2)",
          "traceback": [
            "\u001b[0;36m  File \u001b[0;32m\"/tmp/ipython-input-3063416455.py\"\u001b[0;36m, line \u001b[0;32m2\u001b[0m\n\u001b[0;31m    def __init__\u001b[0m\n\u001b[0m                ^\u001b[0m\n\u001b[0;31mSyntaxError\u001b[0m\u001b[0;31m:\u001b[0m expected '('\n"
          ]
        }
      ]
    },
    {
      "cell_type": "code",
      "source": [
        "class Student(Person):#fname and lname\n",
        "    def __init__(self, fname, lname, year):#year is the additional attribute\n",
        "        Person.__init__(self, fname, lname)#additional call to the parent class"
      ],
      "metadata": {
        "id": "oYqFHaI_o3wD"
      },
      "execution_count": null,
      "outputs": []
    },
    {
      "cell_type": "code",
      "source": [
        "#using the super function\n",
        "class Student(Person):\n",
        "    def __init__(self, fname, lname, year):\n",
        "        super().__init__(fname, lname)#will come from the parent class"
      ],
      "metadata": {
        "id": "1xXjSRNHpWgl"
      },
      "execution_count": null,
      "outputs": []
    },
    {
      "cell_type": "code",
      "source": [
        "#using the super function\n",
        "class Student(Person):\n",
        "    def __init__(self, fname, lname, year):\n",
        "        super().__init__(fname, lname)#will come from the parent class\n",
        "        self.graduationyear = year#additional attribute\n",
        "\n",
        "x = Student(\"Mike\", \"Olsen\", 2019)\n",
        "x.printname()#printname method i coming from the parent class"
      ],
      "metadata": {
        "colab": {
          "base_uri": "https://localhost:8080/"
        },
        "id": "EprOgF6aS76z",
        "outputId": "da07cd42-a780-4fd7-a14b-e7353b8552c3"
      },
      "execution_count": null,
      "outputs": [
        {
          "output_type": "stream",
          "name": "stdout",
          "text": [
            "Mike Olsen\n"
          ]
        }
      ]
    },
    {
      "cell_type": "code",
      "source": [
        "#using the super function\n",
        "class Student(Person):\n",
        "    def __init__(self, fname, lname, year):\n",
        "        super().__init__(fname, lname)\n",
        "        self.graduationyear = year\n",
        "    def Print(self):\n",
        "        print(\"Welcome\", self.firstname, self.lastname, \"to the class of\", self.graduationyear)\n",
        "\n",
        "x = Student(\"Mike\", \"Olsen\", 2022)\n",
        "x.Print()\n"
      ],
      "metadata": {
        "colab": {
          "base_uri": "https://localhost:8080/"
        },
        "id": "lwz8LbCqTWbm",
        "outputId": "5f7d95cc-bd8b-4178-fec9-d035149a9cb1"
      },
      "execution_count": null,
      "outputs": [
        {
          "output_type": "stream",
          "name": "stdout",
          "text": [
            "Welcome Mike Olsen to the class of 2022\n"
          ]
        }
      ]
    },
    {
      "cell_type": "code",
      "source": [],
      "metadata": {
        "id": "qqXSgk-uVHCy"
      },
      "execution_count": null,
      "outputs": []
    },
    {
      "cell_type": "code",
      "source": [
        "2 + 3"
      ],
      "metadata": {
        "colab": {
          "base_uri": "https://localhost:8080/"
        },
        "id": "qet4_WVCTxRn",
        "outputId": "33698b3e-c9c2-4d30-cb4e-d7ba84eefa2c"
      },
      "execution_count": null,
      "outputs": [
        {
          "output_type": "execute_result",
          "data": {
            "text/plain": [
              "5"
            ]
          },
          "metadata": {},
          "execution_count": 6
        }
      ]
    },
    {
      "cell_type": "code",
      "source": [
        "#polymorphism #same name function used for different types\n",
        "#same operator\n",
        "\n",
        "print(len(\"geeks\"))\n",
        "\n",
        "len(\"nikkhil\")\n",
        "len([1,2,3])"
      ],
      "metadata": {
        "colab": {
          "base_uri": "https://localhost:8080/"
        },
        "id": "08IQcLSQVeVf",
        "outputId": "639f3bb5-40db-404b-9fa2-e2d50071178a"
      },
      "execution_count": null,
      "outputs": [
        {
          "output_type": "execute_result",
          "data": {
            "text/plain": [
              "3"
            ]
          },
          "metadata": {},
          "execution_count": 10
        }
      ]
    },
    {
      "cell_type": "code",
      "source": [
        "\"nikkhil\" + \"garg\""
      ],
      "metadata": {
        "colab": {
          "base_uri": "https://localhost:8080/",
          "height": 35
        },
        "id": "4_9Pma3ZU-Z8",
        "outputId": "060dda52-e9ec-4e57-d076-fcbadf6ffd60"
      },
      "execution_count": null,
      "outputs": [
        {
          "output_type": "execute_result",
          "data": {
            "text/plain": [
              "'nikkhilgarg'"
            ],
            "application/vnd.google.colaboratory.intrinsic+json": {
              "type": "string"
            }
          },
          "metadata": {},
          "execution_count": 7
        }
      ]
    },
    {
      "cell_type": "code",
      "source": [
        "tup1 = (1,2,3)\n",
        "tup2 = (6,4,5)\n",
        "\n",
        "tup1 + tup2"
      ],
      "metadata": {
        "colab": {
          "base_uri": "https://localhost:8080/"
        },
        "id": "fg6al7bxVEcz",
        "outputId": "40a0d4bd-5319-4576-b188-de47b9b5d9f3"
      },
      "execution_count": null,
      "outputs": [
        {
          "output_type": "execute_result",
          "data": {
            "text/plain": [
              "(1, 2, 3, 6, 4, 5)"
            ]
          },
          "metadata": {},
          "execution_count": 8
        }
      ]
    },
    {
      "cell_type": "code",
      "source": [
        "type(tup1)"
      ],
      "metadata": {
        "colab": {
          "base_uri": "https://localhost:8080/"
        },
        "id": "ig9vkzJ1VZbR",
        "outputId": "54dc02f4-261a-49b0-b333-1cb7ba234fb3"
      },
      "execution_count": null,
      "outputs": [
        {
          "output_type": "execute_result",
          "data": {
            "text/plain": [
              "tuple"
            ]
          },
          "metadata": {},
          "execution_count": 11
        }
      ]
    },
    {
      "cell_type": "code",
      "source": [
        "#del"
      ],
      "metadata": {
        "id": "2GfPdxa1WVFC"
      },
      "execution_count": null,
      "outputs": []
    },
    {
      "cell_type": "code",
      "source": [
        "x = 5\n",
        "y = 0\n",
        "print(\"x:\", x)\n",
        "print(\"y:\", y)\n",
        "result = x / y"
      ],
      "metadata": {
        "colab": {
          "base_uri": "https://localhost:8080/",
          "height": 211
        },
        "id": "uLZ4fRBpZ5Ii",
        "outputId": "edbdea25-13c7-42b0-9a15-01b74af466eb"
      },
      "execution_count": null,
      "outputs": [
        {
          "output_type": "stream",
          "name": "stdout",
          "text": [
            "x: 5\n",
            "y: 0\n"
          ]
        },
        {
          "output_type": "error",
          "ename": "ZeroDivisionError",
          "evalue": "division by zero",
          "traceback": [
            "\u001b[0;31m---------------------------------------------------------------------------\u001b[0m",
            "\u001b[0;31mZeroDivisionError\u001b[0m                         Traceback (most recent call last)",
            "\u001b[0;32m/tmp/ipython-input-2696992144.py\u001b[0m in \u001b[0;36m<cell line: 0>\u001b[0;34m()\u001b[0m\n\u001b[1;32m      3\u001b[0m \u001b[0mprint\u001b[0m\u001b[0;34m(\u001b[0m\u001b[0;34m\"x:\"\u001b[0m\u001b[0;34m,\u001b[0m \u001b[0mx\u001b[0m\u001b[0;34m)\u001b[0m\u001b[0;34m\u001b[0m\u001b[0;34m\u001b[0m\u001b[0m\n\u001b[1;32m      4\u001b[0m \u001b[0mprint\u001b[0m\u001b[0;34m(\u001b[0m\u001b[0;34m\"y:\"\u001b[0m\u001b[0;34m,\u001b[0m \u001b[0my\u001b[0m\u001b[0;34m)\u001b[0m\u001b[0;34m\u001b[0m\u001b[0;34m\u001b[0m\u001b[0m\n\u001b[0;32m----> 5\u001b[0;31m \u001b[0mresult\u001b[0m \u001b[0;34m=\u001b[0m \u001b[0mx\u001b[0m \u001b[0;34m/\u001b[0m \u001b[0my\u001b[0m\u001b[0;34m\u001b[0m\u001b[0;34m\u001b[0m\u001b[0m\n\u001b[0m",
            "\u001b[0;31mZeroDivisionError\u001b[0m: division by zero"
          ]
        }
      ]
    },
    {
      "cell_type": "code",
      "source": [
        "import pdb\n",
        "\n",
        "x = 10\n",
        "y = 0\n",
        "pdb.set_trace()  # Execution pauses here\n",
        "result = x / y"
      ],
      "metadata": {
        "colab": {
          "base_uri": "https://localhost:8080/"
        },
        "id": "N14-c14YauDx",
        "outputId": "7fbbe308-8b6c-42a0-d429-aa14b2148b79"
      },
      "execution_count": null,
      "outputs": [
        {
          "name": "stdout",
          "output_type": "stream",
          "text": [
            "--Return--\n",
            "None\n",
            "> \u001b[0;32m/tmp/ipython-input-51947323.py\u001b[0m(5)\u001b[0;36m<cell line: 0>\u001b[0;34m()\u001b[0m\n",
            "\u001b[0;32m      2 \u001b[0;31m\u001b[0;34m\u001b[0m\u001b[0m\n",
            "\u001b[0m\u001b[0;32m      3 \u001b[0;31m\u001b[0mx\u001b[0m \u001b[0;34m=\u001b[0m \u001b[0;36m10\u001b[0m\u001b[0;34m\u001b[0m\u001b[0;34m\u001b[0m\u001b[0m\n",
            "\u001b[0m\u001b[0;32m      4 \u001b[0;31m\u001b[0my\u001b[0m \u001b[0;34m=\u001b[0m \u001b[0;36m0\u001b[0m\u001b[0;34m\u001b[0m\u001b[0;34m\u001b[0m\u001b[0m\n",
            "\u001b[0m\u001b[0;32m----> 5 \u001b[0;31m\u001b[0mpdb\u001b[0m\u001b[0;34m.\u001b[0m\u001b[0mset_trace\u001b[0m\u001b[0;34m(\u001b[0m\u001b[0;34m)\u001b[0m  \u001b[0;31m# Execution pauses here\u001b[0m\u001b[0;34m\u001b[0m\u001b[0;34m\u001b[0m\u001b[0m\n",
            "\u001b[0m\u001b[0;32m      6 \u001b[0;31m\u001b[0mresult\u001b[0m \u001b[0;34m=\u001b[0m \u001b[0mx\u001b[0m \u001b[0;34m/\u001b[0m \u001b[0my\u001b[0m\u001b[0;34m\u001b[0m\u001b[0;34m\u001b[0m\u001b[0m\n",
            "\u001b[0m\n",
            "ipdb> q\n"
          ]
        }
      ]
    },
    {
      "cell_type": "code",
      "source": [
        "import logging\n",
        "logging.basicConfig(level=logging.DEBUG)\n",
        "\n",
        "x = 5\n",
        "logging.debug(f\"x value: {x}\")"
      ],
      "metadata": {
        "id": "1rHDCwI-d3eA"
      },
      "execution_count": null,
      "outputs": []
    },
    {
      "cell_type": "code",
      "source": [
        "x = 23.23\n",
        "type(x)"
      ],
      "metadata": {
        "colab": {
          "base_uri": "https://localhost:8080/"
        },
        "id": "OQXN6b6Qgvmr",
        "outputId": "3c1168fd-88d8-46ba-80fd-a31ca489040d"
      },
      "execution_count": null,
      "outputs": [
        {
          "output_type": "execute_result",
          "data": {
            "text/plain": [
              "float"
            ]
          },
          "metadata": {},
          "execution_count": 18
        }
      ]
    },
    {
      "cell_type": "markdown",
      "source": [
        "---\n",
        "\n",
        "# **Debugging Techniques in Python**\n",
        "\n",
        "## **1. Introduction to Debugging**\n",
        "\n",
        "**What is Debugging?**\n",
        "Debugging is the process of finding and fixing errors (bugs) in your program so it runs as intended.\n",
        "\n",
        "**Why Debugging is Important?**\n",
        "\n",
        "* Saves time in the long run by catching problems early.\n",
        "* Prevents unexpected crashes or incorrect outputs.\n",
        "* Improves code quality and maintainability.\n",
        "\n",
        "**Types of Errors in Python**\n",
        "\n",
        "1. **Syntax Errors** – Mistakes in the structure of the code (e.g., missing colon `:`).\n",
        "2. **Runtime Errors (Exceptions)** – Errors that occur when the program is running (e.g., dividing by zero).\n",
        "3. **Logical Errors** – Program runs but produces incorrect results due to flawed logic.\n",
        "\n",
        "---\n",
        "\n",
        "## **2. Basic Debugging Techniques**\n",
        "\n",
        "### **a) Reading Error Messages**\n",
        "\n",
        "* Python’s error messages give the **type of error**, **line number**, and a short **description**.\n",
        "* Example:\n",
        "\n",
        "```python\n",
        "print(\"Hello\"\n",
        "```\n",
        "\n",
        "**Output:**\n",
        "\n",
        "```\n",
        "SyntaxError: unexpected EOF while parsing\n",
        "```\n",
        "\n",
        "* Always start debugging by reading the error message carefully.\n",
        "\n",
        "---\n",
        "\n",
        "### **b) Using `print()` Statements**\n",
        "\n",
        "* One of the simplest ways to debug is by printing variable values.\n",
        "\n",
        "```python\n",
        "x = 5\n",
        "y = 0\n",
        "print(\"x:\", x)\n",
        "print(\"y:\", y)\n",
        "result = x / y  # This will cause ZeroDivisionError\n",
        "```\n",
        "\n",
        "* Use this to trace the **flow of execution** and **check variable values**.\n",
        "\n",
        "**Tips for print debugging:**\n",
        "\n",
        "* Add clear labels when printing.\n",
        "* Remove or comment out debug prints before finalizing the code.\n",
        "\n",
        "---\n",
        "\n",
        "### **c) Checking Variable Types with `type()`**\n",
        "\n",
        "Sometimes a bug is caused by unexpected data types.\n",
        "\n",
        "```python\n",
        "a = \"10\"\n",
        "b = 5\n",
        "print(type(a), type(b))  # Shows str and int\n",
        "```\n",
        "\n",
        "* Fix by converting:\n",
        "\n",
        "```python\n",
        "a = int(a)\n",
        "```\n",
        "\n",
        "---\n",
        "\n",
        "## **3. Using the Built-in `pdb` Debugger**\n",
        "\n",
        "Python comes with the **`pdb` (Python Debugger)** module.\n",
        "\n",
        "**How to Use:**\n",
        "\n",
        "1. Import `pdb`\n",
        "2. Insert `pdb.set_trace()` where you want to pause execution.\n",
        "\n",
        "```python\n",
        "import pdb\n",
        "\n",
        "x = 10\n",
        "y = 0\n",
        "pdb.set_trace()  # Execution pauses here\n",
        "result = x / y\n",
        "```\n",
        "\n",
        "**When paused, you can:**\n",
        "\n",
        "* `n` → go to next line\n",
        "* `c` → continue execution\n",
        "* `p variable` → print variable value\n",
        "* `q` → quit debugger\n",
        "\n",
        "---\n",
        "\n",
        "## **4. Using an IDE Debugger (PyCharm, VS Code, Thonny)**\n",
        "\n",
        "Most IDEs have **graphical debuggers** where you can:\n",
        "\n",
        "* Set **breakpoints** (pause execution at a line).\n",
        "* Step through code line by line.\n",
        "* Watch variables in real-time.\n",
        "* Evaluate expressions without modifying the code.\n",
        "\n",
        "Example in **VS Code**:\n",
        "\n",
        "1. Click on the left margin to set a breakpoint.\n",
        "2. Run in debug mode (`F5`).\n",
        "3. Use controls for step-in (`F11`), step-out (`Shift+F11`), and step-over (`F10`).\n",
        "\n",
        "---\n",
        "\n",
        "## **5. Handling Exceptions with `try-except`**\n",
        "\n",
        "* Use exception handling to **catch** and **diagnose** errors without stopping the program.\n",
        "\n",
        "```python\n",
        "try:\n",
        "    num = int(input(\"Enter a number: \"))\n",
        "    print(10 / num)\n",
        "except ZeroDivisionError:\n",
        "    print(\"You can't divide by zero!\")\n",
        "except ValueError:\n",
        "    print(\"Invalid input. Please enter a number.\")\n",
        "```\n",
        "\n",
        "* Good for **user input validation** and preventing program crashes.\n",
        "\n",
        "---\n",
        "\n",
        "## **6. Debugging Logic Errors**\n",
        "\n",
        "Logic errors don’t show error messages, but output is wrong.\n",
        "**Approach:**\n",
        "\n",
        "* Break the code into smaller parts and test each separately.\n",
        "* Use test cases with **expected results**.\n",
        "* Compare actual output with expected output.\n",
        "\n",
        "Example:\n",
        "\n",
        "```python\n",
        "def add_numbers(a, b):\n",
        "    return a - b  # Wrong logic\n",
        "print(add_numbers(5, 3))  # Expected 8, got 2\n",
        "```\n",
        "\n",
        "---\n",
        "\n",
        "## **7. Using Logging for Debugging**\n",
        "\n",
        "`logging` is better than print statements for larger programs.\n",
        "\n",
        "```python\n",
        "import logging\n",
        "logging.basicConfig(level=logging.DEBUG)\n",
        "\n",
        "x = 5\n",
        "logging.debug(f\"x value: {x}\")\n",
        "```\n",
        "\n",
        "Advantages over print:\n",
        "\n",
        "* Can control verbosity.\n",
        "* Can write logs to a file.\n",
        "* Easier to remove or disable in production.\n",
        "\n",
        "---\n",
        "\n",
        "## **8. Common Beginner Mistakes and Fixes**\n",
        "\n",
        "| **Mistake**                | **Why it Happens**            | **Fix**                             |\n",
        "| -------------------------- | ----------------------------- | ----------------------------------- |\n",
        "| Not reading error messages | Skipping the most useful info | Carefully read the full traceback   |\n",
        "| Mixing data types          | String + int errors           | Convert types with `int()`, `str()` |\n",
        "| Infinite loops             | Wrong loop condition          | Add debug prints or breakpoints     |\n",
        "| Off-by-one errors          | Wrong index or range          | Print loop counters to verify       |\n",
        "\n",
        "---\n",
        "\n",
        "## **9. Practice Exercise**\n",
        "\n",
        "Here’s a buggy code snippet — try to debug it:\n",
        "\n",
        "```python\n",
        "def calculate_area(length, width):\n",
        "    area = length * widht\n",
        "    return area\n",
        "\n",
        "print(calculate_area(5, 3))\n",
        "```\n",
        "\n",
        "**Steps to debug:**\n",
        "\n",
        "1. Run and read error message.\n",
        "2. Fix typo: `widht` → `width`.\n",
        "3. Test again.\n",
        "\n",
        "---\n",
        "\n",
        "## **10. Summary**\n",
        "\n",
        "* **Start with reading error messages**.\n",
        "* **Use print or logging** for quick checks.\n",
        "* **Use pdb or IDE debuggers** for step-by-step execution.\n",
        "* **Handle exceptions** to avoid crashes.\n",
        "* **Test logic** with known inputs and expected outputs.\n",
        "\n",
        "---\n",
        "\n"
      ],
      "metadata": {
        "id": "00aLoy20Xp3v"
      }
    },
    {
      "cell_type": "markdown",
      "source": [
        "** Dictionary Comprehension**\n",
        "\n",
        "{key_expression: value_expression for item in iterable if condition}"
      ],
      "metadata": {
        "id": "h5cF4cTrhu2W"
      }
    },
    {
      "cell_type": "code",
      "source": [
        "squares = {}\n",
        "for num in range(5):\n",
        "    squares[num] = num ** 2\n",
        "print(squares)"
      ],
      "metadata": {
        "colab": {
          "base_uri": "https://localhost:8080/"
        },
        "id": "f_rE9_oSXqPM",
        "outputId": "6e81e1d3-0dcb-4522-eca3-2b6f71706387"
      },
      "execution_count": null,
      "outputs": [
        {
          "output_type": "stream",
          "name": "stdout",
          "text": [
            "{0: 0, 1: 1, 2: 4, 3: 9, 4: 16}\n"
          ]
        }
      ]
    },
    {
      "cell_type": "code",
      "source": [
        "squares = {num: num ** 2 for num in range(5)}\n",
        "print(squares)"
      ],
      "metadata": {
        "colab": {
          "base_uri": "https://localhost:8080/"
        },
        "id": "-nwdtUKYi6bP",
        "outputId": "5de5a0d0-60ad-4710-c074-8ce7214f044d"
      },
      "execution_count": null,
      "outputs": [
        {
          "output_type": "stream",
          "name": "stdout",
          "text": [
            "{0: 0, 1: 1, 2: 4, 3: 9, 4: 16}\n"
          ]
        }
      ]
    },
    {
      "cell_type": "code",
      "source": [
        "even_squares = {num: num ** 2 for num in range(10) if num % 2 == 0}\n",
        "print(even_squares)"
      ],
      "metadata": {
        "colab": {
          "base_uri": "https://localhost:8080/"
        },
        "id": "jbwasY0jjZWM",
        "outputId": "6d6393d5-b106-4d36-aed4-9967eaa7ffdd"
      },
      "execution_count": null,
      "outputs": [
        {
          "output_type": "stream",
          "name": "stdout",
          "text": [
            "{0: 0, 2: 4, 4: 16, 6: 36, 8: 64}\n"
          ]
        }
      ]
    },
    {
      "cell_type": "code",
      "source": [
        "usd_prices = {\"apple\": 2, \"banana\": 1, \"cherry\": 3}\n",
        "inr_prices = {item: price * 83 for item, price in usd_prices.items()}\n",
        "print(inr_prices)"
      ],
      "metadata": {
        "colab": {
          "base_uri": "https://localhost:8080/"
        },
        "id": "ZxQHogKhj0uX",
        "outputId": "398ebf79-ed42-4f6b-ec7f-44c8ef152af5"
      },
      "execution_count": null,
      "outputs": [
        {
          "output_type": "stream",
          "name": "stdout",
          "text": [
            "{'apple': 166, 'banana': 83, 'cherry': 249}\n"
          ]
        }
      ]
    },
    {
      "cell_type": "markdown",
      "source": [
        "**counting characters in a string**"
      ],
      "metadata": {
        "id": "3EszwyMxkk4S"
      }
    },
    {
      "cell_type": "code",
      "source": [
        "text = \"hello\"\n",
        "text.count('l')"
      ],
      "metadata": {
        "colab": {
          "base_uri": "https://localhost:8080/"
        },
        "id": "wrNTepPnk5wL",
        "outputId": "ab3ac414-cf9f-42b4-c1d2-9139c3936632"
      },
      "execution_count": null,
      "outputs": [
        {
          "output_type": "execute_result",
          "data": {
            "text/plain": [
              "2"
            ]
          },
          "metadata": {},
          "execution_count": 24
        }
      ]
    },
    {
      "cell_type": "code",
      "source": [
        "text = \"hello\"\n",
        "char_count = {char: text.count(char) for char in text}\n",
        "print(char_count)\n",
        "# Output: {'h': 1, 'e': 1, 'l': 2, 'o': 1}"
      ],
      "metadata": {
        "colab": {
          "base_uri": "https://localhost:8080/"
        },
        "id": "7Y2L9XoBkecU",
        "outputId": "df76d0a6-af69-4e74-db13-d122cbef202f"
      },
      "execution_count": null,
      "outputs": [
        {
          "output_type": "stream",
          "name": "stdout",
          "text": [
            "{'h': 1, 'e': 1, 'l': 2, 'o': 1}\n"
          ]
        }
      ]
    },
    {
      "cell_type": "markdown",
      "source": [
        "FIlter dictionary data"
      ],
      "metadata": {
        "id": "COxse7ZilWvS"
      }
    },
    {
      "cell_type": "code",
      "source": [
        "marks = {\"A\": 85, \"B\": 42, \"C\": 77, \"D\": 90}\n",
        "passed = {name: score for name, score in marks.items() if score >= 50}\n",
        "print(passed)"
      ],
      "metadata": {
        "colab": {
          "base_uri": "https://localhost:8080/"
        },
        "id": "9kP3NHaplQky",
        "outputId": "c0726650-3af0-4629-a7c8-84dae127761f"
      },
      "execution_count": null,
      "outputs": [
        {
          "output_type": "stream",
          "name": "stdout",
          "text": [
            "{'A': 85, 'C': 77, 'D': 90}\n"
          ]
        }
      ]
    },
    {
      "cell_type": "markdown",
      "source": [
        "ROW COLUMN\n",
        "\n",
        "Arrays: numbers/numeric data\n",
        "\n",
        "no name of columns/variables/features\n",
        "\n",
        "no row labels\n",
        "\n",
        "NumPy -- Scipy\n",
        "\n",
        "Tables: any data types\n",
        "\n",
        "col names are essential\n",
        "\n",
        "row labels are optional\n",
        "\n",
        "Pandas"
      ],
      "metadata": {
        "id": "2QwYi5kdsROr"
      }
    },
    {
      "cell_type": "markdown",
      "source": [
        "**NUMPY**"
      ],
      "metadata": {
        "id": "_STpfMpjwQHg"
      }
    },
    {
      "cell_type": "code",
      "source": [
        "import numpy as np #context manager\n",
        "\n",
        "#create an array\n",
        "x = np.array([1,2,3]) #list of numbers\n",
        "print(x)"
      ],
      "metadata": {
        "colab": {
          "base_uri": "https://localhost:8080/"
        },
        "id": "jqwcgWcDlgjY",
        "outputId": "d4b3b0df-93d3-404e-8d34-670238372a85"
      },
      "execution_count": null,
      "outputs": [
        {
          "output_type": "stream",
          "name": "stdout",
          "text": [
            "[1 2 3]\n"
          ]
        }
      ]
    },
    {
      "cell_type": "code",
      "source": [
        "type(x)"
      ],
      "metadata": {
        "colab": {
          "base_uri": "https://localhost:8080/"
        },
        "id": "JGUzS5iXluGf",
        "outputId": "36ef55cf-221e-47be-b445-636d4b7b9219"
      },
      "execution_count": null,
      "outputs": [
        {
          "output_type": "execute_result",
          "data": {
            "text/plain": [
              "numpy.ndarray"
            ]
          },
          "metadata": {},
          "execution_count": 29
        }
      ]
    },
    {
      "cell_type": "markdown",
      "source": [
        "Dimensions in arrays\n",
        "\n",
        "single row array: 1 D\n",
        "\n",
        "otherwise: 2 D"
      ],
      "metadata": {
        "id": "Db9dhXbvxIZr"
      }
    },
    {
      "cell_type": "code",
      "source": [
        "a = np.array([[1,2,3],[4,5,6],[7,8,9],[10,11,12]]) #list of lists\n",
        "print(a)\n",
        "#array with 4 rows and 3 columns"
      ],
      "metadata": {
        "colab": {
          "base_uri": "https://localhost:8080/"
        },
        "id": "yiYggqjaxDyZ",
        "outputId": "271f104a-c37c-475a-84d7-ce6bf6fdef7f"
      },
      "execution_count": null,
      "outputs": [
        {
          "output_type": "stream",
          "name": "stdout",
          "text": [
            "[[ 1  2  3]\n",
            " [ 4  5  6]\n",
            " [ 7  8  9]\n",
            " [10 11 12]]\n"
          ]
        }
      ]
    },
    {
      "cell_type": "code",
      "source": [
        "a.ndim"
      ],
      "metadata": {
        "colab": {
          "base_uri": "https://localhost:8080/"
        },
        "id": "RJalTfN-xzXn",
        "outputId": "c6984a7a-24db-4b3f-ee0a-3ab33161498c"
      },
      "execution_count": null,
      "outputs": [
        {
          "output_type": "execute_result",
          "data": {
            "text/plain": [
              "2"
            ]
          },
          "metadata": {},
          "execution_count": 32
        }
      ]
    },
    {
      "cell_type": "code",
      "source": [
        "a = np.array([[1,2,3,4], [5,6,7,8], [9,10,11,12], [13,14,15,16]])\n",
        "print(a)\n",
        "#4 rows and 4 columns\n",
        "a.ndim"
      ],
      "metadata": {
        "colab": {
          "base_uri": "https://localhost:8080/"
        },
        "id": "vk4kc0qbx7dM",
        "outputId": "39e21448-e89c-4615-9dd6-916ec6103974"
      },
      "execution_count": null,
      "outputs": [
        {
          "output_type": "stream",
          "name": "stdout",
          "text": [
            "[[ 1  2  3  4]\n",
            " [ 5  6  7  8]\n",
            " [ 9 10 11 12]\n",
            " [13 14 15 16]]\n"
          ]
        },
        {
          "output_type": "execute_result",
          "data": {
            "text/plain": [
              "2"
            ]
          },
          "metadata": {},
          "execution_count": 33
        }
      ]
    },
    {
      "cell_type": "code",
      "source": [
        "a.shape"
      ],
      "metadata": {
        "colab": {
          "base_uri": "https://localhost:8080/"
        },
        "id": "BiyAdJxK1GRw",
        "outputId": "3cd4451f-2ac1-4085-bee2-53ec7a981536"
      },
      "execution_count": null,
      "outputs": [
        {
          "output_type": "execute_result",
          "data": {
            "text/plain": [
              "(4, 4)"
            ]
          },
          "metadata": {},
          "execution_count": 46
        }
      ]
    },
    {
      "cell_type": "code",
      "source": [
        "a.size"
      ],
      "metadata": {
        "colab": {
          "base_uri": "https://localhost:8080/"
        },
        "id": "CzxVB3FV2Pli",
        "outputId": "94884666-49e1-4ac3-d43a-01a342bae523"
      },
      "execution_count": null,
      "outputs": [
        {
          "output_type": "execute_result",
          "data": {
            "text/plain": [
              "16"
            ]
          },
          "metadata": {},
          "execution_count": 47
        }
      ]
    },
    {
      "cell_type": "code",
      "source": [
        "np.zeros(4)"
      ],
      "metadata": {
        "colab": {
          "base_uri": "https://localhost:8080/"
        },
        "id": "4q9tyJqty25F",
        "outputId": "19fe1b65-9f50-402b-bdca-7f1e75eab771"
      },
      "execution_count": null,
      "outputs": [
        {
          "output_type": "execute_result",
          "data": {
            "text/plain": [
              "array([0., 0., 0., 0.])"
            ]
          },
          "metadata": {},
          "execution_count": 39
        }
      ]
    },
    {
      "cell_type": "code",
      "source": [
        "#hypthetical: array of 0s\n",
        "\n",
        "np.zeros([2,4])"
      ],
      "metadata": {
        "colab": {
          "base_uri": "https://localhost:8080/"
        },
        "id": "86j5iJ5WyFrm",
        "outputId": "89c71413-f412-4de1-9e6a-0694e29df4a7"
      },
      "execution_count": null,
      "outputs": [
        {
          "output_type": "execute_result",
          "data": {
            "text/plain": [
              "array([[0., 0., 0., 0.],\n",
              "       [0., 0., 0., 0.]])"
            ]
          },
          "metadata": {},
          "execution_count": 37
        }
      ]
    },
    {
      "cell_type": "code",
      "source": [
        "#array of ones\n",
        "np.ones(4)"
      ],
      "metadata": {
        "colab": {
          "base_uri": "https://localhost:8080/"
        },
        "id": "OhvWq_2SyhUB",
        "outputId": "daeee559-d478-426c-aaa6-6d6f0a475a51"
      },
      "execution_count": null,
      "outputs": [
        {
          "output_type": "execute_result",
          "data": {
            "text/plain": [
              "array([1., 1., 1., 1.])"
            ]
          },
          "metadata": {},
          "execution_count": 35
        }
      ]
    },
    {
      "cell_type": "code",
      "source": [
        "np.ones([2,4])"
      ],
      "metadata": {
        "colab": {
          "base_uri": "https://localhost:8080/"
        },
        "id": "Z_Smd568yoxc",
        "outputId": "c0e7960f-e4d5-49ee-ce09-d4ce8b5dac87"
      },
      "execution_count": null,
      "outputs": [
        {
          "output_type": "execute_result",
          "data": {
            "text/plain": [
              "array([[1., 1., 1., 1.],\n",
              "       [1., 1., 1., 1.]])"
            ]
          },
          "metadata": {},
          "execution_count": 36
        }
      ]
    },
    {
      "cell_type": "code",
      "source": [
        "#arange fn in python generates sequence of numbers\n",
        "\n",
        "np.arange(10)"
      ],
      "metadata": {
        "colab": {
          "base_uri": "https://localhost:8080/"
        },
        "id": "ddGt0nktyxIP",
        "outputId": "792d8451-8d50-4514-a069-fbe1d4a8f30a"
      },
      "execution_count": null,
      "outputs": [
        {
          "output_type": "execute_result",
          "data": {
            "text/plain": [
              "array([0, 1, 2, 3, 4, 5, 6, 7, 8, 9])"
            ]
          },
          "metadata": {},
          "execution_count": 40
        }
      ]
    },
    {
      "cell_type": "code",
      "source": [
        "np.arange(5,20)"
      ],
      "metadata": {
        "colab": {
          "base_uri": "https://localhost:8080/"
        },
        "id": "Cv8Dc_-3zX5Y",
        "outputId": "de88e186-f503-4814-9d6a-bec2c4411dbc"
      },
      "execution_count": null,
      "outputs": [
        {
          "output_type": "execute_result",
          "data": {
            "text/plain": [
              "array([ 5,  6,  7,  8,  9, 10, 11, 12, 13, 14, 15, 16, 17, 18, 19])"
            ]
          },
          "metadata": {},
          "execution_count": 41
        }
      ]
    },
    {
      "cell_type": "code",
      "source": [
        "np.arange(5,20,2)"
      ],
      "metadata": {
        "colab": {
          "base_uri": "https://localhost:8080/"
        },
        "id": "43g9kP-rzfRC",
        "outputId": "bc607a87-5413-451b-dfb4-351472411a76"
      },
      "execution_count": null,
      "outputs": [
        {
          "output_type": "execute_result",
          "data": {
            "text/plain": [
              "array([ 5,  7,  9, 11, 13, 15, 17, 19])"
            ]
          },
          "metadata": {},
          "execution_count": 42
        }
      ]
    },
    {
      "cell_type": "code",
      "source": [
        "np.linspace(5,10,5)"
      ],
      "metadata": {
        "colab": {
          "base_uri": "https://localhost:8080/"
        },
        "id": "hF7cX1kkzuXk",
        "outputId": "fb33062b-7bee-4155-9ba6-b712d7002e1a"
      },
      "execution_count": null,
      "outputs": [
        {
          "output_type": "execute_result",
          "data": {
            "text/plain": [
              "array([ 5.  ,  6.25,  7.5 ,  8.75, 10.  ])"
            ]
          },
          "metadata": {},
          "execution_count": 45
        }
      ]
    },
    {
      "cell_type": "code",
      "source": [
        "#concatenation #joining\n",
        "a = np.array([1,2,3,4])\n",
        "b = np.array([5,6,7,8])\n",
        "\n",
        "print(a)\n",
        "print()\n",
        "print(b)\n",
        "\n",
        "np.concatenate((a, b))"
      ],
      "metadata": {
        "colab": {
          "base_uri": "https://localhost:8080/"
        },
        "id": "n9H2NLqM0KnN",
        "outputId": "799da022-e552-44de-c9b3-62964b024a99"
      },
      "execution_count": null,
      "outputs": [
        {
          "output_type": "stream",
          "name": "stdout",
          "text": [
            "[1 2 3 4]\n",
            "\n",
            "[5 6 7 8]\n"
          ]
        },
        {
          "output_type": "execute_result",
          "data": {
            "text/plain": [
              "array([1, 2, 3, 4, 5, 6, 7, 8])"
            ]
          },
          "metadata": {},
          "execution_count": 48
        }
      ]
    },
    {
      "cell_type": "code",
      "source": [
        "x = np.array([[1,2], [3,4], [7,8]])#array 0f 3 rows and 2 columns\n",
        "\n",
        "y = np.array([[5,6],[9,10],[11,12]])\n",
        "\n",
        "print(x)\n",
        "print()\n",
        "print(y)\n"
      ],
      "metadata": {
        "colab": {
          "base_uri": "https://localhost:8080/"
        },
        "id": "qjCBZfZB2qXi",
        "outputId": "0fa79940-ddf4-4101-ffc6-ba69acc6ec37"
      },
      "execution_count": null,
      "outputs": [
        {
          "output_type": "stream",
          "name": "stdout",
          "text": [
            "[[1 2]\n",
            " [3 4]\n",
            " [7 8]]\n",
            "\n",
            "[[ 5  6]\n",
            " [ 9 10]\n",
            " [11 12]]\n"
          ]
        }
      ]
    },
    {
      "cell_type": "code",
      "source": [
        "np.concatenate((x, y))\n"
      ],
      "metadata": {
        "colab": {
          "base_uri": "https://localhost:8080/"
        },
        "id": "eMQklUdR27RL",
        "outputId": "ad11c621-2b53-4b2e-d9a7-60a05dc6b5e3"
      },
      "execution_count": null,
      "outputs": [
        {
          "output_type": "execute_result",
          "data": {
            "text/plain": [
              "array([[ 1,  2],\n",
              "       [ 3,  4],\n",
              "       [ 7,  8],\n",
              "       [ 5,  6],\n",
              "       [ 9, 10],\n",
              "       [11, 12]])"
            ]
          },
          "metadata": {},
          "execution_count": 50
        }
      ]
    },
    {
      "cell_type": "code",
      "source": [
        "x = np.array([[1,2], [3,4], [7,8]])#array 0f 3 rows and 2 columns\n",
        "\n",
        "y = np.array([[5,6],[9,10]])\n",
        "\n",
        "print(x)\n",
        "print()\n",
        "print(y)\n"
      ],
      "metadata": {
        "colab": {
          "base_uri": "https://localhost:8080/"
        },
        "id": "2CCsrCbN3BkX",
        "outputId": "e65d27d6-ebcd-4e2e-c844-b5f66cee2d8c"
      },
      "execution_count": null,
      "outputs": [
        {
          "output_type": "stream",
          "name": "stdout",
          "text": [
            "[[1 2]\n",
            " [3 4]\n",
            " [7 8]]\n",
            "\n",
            "[[ 5  6]\n",
            " [ 9 10]]\n"
          ]
        }
      ]
    },
    {
      "cell_type": "code",
      "source": [
        "np.concatenate((x, y))"
      ],
      "metadata": {
        "colab": {
          "base_uri": "https://localhost:8080/"
        },
        "id": "D8L023q03a_h",
        "outputId": "37434387-5832-4049-95a8-56a8bab8d941"
      },
      "execution_count": null,
      "outputs": [
        {
          "output_type": "execute_result",
          "data": {
            "text/plain": [
              "array([[ 1,  2],\n",
              "       [ 3,  4],\n",
              "       [ 7,  8],\n",
              "       [ 5,  6],\n",
              "       [ 9, 10]])"
            ]
          },
          "metadata": {},
          "execution_count": 52
        }
      ]
    },
    {
      "cell_type": "code",
      "source": [
        "x = np.array([[1,2], [3,4], [7,8]])#array 0f 3 rows and 2 columns\n",
        "\n",
        "y = np.array([[5,6,7],[9,10,11]])\n",
        "\n",
        "print(x)\n",
        "print()\n",
        "print(y)\n"
      ],
      "metadata": {
        "colab": {
          "base_uri": "https://localhost:8080/"
        },
        "id": "_eZEa0_I3rMy",
        "outputId": "5f2beb8a-8765-470d-fbd2-2751810d0cb9"
      },
      "execution_count": null,
      "outputs": [
        {
          "output_type": "stream",
          "name": "stdout",
          "text": [
            "[[1 2]\n",
            " [3 4]\n",
            " [7 8]]\n",
            "\n",
            "[[ 5  6  7]\n",
            " [ 9 10 11]]\n"
          ]
        }
      ]
    },
    {
      "cell_type": "code",
      "source": [
        "np.concatenate((x, y))"
      ],
      "metadata": {
        "colab": {
          "base_uri": "https://localhost:8080/",
          "height": 158
        },
        "id": "JEesy57C38a1",
        "outputId": "f34d4c36-b137-4690-d516-deaef3f89b36"
      },
      "execution_count": null,
      "outputs": [
        {
          "output_type": "error",
          "ename": "ValueError",
          "evalue": "all the input array dimensions except for the concatenation axis must match exactly, but along dimension 1, the array at index 0 has size 2 and the array at index 1 has size 3",
          "traceback": [
            "\u001b[0;31m---------------------------------------------------------------------------\u001b[0m",
            "\u001b[0;31mValueError\u001b[0m                                Traceback (most recent call last)",
            "\u001b[0;32m/tmp/ipython-input-4274035267.py\u001b[0m in \u001b[0;36m<cell line: 0>\u001b[0;34m()\u001b[0m\n\u001b[0;32m----> 1\u001b[0;31m \u001b[0mnp\u001b[0m\u001b[0;34m.\u001b[0m\u001b[0mconcatenate\u001b[0m\u001b[0;34m(\u001b[0m\u001b[0;34m(\u001b[0m\u001b[0mx\u001b[0m\u001b[0;34m,\u001b[0m \u001b[0my\u001b[0m\u001b[0;34m)\u001b[0m\u001b[0;34m)\u001b[0m\u001b[0;34m\u001b[0m\u001b[0;34m\u001b[0m\u001b[0m\n\u001b[0m",
            "\u001b[0;31mValueError\u001b[0m: all the input array dimensions except for the concatenation axis must match exactly, but along dimension 1, the array at index 0 has size 2 and the array at index 1 has size 3"
          ]
        }
      ]
    },
    {
      "cell_type": "code",
      "source": [],
      "metadata": {
        "id": "GPXMSYfF3-zH"
      },
      "execution_count": null,
      "outputs": []
    }
  ]
}