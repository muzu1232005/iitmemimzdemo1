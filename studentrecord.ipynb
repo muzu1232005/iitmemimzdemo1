{
 "cells": [
  {
   "cell_type": "code",
   "execution_count": null,
   "id": "dc302848",
   "metadata": {},
   "outputs": [],
   "source": [
    "from typing import List, Dict, Tuple, Set"
   ]
  },
  {
   "cell_type": "markdown",
   "id": "4b600a85",
   "metadata": {},
   "source": [
    "typing - Is a standard Python module introduced in Python 3.5. It provides type hinting tools to describe the expected types of variables, function arguments, return values, and more.These hints are optional and not enforced at runtime\n",
    "\n",
    "\n",
    "The difference between dict() and Dict[] lies in their purpose and usage context — one is a built-in function, and the other is a type hint from the typing module.\n",
    " dict()\n",
    "- This is the built-in constructor for creating dictionaries in Python.\n",
    "- You use it to create actual dictionary objects at runtime.\n",
    "\n",
    "Dict[key,value] (from typing module)\n",
    "- This is used for type hinting—it tells tools and readers what kind of data a variable is expected to hold.\n",
    "- It’s not used to create dictionaries, but to describe their structure.\n",
    "- Describes dictionary structure\n",
    "- Type hinting"
   ]
  },
  {
   "cell_type": "code",
   "execution_count": null,
   "id": "fb26e524",
   "metadata": {},
   "outputs": [],
   "source": [
    "student_id = int # assigns the int class itself to the variable student_id. You’re assigning the type object int to the variable."
   ]
  },
  {
   "cell_type": "code",
   "execution_count": null,
   "id": "2fcdaca1",
   "metadata": {},
   "outputs": [],
   "source": [
    "print(\"student_id class refers as \" , student_id)\n",
    "print(student_id(564)) # similar to int(564)\n",
    "print(int(564)) "
   ]
  },
  {
   "cell_type": "code",
   "execution_count": null,
   "id": "258e844c",
   "metadata": {},
   "outputs": [],
   "source": [
    "random_id : int # declares expected type. \n",
    "random_ids : int = 7 # Assigns value and hints type. This both assigns a value and provides a type hint."
   ]
  },
  {
   "cell_type": "code",
   "execution_count": null,
   "id": "604198ba",
   "metadata": {},
   "outputs": [],
   "source": [
    "# type hint that describes the expected structure of the variable student_record\n",
    "# This type hint says that student_record is expected to be a tuple with:\n",
    "#- A string as the first element.\n",
    "#- A dictionary as the second element, where:\n",
    "#- Keys are strings (str)\n",
    "#- Values are integers (int)\n",
    "\n",
    "student_record = Tuple[str, Dict[str,int]] # (name , {subject:marks})   # assigning the type class data structure to student_record.\n",
    "print(student_record)\n"
   ]
  },
  {
   "cell_type": "code",
   "execution_count": null,
   "id": "68243700",
   "metadata": {},
   "outputs": [],
   "source": [
    "# This type hint says that student_database is expected to be a dictionary where:\n",
    "# - Keys are student_id values (likely integers).\n",
    "# - Values are student_record entries (tuples containing a name and a subject-score dictionary).\n",
    "\n",
    "Student_Database = Dict[student_id,student_record]\n",
    "print(Student_Database)"
   ]
  },
  {
   "cell_type": "code",
   "execution_count": null,
   "id": "3c49ac2a",
   "metadata": {},
   "outputs": [],
   "source": [
    "students_db : Student_Database = {} # students_db of type Student_Database initialized with empty {}.\n",
    "print(\"students_db : \",students_db)"
   ]
  },
  {
   "cell_type": "code",
   "execution_count": null,
   "id": "8d14bd3d",
   "metadata": {},
   "outputs": [],
   "source": [
    "# Student_Database = Dict[student_id,student_record]\n",
    "# student_record = Tuple[str, Dict[str,int]] \n",
    "    # Student_Database - Key --> stdnt_id\n",
    "    #                    Value --> student_record = Tuple[str, Dict[str,int]] \n",
    "    #students_db[stdnt_id] = (name,subjects) \n",
    "def add_student_rec(students_db: Student_Database) -> None:\n",
    "    \n",
    "    stdnt_id : int = int(input(\"Enter student id : \"))\n",
    "    \n",
    "    if stdnt_id in students_db:\n",
    "       print(\"Student already exists !\")\n",
    "       return\n",
    "    \n",
    "    name : str = str(input(\"Enter student name : \"))\n",
    "    \n",
    "    subject_cnt : int = int(input(\"Enter number of subjects : \"))\n",
    "    \n",
    "    subjects: Dict[str,int] = {}\n",
    "\n",
    "    for _ in range(subject_cnt) :\n",
    "        subj_name : str = str(input(\"Enter subject name : \"))\n",
    "        marks : int = int(input(f\"Enter marks for {subj_name} : \"))\n",
    "        subjects[subj_name] = marks\n",
    "\n",
    "    students_db[stdnt_id]=(name, subjects)\n",
    "\n",
    "    print(\"Students added succesfully -->\",students_db)\n",
    "\n",
    "    return None"
   ]
  },
  {
   "cell_type": "code",
   "execution_count": null,
   "id": "bacab4ab",
   "metadata": {},
   "outputs": [],
   "source": [
    "#from typing import Dict\n",
    "\n",
    "#subject_cnt = 2  # Example count\n",
    "#subjects: Dict[str, int] = {}\n",
    "\n",
    "#for _ in range(subject_cnt):\n",
    " #   subj_name: str = input(\"Enter subject name: \")\n",
    " #  marks: int = int(input(f\"Enter marks for {subj_name}: \"))\n",
    " #  subjects[subj_name] = marks\n",
    "\n",
    "# print(subjects)"
   ]
  },
  {
   "cell_type": "code",
   "execution_count": null,
   "id": "86b6a041",
   "metadata": {},
   "outputs": [],
   "source": [
    "def view_all_students_details(students_db: Student_Database) -> None :\n",
    "     if not students_db:\n",
    "          print(\"No Students available.\")\n",
    "          return\n",
    "     print(\"students_db --> \", students_db)\n",
    "\n",
    "     for stdnt_id, (name,subjects) in students_db.items():\n",
    "\n",
    "          print(f\"Student_id : {stdnt_id}\",f\"Student Name : {name}\")\n",
    "          \n",
    "          for subj_name, marks in subjects.items():\n",
    "               print(f\"Subject_name : {subj_name}\", f\" Marks : {marks}\")\n",
    "          "
   ]
  },
  {
   "cell_type": "code",
   "execution_count": null,
   "id": "e294eff9",
   "metadata": {},
   "outputs": [],
   "source": [
    "def search_student_details(students_db: Student_Database) -> None :\n",
    "     stdnt_id : int = int(input(\"Enter student id : \"))\n",
    "\n",
    "     if not students_db:\n",
    "          print(\"No Students available.\")\n",
    "          return\n",
    "     elif students_db.get(stdnt_id) is None:\n",
    "             print(f\"No Students available with ID as {stdnt_id} \")\n",
    "             return\n",
    "     # Student_Database - Key --> stdnt_id\n",
    "     #                    Value --> student_record = Tuple[str, Dict[str,int]] \n",
    "\n",
    "     \n",
    "\n",
    "     (stdnt_name,subjects) = students_db[stdnt_id]\n",
    "\n",
    "     print(f\"Student_id : {stdnt_id}\", f\"Name : {stdnt_name}\")\n",
    "     for subj_name, marks in subjects.items() :\n",
    "               print(f\"Subject_name : {subj_name}\", f\" Marks : {marks}\")"
   ]
  },
  {
   "cell_type": "code",
   "execution_count": null,
   "id": "6374a445",
   "metadata": {},
   "outputs": [],
   "source": [
    "def execute_app() -> None:\n",
    "    \n",
    "    print(\"1. Add Student\")\n",
    "    print(\"2. View Student\")\n",
    "    print(\"3. Search Student\")\n",
    "    print(\"4. Exit\")\n",
    "    while True:\n",
    "       \n",
    "            choice : int = int(input(\"Enter your choice : \"))\n",
    "\n",
    "            if (choice == 1):\n",
    "                add_student_rec(students_db)\n",
    "            elif (choice == 2):\n",
    "                view_all_students_details(students_db)\n",
    "            elif (choice == 3):\n",
    "                search_student_details(students_db)\n",
    "            elif (choice == 4):\n",
    "                print(\" Ending now . \")\n",
    "                return\n",
    "\n"
   ]
  },
  {
   "cell_type": "code",
   "execution_count": 47,
   "id": "f2ec6f16",
   "metadata": {},
   "outputs": [
    {
     "name": "stdout",
     "output_type": "stream",
     "text": [
      "1. Add Student\n",
      "2. View Student\n",
      "3. Search Student\n",
      "4. Exit\n",
      "students_db -->  {456: ('Ram', {'Maths': 99, 'Chemistry': 88})}\n",
      "Student_id : 456 Student Name : Ram\n",
      "Subject_name : Maths  Marks : 99\n",
      "Subject_name : Chemistry  Marks : 88\n",
      "No Students available with ID as 3 \n",
      "Student_id : 456 Name : Ram\n",
      "Subject_name : Maths  Marks : 99\n",
      "Subject_name : Chemistry  Marks : 88\n",
      " Ending now . \n"
     ]
    }
   ],
   "source": [
    "execute_app()"
   ]
  }
 ],
 "metadata": {
  "kernelspec": {
   "display_name": "iitmenv1",
   "language": "python",
   "name": "python3"
  },
  "language_info": {
   "codemirror_mode": {
    "name": "ipython",
    "version": 3
   },
   "file_extension": ".py",
   "mimetype": "text/x-python",
   "name": "python",
   "nbconvert_exporter": "python",
   "pygments_lexer": "ipython3",
   "version": "3.11.11"
  }
 },
 "nbformat": 4,
 "nbformat_minor": 5
}
