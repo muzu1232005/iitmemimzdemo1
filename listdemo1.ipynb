{
 "cells": [
  {
   "cell_type": "code",
   "execution_count": null,
   "id": "c4e2d69e",
   "metadata": {},
   "outputs": [
    {
     "name": "stdout",
     "output_type": "stream",
     "text": [
      "my_list_empty --> []\n",
      "my_list_smpl1 --> [56, 90, 'OOP']\n"
     ]
    }
   ],
   "source": [
    "# Lists a Simple way to store & organize multiple data items effeciently in an ordered way\n",
    "\n",
    "my_list_empty = []\n",
    "\n",
    "my_list_smpl1 = [56,90,'OOP']\n",
    "\n",
    "print(\"my_list_empty -->\",my_list_empty)\n",
    "\n",
    "print(\"my_list_smpl1 -->\",my_list_smpl1)\n"
   ]
  },
  {
   "cell_type": "code",
   "execution_count": 7,
   "id": "ddc8e7a0",
   "metadata": {},
   "outputs": [
    {
     "name": "stdout",
     "output_type": "stream",
     "text": [
      "Index access of 3rd element :  OOP\n",
      "Index access of 1st element :  56\n",
      "Index access last element :  OOP\n"
     ]
    }
   ],
   "source": [
    "print(\"Index access of 3rd element : \",my_list_smpl1[2])\n",
    "print(\"Index access of 1st element : \",my_list_smpl1[0])\n",
    "print(\"Index access last element : \",my_list_smpl1[-1])"
   ]
  },
  {
   "cell_type": "code",
   "execution_count": null,
   "id": "8f9adb06",
   "metadata": {},
   "outputs": [],
   "source": [
    "#change 3rd item - Mutable\n",
    "my_list_smpl1[2] = \"JAVA\""
   ]
  },
  {
   "cell_type": "code",
   "execution_count": 10,
   "id": "daf7d80d",
   "metadata": {},
   "outputs": [
    {
     "name": "stdout",
     "output_type": "stream",
     "text": [
      "my_list_smpl1 --> [56, 90, 'JAVA']\n"
     ]
    }
   ],
   "source": [
    "print(\"my_list_smpl1 -->\",my_list_smpl1)"
   ]
  },
  {
   "cell_type": "code",
   "execution_count": 11,
   "id": "fc39c0a5",
   "metadata": {},
   "outputs": [
    {
     "name": "stdout",
     "output_type": "stream",
     "text": [
      "my_list_smpl1 --> [56, 90, 'JAVA', 'JavaScript', 'C++']\n"
     ]
    }
   ],
   "source": [
    "my_list_smpl1.append(\"JavaScript\")\n",
    "my_list_smpl1.append(\"C++\")\n",
    "print(\"my_list_smpl1 -->\",my_list_smpl1)"
   ]
  },
  {
   "cell_type": "code",
   "execution_count": 12,
   "id": "34ac625b",
   "metadata": {},
   "outputs": [
    {
     "name": "stdout",
     "output_type": "stream",
     "text": [
      "my_list_smpl1 --> [56, 90, 'JAVA', 'C++']\n"
     ]
    }
   ],
   "source": [
    "#remove by value\n",
    "my_list_smpl1.remove(\"JavaScript\")\n",
    "print(\"my_list_smpl1 -->\",my_list_smpl1)"
   ]
  },
  {
   "cell_type": "code",
   "execution_count": 17,
   "id": "27465d7c",
   "metadata": {},
   "outputs": [
    {
     "name": "stdout",
     "output_type": "stream",
     "text": [
      "my_list_smpl1 --> [56, 90, 'JAVA', 'CSharp']\n"
     ]
    }
   ],
   "source": [
    "#update existing index\n",
    "my_list_smpl1[3]=\"CSharp\" \n",
    "print(\"my_list_smpl1 -->\",my_list_smpl1)"
   ]
  },
  {
   "cell_type": "code",
   "execution_count": 23,
   "id": "ac5bc727",
   "metadata": {},
   "outputs": [
    {
     "data": {
      "text/plain": [
       "['JAVA', 'C++', 'CSharp', 'Dot NET', 'Spring']"
      ]
     },
     "execution_count": 23,
     "metadata": {},
     "output_type": "execute_result"
    }
   ],
   "source": [
    "my_list_smpl2 =  ['JAVA', 'C++', 'CSharp','Dot NET','Spring']\n",
    "my_list_smpl2"
   ]
  },
  {
   "cell_type": "code",
   "execution_count": 36,
   "id": "2d7e9eba",
   "metadata": {},
   "outputs": [],
   "source": [
    "my_list_smpl2.sort()"
   ]
  },
  {
   "cell_type": "code",
   "execution_count": 37,
   "id": "69579297",
   "metadata": {},
   "outputs": [
    {
     "data": {
      "text/plain": [
       "['C++', 'C++', 'CSharp', 'Dot NET', 'Hibernate', 'JAVA', 'MS SQL', 'Spring']"
      ]
     },
     "execution_count": 37,
     "metadata": {},
     "output_type": "execute_result"
    }
   ],
   "source": [
    "my_list_smpl2"
   ]
  },
  {
   "cell_type": "code",
   "execution_count": 35,
   "id": "2065bebb",
   "metadata": {},
   "outputs": [
    {
     "data": {
      "text/plain": [
       "['MS SQL', 'Hibernate', 'C++', 'C++', 'CSharp', 'Dot NET', 'JAVA', 'Spring']"
      ]
     },
     "execution_count": 35,
     "metadata": {},
     "output_type": "execute_result"
    }
   ],
   "source": [
    "my_list_smpl2.reverse()\n",
    "my_list_smpl2"
   ]
  },
  {
   "cell_type": "code",
   "execution_count": 34,
   "id": "0d7fc0e7",
   "metadata": {},
   "outputs": [
    {
     "name": "stdout",
     "output_type": "stream",
     "text": [
      "my_list_smpl2 -->  8\n"
     ]
    }
   ],
   "source": [
    "print(\"my_list_smpl2 --> \",len(my_list_smpl2))"
   ]
  },
  {
   "cell_type": "code",
   "execution_count": 30,
   "id": "d856013c",
   "metadata": {},
   "outputs": [],
   "source": [
    "my_list_smpl2.append(\"C++\")\n",
    "my_list_smpl2.append(\"Hibernate\")\n",
    "my_list_smpl2.append(\"MS SQL\")"
   ]
  },
  {
   "cell_type": "code",
   "execution_count": 32,
   "id": "2f14bcab",
   "metadata": {},
   "outputs": [
    {
     "data": {
      "text/plain": [
       "['Spring', 'JAVA', 'Dot NET', 'CSharp', 'C++', 'C++', 'Hibernate', 'MS SQL']"
      ]
     },
     "execution_count": 32,
     "metadata": {},
     "output_type": "execute_result"
    }
   ],
   "source": [
    "my_list_smpl2"
   ]
  },
  {
   "cell_type": "code",
   "execution_count": 33,
   "id": "c61ef5e2",
   "metadata": {},
   "outputs": [
    {
     "name": "stdout",
     "output_type": "stream",
     "text": [
      "count of C++ -->  2\n"
     ]
    }
   ],
   "source": [
    "print(\"count of C++ --> \",my_list_smpl2.count(\"C++\"))"
   ]
  },
  {
   "cell_type": "code",
   "execution_count": 38,
   "id": "f34ebe4d",
   "metadata": {},
   "outputs": [],
   "source": [
    "my_list_smpl3 =  ['JAVA', 'C++', 'CSharp','Dot NET','Spring','JavaScript', 'Oracle SQL']\n",
    "my_list_smpl3.sort()"
   ]
  },
  {
   "cell_type": "code",
   "execution_count": 39,
   "id": "d3ae56cd",
   "metadata": {},
   "outputs": [
    {
     "data": {
      "text/plain": [
       "['C++', 'CSharp', 'Dot NET', 'JAVA', 'JavaScript', 'Oracle SQL', 'Spring']"
      ]
     },
     "execution_count": 39,
     "metadata": {},
     "output_type": "execute_result"
    }
   ],
   "source": [
    "my_list_smpl3"
   ]
  },
  {
   "cell_type": "code",
   "execution_count": 43,
   "id": "03acf4e9",
   "metadata": {},
   "outputs": [
    {
     "data": {
      "text/plain": [
       "['JAVA', 'JavaScript', 'Oracle SQL', 'Spring']"
      ]
     },
     "execution_count": 43,
     "metadata": {},
     "output_type": "execute_result"
    }
   ],
   "source": [
    "# slice my_list_smpl3[start index : length -1]\n",
    "jav_sql_spr = my_list_smpl3[3:7]\n",
    "jav_sql_spr"
   ]
  },
  {
   "cell_type": "code",
   "execution_count": 45,
   "id": "aa6c48d9",
   "metadata": {},
   "outputs": [
    {
     "data": {
      "text/plain": [
       "['C++', 'CSharp', 'Dot NET']"
      ]
     },
     "execution_count": 45,
     "metadata": {},
     "output_type": "execute_result"
    }
   ],
   "source": [
    "# slice my_list_smpl3[start index : end index -1]\n",
    "microsoft_list = my_list_smpl3[0:3]\n",
    "microsoft_list"
   ]
  },
  {
   "cell_type": "code",
   "execution_count": 58,
   "id": "cf6409b9",
   "metadata": {},
   "outputs": [
    {
     "name": "stdout",
     "output_type": "stream",
     "text": [
      "lst_itm 1 : C++\n",
      "lst_itm 2 : CSharp\n",
      "lst_itm 3 : Dot NET\n",
      "lst_itm 4 : JAVA\n",
      "lst_itm 5 : JavaScript\n",
      "lst_itm 6 : Oracle SQL\n",
      "lst_itm 7 : Spring\n"
     ]
    }
   ],
   "source": [
    "i=1\n",
    "for lst_itm in my_list_smpl3:\n",
    "    print(f\"lst_itm {i} : {lst_itm}\")\n",
    "    i = i + 1"
   ]
  },
  {
   "cell_type": "code",
   "execution_count": 3,
   "id": "4746546e",
   "metadata": {},
   "outputs": [
    {
     "data": {
      "text/plain": [
       "[1, 2, 3, 4]"
      ]
     },
     "execution_count": 3,
     "metadata": {},
     "output_type": "execute_result"
    }
   ],
   "source": [
    "numbers = [1, 2, 3,4]\n",
    "\n",
    "numbers"
   ]
  },
  {
   "cell_type": "code",
   "execution_count": 4,
   "id": "fbe99740",
   "metadata": {},
   "outputs": [
    {
     "data": {
      "text/plain": [
       "[1, 10, 3, 4]"
      ]
     },
     "execution_count": 4,
     "metadata": {},
     "output_type": "execute_result"
    }
   ],
   "source": [
    "numbers[1] =10\n",
    "numbers"
   ]
  }
 ],
 "metadata": {
  "kernelspec": {
   "display_name": "iitmenv1",
   "language": "python",
   "name": "python3"
  },
  "language_info": {
   "codemirror_mode": {
    "name": "ipython",
    "version": 3
   },
   "file_extension": ".py",
   "mimetype": "text/x-python",
   "name": "python",
   "nbconvert_exporter": "python",
   "pygments_lexer": "ipython3",
   "version": "3.11.11"
  }
 },
 "nbformat": 4,
 "nbformat_minor": 5
}
