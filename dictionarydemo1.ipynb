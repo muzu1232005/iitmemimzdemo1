{
 "cells": [
  {
   "cell_type": "code",
   "execution_count": 99,
   "id": "f829f39b",
   "metadata": {},
   "outputs": [
    {
     "data": {
      "text/plain": [
       "{}"
      ]
     },
     "execution_count": 99,
     "metadata": {},
     "output_type": "execute_result"
    }
   ],
   "source": [
    "empty_dict = {}\n",
    "empty_dict"
   ]
  },
  {
   "cell_type": "code",
   "execution_count": 100,
   "id": "6d5ebe4b",
   "metadata": {},
   "outputs": [
    {
     "data": {
      "text/plain": [
       "{'name': 'john', 'age': 34, 'city': 'Delhi'}"
      ]
     },
     "execution_count": 100,
     "metadata": {},
     "output_type": "execute_result"
    }
   ],
   "source": [
    "my_dict1 = {\n",
    "   'name' :'john',\n",
    "   'age' : 34,\n",
    "   'city' : 'Delhi'\n",
    "}   \n",
    "my_dict1"
   ]
  },
  {
   "cell_type": "code",
   "execution_count": 101,
   "id": "1e082064",
   "metadata": {},
   "outputs": [
    {
     "name": "stdout",
     "output_type": "stream",
     "text": [
      "name : john\n",
      "age : 34\n",
      "city : Delhi\n"
     ]
    }
   ],
   "source": [
    "for key in my_dict1.keys():\n",
    "    print(key,\":\", my_dict1.get(key))"
   ]
  },
  {
   "cell_type": "code",
   "execution_count": 102,
   "id": "a3230063",
   "metadata": {},
   "outputs": [
    {
     "data": {
      "text/plain": [
       "{}"
      ]
     },
     "execution_count": 102,
     "metadata": {},
     "output_type": "execute_result"
    }
   ],
   "source": [
    "my_dict2 = dict()\n",
    "my_dict2"
   ]
  },
  {
   "cell_type": "code",
   "execution_count": 103,
   "id": "8955c2a4",
   "metadata": {},
   "outputs": [
    {
     "data": {
      "text/plain": [
       "{'name': 'Joseph'}"
      ]
     },
     "execution_count": 103,
     "metadata": {},
     "output_type": "execute_result"
    }
   ],
   "source": [
    "my_dict2[\"name\"] = \"Joseph\"\n",
    "my_dict2"
   ]
  },
  {
   "cell_type": "code",
   "execution_count": 104,
   "id": "ddabd0ee",
   "metadata": {},
   "outputs": [
    {
     "data": {
      "text/plain": [
       "{'name': 'Joseph', 'city': 'calcutta'}"
      ]
     },
     "execution_count": 104,
     "metadata": {},
     "output_type": "execute_result"
    }
   ],
   "source": [
    "my_dict2['city'] = 'calcutta'\n",
    "my_dict2"
   ]
  },
  {
   "cell_type": "code",
   "execution_count": 105,
   "id": "be0ab3d1",
   "metadata": {},
   "outputs": [],
   "source": [
    "my_dict2[29] = 29"
   ]
  },
  {
   "cell_type": "code",
   "execution_count": 106,
   "id": "8101a555",
   "metadata": {},
   "outputs": [
    {
     "data": {
      "text/plain": [
       "{'name': 'Joseph', 'city': 'calcutta'}"
      ]
     },
     "execution_count": 106,
     "metadata": {},
     "output_type": "execute_result"
    }
   ],
   "source": [
    "my_dict2.pop(29)\n",
    "my_dict2"
   ]
  },
  {
   "cell_type": "code",
   "execution_count": 107,
   "id": "bc82e8ee",
   "metadata": {},
   "outputs": [
    {
     "data": {
      "text/plain": [
       "'Joseph'"
      ]
     },
     "execution_count": 107,
     "metadata": {},
     "output_type": "execute_result"
    }
   ],
   "source": [
    "my_dict2['name']"
   ]
  },
  {
   "cell_type": "code",
   "execution_count": 108,
   "id": "59376290",
   "metadata": {},
   "outputs": [
    {
     "data": {
      "text/plain": [
       "{'name': 'Joseph', 'city': 'calcutta', 'state': 'west bengal'}"
      ]
     },
     "execution_count": 108,
     "metadata": {},
     "output_type": "execute_result"
    }
   ],
   "source": [
    "my_dict2['state'] = 'west bengal'\n",
    "my_dict2"
   ]
  },
  {
   "cell_type": "code",
   "execution_count": 109,
   "id": "81d32a83",
   "metadata": {},
   "outputs": [
    {
     "data": {
      "text/plain": [
       "{'name': 'Joseph', 'city': 'Bellary', 'state': 'Karnataka'}"
      ]
     },
     "execution_count": 109,
     "metadata": {},
     "output_type": "execute_result"
    }
   ],
   "source": [
    "my_dict2['state'] = 'Karnataka'\n",
    "my_dict2['city'] = 'Bellary'\n",
    "my_dict2"
   ]
  },
  {
   "cell_type": "code",
   "execution_count": 110,
   "id": "b5da76d5",
   "metadata": {},
   "outputs": [
    {
     "data": {
      "text/plain": [
       "{'name': 'Joseph', 'city': 'Bellary'}"
      ]
     },
     "execution_count": 110,
     "metadata": {},
     "output_type": "execute_result"
    }
   ],
   "source": [
    "del my_dict2['state']\n",
    "my_dict2"
   ]
  },
  {
   "cell_type": "code",
   "execution_count": 111,
   "id": "b2941361",
   "metadata": {},
   "outputs": [
    {
     "data": {
      "text/plain": [
       "'Joseph'"
      ]
     },
     "execution_count": 111,
     "metadata": {},
     "output_type": "execute_result"
    }
   ],
   "source": [
    "my_dict2.get('name')"
   ]
  },
  {
   "cell_type": "code",
   "execution_count": 112,
   "id": "8335ea0c",
   "metadata": {},
   "outputs": [
    {
     "data": {
      "text/plain": [
       "'unknown'"
      ]
     },
     "execution_count": 112,
     "metadata": {},
     "output_type": "execute_result"
    }
   ],
   "source": [
    "#retrieves default value if key/val is not found.\n",
    "my_dict2.get('job','unknown')"
   ]
  },
  {
   "cell_type": "code",
   "execution_count": 113,
   "id": "9d0e4a17",
   "metadata": {},
   "outputs": [
    {
     "data": {
      "text/plain": [
       "dict_keys(['name', 'city'])"
      ]
     },
     "execution_count": 113,
     "metadata": {},
     "output_type": "execute_result"
    }
   ],
   "source": [
    "my_dict2.keys() # return all dictionary keys."
   ]
  },
  {
   "cell_type": "code",
   "execution_count": 114,
   "id": "fe275783",
   "metadata": {},
   "outputs": [
    {
     "data": {
      "text/plain": [
       "dict_values(['Joseph', 'Bellary'])"
      ]
     },
     "execution_count": 114,
     "metadata": {},
     "output_type": "execute_result"
    }
   ],
   "source": [
    "my_dict2.values() # return all dictionary values."
   ]
  },
  {
   "cell_type": "code",
   "execution_count": 115,
   "id": "80527b61",
   "metadata": {},
   "outputs": [
    {
     "data": {
      "text/plain": [
       "dict_items([('name', 'Joseph'), ('city', 'Bellary')])"
      ]
     },
     "execution_count": 115,
     "metadata": {},
     "output_type": "execute_result"
    }
   ],
   "source": [
    "my_dict2.items() # Return key-value pairs as tuples."
   ]
  },
  {
   "cell_type": "code",
   "execution_count": 116,
   "id": "76e8c698",
   "metadata": {},
   "outputs": [
    {
     "name": "stdout",
     "output_type": "stream",
     "text": [
      "key--> Hello  , value --> 0\n",
      "key--> Hello  , value --> 1\n",
      "key--> Hello  , value --> 2\n",
      "key--> !!!  , value --> 0\n",
      "key--> This  , value --> 0\n",
      "key--> is  , value --> 0\n",
      "key--> Jimmy  , value --> 0\n",
      "key--> from  , value --> 0\n",
      "key--> USA,  , value --> 0\n",
      "key--> Charlotte  , value --> 0\n",
      "key--> in  , value --> 0\n",
      "key--> North  , value --> 0\n",
      "key--> Carolina.  , value --> 0\n",
      "key--> I  , value --> 0\n",
      "key--> am  , value --> 0\n",
      "key--> a  , value --> 0\n",
      "key--> hardware  , value --> 0\n",
      "key--> engineer  , value --> 0\n",
      "key--> working  , value --> 0\n",
      "key--> in  , value --> 1\n",
      "key--> NVIDIA  , value --> 0\n",
      "key--> technologies.  , value --> 0\n",
      "key--> Hello  , value --> 3\n",
      "key--> I  , value --> 1\n",
      "key--> have  , value --> 0\n",
      "key--> 12  , value --> 0\n",
      "key--> years  , value --> 0\n",
      "key--> of  , value --> 0\n",
      "key--> experience  , value --> 0\n",
      "key--> in  , value --> 2\n",
      "key--> Python,  , value --> 0\n",
      "key--> Java  , value --> 0\n",
      "key--> and  , value --> 0\n",
      "key--> JavaScript  , value --> 0\n",
      "key--> skills.  , value --> 0\n"
     ]
    },
    {
     "data": {
      "text/plain": [
       "{'Hello': 4,\n",
       " '!!!': 1,\n",
       " 'This': 1,\n",
       " 'is': 1,\n",
       " 'Jimmy': 1,\n",
       " 'from': 1,\n",
       " 'USA,': 1,\n",
       " 'Charlotte': 1,\n",
       " 'in': 3,\n",
       " 'North': 1,\n",
       " 'Carolina.': 1,\n",
       " 'I': 2,\n",
       " 'am': 1,\n",
       " 'a': 1,\n",
       " 'hardware': 1,\n",
       " 'engineer': 1,\n",
       " 'working': 1,\n",
       " 'NVIDIA': 1,\n",
       " 'technologies.': 1,\n",
       " 'have': 1,\n",
       " '12': 1,\n",
       " 'years': 1,\n",
       " 'of': 1,\n",
       " 'experience': 1,\n",
       " 'Python,': 1,\n",
       " 'Java': 1,\n",
       " 'and': 1,\n",
       " 'JavaScript': 1,\n",
       " 'skills.': 1}"
      ]
     },
     "execution_count": 116,
     "metadata": {},
     "output_type": "execute_result"
    }
   ],
   "source": [
    "word_cnt = {}\n",
    "text = \"Hello Hello Hello !!! This is Jimmy from USA, Charlotte in North Carolina. \" \\\n",
    "\"I am a hardware engineer working in NVIDIA technologies. Hello I have 12 years of experience in \" \\\n",
    "\"Python, Java and JavaScript skills.\"\n",
    "for word in text.split() :\n",
    "    print(\"key-->\",word,\" , value -->\", word_cnt.get(word,0))\n",
    "    word_cnt[word] = word_cnt.get(word,0) + 1\n",
    "\n",
    "word_cnt"
   ]
  },
  {
   "cell_type": "code",
   "execution_count": 117,
   "id": "04b37506",
   "metadata": {},
   "outputs": [
    {
     "data": {
      "text/plain": [
       "{'emp_1': {'name': 'Joseph', 'city': 'Mangalore', 'state': 'Karnataka'},\n",
       " 'emp_2': {'name': 'John', 'city': 'Delhi', 'state': 'Delhi'}}"
      ]
     },
     "execution_count": 117,
     "metadata": {},
     "output_type": "execute_result"
    }
   ],
   "source": [
    "# Nested Dictionaries Key --> String , value --> another dicionary with Key-value pairs\n",
    "employees = {\n",
    "  'emp_1' : {'name': 'Joseph', 'city': 'Mangalore', 'state': 'Karnataka'},\n",
    "  'emp_2' : {'name': 'John', 'city': 'Delhi', 'state': 'Delhi'},\n",
    "}\n",
    "employees"
   ]
  },
  {
   "cell_type": "code",
   "execution_count": 123,
   "id": "1407af2a",
   "metadata": {},
   "outputs": [
    {
     "name": "stdout",
     "output_type": "stream",
     "text": [
      "----------------Employee Dict--------------------------\n",
      "Key :  emp_1  Value : {'name': 'Joseph', 'city': 'Mangalore', 'state': 'Karnataka'}\n",
      "---------------Emp Details---------------------------\n",
      "Key :  name  Value : Joseph\n",
      "Key :  city  Value : Mangalore\n",
      "Key :  state  Value : Karnataka\n",
      "----------------Employee Dict--------------------------\n",
      "Key :  emp_2  Value : {'name': 'John', 'city': 'Delhi', 'state': 'Delhi'}\n",
      "---------------Emp Details---------------------------\n",
      "Key :  name  Value : John\n",
      "Key :  city  Value : Delhi\n",
      "Key :  state  Value : Delhi\n"
     ]
    }
   ],
   "source": [
    "for emp in employees:\n",
    "    print(\"----------------Employee Dict--------------------------\")\n",
    "    print(\"Key : \", emp, \" Value :\", employees.get(emp))\n",
    "    employe_dets = employees.get(emp)\n",
    "    print(\"---------------Emp Details---------------------------\")\n",
    "    for emp_det in employe_dets:\n",
    "        employe_dets.get(emp_det)\n",
    "        print(\"Key : \", emp_det, \" Value :\", employe_dets.get(emp_det))"
   ]
  }
 ],
 "metadata": {
  "kernelspec": {
   "display_name": "iitmenv1",
   "language": "python",
   "name": "python3"
  },
  "language_info": {
   "codemirror_mode": {
    "name": "ipython",
    "version": 3
   },
   "file_extension": ".py",
   "mimetype": "text/x-python",
   "name": "python",
   "nbconvert_exporter": "python",
   "pygments_lexer": "ipython3",
   "version": "3.11.11"
  }
 },
 "nbformat": 4,
 "nbformat_minor": 5
}
