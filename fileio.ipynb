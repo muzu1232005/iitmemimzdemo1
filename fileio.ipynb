{
 "cells": [
  {
   "cell_type": "code",
   "execution_count": null,
   "id": "50c2ee93",
   "metadata": {},
   "outputs": [],
   "source": [
    "sample_file = open(\"E:/Courses-BackUp/IITM-ML-GenAI/ppt/python-4/sample_txt_file.txt\")\n",
    "print(sample_file)"
   ]
  },
  {
   "cell_type": "code",
   "execution_count": null,
   "id": "cb146239",
   "metadata": {},
   "outputs": [],
   "source": [
    "print(sample_file.read())"
   ]
  },
  {
   "cell_type": "code",
   "execution_count": null,
   "id": "815ef136",
   "metadata": {},
   "outputs": [],
   "source": [
    "sample_file.close()\n",
    "sample_file = open(\"E:/Courses-BackUp/IITM-ML-GenAI/ppt/python-4/sample_txt_file.txt\")\n",
    "print(sample_file.readline())"
   ]
  },
  {
   "cell_type": "code",
   "execution_count": null,
   "id": "54049936",
   "metadata": {},
   "outputs": [],
   "source": [
    "print(sample_file.readline())\n",
    "sample_file.close()"
   ]
  },
  {
   "cell_type": "code",
   "execution_count": 48,
   "id": "f8b87df5",
   "metadata": {},
   "outputs": [
    {
     "data": {
      "text/plain": [
       "<_io.TextIOWrapper name='E:/Courses-BackUp/IITM-ML-GenAI/ppt/python-4/sample_txt_file.txt' mode='a' encoding='cp1252'>"
      ]
     },
     "execution_count": 48,
     "metadata": {},
     "output_type": "execute_result"
    }
   ],
   "source": [
    "#open file in 'append' mode\n",
    "sample_file_append = open(\"E:/Courses-BackUp/IITM-ML-GenAI/ppt/python-4/sample_txt_file.txt\",\"a\")\n",
    "sample_file_append"
   ]
  },
  {
   "cell_type": "code",
   "execution_count": 49,
   "id": "f015a163",
   "metadata": {},
   "outputs": [],
   "source": [
    "sample_file_append.write(\"\\nPractice good breating techniques and calmness.\")\n",
    "sample_file_append.close()"
   ]
  },
  {
   "cell_type": "code",
   "execution_count": 50,
   "id": "d268838a",
   "metadata": {},
   "outputs": [
    {
     "data": {
      "text/plain": [
       "'Here are 10 essential precautions to follow after a discectomy to support healing and prevent complications:\\n1. Avoid Bending, Twisting, and Heavy Lifting\\n- No bending or twisting at the waist for the first 6 weeks.\\n- Avoid lifting more than 5â€“10 pounds initially; gradually increase under medical guidance.\\n 2. Start Gentle Walking Early\\n- Begin short walks within 24 hours post-surgery.\\n- Increase duration gradually to improve circulation and prevent stiffness.\\n3. Limit Sitting Time\\n- Avoid sitting for more than 15â€“30 minutes at a stretch during the first few weeks.\\n- Use lumbar support and maintain upright posture.\\n 4. Care for the Incision Site\\n- Keep the area clean and dry; avoid submerging in water until fully healed.\\n- Watch for signs of infection like redness, swelling, or discharge.\\n 5. Follow Medication Instructions\\n- Take pain medications as prescribed.\\n- Report any side effects or inadequate relief to your doctor.\\n 6. Begin Physical Therapy as Directed\\n- Typically starts 2â€“4 weeks post-op.\\n- Focus on core stabilization, posture training, and gentle stretching.\\n 7. Use Proper Body Mechanics\\n- Practice log rolling to get in/out of bed.\\n- Avoid sudden or jerky movements; keep spine neutral during transfers.\\n 8. Donâ€™t Ignore Pain or New Symptoms\\n- Report worsening pain, numbness, or weakness immediately.\\n- These could signal re-herniation or nerve issues.\\n 9. Wait Before Driving\\n- Only resume driving once off narcotic pain meds and able to sit comfortably for 15â€“30 minutes.\\n 10. Avoid Lotions or Ointments on Incision\\n- Donâ€™t apply creams or oils until the wound is fully healed.\\n- This helps prevent irritation or infection.\\n\\n\\n\\n\\nPractice good breating techniques and calmness.'"
      ]
     },
     "execution_count": 50,
     "metadata": {},
     "output_type": "execute_result"
    }
   ],
   "source": [
    "sample_file_read = open(\"E:/Courses-BackUp/IITM-ML-GenAI/ppt/python-4/sample_txt_file.txt\")\n",
    "sample_file_read.read()"
   ]
  },
  {
   "cell_type": "code",
   "execution_count": 51,
   "id": "584c10d1",
   "metadata": {},
   "outputs": [
    {
     "data": {
      "text/plain": [
       "<_io.TextIOWrapper name='E:/Courses-BackUp/IITM-ML-GenAI/ppt/python-4/sample_txt_file.txt' mode='w' encoding='cp1252'>"
      ]
     },
     "execution_count": 51,
     "metadata": {},
     "output_type": "execute_result"
    }
   ],
   "source": [
    "#open file in 'write' mode\n",
    "sample_file_write = open(\"E:/Courses-BackUp/IITM-ML-GenAI/ppt/python-4/sample_txt_file.txt\",\"w\")\n",
    "sample_file_write"
   ]
  },
  {
   "cell_type": "code",
   "execution_count": 52,
   "id": "d025f400",
   "metadata": {},
   "outputs": [],
   "source": [
    "sample_file_write.write(\"\\nPractice good breating techniques and calmness and follow all the precautions.\")\n",
    "sample_file_write.close()"
   ]
  },
  {
   "cell_type": "code",
   "execution_count": 53,
   "id": "bba3c083",
   "metadata": {},
   "outputs": [
    {
     "data": {
      "text/plain": [
       "'\\nPractice good breating techniques and calmness and follow all the precautions.'"
      ]
     },
     "execution_count": 53,
     "metadata": {},
     "output_type": "execute_result"
    }
   ],
   "source": [
    "sample_file_read1 = open(\"E:/Courses-BackUp/IITM-ML-GenAI/ppt/python-4/sample_txt_file.txt\")\n",
    "sample_file_read1.read()"
   ]
  },
  {
   "cell_type": "code",
   "execution_count": 54,
   "id": "2f1f930f",
   "metadata": {},
   "outputs": [
    {
     "name": "stdout",
     "output_type": "stream",
     "text": [
      "2\n",
      "4\n",
      "6\n"
     ]
    }
   ],
   "source": [
    "#numbers = [1,2,3,4,5,6,7,8]\n",
    "\n",
    "def get_even(numbers):\n",
    "  for num in numbers:\n",
    "    if num % 2 == 0:\n",
    "      print(num)\n",
    "\n",
    "get_even([1, 2, 3, 4, 5, 6])"
   ]
  },
  {
   "cell_type": "code",
   "execution_count": 56,
   "id": "70effc25",
   "metadata": {},
   "outputs": [
    {
     "data": {
      "text/plain": [
       "[2, 4, 6]"
      ]
     },
     "execution_count": 56,
     "metadata": {},
     "output_type": "execute_result"
    }
   ],
   "source": [
    "#print the even numbers from a sequence, condition number % 2 == 0\n",
    "def get_even_lst_cmp(numbers):\n",
    "  even_nums = [num for num in numbers if num % 2==0] #list comrephension\n",
    "  return even_nums\n",
    "\n",
    "get_even_lst_cmp([1, 2, 3, 4, 5, 6])"
   ]
  },
  {
   "cell_type": "code",
   "execution_count": 57,
   "id": "7235d217",
   "metadata": {},
   "outputs": [
    {
     "name": "stdout",
     "output_type": "stream",
     "text": [
      "[2, 4, 6]\n"
     ]
    }
   ],
   "source": [
    "#print the even numbers from a sequence, condition number % 2 == 0\n",
    "def get_even_lst_cmp_drct(numbers):\n",
    "  print([num for num in numbers if num % 2==0]) #list comrephension\n",
    "\n",
    "get_even_lst_cmp_drct([1, 2, 3, 4, 5, 6])"
   ]
  },
  {
   "cell_type": "markdown",
   "id": "138327f5",
   "metadata": {},
   "source": [
    "[expression for item in iterable if condition]\n",
    "[expression for item in iterable]\n",
    "[true_expression if condition else false_expression for item in iterable]"
   ]
  },
  {
   "cell_type": "code",
   "execution_count": 63,
   "id": "e2cd0a58",
   "metadata": {},
   "outputs": [
    {
     "name": "stdout",
     "output_type": "stream",
     "text": [
      "content :  \n",
      "Practice good breating techniques and calmness and follow all the precautions.\n",
      "character by character : \n",
      "char --> \n",
      "\n",
      "char --> P\n",
      "char --> r\n",
      "char --> a\n",
      "char --> c\n",
      "char --> t\n",
      "char --> i\n",
      "char --> c\n",
      "char --> e\n",
      "char -->  \n",
      "char --> g\n",
      "char --> o\n",
      "char --> o\n",
      "char --> d\n",
      "char -->  \n",
      "char --> b\n",
      "char --> r\n",
      "char --> e\n",
      "char --> a\n",
      "char --> t\n",
      "char --> i\n",
      "char --> n\n",
      "char --> g\n",
      "char -->  \n",
      "char --> t\n",
      "char --> e\n",
      "char --> c\n",
      "char --> h\n",
      "char --> n\n",
      "char --> i\n",
      "char --> q\n",
      "char --> u\n",
      "char --> e\n",
      "char --> s\n",
      "char -->  \n",
      "char --> a\n",
      "char --> n\n",
      "char --> d\n",
      "char -->  \n",
      "char --> c\n",
      "char --> a\n",
      "char --> l\n",
      "char --> m\n",
      "char --> n\n",
      "char --> e\n",
      "char --> s\n",
      "char --> s\n",
      "char -->  \n",
      "char --> a\n",
      "char --> n\n",
      "char --> d\n",
      "char -->  \n",
      "char --> f\n",
      "char --> o\n",
      "char --> l\n",
      "char --> l\n",
      "char --> o\n",
      "char --> w\n",
      "char -->  \n",
      "char --> a\n",
      "char --> l\n",
      "char --> l\n",
      "char -->  \n",
      "char --> t\n",
      "char --> h\n",
      "char --> e\n",
      "char -->  \n",
      "char --> p\n",
      "char --> r\n",
      "char --> e\n",
      "char --> c\n",
      "char --> a\n",
      "char --> u\n",
      "char --> t\n",
      "char --> i\n",
      "char --> o\n",
      "char --> n\n",
      "char --> s\n",
      "char --> .\n"
     ]
    }
   ],
   "source": [
    "f = open(\"E:/Courses-BackUp/IITM-ML-GenAI/ppt/python-4/sample_txt_file.txt\")\n",
    "content = f.read()\n",
    "print(\"content : \",content)\n",
    "print(\"character by character : \")\n",
    "for char in content:\n",
    "    print(\"char -->\",char )\n",
    "    \n",
    "f.close()"
   ]
  },
  {
   "cell_type": "code",
   "execution_count": null,
   "id": "03f56c43",
   "metadata": {},
   "outputs": [],
   "source": [
    "f = open(\"E:/Courses-BackUp/IITM-ML-GenAI/ppt/python-4/sample_txt_file.txt\")\n",
    "content = f.read().split()\n",
    "print(\"content : \",content)\n",
    "print(\"word by word : \")\n",
    "for char in content:\n",
    "    print(\"word -->\",char )\n",
    "    \n",
    "f.close()"
   ]
  }
 ],
 "metadata": {
  "kernelspec": {
   "display_name": "iitmenv1",
   "language": "python",
   "name": "python3"
  },
  "language_info": {
   "codemirror_mode": {
    "name": "ipython",
    "version": 3
   },
   "file_extension": ".py",
   "mimetype": "text/x-python",
   "name": "python",
   "nbconvert_exporter": "python",
   "pygments_lexer": "ipython3",
   "version": "3.11.11"
  }
 },
 "nbformat": 4,
 "nbformat_minor": 5
}
