{
 "cells": [
  {
   "cell_type": "code",
   "execution_count": 1,
   "id": "269991d2",
   "metadata": {},
   "outputs": [],
   "source": [
    "import numpy as np"
   ]
  },
  {
   "cell_type": "code",
   "execution_count": null,
   "id": "f42e8d81",
   "metadata": {},
   "outputs": [
    {
     "name": "stdout",
     "output_type": "stream",
     "text": [
      "[[ 1  2  3]\n",
      " [ 4  5  6]\n",
      " [ 7  8  9]\n",
      " [10 11 12]]\n",
      "2\n",
      "(4, 3)\n",
      "<class 'numpy.ndarray'>\n",
      "12\n"
     ]
    }
   ],
   "source": [
    "a = np.array([\n",
    "                [1,2,3],\n",
    "                [4,5,6],\n",
    "                [7,8,9],\n",
    "                [10,11,12]\n",
    "    ]) #list of lists\n",
    "print(a)\n",
    "print(a.ndim) # more than 1 row means , the dimension is 2. Measures the dimensions.\n",
    "print(a.shape)\n",
    "print(type(a))\n",
    "print(a.size) # total elements in an array\n"
   ]
  },
  {
   "cell_type": "code",
   "execution_count": 14,
   "id": "5464a3b4",
   "metadata": {},
   "outputs": [
    {
     "data": {
      "text/plain": [
       "array([  1.  ,  25.75,  50.5 ,  75.25, 100.  ])"
      ]
     },
     "execution_count": 14,
     "metadata": {},
     "output_type": "execute_result"
    }
   ],
   "source": [
    "np.linspace(1,100,5)  #generates linear data with equal spacing"
   ]
  },
  {
   "cell_type": "code",
   "execution_count": 20,
   "id": "56f7cb86",
   "metadata": {},
   "outputs": [
    {
     "name": "stdout",
     "output_type": "stream",
     "text": [
      "Concatenate arrays ->  (array([[1, 2],\n",
      "       [3, 4],\n",
      "       [7, 8]]), array([[ 5,  6],\n",
      "       [ 9, 10]]))\n"
     ]
    },
    {
     "data": {
      "text/plain": [
       "array([[ 1,  2],\n",
       "       [ 3,  4],\n",
       "       [ 7,  8],\n",
       "       [ 5,  6],\n",
       "       [ 9, 10]])"
      ]
     },
     "execution_count": 20,
     "metadata": {},
     "output_type": "execute_result"
    }
   ],
   "source": [
    "x1 = np.array([[1,2], [3,4], [7,8]])#array 0f 3 rows and 2 columns\n",
    "\n",
    "y1 = np.array([[5,6],[9,10]])\n",
    "\n",
    "print(\"Concatenate arrays -> \",(x1,y1))\n",
    "\n",
    "np.concatenate((x1,y1))"
   ]
  },
  {
   "cell_type": "code",
   "execution_count": 21,
   "id": "8828d920",
   "metadata": {},
   "outputs": [
    {
     "name": "stdout",
     "output_type": "stream",
     "text": [
      "Concatenate arrays ->  (array([[ 1,  2,  5],\n",
      "       [ 3,  4, 78],\n",
      "       [ 7,  8,  8]]), array([[ 5,  6],\n",
      "       [ 9, 10]]))\n"
     ]
    },
    {
     "ename": "ValueError",
     "evalue": "all the input array dimensions except for the concatenation axis must match exactly, but along dimension 1, the array at index 0 has size 3 and the array at index 1 has size 2",
     "output_type": "error",
     "traceback": [
      "\u001b[31m---------------------------------------------------------------------------\u001b[39m",
      "\u001b[31mValueError\u001b[39m                                Traceback (most recent call last)",
      "\u001b[36mCell\u001b[39m\u001b[36m \u001b[39m\u001b[32mIn[21]\u001b[39m\u001b[32m, line 7\u001b[39m\n\u001b[32m      3\u001b[39m y2 = np.array([[\u001b[32m5\u001b[39m,\u001b[32m6\u001b[39m],[\u001b[32m9\u001b[39m,\u001b[32m10\u001b[39m]])\n\u001b[32m      5\u001b[39m \u001b[38;5;28mprint\u001b[39m(\u001b[33m\"\u001b[39m\u001b[33mConcatenate arrays -> \u001b[39m\u001b[33m\"\u001b[39m,(x2,y2))\n\u001b[32m----> \u001b[39m\u001b[32m7\u001b[39m \u001b[43mnp\u001b[49m\u001b[43m.\u001b[49m\u001b[43mconcatenate\u001b[49m\u001b[43m(\u001b[49m\u001b[43m(\u001b[49m\u001b[43mx2\u001b[49m\u001b[43m,\u001b[49m\u001b[43my2\u001b[49m\u001b[43m)\u001b[49m\u001b[43m)\u001b[49m\n",
      "\u001b[31mValueError\u001b[39m: all the input array dimensions except for the concatenation axis must match exactly, but along dimension 1, the array at index 0 has size 3 and the array at index 1 has size 2"
     ]
    }
   ],
   "source": [
    "x2 = np.array([[1,2,5], [3,4,78], [7,8,8]])#array 0f 3 rows and 2 columns\n",
    "\n",
    "y2 = np.array([[5,6],[9,10]])\n",
    "\n",
    "print(\"Concatenate arrays -> \",(x2,y2))\n",
    "\n",
    "np.concatenate((x2,y2))"
   ]
  },
  {
   "cell_type": "code",
   "execution_count": 26,
   "id": "2767bd22",
   "metadata": {},
   "outputs": [
    {
     "name": "stdout",
     "output_type": "stream",
     "text": [
      "y3 dimension ->  [96 55 99] 1\n",
      "Concatenate arrays ->  (array([[ 3,  4, 78],\n",
      "       [ 7,  8,  8]]), array([96, 55, 99]))\n"
     ]
    },
    {
     "ename": "ValueError",
     "evalue": "all the input arrays must have same number of dimensions, but the array at index 0 has 2 dimension(s) and the array at index 1 has 1 dimension(s)",
     "output_type": "error",
     "traceback": [
      "\u001b[31m---------------------------------------------------------------------------\u001b[39m",
      "\u001b[31mValueError\u001b[39m                                Traceback (most recent call last)",
      "\u001b[36mCell\u001b[39m\u001b[36m \u001b[39m\u001b[32mIn[26]\u001b[39m\u001b[32m, line 9\u001b[39m\n\u001b[32m      6\u001b[39m \u001b[38;5;28mprint\u001b[39m(\u001b[33m\"\u001b[39m\u001b[33my3 dimension -> \u001b[39m\u001b[33m\"\u001b[39m,y3,y3.ndim)\n\u001b[32m      7\u001b[39m \u001b[38;5;28mprint\u001b[39m(\u001b[33m\"\u001b[39m\u001b[33mConcatenate arrays -> \u001b[39m\u001b[33m\"\u001b[39m,(x3,y3))\n\u001b[32m----> \u001b[39m\u001b[32m9\u001b[39m \u001b[43mnp\u001b[49m\u001b[43m.\u001b[49m\u001b[43mconcatenate\u001b[49m\u001b[43m(\u001b[49m\u001b[43m(\u001b[49m\u001b[43mx3\u001b[49m\u001b[43m,\u001b[49m\u001b[43my3\u001b[49m\u001b[43m)\u001b[49m\u001b[43m)\u001b[49m\n",
      "\u001b[31mValueError\u001b[39m: all the input arrays must have same number of dimensions, but the array at index 0 has 2 dimension(s) and the array at index 1 has 1 dimension(s)"
     ]
    }
   ],
   "source": [
    "x3 = np.array([  [3,4,78], [7,8,8] ])\n",
    "\n",
    "y3 = np.array([96,55,99])\n",
    "\n",
    "\n",
    "print(\"y3 dimension -> \",y3,y3.ndim)\n",
    "print(\"Concatenate arrays -> \",(x3,y3))\n",
    "\n",
    "np.concatenate((x3,y3))"
   ]
  },
  {
   "cell_type": "code",
   "execution_count": null,
   "id": "5e920c07",
   "metadata": {},
   "outputs": [
    {
     "name": "stdout",
     "output_type": "stream",
     "text": [
      "y4 dimension ->  [[96 55 99]] 2\n",
      "Concatenate arrays ->  (array([[ 3,  4, 78],\n",
      "       [ 7,  8,  8]]), array([[96, 55, 99]]))\n"
     ]
    },
    {
     "data": {
      "text/plain": [
       "array([[ 3,  4, 78],\n",
       "       [ 7,  8,  8],\n",
       "       [96, 55, 99]])"
      ]
     },
     "execution_count": 29,
     "metadata": {},
     "output_type": "execute_result"
    }
   ],
   "source": [
    "# Ensure arrays are in same dimension when concatenation\n",
    "x4 = np.array([  [3,4,78], [7,8,8] ])\n",
    "\n",
    "y4 = np.array(  [  [96,55,99]   ]  ) # casting change dimension from 1 D to 2D\n",
    "\n",
    "print(\"y4 dimension -> \",y4,y4.ndim)\n",
    "\n",
    "print(\"Concatenate arrays -> \",(x4,y4))\n",
    "\n",
    "np.concatenate((x4,y4), axis=0) #no of cols should match. axis=0 is default"
   ]
  },
  {
   "cell_type": "markdown",
   "id": "88d32767",
   "metadata": {},
   "source": [
    "When working with arrays there is always a concept of axis.\n",
    "axis = 0 -> refers to vertical axis (top to bottom)\n",
    "axis = 1 -> refers to horizontal axis (left to right)\n",
    "Ensure datastructure while concatenation."
   ]
  },
  {
   "cell_type": "code",
   "execution_count": null,
   "id": "b4e93039",
   "metadata": {},
   "outputs": [
    {
     "name": "stdout",
     "output_type": "stream",
     "text": [
      "x5  -> \n",
      " [[ 3  4 78]\n",
      " [ 7  8  8]]\n",
      "y5  -> \n",
      " [[96 55 99]\n",
      " [70  8 80]]\n",
      "concatenate on axis = 0 : \n",
      " [[ 3  4 78]\n",
      " [ 7  8  8]\n",
      " [96 55 99]\n",
      " [70  8 80]]\n",
      "concatenate on axis = 1 : \n",
      " [[ 3  4 78 96 55 99]\n",
      " [ 7  8  8 70  8 80]]\n"
     ]
    }
   ],
   "source": [
    "# axis=0 row concatenation will take place.\n",
    "# Ensure arrays are in same dimension when concatenation\n",
    "x5 = np.array([  [3,4,78], [7,8,8] ])\n",
    "\n",
    "y5 = np.array(  [ [96,55,99] , [70,8,80]   ]    ) \n",
    "\n",
    "print(\"x5  -> \\n\",x5)\n",
    "print(\"y5  -> \\n\",y5)\n",
    "\n",
    "print(\"concatenate on axis = 0 : \\n\",np.concatenate((x5,y5), axis=0) ) # row concatenation\n",
    "print(\"concatenate on axis = 1 : \\n\",np.concatenate((x5,y5), axis=1) ) # column concatenation"
   ]
  },
  {
   "cell_type": "code",
   "execution_count": 44,
   "id": "9ab64926",
   "metadata": {},
   "outputs": [
    {
     "name": "stdout",
     "output_type": "stream",
     "text": [
      "x5  -> \n",
      " [[3 4]\n",
      " [7 8]]\n",
      "y5  -> \n",
      " [[96 55 99]\n",
      " [70  8 80]]\n",
      "concatenate on axis = 1 : \n",
      " [[ 3  4 96 55 99]\n",
      " [ 7  8 70  8 80]]\n"
     ]
    }
   ],
   "source": [
    "# axis=0 row concatenation will take place.\n",
    "# Ensure arrays are in same dimension when concatenation\n",
    "x6 = np.array([  [3,4], \n",
    "                 [7,8] ])\n",
    "\n",
    "y6 = np.array(  [ [96,55,99] , \n",
    "                  [70,8,80]   ]    ) \n",
    "\n",
    "print(\"x5  -> \\n\",x6)\n",
    "print(\"y5  -> \\n\",y6)\n",
    "\n",
    "print(\"concatenate on axis = 1 : \\n\",np.concatenate((x6,y6), axis=1) ) # column concatenation"
   ]
  },
  {
   "cell_type": "code",
   "execution_count": 53,
   "id": "7713d5b8",
   "metadata": {},
   "outputs": [
    {
     "data": {
      "text/plain": [
       "[array([63, 90]),\n",
       " array([77]),\n",
       " array([33]),\n",
       " array([99]),\n",
       " array([877]),\n",
       " array([660]),\n",
       " array([56])]"
      ]
     },
     "execution_count": 53,
     "metadata": {},
     "output_type": "execute_result"
    }
   ],
   "source": [
    "x7 = np.array( [63,90,77,33,99,877,660,56] )\n",
    "x7_split = np.array_split(x7,7)\n",
    "x7_split"
   ]
  },
  {
   "cell_type": "code",
   "execution_count": null,
   "id": "e2a7d33d",
   "metadata": {},
   "outputs": [
    {
     "data": {
      "text/plain": [
       "[array([63]),\n",
       " array([90]),\n",
       " array([77]),\n",
       " array([33]),\n",
       " array([99]),\n",
       " array([877]),\n",
       " array([660]),\n",
       " array([56]),\n",
       " array([], dtype=int64),\n",
       " array([], dtype=int64)]"
      ]
     },
     "execution_count": 54,
     "metadata": {},
     "output_type": "execute_result"
    }
   ],
   "source": [
    "x8 = np.array( [63,90,77,33,99,877,660,56] )\n",
    "x8_split = np.array_split(x8,10)\n",
    "x8_split # 2 empty arrays are created. Doesnt work in the concept in equal divisions."
   ]
  },
  {
   "cell_type": "code",
   "execution_count": 61,
   "id": "317797b4",
   "metadata": {},
   "outputs": [
    {
     "data": {
      "text/plain": [
       "[array([[63, 90]]),\n",
       " array([[77, 33]]),\n",
       " array([[ 99, 877]]),\n",
       " array([[660,  56]]),\n",
       " array([], shape=(0, 2), dtype=int64),\n",
       " array([], shape=(0, 2), dtype=int64),\n",
       " array([], shape=(0, 2), dtype=int64),\n",
       " array([], shape=(0, 2), dtype=int64),\n",
       " array([], shape=(0, 2), dtype=int64),\n",
       " array([], shape=(0, 2), dtype=int64)]"
      ]
     },
     "execution_count": 61,
     "metadata": {},
     "output_type": "execute_result"
    }
   ],
   "source": [
    "# split arrays from multidimension. #original array dimension will be maintained.\n",
    "x9 = np.array( [ [63,90],[77,33],[99,877],[660,56] ] )\n",
    "x9_split = np.array_split(x9,10)\n",
    "x9_split"
   ]
  },
  {
   "cell_type": "code",
   "execution_count": null,
   "id": "f49151a0",
   "metadata": {},
   "outputs": [],
   "source": [
    "# split arrays only with equal dimension. #original array dimension will be maintained.\n",
    "x9 = np.array( [ [63,90],[77,33],[99,877],[660,56] ] )\n",
    "x9_split = np.array_split(x9,10)\n",
    "x9_split"
   ]
  }
 ],
 "metadata": {
  "kernelspec": {
   "display_name": "iitmenv1",
   "language": "python",
   "name": "python3"
  },
  "language_info": {
   "codemirror_mode": {
    "name": "ipython",
    "version": 3
   },
   "file_extension": ".py",
   "mimetype": "text/x-python",
   "name": "python",
   "nbconvert_exporter": "python",
   "pygments_lexer": "ipython3",
   "version": "3.11.11"
  }
 },
 "nbformat": 4,
 "nbformat_minor": 5
}
