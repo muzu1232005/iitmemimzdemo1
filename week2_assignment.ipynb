{
 "cells": [
  {
   "cell_type": "code",
   "execution_count": null,
   "id": "1e21c0de",
   "metadata": {},
   "outputs": [],
   "source": [
    "def get_grade(score:int) -> str:\n",
    "\n",
    "    grade = None\n",
    "    if score > 100:\n",
    "        return \"Invalid score. Enter score out of 100 only\"\n",
    "    elif score >= 90 and score <= 100:\n",
    "         grade = \"Grade A\"\n",
    "    elif score >= 80 and score <= 89:\n",
    "         grade = \"Grade B\"\n",
    "    elif score >= 70 and score <= 79:\n",
    "         grade = \"Grade C\"\n",
    "    elif score >= 60 and score <= 69:\n",
    "         grade = \"Grade D\"\n",
    "    elif score < 60:\n",
    "         grade = \"Grade F\"\n",
    "    \n",
    "    return grade"
   ]
  },
  {
   "cell_type": "code",
   "execution_count": 7,
   "id": "62763a39",
   "metadata": {},
   "outputs": [],
   "source": [
    "def get_grade_comment(grade : str) -> str:\n",
    "    comment = None\n",
    "\n",
    "    match grade:\n",
    "        case \"Grade A\":\n",
    "            comment = \"Excellent\"\n",
    "        case \"Grade B\" :\n",
    "            comment = \"Good\"\n",
    "        case \"Grade C\":\n",
    "            comment = \"Good\"\n",
    "        case \"Grade D\":\n",
    "            comment = \"Need Improvement\"\n",
    "        case \"Grade F\":\n",
    "            comment = \"Need Improvement\"\n",
    "        case _:\n",
    "            comment = \"Invalid input\"\n",
    "        \n",
    "    return comment\n"
   ]
  },
  {
   "cell_type": "code",
   "execution_count": 9,
   "id": "e49a9440",
   "metadata": {},
   "outputs": [
    {
     "name": "stdout",
     "output_type": "stream",
     "text": [
      "Your grade is :  Grade A\n",
      "comments :  Excellent\n"
     ]
    }
   ],
   "source": [
    "input_score = int(input(\"Enter score out of 100 : \"))\n",
    "\n",
    "grade = get_grade(input_score)\n",
    "\n",
    "print(\"Your grade is : \" , grade)\n",
    "\n",
    "print(\"comments : \" , get_grade_comment(grade))\n"
   ]
  },
  {
   "cell_type": "code",
   "execution_count": 17,
   "id": "fc38e132",
   "metadata": {},
   "outputs": [],
   "source": [
    "students = [\n",
    "            {\"name\": \"Alice\", \"score\": 85},\n",
    "            {\"name\": \"Bob\", \"score\": 72},\n",
    "            {\"name\": \"Charlie\", \"score\": 91},\n",
    "            {\"name\": \"David\", \"score\": 65},\n",
    "]\n",
    "\n",
    "stdnt_score_above_80 = [ dic_item.get(\"name\") for dic_item in students if dic_item.get(\"score\") > 80 ]"
   ]
  },
  {
   "cell_type": "code",
   "execution_count": 18,
   "id": "8e41015a",
   "metadata": {},
   "outputs": [
    {
     "data": {
      "text/plain": [
       "['Alice', 'Charlie']"
      ]
     },
     "execution_count": 18,
     "metadata": {},
     "output_type": "execute_result"
    }
   ],
   "source": [
    "stdnt_score_above_80"
   ]
  },
  {
   "cell_type": "code",
   "execution_count": 19,
   "id": "6fdbf5cf",
   "metadata": {},
   "outputs": [
    {
     "name": "stdout",
     "output_type": "stream",
     "text": [
      "{'Alice': 'PASS', 'Bob': 'PASS', 'Charlie': 'PASS', 'David': 'FAIL'}\n"
     ]
    }
   ],
   "source": [
    "student_results = {    dic_item[\"name\"]  : (\"PASS\" if dic_item[\"score\"] >= 70  else \"FAIL\")  for dic_item in students }\n",
    "print(student_results)"
   ]
  },
  {
   "cell_type": "code",
   "execution_count": null,
   "id": "6fc2bd83",
   "metadata": {},
   "outputs": [],
   "source": [
    "result = {student[\"name\"]: (\"Pass\" if student[\"score\"] >= 70 else \"Fail\") for student in students}\n",
    "print(result)"
   ]
  }
 ],
 "metadata": {
  "kernelspec": {
   "display_name": "iitmenv1",
   "language": "python",
   "name": "python3"
  },
  "language_info": {
   "codemirror_mode": {
    "name": "ipython",
    "version": 3
   },
   "file_extension": ".py",
   "mimetype": "text/x-python",
   "name": "python",
   "nbconvert_exporter": "python",
   "pygments_lexer": "ipython3",
   "version": "3.11.11"
  }
 },
 "nbformat": 4,
 "nbformat_minor": 5
}
