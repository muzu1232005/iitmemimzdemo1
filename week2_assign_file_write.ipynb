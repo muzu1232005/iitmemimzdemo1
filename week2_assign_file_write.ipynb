{
 "cells": [
  {
   "cell_type": "code",
   "execution_count": null,
   "id": "6905c85f",
   "metadata": {},
   "outputs": [],
   "source": [
    "\n",
    "stdnt_scores = dict()\n",
    "\n",
    "for cntr in range(3):\n",
    "    name = str(input(f\" Enter student name {cntr} : \"))\n",
    "    score = int(input(f\" Enter student score  {cntr} : \"))\n",
    "    stdnt_scores[name] = score\n",
    "\n",
    "stdnt_scores"
   ]
  },
  {
   "cell_type": "code",
   "execution_count": 26,
   "id": "16fa889c",
   "metadata": {},
   "outputs": [],
   "source": [
    "with open(\"students.txt\", \"w\") as file:\n",
    "    for student_name in stdnt_scores.keys():\n",
    "        line = f\"{student_name}-{stdnt_scores[student_name]}\\n\"\n",
    "        file.write(line)"
   ]
  },
  {
   "cell_type": "code",
   "execution_count": 29,
   "id": "c3a54988",
   "metadata": {},
   "outputs": [
    {
     "name": "stdout",
     "output_type": "stream",
     "text": [
      "1.Usaa-77\n",
      "2.James-99\n",
      "3.harish-66\n"
     ]
    }
   ],
   "source": [
    "i=1\n",
    "with open(\"students.txt\", \"r\") as file:\n",
    "    for line_str in file:\n",
    "        print(f\"{i}.{line_str.strip()}\")\n",
    "        i=i+1  \n"
   ]
  }
 ],
 "metadata": {
  "kernelspec": {
   "display_name": "iitmenv1",
   "language": "python",
   "name": "python3"
  },
  "language_info": {
   "codemirror_mode": {
    "name": "ipython",
    "version": 3
   },
   "file_extension": ".py",
   "mimetype": "text/x-python",
   "name": "python",
   "nbconvert_exporter": "python",
   "pygments_lexer": "ipython3",
   "version": "3.11.11"
  }
 },
 "nbformat": 4,
 "nbformat_minor": 5
}
