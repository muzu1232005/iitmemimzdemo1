{
  "nbformat": 4,
  "nbformat_minor": 0,
  "metadata": {
    "colab": {
      "provenance": []
    },
    "kernelspec": {
      "name": "python3",
      "display_name": "Python 3"
    },
    "language_info": {
      "name": "python"
    }
  },
  "cells": [
    {
      "cell_type": "markdown",
      "source": [
        "list and tuples are ordered\n",
        "\n",
        "dictionaires: key value pair"
      ],
      "metadata": {
        "id": "iJBLrJfaCAG9"
      }
    },
    {
      "cell_type": "code",
      "execution_count": null,
      "metadata": {
        "colab": {
          "base_uri": "https://localhost:8080/"
        },
        "id": "IkiOFmvKBsP3",
        "outputId": "b40b0813-dce5-4448-a4ce-8ed3137c99cc"
      },
      "outputs": [
        {
          "output_type": "execute_result",
          "data": {
            "text/plain": [
              "(1, 2, 3, 4, 5, 6, 7, 8, 9)"
            ]
          },
          "metadata": {},
          "execution_count": 4
        }
      ],
      "source": [
        "a = (1,2,3,4,5)\n",
        "b = (6,7,8,9)\n",
        "\n",
        "a = a + b\n",
        "a"
      ]
    },
    {
      "cell_type": "code",
      "source": [
        "dict = {\"name\": \"nikkhil\", \"age\": 36, \"country\": \"india\", \"name\":\"garg\"}\n",
        "print(dict)\n"
      ],
      "metadata": {
        "colab": {
          "base_uri": "https://localhost:8080/"
        },
        "id": "K8X3wismDGq0",
        "outputId": "6e98c442-8978-4b78-d39a-58858f4a76ff"
      },
      "execution_count": null,
      "outputs": [
        {
          "output_type": "stream",
          "name": "stdout",
          "text": [
            "{'name': 'garg', 'age': 36, 'country': 'india'}\n"
          ]
        }
      ]
    },
    {
      "cell_type": "code",
      "source": [
        "t1 = (1, 2, 3)\n",
        "t2 = (4, 5, 6)\n"
      ],
      "metadata": {
        "id": "szg9ITQZFPcd"
      },
      "execution_count": null,
      "outputs": []
    },
    {
      "cell_type": "code",
      "source": [
        "id(t1)"
      ],
      "metadata": {
        "colab": {
          "base_uri": "https://localhost:8080/"
        },
        "id": "wX3MwfJvF5Z5",
        "outputId": "67a2dbe3-1cfa-4d1c-99c9-63397f6bfc22"
      },
      "execution_count": null,
      "outputs": [
        {
          "output_type": "execute_result",
          "data": {
            "text/plain": [
              "132089376932992"
            ]
          },
          "metadata": {},
          "execution_count": 7
        }
      ]
    },
    {
      "cell_type": "code",
      "source": [
        "t1 = t1 + t2\n",
        "id(t1)"
      ],
      "metadata": {
        "colab": {
          "base_uri": "https://localhost:8080/"
        },
        "id": "VQtreizCFtSH",
        "outputId": "8dba3da8-e68d-499b-9a98-6f27543c0566"
      },
      "execution_count": null,
      "outputs": [
        {
          "output_type": "execute_result",
          "data": {
            "text/plain": [
              "132089376863136"
            ]
          },
          "metadata": {},
          "execution_count": 8
        }
      ]
    },
    {
      "cell_type": "code",
      "source": [
        "num = [1,2,3,4,5,6,7,8,9,10]\n",
        "\n",
        "#add 2 to each number and then print result\n",
        "\n",
        "i = 0 #iterator\n",
        "\n",
        "while(i < len(num)):#defining the condition is based on iterator variable\n",
        "    print(num[i]+2) #define your operation  by connecting the iterator with the sequence\n",
        "    i += 1 #increment"
      ],
      "metadata": {
        "colab": {
          "base_uri": "https://localhost:8080/"
        },
        "id": "1Asm2GZpGAcJ",
        "outputId": "2e29650b-dbe6-4847-f4f8-edb232890812"
      },
      "execution_count": null,
      "outputs": [
        {
          "output_type": "stream",
          "name": "stdout",
          "text": [
            "3\n",
            "4\n",
            "5\n",
            "6\n",
            "7\n",
            "8\n",
            "9\n",
            "10\n",
            "11\n",
            "12\n"
          ]
        }
      ]
    },
    {
      "cell_type": "code",
      "source": [
        "for i in num:\n",
        "    print(i+2)"
      ],
      "metadata": {
        "colab": {
          "base_uri": "https://localhost:8080/"
        },
        "id": "bFTzF9FVIMKd",
        "outputId": "05918f5c-b168-49b1-8402-f1823c2f4f65"
      },
      "execution_count": null,
      "outputs": [
        {
          "output_type": "stream",
          "name": "stdout",
          "text": [
            "3\n",
            "4\n",
            "5\n",
            "6\n",
            "7\n",
            "8\n",
            "9\n",
            "10\n",
            "11\n",
            "12\n"
          ]
        }
      ]
    },
    {
      "cell_type": "code",
      "source": [
        "for i in num:\n",
        "    print(i+2,end=\" \")"
      ],
      "metadata": {
        "colab": {
          "base_uri": "https://localhost:8080/"
        },
        "id": "Ll8GSdPpJOiV",
        "outputId": "42186e71-b335-4332-a7f1-f977351613c4"
      },
      "execution_count": null,
      "outputs": [
        {
          "output_type": "stream",
          "name": "stdout",
          "text": [
            "3 4 5 6 7 8 9 10 11 12 "
          ]
        }
      ]
    },
    {
      "cell_type": "markdown",
      "source": [
        "Conditional Statements"
      ],
      "metadata": {
        "id": "94kOcPcgLPAm"
      }
    },
    {
      "cell_type": "code",
      "source": [
        "x = 15\n",
        "y = 18\n",
        "\n",
        "#first condition will always start from if\n",
        "if x > y:\n",
        "  print(\"x is greater than y\") #if above condition is true\n",
        "elif x < y:\n",
        "  print(\"x is less than y\")\n",
        "else:\n",
        "    print(\"y is equal to x\")\n",
        "#else will always come in last"
      ],
      "metadata": {
        "colab": {
          "base_uri": "https://localhost:8080/"
        },
        "id": "IXou_y32K53Q",
        "outputId": "18c1dacf-a197-4995-f005-354815865f90"
      },
      "execution_count": null,
      "outputs": [
        {
          "output_type": "stream",
          "name": "stdout",
          "text": [
            "x is less than y\n"
          ]
        }
      ]
    },
    {
      "cell_type": "code",
      "source": [
        "# If else statement\n",
        "a=18\n",
        "\n",
        "if(a<10):\n",
        "    print(\"Less than 10\")\n",
        "elif(10<=a<=25):\n",
        "    print(\"In between 10 and 25\")\n",
        "else:\n",
        "    print(\"Greater than 25\")"
      ],
      "metadata": {
        "id": "SFJUcxg7NchC"
      },
      "execution_count": null,
      "outputs": []
    },
    {
      "cell_type": "code",
      "source": [
        "# If else statement\n",
        "a=18\n",
        "\n",
        "if(a<10):\n",
        "    print(\"Less than 10\")\n",
        "else:\n",
        "    print(\"Greater than or equal to 10\")"
      ],
      "metadata": {
        "colab": {
          "base_uri": "https://localhost:8080/"
        },
        "id": "x4Zg6ZmqOBoG",
        "outputId": "93eb257e-afc6-4413-dcf6-520514743eae"
      },
      "execution_count": null,
      "outputs": [
        {
          "output_type": "stream",
          "name": "stdout",
          "text": [
            "Greater than or equal to 10\n"
          ]
        }
      ]
    },
    {
      "cell_type": "markdown",
      "source": [
        "develop a conditional block\n",
        "\n",
        "marks =\n",
        "\n",
        "if your marks are less than 40 then I want you to print a message Fail\n",
        "\n",
        "between 40 and 60, Average\n",
        "\n",
        "between 60 - 80, excellent\n",
        "\n",
        "between 80-95, outstanding\n",
        "\n",
        "above 95, You will be admitted in a Delhi University College"
      ],
      "metadata": {
        "id": "0MYCsBZzOUU_"
      }
    },
    {
      "cell_type": "markdown",
      "source": [],
      "metadata": {
        "id": "GSPNraplOsjM"
      }
    },
    {
      "cell_type": "code",
      "source": [
        "marks = 60\n",
        "\n",
        "#first condition starts with if keyword\n",
        "\n",
        "if(marks<40):\n",
        "    print(\"Fail\")\n",
        "elif(40<=marks<=60):\n",
        "    print(\"Average\")\n",
        "elif(60<marks<=80):\n",
        "    print(\"Excellent\")\n",
        "elif(80<marks<=95):\n",
        "    print(\"Outstanding\")\n",
        "else:\n",
        "    print(\"You will be admitted in a Delhi University College\")"
      ],
      "metadata": {
        "id": "JSJLlbjlRQsm"
      },
      "execution_count": null,
      "outputs": []
    },
    {
      "cell_type": "code",
      "source": [
        "a = 8\n",
        "print(\"okay\") if a < 10 else print(\"bye\")"
      ],
      "metadata": {
        "colab": {
          "base_uri": "https://localhost:8080/"
        },
        "id": "lB5h0giNOIoZ",
        "outputId": "0272cb69-b054-4313-b56e-c9c1a8bfe3e1"
      },
      "execution_count": null,
      "outputs": [
        {
          "output_type": "stream",
          "name": "stdout",
          "text": [
            "okay\n"
          ]
        }
      ]
    },
    {
      "cell_type": "code",
      "source": [
        "#and\n",
        "a = 200\n",
        "b = 33\n",
        "c = 350\n",
        "if a > b and c > a:\n",
        "  print(\"Both conditions are True\")"
      ],
      "metadata": {
        "id": "b7h1X6K4O3Jb"
      },
      "execution_count": null,
      "outputs": []
    },
    {
      "cell_type": "code",
      "source": [
        "#or\n",
        "a = 200\n",
        "b = 33\n",
        "c = 500\n",
        "if a > b or a > c:\n",
        "  print(\"At least one of the conditions is True\")"
      ],
      "metadata": {
        "id": "mNJGLJoyR7W3"
      },
      "execution_count": null,
      "outputs": []
    },
    {
      "cell_type": "code",
      "source": [
        "#Nested If\n",
        "#You can have if statements inside if statements, this is called nested if statements.\n",
        "\n",
        "x = 12\n",
        "\n",
        "#outer and inner block combination\n",
        "#inner block will activate only if outer block condition is satisfied\n",
        "\n",
        "if x < 10:#outer block/condition/case one\n",
        "    print(\"below ten,\")#outer block operation\n",
        "    if x > 5:#inner block\n",
        "        print(\"and also above 5\")\n",
        "    else:\n",
        "        print(\"but not above 5\")\n",
        "elif 10<=x<20: #case 2, outer block no. 2\n",
        "    print(\"Above ten\")\n",
        "    if x > 15:\n",
        "        print(\"number above 15\")\n",
        "    elif x==15:\n",
        "        print(\"the number is equal to 15\")\n",
        "    else:\n",
        "        print(\"below 15\")\n"
      ],
      "metadata": {
        "colab": {
          "base_uri": "https://localhost:8080/"
        },
        "id": "X9UcmcRHX-SI",
        "outputId": "481bd33a-6037-4e73-ca12-c3f3a9c9fe11"
      },
      "execution_count": null,
      "outputs": [
        {
          "output_type": "stream",
          "name": "stdout",
          "text": [
            "Above ten\n",
            "below 15\n"
          ]
        }
      ]
    },
    {
      "cell_type": "markdown",
      "source": [
        "text File handling in python"
      ],
      "metadata": {
        "id": "vw3inP8pagnp"
      }
    },
    {
      "cell_type": "code",
      "source": [
        "z = open(\"worktodo.txt\")\n",
        "#the file is opened in read mode by default"
      ],
      "metadata": {
        "id": "Ng1EoD-zeeVi"
      },
      "execution_count": null,
      "outputs": []
    },
    {
      "cell_type": "code",
      "source": [
        "z = open(\"/content/worktodo.txt\")\n",
        "#the file is opened in read mode by default"
      ],
      "metadata": {
        "id": "cCTV8Ie1cChJ"
      },
      "execution_count": null,
      "outputs": []
    },
    {
      "cell_type": "code",
      "source": [
        "print(z.read()) #read the entire content of text file"
      ],
      "metadata": {
        "colab": {
          "base_uri": "https://localhost:8080/"
        },
        "id": "RhK5WskYcCSV",
        "outputId": "b57607c7-72e3-4996-c1fa-f22c4743c9db"
      },
      "execution_count": null,
      "outputs": [
        {
          "output_type": "stream",
          "name": "stdout",
          "text": [
            "Hello, my name is Nikkhil garg. I am your instructor and mentor for data science and machine learning course. Hope you are having a wonderful day.\n",
            "\n",
            "Its a pleasure to be with you and become part of your learning environment. Anything you wish to ask and talk, do let me know.\n",
            "\n",
            "I am all there.\n"
          ]
        }
      ]
    },
    {
      "cell_type": "code",
      "source": [
        "z.close()"
      ],
      "metadata": {
        "id": "r4WAf8EOeZHF"
      },
      "execution_count": null,
      "outputs": []
    },
    {
      "cell_type": "code",
      "source": [
        "z = open(\"worktodo.txt\")\n",
        "#the file is opened in read mode by default"
      ],
      "metadata": {
        "id": "ICe4b45pe_g4"
      },
      "execution_count": null,
      "outputs": []
    },
    {
      "cell_type": "code",
      "source": [
        "\n",
        "print(z.readline())"
      ],
      "metadata": {
        "colab": {
          "base_uri": "https://localhost:8080/"
        },
        "id": "GMD57QekfHB3",
        "outputId": "9010a36d-ba2c-4989-90b4-5d57ee78ba08"
      },
      "execution_count": null,
      "outputs": [
        {
          "output_type": "stream",
          "name": "stdout",
          "text": [
            "Hello, my name is Nikkhil garg. I am your instructor and mentor for data science and machine learning course. Hope you are having a wonderful day.\n",
            "\n"
          ]
        }
      ]
    },
    {
      "cell_type": "code",
      "source": [
        "z.close()"
      ],
      "metadata": {
        "id": "BFajf_KKfOi5"
      },
      "execution_count": null,
      "outputs": []
    },
    {
      "cell_type": "code",
      "source": [
        "z = open(\"worktodo.txt\")\n",
        "#the file is opened in read mode by default"
      ],
      "metadata": {
        "id": "oLKBkpY6fTBQ"
      },
      "execution_count": null,
      "outputs": []
    },
    {
      "cell_type": "code",
      "source": [
        "print(z.readline())\n",
        "print(z.readline())\n",
        "print(z.readline())"
      ],
      "metadata": {
        "colab": {
          "base_uri": "https://localhost:8080/"
        },
        "id": "XQ-KrtNxfb1J",
        "outputId": "f0636960-8da0-4937-d635-57b2081d97dc"
      },
      "execution_count": null,
      "outputs": [
        {
          "output_type": "stream",
          "name": "stdout",
          "text": [
            "Hello, my name is Nikkhil garg. I am your instructor and mentor for data science and machine learning course. Hope you are having a wonderful day.\n",
            "\n",
            "\n",
            "\n",
            "Its a pleasure to be with you and become part of your learning environment. Anything you wish to ask and talk, do let me know.\n",
            "\n"
          ]
        }
      ]
    },
    {
      "cell_type": "code",
      "source": [
        "print(z.readline())"
      ],
      "metadata": {
        "colab": {
          "base_uri": "https://localhost:8080/"
        },
        "id": "ZgcBvpFafe7w",
        "outputId": "8c4b245e-be44-42c1-ab08-94cd521ce3a7"
      },
      "execution_count": null,
      "outputs": [
        {
          "output_type": "stream",
          "name": "stdout",
          "text": [
            "\n",
            "\n"
          ]
        }
      ]
    },
    {
      "cell_type": "code",
      "source": [
        "z.close()"
      ],
      "metadata": {
        "id": "UIrXl_IqfmIM"
      },
      "execution_count": null,
      "outputs": []
    },
    {
      "cell_type": "markdown",
      "source": [
        "pen function: Filename (pwd), mode mention the complete address of the file\n",
        "\n",
        "Read : \"r\" #default\n",
        "\n",
        "Write: \"w\"\n",
        "\n",
        "Append: \"a\"\n",
        "\n",
        "Create: \"x\"\n",
        "\n",
        "text mode and the binary (images)"
      ],
      "metadata": {
        "id": "j8RCZxT3fxli"
      }
    },
    {
      "cell_type": "code",
      "source": [
        "z = open(\"worktodo.txt\", \"a\") #open file in append mode\n",
        "#the file is opened in read mode by default\n",
        "\n",
        "z.write(\"\\nI hope all of you are practicing well\")\n",
        "\n",
        "z.close()\n",
        "\n",
        "z = open(\"worktodo.txt\")\n",
        "\n",
        "print(z.read())\n",
        "\n",
        "z.close()"
      ],
      "metadata": {
        "colab": {
          "base_uri": "https://localhost:8080/"
        },
        "id": "AFxBiLqofpdQ",
        "outputId": "b6a5614e-85ba-44f9-e05f-2bd87cff1ca0"
      },
      "execution_count": null,
      "outputs": [
        {
          "output_type": "stream",
          "name": "stdout",
          "text": [
            "Hello, my name is Nikkhil garg. I am your instructor and mentor for data science and machine learning course. Hope you are having a wonderful day.\n",
            "\n",
            "Its a pleasure to be with you and become part of your learning environment. Anything you wish to ask and talk, do let me know.\n",
            "\n",
            "I am all there.\n",
            "I hope all of you are practicing well\n",
            "I hope all of you are practicing well\n"
          ]
        }
      ]
    },
    {
      "cell_type": "code",
      "source": [
        "z = open(\"worktodo.txt\", \"w\") #open file in append mode\n",
        "#the file is opened in read mode by default\n",
        "\n",
        "z.write(\"\\nI wish you all the best for your future\")\n",
        "\n",
        "z.close()\n",
        "\n",
        "z = open(\"worktodo.txt\")\n",
        "\n",
        "print(z.read())\n",
        "\n",
        "z.close()"
      ],
      "metadata": {
        "colab": {
          "base_uri": "https://localhost:8080/"
        },
        "id": "i6abD9_OhOO2",
        "outputId": "83fda21b-600e-49c0-c0b5-df46b1dc8d91"
      },
      "execution_count": null,
      "outputs": [
        {
          "output_type": "stream",
          "name": "stdout",
          "text": [
            "\n",
            "I wish you all the best for your future\n"
          ]
        }
      ]
    },
    {
      "cell_type": "code",
      "source": [
        "z = open(\"worktodo.txt\",'a')\n",
        "z.write(\"\\ni love india \")\n",
        "z.close() # this is wrong which i corrected later\n",
        "z = open(\"worktodo.txt\",'r')\n",
        "print(z.read())"
      ],
      "metadata": {
        "colab": {
          "base_uri": "https://localhost:8080/"
        },
        "id": "WR1w1U2nhcFn",
        "outputId": "d8e24f90-4efd-4cc7-94d9-81a54c2cbf0a"
      },
      "execution_count": null,
      "outputs": [
        {
          "output_type": "stream",
          "name": "stdout",
          "text": [
            "\n",
            "I wish you all the best for your future\n",
            "i love india \n",
            "i love india \n",
            "i love india \n",
            "i love india \n",
            "i love india \n"
          ]
        }
      ]
    },
    {
      "cell_type": "code",
      "source": [
        "f = open(\"worktodo.txt\")\n",
        "\n",
        "for x in f.readlines():\n",
        "    print(x)"
      ],
      "metadata": {
        "colab": {
          "base_uri": "https://localhost:8080/"
        },
        "id": "wF1A2Nz1lfVJ",
        "outputId": "a9b57f2a-d83d-49a8-9f8b-410c77a7adf7"
      },
      "execution_count": null,
      "outputs": [
        {
          "output_type": "stream",
          "name": "stdout",
          "text": [
            "\n",
            "\n",
            "I wish you all the best for your future\n",
            "\n",
            "i love india \n",
            "\n",
            "i love india \n",
            "\n",
            "i love india \n",
            "\n",
            "i love india \n",
            "\n",
            "i love india \n"
          ]
        }
      ]
    },
    {
      "cell_type": "markdown",
      "source": [
        "list comprehension"
      ],
      "metadata": {
        "id": "ljitjxdXna6d"
      }
    },
    {
      "cell_type": "code",
      "source": [
        "#numbers = [1,2,3,4,5,6,7,8]\n",
        "\n",
        "def get_even(numbers):\n",
        "  for num in numbers:\n",
        "    if num % 2 == 0:\n",
        "      print(num)\n",
        "\n",
        "get_even([1, 2, 3, 4, 5, 6])"
      ],
      "metadata": {
        "colab": {
          "base_uri": "https://localhost:8080/"
        },
        "id": "p7V-owe5mKRe",
        "outputId": "b107aa1c-4797-43d0-cbc2-61b8bc12e96a"
      },
      "execution_count": null,
      "outputs": [
        {
          "output_type": "stream",
          "name": "stdout",
          "text": [
            "2\n",
            "4\n",
            "6\n"
          ]
        }
      ]
    },
    {
      "cell_type": "code",
      "source": [
        "#print the even numbers from a sequence, condition number % 2 == 0\n",
        "def get_even(numbers):\n",
        "  even_nums = [num for num in numbers if num % 2==0] #list comrephension\n",
        "  return even_nums\n",
        "\n",
        "get_even([1, 2, 3, 4, 5, 6])\n"
      ],
      "metadata": {
        "colab": {
          "base_uri": "https://localhost:8080/"
        },
        "id": "lMZ54HGan5RT",
        "outputId": "5afac899-4783-4a7d-c287-49293d981bbe"
      },
      "execution_count": null,
      "outputs": [
        {
          "output_type": "execute_result",
          "data": {
            "text/plain": [
              "[2, 4, 6]"
            ]
          },
          "metadata": {},
          "execution_count": 51
        }
      ]
    },
    {
      "cell_type": "code",
      "source": [
        "#print the even numbers from a sequence, condition number % 2 == 0\n",
        "def get_even(numbers):\n",
        "  print([num for num in numbers if num % 2==0]) #list comrephension\n",
        "\n",
        "get_even([1, 2, 3, 4, 5, 6])\n"
      ],
      "metadata": {
        "colab": {
          "base_uri": "https://localhost:8080/"
        },
        "id": "9hRNYsK2oZxG",
        "outputId": "e8535848-a467-4131-a142-0a54c521d1a8"
      },
      "execution_count": null,
      "outputs": [
        {
          "output_type": "stream",
          "name": "stdout",
          "text": [
            "[2, 4, 6]\n"
          ]
        }
      ]
    },
    {
      "cell_type": "code",
      "source": [
        "f = open(\"worktodo.txt\")\n",
        "content = f.read()\n",
        "for i in content:\n",
        "    print(i)"
      ],
      "metadata": {
        "colab": {
          "base_uri": "https://localhost:8080/"
        },
        "collapsed": true,
        "id": "lYZDO6RlopjY",
        "outputId": "84f48c81-0032-46c0-f700-8577cb20c5b4"
      },
      "execution_count": null,
      "outputs": [
        {
          "output_type": "stream",
          "name": "stdout",
          "text": [
            "\n",
            "\n",
            "I\n",
            " \n",
            "w\n",
            "i\n",
            "s\n",
            "h\n",
            " \n",
            "y\n",
            "o\n",
            "u\n",
            " \n",
            "a\n",
            "l\n",
            "l\n",
            " \n",
            "t\n",
            "h\n",
            "e\n",
            " \n",
            "b\n",
            "e\n",
            "s\n",
            "t\n",
            " \n",
            "f\n",
            "o\n",
            "r\n",
            " \n",
            "y\n",
            "o\n",
            "u\n",
            "r\n",
            " \n",
            "f\n",
            "u\n",
            "t\n",
            "u\n",
            "r\n",
            "e\n",
            "\n",
            "\n",
            "i\n",
            " \n",
            "l\n",
            "o\n",
            "v\n",
            "e\n",
            " \n",
            "i\n",
            "n\n",
            "d\n",
            "i\n",
            "a\n",
            " \n",
            "\n",
            "\n",
            "i\n",
            " \n",
            "l\n",
            "o\n",
            "v\n",
            "e\n",
            " \n",
            "i\n",
            "n\n",
            "d\n",
            "i\n",
            "a\n",
            " \n",
            "\n",
            "\n",
            "i\n",
            " \n",
            "l\n",
            "o\n",
            "v\n",
            "e\n",
            " \n",
            "i\n",
            "n\n",
            "d\n",
            "i\n",
            "a\n",
            " \n",
            "\n",
            "\n",
            "i\n",
            " \n",
            "l\n",
            "o\n",
            "v\n",
            "e\n",
            " \n",
            "i\n",
            "n\n",
            "d\n",
            "i\n",
            "a\n",
            " \n",
            "\n",
            "\n",
            "i\n",
            " \n",
            "l\n",
            "o\n",
            "v\n",
            "e\n",
            " \n",
            "i\n",
            "n\n",
            "d\n",
            "i\n",
            "a\n",
            " \n"
          ]
        }
      ]
    },
    {
      "cell_type": "code",
      "source": [
        "f = open(\"worktodo.txt\")\n",
        "content = f.read().split()   # split into words\n",
        "for word in content:\n",
        "    print(word, end=\" \")     # print words on one line with spaces\n",
        "f.close()"
      ],
      "metadata": {
        "colab": {
          "base_uri": "https://localhost:8080/"
        },
        "id": "zouklmW8rS4A",
        "outputId": "d7c8099b-9380-4b47-83db-fa7812a2623e"
      },
      "execution_count": null,
      "outputs": [
        {
          "output_type": "stream",
          "name": "stdout",
          "text": [
            "I wish you all the best for your future i love india i love india i love india i love india i love india "
          ]
        }
      ]
    },
    {
      "cell_type": "code",
      "source": [
        "f = open(\"worktodo.txt\")\n",
        "\n",
        "for line in f.readlines():\n",
        "    print(line.strip())\n",
        "\n",
        "f.close()\n"
      ],
      "metadata": {
        "colab": {
          "base_uri": "https://localhost:8080/"
        },
        "id": "-R0dOCabsWPS",
        "outputId": "e2dc1639-ee28-4ee3-e04d-bf767dcbb281"
      },
      "execution_count": null,
      "outputs": [
        {
          "output_type": "stream",
          "name": "stdout",
          "text": [
            "\n",
            "I wish you all the best for your future\n",
            "i love india\n",
            "i love india\n",
            "i love india\n",
            "i love india\n",
            "i love india\n"
          ]
        }
      ]
    },
    {
      "cell_type": "code",
      "source": [],
      "metadata": {
        "id": "PTc2zzsMsm5s"
      },
      "execution_count": null,
      "outputs": []
    }
  ]
}