{
  "cells": [
    {
      "cell_type": "markdown",
      "metadata": {
        "id": "iJBLrJfaCAG9"
      },
      "source": [
        "list and tuples are ordered\n",
        "\n",
        "dictionaires: key value pair"
      ]
    },
    {
      "cell_type": "code",
      "execution_count": null,
      "metadata": {
        "colab": {
          "base_uri": "https://localhost:8080/"
        },
        "id": "IkiOFmvKBsP3",
        "outputId": "b40b0813-dce5-4448-a4ce-8ed3137c99cc"
      },
      "outputs": [
        {
          "data": {
            "text/plain": [
              "(1, 2, 3, 4, 5, 6, 7, 8, 9)"
            ]
          },
          "execution_count": 4,
          "metadata": {},
          "output_type": "execute_result"
        }
      ],
      "source": [
        "a = (1,2,3,4,5)\n",
        "b = (6,7,8,9)\n",
        "\n",
        "a = a + b\n",
        "a"
      ]
    },
    {
      "cell_type": "code",
      "execution_count": null,
      "metadata": {
        "colab": {
          "base_uri": "https://localhost:8080/"
        },
        "id": "K8X3wismDGq0",
        "outputId": "6e98c442-8978-4b78-d39a-58858f4a76ff"
      },
      "outputs": [
        {
          "name": "stdout",
          "output_type": "stream",
          "text": [
            "{'name': 'garg', 'age': 36, 'country': 'india'}\n"
          ]
        }
      ],
      "source": [
        "dict = {\"name\": \"nikkhil\", \"age\": 36, \"country\": \"india\", \"name\":\"garg\"}\n",
        "print(dict)\n"
      ]
    },
    {
      "cell_type": "code",
      "execution_count": null,
      "metadata": {
        "id": "szg9ITQZFPcd"
      },
      "outputs": [],
      "source": [
        "t1 = (1, 2, 3)\n",
        "t2 = (4, 5, 6)\n"
      ]
    },
    {
      "cell_type": "code",
      "execution_count": null,
      "metadata": {
        "colab": {
          "base_uri": "https://localhost:8080/"
        },
        "id": "wX3MwfJvF5Z5",
        "outputId": "67a2dbe3-1cfa-4d1c-99c9-63397f6bfc22"
      },
      "outputs": [
        {
          "data": {
            "text/plain": [
              "132089376932992"
            ]
          },
          "execution_count": 7,
          "metadata": {},
          "output_type": "execute_result"
        }
      ],
      "source": [
        "id(t1)"
      ]
    },
    {
      "cell_type": "code",
      "execution_count": null,
      "metadata": {
        "colab": {
          "base_uri": "https://localhost:8080/"
        },
        "id": "VQtreizCFtSH",
        "outputId": "8dba3da8-e68d-499b-9a98-6f27543c0566"
      },
      "outputs": [
        {
          "data": {
            "text/plain": [
              "132089376863136"
            ]
          },
          "execution_count": 8,
          "metadata": {},
          "output_type": "execute_result"
        }
      ],
      "source": [
        "t1 = t1 + t2\n",
        "id(t1)"
      ]
    },
    {
      "cell_type": "code",
      "execution_count": null,
      "metadata": {
        "colab": {
          "base_uri": "https://localhost:8080/"
        },
        "id": "1Asm2GZpGAcJ",
        "outputId": "2e29650b-dbe6-4847-f4f8-edb232890812"
      },
      "outputs": [
        {
          "name": "stdout",
          "output_type": "stream",
          "text": [
            "3\n",
            "4\n",
            "5\n",
            "6\n",
            "7\n",
            "8\n",
            "9\n",
            "10\n",
            "11\n",
            "12\n"
          ]
        }
      ],
      "source": [
        "num = [1,2,3,4,5,6,7,8,9,10]\n",
        "\n",
        "#add 2 to each number and then print result\n",
        "\n",
        "i = 0 #iterator\n",
        "\n",
        "while(i < len(num)):#defining the condition is based on iterator variable\n",
        "    print(num[i]+2) #define your operation  by connecting the iterator with the sequence\n",
        "    i += 1 #increment"
      ]
    },
    {
      "cell_type": "code",
      "execution_count": null,
      "metadata": {
        "colab": {
          "base_uri": "https://localhost:8080/"
        },
        "id": "bFTzF9FVIMKd",
        "outputId": "05918f5c-b168-49b1-8402-f1823c2f4f65"
      },
      "outputs": [
        {
          "name": "stdout",
          "output_type": "stream",
          "text": [
            "3\n",
            "4\n",
            "5\n",
            "6\n",
            "7\n",
            "8\n",
            "9\n",
            "10\n",
            "11\n",
            "12\n"
          ]
        }
      ],
      "source": [
        "for i in num:\n",
        "    print(i+2)"
      ]
    },
    {
      "cell_type": "code",
      "execution_count": null,
      "metadata": {
        "colab": {
          "base_uri": "https://localhost:8080/"
        },
        "id": "Ll8GSdPpJOiV",
        "outputId": "42186e71-b335-4332-a7f1-f977351613c4"
      },
      "outputs": [
        {
          "name": "stdout",
          "output_type": "stream",
          "text": [
            "3 4 5 6 7 8 9 10 11 12 "
          ]
        }
      ],
      "source": [
        "for i in num:\n",
        "    print(i+2,end=\" \")"
      ]
    },
    {
      "cell_type": "markdown",
      "metadata": {
        "id": "94kOcPcgLPAm"
      },
      "source": [
        "Conditional Statements"
      ]
    },
    {
      "cell_type": "code",
      "execution_count": null,
      "metadata": {
        "colab": {
          "base_uri": "https://localhost:8080/"
        },
        "id": "IXou_y32K53Q",
        "outputId": "18c1dacf-a197-4995-f005-354815865f90"
      },
      "outputs": [
        {
          "name": "stdout",
          "output_type": "stream",
          "text": [
            "x is less than y\n"
          ]
        }
      ],
      "source": [
        "x = 15\n",
        "y = 18\n",
        "\n",
        "#first condition will always start from if\n",
        "if x > y:\n",
        "  print(\"x is greater than y\") #if above condition is true\n",
        "elif x < y:\n",
        "  print(\"x is less than y\")\n",
        "else:\n",
        "    print(\"y is equal to x\")\n",
        "#else will always come in last"
      ]
    },
    {
      "cell_type": "code",
      "execution_count": null,
      "metadata": {
        "id": "SFJUcxg7NchC"
      },
      "outputs": [],
      "source": [
        "# If else statement\n",
        "a=18\n",
        "\n",
        "if(a<10):\n",
        "    print(\"Less than 10\")\n",
        "elif(10<=a<=25):\n",
        "    print(\"In between 10 and 25\")\n",
        "else:\n",
        "    print(\"Greater than 25\")"
      ]
    },
    {
      "cell_type": "code",
      "execution_count": null,
      "metadata": {
        "colab": {
          "base_uri": "https://localhost:8080/"
        },
        "id": "x4Zg6ZmqOBoG",
        "outputId": "93eb257e-afc6-4413-dcf6-520514743eae"
      },
      "outputs": [
        {
          "name": "stdout",
          "output_type": "stream",
          "text": [
            "Greater than or equal to 10\n"
          ]
        }
      ],
      "source": [
        "# If else statement\n",
        "a=18\n",
        "\n",
        "if(a<10):\n",
        "    print(\"Less than 10\")\n",
        "else:\n",
        "    print(\"Greater than or equal to 10\")"
      ]
    },
    {
      "cell_type": "markdown",
      "metadata": {
        "id": "0MYCsBZzOUU_"
      },
      "source": [
        "develop a conditional block\n",
        "\n",
        "marks =\n",
        "\n",
        "if your marks are less than 40 then I want you to print a message Fail\n",
        "\n",
        "between 40 and 60, Average\n",
        "\n",
        "between 60 - 80, excellent\n",
        "\n",
        "between 80-95, outstanding\n",
        "\n",
        "above 95, You will be admitted in a Delhi University College"
      ]
    },
    {
      "cell_type": "markdown",
      "metadata": {
        "id": "GSPNraplOsjM"
      },
      "source": []
    },
    {
      "cell_type": "code",
      "execution_count": null,
      "metadata": {
        "id": "JSJLlbjlRQsm"
      },
      "outputs": [],
      "source": [
        "marks = 60\n",
        "\n",
        "#first condition starts with if keyword\n",
        "\n",
        "if(marks<40):\n",
        "    print(\"Fail\")\n",
        "elif(40<=marks<=60):\n",
        "    print(\"Average\")\n",
        "elif(60<marks<=80):\n",
        "    print(\"Excellent\")\n",
        "elif(80<marks<=95):\n",
        "    print(\"Outstanding\")\n",
        "else:\n",
        "    print(\"You will be admitted in a Delhi University College\")"
      ]
    },
    {
      "cell_type": "code",
      "execution_count": null,
      "metadata": {
        "colab": {
          "base_uri": "https://localhost:8080/"
        },
        "id": "lB5h0giNOIoZ",
        "outputId": "0272cb69-b054-4313-b56e-c9c1a8bfe3e1"
      },
      "outputs": [
        {
          "name": "stdout",
          "output_type": "stream",
          "text": [
            "okay\n"
          ]
        }
      ],
      "source": [
        "a = 8\n",
        "print(\"okay\") if a < 10 else print(\"bye\")"
      ]
    },
    {
      "cell_type": "code",
      "execution_count": null,
      "metadata": {
        "id": "b7h1X6K4O3Jb"
      },
      "outputs": [],
      "source": [
        "#and\n",
        "a = 200\n",
        "b = 33\n",
        "c = 350\n",
        "if a > b and c > a:\n",
        "  print(\"Both conditions are True\")"
      ]
    },
    {
      "cell_type": "code",
      "execution_count": null,
      "metadata": {
        "id": "mNJGLJoyR7W3"
      },
      "outputs": [],
      "source": [
        "#or\n",
        "a = 200\n",
        "b = 33\n",
        "c = 500\n",
        "if a > b or a > c:\n",
        "  print(\"At least one of the conditions is True\")"
      ]
    },
    {
      "cell_type": "code",
      "execution_count": null,
      "metadata": {
        "colab": {
          "base_uri": "https://localhost:8080/"
        },
        "id": "X9UcmcRHX-SI",
        "outputId": "481bd33a-6037-4e73-ca12-c3f3a9c9fe11"
      },
      "outputs": [
        {
          "name": "stdout",
          "output_type": "stream",
          "text": [
            "Above ten\n",
            "below 15\n"
          ]
        }
      ],
      "source": [
        "#Nested If\n",
        "#You can have if statements inside if statements, this is called nested if statements.\n",
        "\n",
        "x = 12\n",
        "\n",
        "#outer and inner block combination\n",
        "#inner block will activate only if outer block condition is satisfied\n",
        "\n",
        "if x < 10:#outer block/condition/case one\n",
        "    print(\"below ten,\")#outer block operation\n",
        "    if x > 5:#inner block\n",
        "        print(\"and also above 5\")\n",
        "    else:\n",
        "        print(\"but not above 5\")\n",
        "elif 10<=x<20: #case 2, outer block no. 2\n",
        "    print(\"Above ten\")\n",
        "    if x > 15:\n",
        "        print(\"number above 15\")\n",
        "    elif x==15:\n",
        "        print(\"the number is equal to 15\")\n",
        "    else:\n",
        "        print(\"below 15\")\n"
      ]
    },
    {
      "cell_type": "markdown",
      "metadata": {
        "id": "vw3inP8pagnp"
      },
      "source": [
        "text File handling in python"
      ]
    },
    {
      "cell_type": "code",
      "execution_count": null,
      "metadata": {
        "id": "Ng1EoD-zeeVi"
      },
      "outputs": [],
      "source": [
        "z = open(\"worktodo.txt\")\n",
        "#the file is opened in read mode by default"
      ]
    },
    {
      "cell_type": "code",
      "execution_count": null,
      "metadata": {
        "id": "cCTV8Ie1cChJ"
      },
      "outputs": [],
      "source": [
        "z = open(\"/content/worktodo.txt\")\n",
        "#the file is opened in read mode by default"
      ]
    },
    {
      "cell_type": "code",
      "execution_count": null,
      "metadata": {
        "colab": {
          "base_uri": "https://localhost:8080/"
        },
        "id": "RhK5WskYcCSV",
        "outputId": "b57607c7-72e3-4996-c1fa-f22c4743c9db"
      },
      "outputs": [
        {
          "name": "stdout",
          "output_type": "stream",
          "text": [
            "Hello, my name is Nikkhil garg. I am your instructor and mentor for data science and machine learning course. Hope you are having a wonderful day.\n",
            "\n",
            "Its a pleasure to be with you and become part of your learning environment. Anything you wish to ask and talk, do let me know.\n",
            "\n",
            "I am all there.\n"
          ]
        }
      ],
      "source": [
        "print(z.read()) #read the entire content of text file"
      ]
    },
    {
      "cell_type": "code",
      "execution_count": null,
      "metadata": {
        "id": "r4WAf8EOeZHF"
      },
      "outputs": [],
      "source": [
        "z.close()"
      ]
    },
    {
      "cell_type": "code",
      "execution_count": null,
      "metadata": {
        "id": "ICe4b45pe_g4"
      },
      "outputs": [],
      "source": [
        "z = open(\"worktodo.txt\")\n",
        "#the file is opened in read mode by default"
      ]
    },
    {
      "cell_type": "code",
      "execution_count": null,
      "metadata": {
        "colab": {
          "base_uri": "https://localhost:8080/"
        },
        "id": "GMD57QekfHB3",
        "outputId": "9010a36d-ba2c-4989-90b4-5d57ee78ba08"
      },
      "outputs": [
        {
          "name": "stdout",
          "output_type": "stream",
          "text": [
            "Hello, my name is Nikkhil garg. I am your instructor and mentor for data science and machine learning course. Hope you are having a wonderful day.\n",
            "\n"
          ]
        }
      ],
      "source": [
        "\n",
        "print(z.readline())"
      ]
    },
    {
      "cell_type": "code",
      "execution_count": null,
      "metadata": {
        "id": "BFajf_KKfOi5"
      },
      "outputs": [],
      "source": [
        "z.close()"
      ]
    },
    {
      "cell_type": "code",
      "execution_count": null,
      "metadata": {
        "id": "oLKBkpY6fTBQ"
      },
      "outputs": [],
      "source": [
        "z = open(\"worktodo.txt\")\n",
        "#the file is opened in read mode by default"
      ]
    },
    {
      "cell_type": "code",
      "execution_count": null,
      "metadata": {
        "colab": {
          "base_uri": "https://localhost:8080/"
        },
        "id": "XQ-KrtNxfb1J",
        "outputId": "f0636960-8da0-4937-d635-57b2081d97dc"
      },
      "outputs": [
        {
          "name": "stdout",
          "output_type": "stream",
          "text": [
            "Hello, my name is Nikkhil garg. I am your instructor and mentor for data science and machine learning course. Hope you are having a wonderful day.\n",
            "\n",
            "\n",
            "\n",
            "Its a pleasure to be with you and become part of your learning environment. Anything you wish to ask and talk, do let me know.\n",
            "\n"
          ]
        }
      ],
      "source": [
        "print(z.readline())\n",
        "print(z.readline())\n",
        "print(z.readline())"
      ]
    },
    {
      "cell_type": "code",
      "execution_count": null,
      "metadata": {
        "colab": {
          "base_uri": "https://localhost:8080/"
        },
        "id": "ZgcBvpFafe7w",
        "outputId": "8c4b245e-be44-42c1-ab08-94cd521ce3a7"
      },
      "outputs": [
        {
          "name": "stdout",
          "output_type": "stream",
          "text": [
            "\n",
            "\n"
          ]
        }
      ],
      "source": [
        "print(z.readline())"
      ]
    },
    {
      "cell_type": "code",
      "execution_count": null,
      "metadata": {
        "id": "UIrXl_IqfmIM"
      },
      "outputs": [],
      "source": [
        "z.close()"
      ]
    },
    {
      "cell_type": "markdown",
      "metadata": {
        "id": "j8RCZxT3fxli"
      },
      "source": [
        "pen function: Filename (pwd), mode mention the complete address of the file\n",
        "\n",
        "Read : \"r\" #default\n",
        "\n",
        "Write: \"w\"\n",
        "\n",
        "Append: \"a\"\n",
        "\n",
        "Create: \"x\"\n",
        "\n",
        "text mode and the binary (images)"
      ]
    },
    {
      "cell_type": "code",
      "execution_count": null,
      "metadata": {
        "colab": {
          "base_uri": "https://localhost:8080/"
        },
        "id": "AFxBiLqofpdQ",
        "outputId": "b6a5614e-85ba-44f9-e05f-2bd87cff1ca0"
      },
      "outputs": [
        {
          "name": "stdout",
          "output_type": "stream",
          "text": [
            "Hello, my name is Nikkhil garg. I am your instructor and mentor for data science and machine learning course. Hope you are having a wonderful day.\n",
            "\n",
            "Its a pleasure to be with you and become part of your learning environment. Anything you wish to ask and talk, do let me know.\n",
            "\n",
            "I am all there.\n",
            "I hope all of you are practicing well\n",
            "I hope all of you are practicing well\n"
          ]
        }
      ],
      "source": [
        "z = open(\"worktodo.txt\", \"a\") #open file in append mode\n",
        "#the file is opened in read mode by default\n",
        "\n",
        "z.write(\"\\nI hope all of you are practicing well\")\n",
        "\n",
        "z.close()\n",
        "\n",
        "z = open(\"worktodo.txt\")\n",
        "\n",
        "print(z.read())\n",
        "\n",
        "z.close()"
      ]
    },
    {
      "cell_type": "code",
      "execution_count": null,
      "metadata": {
        "colab": {
          "base_uri": "https://localhost:8080/"
        },
        "id": "i6abD9_OhOO2",
        "outputId": "83fda21b-600e-49c0-c0b5-df46b1dc8d91"
      },
      "outputs": [
        {
          "name": "stdout",
          "output_type": "stream",
          "text": [
            "\n",
            "I wish you all the best for your future\n"
          ]
        }
      ],
      "source": [
        "z = open(\"worktodo.txt\", \"w\") #open file in append mode\n",
        "#the file is opened in read mode by default\n",
        "\n",
        "z.write(\"\\nI wish you all the best for your future\")\n",
        "\n",
        "z.close()\n",
        "\n",
        "z = open(\"worktodo.txt\")\n",
        "\n",
        "print(z.read())\n",
        "\n",
        "z.close()"
      ]
    },
    {
      "cell_type": "code",
      "execution_count": null,
      "metadata": {
        "colab": {
          "base_uri": "https://localhost:8080/"
        },
        "id": "WR1w1U2nhcFn",
        "outputId": "d8e24f90-4efd-4cc7-94d9-81a54c2cbf0a"
      },
      "outputs": [
        {
          "name": "stdout",
          "output_type": "stream",
          "text": [
            "\n",
            "I wish you all the best for your future\n",
            "i love india \n",
            "i love india \n",
            "i love india \n",
            "i love india \n",
            "i love india \n"
          ]
        }
      ],
      "source": [
        "z = open(\"worktodo.txt\",'a')\n",
        "z.write(\"\\ni love india \")\n",
        "z.close() # this is wrong which i corrected later\n",
        "z = open(\"worktodo.txt\",'r')\n",
        "print(z.read())"
      ]
    },
    {
      "cell_type": "code",
      "execution_count": null,
      "metadata": {
        "colab": {
          "base_uri": "https://localhost:8080/"
        },
        "id": "wF1A2Nz1lfVJ",
        "outputId": "a9b57f2a-d83d-49a8-9f8b-410c77a7adf7"
      },
      "outputs": [
        {
          "name": "stdout",
          "output_type": "stream",
          "text": [
            "\n",
            "\n",
            "I wish you all the best for your future\n",
            "\n",
            "i love india \n",
            "\n",
            "i love india \n",
            "\n",
            "i love india \n",
            "\n",
            "i love india \n",
            "\n",
            "i love india \n"
          ]
        }
      ],
      "source": [
        "f = open(\"worktodo.txt\")\n",
        "\n",
        "for x in f.readlines():\n",
        "    print(x)"
      ]
    },
    {
      "cell_type": "markdown",
      "metadata": {
        "id": "ljitjxdXna6d"
      },
      "source": [
        "list comprehension"
      ]
    },
    {
      "cell_type": "code",
      "execution_count": null,
      "metadata": {
        "colab": {
          "base_uri": "https://localhost:8080/"
        },
        "id": "p7V-owe5mKRe",
        "outputId": "b107aa1c-4797-43d0-cbc2-61b8bc12e96a"
      },
      "outputs": [
        {
          "name": "stdout",
          "output_type": "stream",
          "text": [
            "2\n",
            "4\n",
            "6\n"
          ]
        }
      ],
      "source": [
        "#numbers = [1,2,3,4,5,6,7,8]\n",
        "\n",
        "def get_even(numbers):\n",
        "  for num in numbers:\n",
        "    if num % 2 == 0:\n",
        "      print(num)\n",
        "\n",
        "get_even([1, 2, 3, 4, 5, 6])"
      ]
    },
    {
      "cell_type": "code",
      "execution_count": null,
      "metadata": {
        "colab": {
          "base_uri": "https://localhost:8080/"
        },
        "id": "lMZ54HGan5RT",
        "outputId": "5afac899-4783-4a7d-c287-49293d981bbe"
      },
      "outputs": [
        {
          "data": {
            "text/plain": [
              "[2, 4, 6]"
            ]
          },
          "execution_count": 51,
          "metadata": {},
          "output_type": "execute_result"
        }
      ],
      "source": [
        "#print the even numbers from a sequence, condition number % 2 == 0\n",
        "def get_even(numbers):\n",
        "  even_nums = [num for num in numbers if num % 2==0] #list comrephension\n",
        "  return even_nums\n",
        "\n",
        "get_even([1, 2, 3, 4, 5, 6])\n"
      ]
    },
    {
      "cell_type": "code",
      "execution_count": null,
      "metadata": {
        "colab": {
          "base_uri": "https://localhost:8080/"
        },
        "id": "9hRNYsK2oZxG",
        "outputId": "e8535848-a467-4131-a142-0a54c521d1a8"
      },
      "outputs": [
        {
          "name": "stdout",
          "output_type": "stream",
          "text": [
            "[2, 4, 6]\n"
          ]
        }
      ],
      "source": [
        "#print the even numbers from a sequence, condition number % 2 == 0\n",
        "def get_even(numbers):\n",
        "  print([num for num in numbers if num % 2==0]) #list comrephension\n",
        "\n",
        "get_even([1, 2, 3, 4, 5, 6])\n"
      ]
    },
    {
      "cell_type": "code",
      "execution_count": null,
      "metadata": {
        "colab": {
          "base_uri": "https://localhost:8080/"
        },
        "collapsed": true,
        "id": "lYZDO6RlopjY",
        "outputId": "84f48c81-0032-46c0-f700-8577cb20c5b4"
      },
      "outputs": [
        {
          "name": "stdout",
          "output_type": "stream",
          "text": [
            "\n",
            "\n",
            "I\n",
            " \n",
            "w\n",
            "i\n",
            "s\n",
            "h\n",
            " \n",
            "y\n",
            "o\n",
            "u\n",
            " \n",
            "a\n",
            "l\n",
            "l\n",
            " \n",
            "t\n",
            "h\n",
            "e\n",
            " \n",
            "b\n",
            "e\n",
            "s\n",
            "t\n",
            " \n",
            "f\n",
            "o\n",
            "r\n",
            " \n",
            "y\n",
            "o\n",
            "u\n",
            "r\n",
            " \n",
            "f\n",
            "u\n",
            "t\n",
            "u\n",
            "r\n",
            "e\n",
            "\n",
            "\n",
            "i\n",
            " \n",
            "l\n",
            "o\n",
            "v\n",
            "e\n",
            " \n",
            "i\n",
            "n\n",
            "d\n",
            "i\n",
            "a\n",
            " \n",
            "\n",
            "\n",
            "i\n",
            " \n",
            "l\n",
            "o\n",
            "v\n",
            "e\n",
            " \n",
            "i\n",
            "n\n",
            "d\n",
            "i\n",
            "a\n",
            " \n",
            "\n",
            "\n",
            "i\n",
            " \n",
            "l\n",
            "o\n",
            "v\n",
            "e\n",
            " \n",
            "i\n",
            "n\n",
            "d\n",
            "i\n",
            "a\n",
            " \n",
            "\n",
            "\n",
            "i\n",
            " \n",
            "l\n",
            "o\n",
            "v\n",
            "e\n",
            " \n",
            "i\n",
            "n\n",
            "d\n",
            "i\n",
            "a\n",
            " \n",
            "\n",
            "\n",
            "i\n",
            " \n",
            "l\n",
            "o\n",
            "v\n",
            "e\n",
            " \n",
            "i\n",
            "n\n",
            "d\n",
            "i\n",
            "a\n",
            " \n"
          ]
        }
      ],
      "source": [
        "f = open(\"worktodo.txt\")\n",
        "content = f.read()\n",
        "for i in content:\n",
        "    print(i)"
      ]
    },
    {
      "cell_type": "code",
      "execution_count": null,
      "metadata": {
        "colab": {
          "base_uri": "https://localhost:8080/"
        },
        "id": "zouklmW8rS4A",
        "outputId": "d7c8099b-9380-4b47-83db-fa7812a2623e"
      },
      "outputs": [
        {
          "name": "stdout",
          "output_type": "stream",
          "text": [
            "I wish you all the best for your future i love india i love india i love india i love india i love india "
          ]
        }
      ],
      "source": [
        "f = open(\"worktodo.txt\")\n",
        "content = f.read().split()   # split into words\n",
        "for word in content:\n",
        "    print(word, end=\" \")     # print words on one line with spaces\n",
        "f.close()"
      ]
    },
    {
      "cell_type": "code",
      "execution_count": null,
      "metadata": {
        "colab": {
          "base_uri": "https://localhost:8080/"
        },
        "id": "-R0dOCabsWPS",
        "outputId": "e2dc1639-ee28-4ee3-e04d-bf767dcbb281"
      },
      "outputs": [
        {
          "name": "stdout",
          "output_type": "stream",
          "text": [
            "\n",
            "I wish you all the best for your future\n",
            "i love india\n",
            "i love india\n",
            "i love india\n",
            "i love india\n",
            "i love india\n"
          ]
        }
      ],
      "source": [
        "f = open(\"worktodo.txt\")\n",
        "\n",
        "for line in f.readlines():\n",
        "    print(line.strip())\n",
        "\n",
        "f.close()\n"
      ]
    },
    {
      "cell_type": "markdown",
      "metadata": {
        "id": "XRqdGxRYDoTb"
      },
      "source": [
        "Errors & Exceptions"
      ]
    },
    {
      "cell_type": "markdown",
      "metadata": {
        "id": "-lflcxJrEySj"
      },
      "source": [
        "**Type error, value error, syntax error, not implemented, out of index, key error, indentation error, attribute error, file not found error, variable not defined, name error, module not found error**"
      ]
    },
    {
      "cell_type": "code",
      "execution_count": null,
      "metadata": {
        "colab": {
          "base_uri": "https://localhost:8080/",
          "height": 141
        },
        "id": "xNETPS-_FZ9H",
        "outputId": "885f839e-e6f8-4715-faa7-8921bb0610c0"
      },
      "outputs": [
        {
          "ename": "NameError",
          "evalue": "name 'x' is not defined",
          "output_type": "error",
          "traceback": [
            "\u001b[0;31m---------------------------------------------------------------------------\u001b[0m",
            "\u001b[0;31mNameError\u001b[0m                                 Traceback (most recent call last)",
            "\u001b[0;32m/tmp/ipython-input-32546335.py\u001b[0m in \u001b[0;36m<cell line: 0>\u001b[0;34m()\u001b[0m\n\u001b[0;32m----> 1\u001b[0;31m \u001b[0mx\u001b[0m\u001b[0;34m\u001b[0m\u001b[0;34m\u001b[0m\u001b[0m\n\u001b[0m",
            "\u001b[0;31mNameError\u001b[0m: name 'x' is not defined"
          ]
        }
      ],
      "source": [
        "x"
      ]
    },
    {
      "cell_type": "code",
      "execution_count": null,
      "metadata": {
        "colab": {
          "base_uri": "https://localhost:8080/",
          "height": 315
        },
        "id": "6FegJ_4AFZ5O",
        "outputId": "cfb5f484-1f26-4a7c-cac8-d20fce45c2d6"
      },
      "outputs": [
        {
          "ename": "ModuleNotFoundError",
          "evalue": "No module named 'xghk'",
          "output_type": "error",
          "traceback": [
            "\u001b[0;31m---------------------------------------------------------------------------\u001b[0m",
            "\u001b[0;31mModuleNotFoundError\u001b[0m                       Traceback (most recent call last)",
            "\u001b[0;32m/tmp/ipython-input-3523425847.py\u001b[0m in \u001b[0;36m<cell line: 0>\u001b[0;34m()\u001b[0m\n\u001b[0;32m----> 1\u001b[0;31m \u001b[0;32mimport\u001b[0m \u001b[0mxghk\u001b[0m\u001b[0;34m\u001b[0m\u001b[0;34m\u001b[0m\u001b[0m\n\u001b[0m",
            "\u001b[0;31mModuleNotFoundError\u001b[0m: No module named 'xghk'",
            "",
            "\u001b[0;31m---------------------------------------------------------------------------\u001b[0;32m\nNOTE: If your import is failing due to a missing package, you can\nmanually install dependencies using either !pip or !apt.\n\nTo view examples of installing some common dependencies, click the\n\"Open Examples\" button below.\n\u001b[0;31m---------------------------------------------------------------------------\u001b[0m\n"
          ]
        }
      ],
      "source": [
        "import xghk"
      ]
    },
    {
      "cell_type": "markdown",
      "metadata": {
        "id": "lV3pxkw8FTAG"
      },
      "source": [
        "Common Built-in Exceptions:\n",
        "\n",
        "ZeroDivisionError: Occurs when dividing by zero.\n",
        "\n",
        "NameError: When a local or global name is not found.\n",
        "\n",
        "TypeError: Passing an object of an inappropriate type.\n",
        "\n",
        "IndexError: When an index is not found in a sequence.\n",
        "\n",
        "KeyError: When a dictionary key is not found.\n",
        "\n",
        "FileNotFoundError: When a file or directory is requested but doesn't exist.\n",
        "\n",
        "Handling Exceptions with try and except:\n",
        "\n",
        "Python uses try and except blocks to catch and handle exceptions."
      ]
    },
    {
      "cell_type": "code",
      "execution_count": null,
      "metadata": {
        "colab": {
          "base_uri": "https://localhost:8080/",
          "height": 141
        },
        "id": "PTc2zzsMsm5s",
        "outputId": "d60578f8-90ec-490f-b69e-48663a323268"
      },
      "outputs": [
        {
          "ename": "ZeroDivisionError",
          "evalue": "division by zero",
          "output_type": "error",
          "traceback": [
            "\u001b[0;31m---------------------------------------------------------------------------\u001b[0m",
            "\u001b[0;31mZeroDivisionError\u001b[0m                         Traceback (most recent call last)",
            "\u001b[0;32m/tmp/ipython-input-3150626867.py\u001b[0m in \u001b[0;36m<cell line: 0>\u001b[0;34m()\u001b[0m\n\u001b[0;32m----> 1\u001b[0;31m \u001b[0;36m3\u001b[0m\u001b[0;34m/\u001b[0m\u001b[0;36m0\u001b[0m\u001b[0;34m\u001b[0m\u001b[0;34m\u001b[0m\u001b[0m\n\u001b[0m",
            "\u001b[0;31mZeroDivisionError\u001b[0m: division by zero"
          ]
        }
      ],
      "source": [
        "3/0"
      ]
    },
    {
      "cell_type": "code",
      "execution_count": null,
      "metadata": {
        "colab": {
          "base_uri": "https://localhost:8080/",
          "height": 141
        },
        "id": "FjeZjjgFF9Cq",
        "outputId": "8748c3f8-f97c-4132-e734-40148f0ebf52"
      },
      "outputs": [
        {
          "ename": "NameError",
          "evalue": "name 'Tax' is not defined",
          "output_type": "error",
          "traceback": [
            "\u001b[0;31m---------------------------------------------------------------------------\u001b[0m",
            "\u001b[0;31mNameError\u001b[0m                                 Traceback (most recent call last)",
            "\u001b[0;32m/tmp/ipython-input-369803586.py\u001b[0m in \u001b[0;36m<cell line: 0>\u001b[0;34m()\u001b[0m\n\u001b[0;32m----> 1\u001b[0;31m \u001b[0mprint\u001b[0m\u001b[0;34m(\u001b[0m\u001b[0mTax\u001b[0m\u001b[0;34m)\u001b[0m\u001b[0;34m\u001b[0m\u001b[0;34m\u001b[0m\u001b[0m\n\u001b[0m",
            "\u001b[0;31mNameError\u001b[0m: name 'Tax' is not defined"
          ]
        }
      ],
      "source": [
        "print(Tax)"
      ]
    },
    {
      "cell_type": "markdown",
      "metadata": {
        "id": "UmJEMMsoGmzQ"
      },
      "source": [
        "len(nikkhil)"
      ]
    },
    {
      "cell_type": "code",
      "execution_count": null,
      "metadata": {
        "colab": {
          "base_uri": "https://localhost:8080/"
        },
        "id": "GfQnLSwDGpcb",
        "outputId": "7f2436b3-f5c6-4891-ca3e-19ce43b56b56"
      },
      "outputs": [
        {
          "data": {
            "text/plain": [
              "7"
            ]
          },
          "execution_count": 5,
          "metadata": {},
          "output_type": "execute_result"
        }
      ],
      "source": [
        "len(\"nikkhil\")"
      ]
    },
    {
      "cell_type": "code",
      "execution_count": null,
      "metadata": {
        "colab": {
          "base_uri": "https://localhost:8080/",
          "height": 141
        },
        "id": "MKhyZJo0GGv6",
        "outputId": "011ad421-92d0-4de8-ee9d-257049346f9d"
      },
      "outputs": [
        {
          "ename": "TypeError",
          "evalue": "object of type 'int' has no len()",
          "output_type": "error",
          "traceback": [
            "\u001b[0;31m---------------------------------------------------------------------------\u001b[0m",
            "\u001b[0;31mTypeError\u001b[0m                                 Traceback (most recent call last)",
            "\u001b[0;32m/tmp/ipython-input-4108502181.py\u001b[0m in \u001b[0;36m<cell line: 0>\u001b[0;34m()\u001b[0m\n\u001b[0;32m----> 1\u001b[0;31m \u001b[0mlen\u001b[0m\u001b[0;34m(\u001b[0m\u001b[0;36m5\u001b[0m\u001b[0;34m)\u001b[0m\u001b[0;34m\u001b[0m\u001b[0;34m\u001b[0m\u001b[0m\n\u001b[0m",
            "\u001b[0;31mTypeError\u001b[0m: object of type 'int' has no len()"
          ]
        }
      ],
      "source": [
        "len(5)"
      ]
    },
    {
      "cell_type": "code",
      "execution_count": null,
      "metadata": {
        "colab": {
          "base_uri": "https://localhost:8080/",
          "height": 158
        },
        "id": "xAHGQ9PUG2UI",
        "outputId": "5cf60845-036e-42a5-8cf8-60232b03f488"
      },
      "outputs": [
        {
          "ename": "IndexError",
          "evalue": "list index out of range",
          "output_type": "error",
          "traceback": [
            "\u001b[0;31m---------------------------------------------------------------------------\u001b[0m",
            "\u001b[0;31mIndexError\u001b[0m                                Traceback (most recent call last)",
            "\u001b[0;32m/tmp/ipython-input-2977494772.py\u001b[0m in \u001b[0;36m<cell line: 0>\u001b[0;34m()\u001b[0m\n\u001b[1;32m      1\u001b[0m \u001b[0mlst\u001b[0m \u001b[0;34m=\u001b[0m \u001b[0;34m[\u001b[0m\u001b[0;36m1\u001b[0m\u001b[0;34m,\u001b[0m\u001b[0;36m2\u001b[0m\u001b[0;34m,\u001b[0m\u001b[0;36m3\u001b[0m\u001b[0;34m]\u001b[0m\u001b[0;34m\u001b[0m\u001b[0;34m\u001b[0m\u001b[0m\n\u001b[0;32m----> 2\u001b[0;31m \u001b[0mlst\u001b[0m\u001b[0;34m[\u001b[0m\u001b[0;36m3\u001b[0m\u001b[0;34m]\u001b[0m\u001b[0;34m\u001b[0m\u001b[0;34m\u001b[0m\u001b[0m\n\u001b[0m",
            "\u001b[0;31mIndexError\u001b[0m: list index out of range"
          ]
        }
      ],
      "source": [
        "lst = [1,2,3]\n",
        "lst[3]"
      ]
    },
    {
      "cell_type": "code",
      "execution_count": null,
      "metadata": {
        "colab": {
          "base_uri": "https://localhost:8080/",
          "height": 158
        },
        "id": "u9_FHKdaH2LQ",
        "outputId": "08b1812d-1663-4166-eab7-2da3da314954"
      },
      "outputs": [
        {
          "ename": "KeyError",
          "evalue": "'age'",
          "output_type": "error",
          "traceback": [
            "\u001b[0;31m---------------------------------------------------------------------------\u001b[0m",
            "\u001b[0;31mKeyError\u001b[0m                                  Traceback (most recent call last)",
            "\u001b[0;32m/tmp/ipython-input-505359191.py\u001b[0m in \u001b[0;36m<cell line: 0>\u001b[0;34m()\u001b[0m\n\u001b[1;32m      1\u001b[0m \u001b[0mdic\u001b[0m \u001b[0;34m=\u001b[0m \u001b[0;34m{\u001b[0m\u001b[0;34m\"name\"\u001b[0m\u001b[0;34m:\u001b[0m \u001b[0;34m\"nikhil\"\u001b[0m\u001b[0;34m}\u001b[0m\u001b[0;34m\u001b[0m\u001b[0;34m\u001b[0m\u001b[0m\n\u001b[0;32m----> 2\u001b[0;31m \u001b[0mdic\u001b[0m\u001b[0;34m[\u001b[0m\u001b[0;34m\"age\"\u001b[0m\u001b[0;34m]\u001b[0m\u001b[0;34m\u001b[0m\u001b[0;34m\u001b[0m\u001b[0m\n\u001b[0m",
            "\u001b[0;31mKeyError\u001b[0m: 'age'"
          ]
        }
      ],
      "source": [
        "dic = {\"name\": \"nikhil\"}\n",
        "dic[\"age\"]"
      ]
    },
    {
      "cell_type": "code",
      "execution_count": null,
      "metadata": {
        "colab": {
          "base_uri": "https://localhost:8080/",
          "height": 141
        },
        "id": "n_v-UFH7IJT2",
        "outputId": "6782c07a-351d-46c5-c031-60af8140faa6"
      },
      "outputs": [
        {
          "ename": "ValueError",
          "evalue": "invalid literal for int() with base 10: 'xyz'",
          "output_type": "error",
          "traceback": [
            "\u001b[0;31m---------------------------------------------------------------------------\u001b[0m",
            "\u001b[0;31mValueError\u001b[0m                                Traceback (most recent call last)",
            "\u001b[0;32m/tmp/ipython-input-4058481231.py\u001b[0m in \u001b[0;36m<cell line: 0>\u001b[0;34m()\u001b[0m\n\u001b[0;32m----> 1\u001b[0;31m \u001b[0mint\u001b[0m\u001b[0;34m(\u001b[0m\u001b[0;34m\"xyz\"\u001b[0m\u001b[0;34m)\u001b[0m\u001b[0;34m\u001b[0m\u001b[0;34m\u001b[0m\u001b[0m\n\u001b[0m",
            "\u001b[0;31mValueError\u001b[0m: invalid literal for int() with base 10: 'xyz'"
          ]
        }
      ],
      "source": [
        "int(\"xyz\")"
      ]
    },
    {
      "cell_type": "code",
      "execution_count": null,
      "metadata": {
        "colab": {
          "base_uri": "https://localhost:8080/",
          "height": 141
        },
        "id": "YiKEisRBIeZt",
        "outputId": "8950c8f4-bc59-46a2-fd79-08b9d99f3631"
      },
      "outputs": [
        {
          "ename": "AttributeError",
          "evalue": "'str' object has no attribute 'append'",
          "output_type": "error",
          "traceback": [
            "\u001b[0;31m---------------------------------------------------------------------------\u001b[0m",
            "\u001b[0;31mAttributeError\u001b[0m                            Traceback (most recent call last)",
            "\u001b[0;32m/tmp/ipython-input-2714028974.py\u001b[0m in \u001b[0;36m<cell line: 0>\u001b[0;34m()\u001b[0m\n\u001b[0;32m----> 1\u001b[0;31m \u001b[0;34m\"hello\"\u001b[0m\u001b[0;34m.\u001b[0m\u001b[0mappend\u001b[0m\u001b[0;34m(\u001b[0m\u001b[0;34m\"age\"\u001b[0m\u001b[0;34m)\u001b[0m\u001b[0;34m\u001b[0m\u001b[0;34m\u001b[0m\u001b[0m\n\u001b[0m",
            "\u001b[0;31mAttributeError\u001b[0m: 'str' object has no attribute 'append'"
          ]
        }
      ],
      "source": [
        "\"hello\".append(\"age\")"
      ]
    },
    {
      "cell_type": "code",
      "execution_count": null,
      "metadata": {
        "id": "jPzu75mjIrLp"
      },
      "outputs": [],
      "source": [
        "try:\n",
        "    # Code block where exception can occur\n",
        "except ExceptionType:\n",
        "    # Code to execute if there is an ExceptionType exception"
      ]
    },
    {
      "cell_type": "code",
      "execution_count": null,
      "metadata": {
        "colab": {
          "base_uri": "https://localhost:8080/"
        },
        "id": "NnPGHq2KMKxv",
        "outputId": "8cfa8103-bb26-427f-8660-40d6ad854a41"
      },
      "outputs": [
        {
          "name": "stdout",
          "output_type": "stream",
          "text": [
            "Attempt to divide by zero will not work\n"
          ]
        }
      ],
      "source": [
        "try:\n",
        "  result = 20 /0\n",
        "except ZeroDivisionError:\n",
        "  print(\"Attempt to divide by zero will not work\")\n",
        "\n",
        "  #ZeroDivisionError: division by zero"
      ]
    },
    {
      "cell_type": "code",
      "execution_count": null,
      "metadata": {
        "colab": {
          "base_uri": "https://localhost:8080/",
          "height": 367
        },
        "id": "aZO5PITpMspo",
        "outputId": "bc537284-fb51-4277-a9de-de6ae731a354"
      },
      "outputs": [
        {
          "ename": "KeyboardInterrupt",
          "evalue": "",
          "output_type": "error",
          "traceback": [
            "\u001b[0;31m---------------------------------------------------------------------------\u001b[0m",
            "\u001b[0;31mZeroDivisionError\u001b[0m                         Traceback (most recent call last)",
            "\u001b[0;32m/tmp/ipython-input-3110819296.py\u001b[0m in \u001b[0;36m<cell line: 0>\u001b[0;34m()\u001b[0m\n\u001b[1;32m      1\u001b[0m \u001b[0;32mtry\u001b[0m\u001b[0;34m:\u001b[0m\u001b[0;34m\u001b[0m\u001b[0;34m\u001b[0m\u001b[0m\n\u001b[0;32m----> 2\u001b[0;31m     \u001b[0mresult\u001b[0m \u001b[0;34m=\u001b[0m \u001b[0;36m20\u001b[0m \u001b[0;34m/\u001b[0m \u001b[0;36m0\u001b[0m\u001b[0;34m\u001b[0m\u001b[0;34m\u001b[0m\u001b[0m\n\u001b[0m\u001b[1;32m      3\u001b[0m \u001b[0;32mexcept\u001b[0m \u001b[0mZeroDivisionError\u001b[0m\u001b[0;34m:\u001b[0m\u001b[0;34m\u001b[0m\u001b[0;34m\u001b[0m\u001b[0m\n",
            "\u001b[0;31mZeroDivisionError\u001b[0m: division by zero",
            "\nDuring handling of the above exception, another exception occurred:\n",
            "\u001b[0;31mKeyboardInterrupt\u001b[0m                         Traceback (most recent call last)",
            "\u001b[0;32m/tmp/ipython-input-3110819296.py\u001b[0m in \u001b[0;36m<cell line: 0>\u001b[0;34m()\u001b[0m\n\u001b[1;32m      2\u001b[0m     \u001b[0mresult\u001b[0m \u001b[0;34m=\u001b[0m \u001b[0;36m20\u001b[0m \u001b[0;34m/\u001b[0m \u001b[0;36m0\u001b[0m\u001b[0;34m\u001b[0m\u001b[0;34m\u001b[0m\u001b[0m\n\u001b[1;32m      3\u001b[0m \u001b[0;32mexcept\u001b[0m \u001b[0mZeroDivisionError\u001b[0m\u001b[0;34m:\u001b[0m\u001b[0;34m\u001b[0m\u001b[0;34m\u001b[0m\u001b[0m\n\u001b[0;32m----> 4\u001b[0;31m     \u001b[0;32mwhile\u001b[0m \u001b[0;32mTrue\u001b[0m\u001b[0;34m:\u001b[0m\u001b[0;34m\u001b[0m\u001b[0;34m\u001b[0m\u001b[0m\n\u001b[0m\u001b[1;32m      5\u001b[0m         \u001b[0;32mpass\u001b[0m   \u001b[0;31m# infinite loop\u001b[0m\u001b[0;34m\u001b[0m\u001b[0;34m\u001b[0m\u001b[0m\n",
            "\u001b[0;31mKeyboardInterrupt\u001b[0m: "
          ]
        }
      ],
      "source": [
        "try:\n",
        "    result = 20 / 0\n",
        "except ZeroDivisionError:\n",
        "    while True:\n",
        "        pass   # infinite loop\n",
        "#illogical bug"
      ]
    },
    {
      "cell_type": "code",
      "execution_count": null,
      "metadata": {
        "colab": {
          "base_uri": "https://localhost:8080/"
        },
        "id": "DNYGJ7jQN9gC",
        "outputId": "68ecf2d6-b424-4891-b69f-8323bbd5b5d9"
      },
      "outputs": [
        {
          "name": "stdout",
          "output_type": "stream",
          "text": [
            "Variable of such name doesnt exist\n"
          ]
        }
      ],
      "source": [
        "try:\n",
        "  print(nikhil)\n",
        "except NameError:\n",
        "  print(\"Variable of such name doesnt exist\")"
      ]
    },
    {
      "cell_type": "code",
      "execution_count": null,
      "metadata": {
        "colab": {
          "base_uri": "https://localhost:8080/"
        },
        "id": "koC-uU2WOpGH",
        "outputId": "7fab0d35-a35b-4a04-f030-7011338fb48b"
      },
      "outputs": [
        {
          "name": "stdout",
          "output_type": "stream",
          "text": [
            "wrong data type with len method\n"
          ]
        }
      ],
      "source": [
        "try:\n",
        "  len(5)\n",
        "except TypeError:\n",
        "  print('wrong data type with len method')"
      ]
    },
    {
      "cell_type": "code",
      "execution_count": null,
      "metadata": {
        "colab": {
          "base_uri": "https://localhost:8080/"
        },
        "id": "SyKSiCseO0cv",
        "outputId": "b999cb1b-e103-421d-c5b7-eab7ff9c4778"
      },
      "outputs": [
        {
          "name": "stdout",
          "output_type": "stream",
          "text": [
            "Variable of such name doesnt exist\n"
          ]
        }
      ],
      "source": [
        "try:\n",
        "  print(lste)\n",
        "  print(len(5))\n",
        "except NameError:\n",
        "  print(\"Variable of such name doesnt exist\")\n",
        "except TypeError:\n",
        "  print(\"'wrong data type with len method'\")"
      ]
    },
    {
      "cell_type": "code",
      "execution_count": null,
      "metadata": {
        "id": "EaNrzw9PPKoQ"
      },
      "outputs": [],
      "source": [
        "#nested try and except\n",
        "\n",
        "try:\n",
        "    file = open(\"data.txt\", \"r\")\n",
        "    try:\n",
        "        content = file.read()\n",
        "        print(content[1000])  # Might raise IndexError\n",
        "    except IndexError:\n",
        "        print(\"Inner except: Tried to access content beyond range\")\n",
        "    finally:\n",
        "        file.close()\n",
        "        print(\"Inner finally: File closed\")\n",
        "except FileNotFoundError:\n",
        "    print(\"Outer except: File does not exist\")\n"
      ]
    },
    {
      "cell_type": "markdown",
      "metadata": {
        "id": "KMK9SYUyR4sC"
      },
      "source": [
        "OOPs"
      ]
    },
    {
      "cell_type": "code",
      "execution_count": null,
      "metadata": {
        "colab": {
          "base_uri": "https://localhost:8080/"
        },
        "id": "yJiJaWKER5r5",
        "outputId": "e7ade3fa-29e4-406a-faaf-3848c8acefb9"
      },
      "outputs": [
        {
          "name": "stdout",
          "output_type": "stream",
          "text": [
            "John\n",
            "26\n"
          ]
        }
      ],
      "source": [
        "class Employee:\n",
        "    name = \"John\"\n",
        "    age = 26\n",
        "\n",
        "#declare object using class employee\n",
        "h1 = Employee() #object is the instance of the class\n",
        "\n",
        "#print features\n",
        "print(h1.name)\n",
        "print(h1.age)"
      ]
    },
    {
      "cell_type": "code",
      "execution_count": null,
      "metadata": {
        "colab": {
          "base_uri": "https://localhost:8080/"
        },
        "id": "DvUDehLfXUgw",
        "outputId": "15cef62c-ea40-425b-ed8e-92c9cbc4b16a"
      },
      "outputs": [
        {
          "name": "stdout",
          "output_type": "stream",
          "text": [
            "I am a customer NIkhil\n",
            "The age is  36\n",
            "I am a customer Poonam\n",
            "The age is  32\n",
            "I am a customer Sarvesh\n",
            "The age is  42\n"
          ]
        }
      ],
      "source": [
        "class customer:\n",
        "    def identity(self,name, age):\n",
        "        print(\"I am a customer \" + name)\n",
        "        print(\"The age is \", age)\n",
        "\n",
        "cust = customer() #declaration of object\n",
        "\n",
        "cust.identity(\"NIkhil\", 36)\n",
        "cust.identity(\"Poonam\", 32)\n",
        "cust.identity(\"Sarvesh\", 42)"
      ]
    },
    {
      "cell_type": "code",
      "execution_count": null,
      "metadata": {
        "colab": {
          "base_uri": "https://localhost:8080/"
        },
        "id": "IzqLO5Baee-m",
        "outputId": "66d249ed-d7a7-4fc2-9c66-90d75e195fd8"
      },
      "outputs": [
        {
          "name": "stdout",
          "output_type": "stream",
          "text": [
            "Nikhil 36\n",
            "Poonam 32\n",
            "Sarvesh 42\n"
          ]
        }
      ],
      "source": [
        "class Customer:\n",
        "    def set_details(self, new_name, new_age):\n",
        "        self.name = new_name#declaring name attribute\n",
        "        self.age = new_age#declaring age attribute\n",
        "\n",
        "cust = Customer()#declaration of an object\n",
        "\n",
        "cust.set_details(\"Nikhil\", 36)\n",
        "print(cust.name, cust.age)\n",
        "\n",
        "cust.set_details(\"Poonam\", 32)\n",
        "print(cust.name, cust.age)\n",
        "\n",
        "cust.set_details(\"Sarvesh\", 42)\n",
        "print(cust.name, cust.age)"
      ]
    },
    {
      "cell_type": "code",
      "execution_count": null,
      "metadata": {
        "colab": {
          "base_uri": "https://localhost:8080/"
        },
        "id": "HePZ91t7fbaJ",
        "outputId": "4148d308-9d97-45fd-d572-0153af4504e2"
      },
      "outputs": [
        {
          "name": "stdout",
          "output_type": "stream",
          "text": [
            "Sam 36\n",
            "Rakesh 42\n",
            "Aditya 24\n"
          ]
        }
      ],
      "source": [
        "class Employee:\n",
        "    def __init__(self, name, age):\n",
        "        self.name = name\n",
        "        self.age = age\n",
        "\n",
        "e1 = Employee(\"Sam\", 36) #init is implicitly called\n",
        "e2 = Employee(\"Rakesh\", 42)\n",
        "e3 = Employee(\"Aditya\", 24)\n",
        "\n",
        "print(e1.name, e1.age)\n",
        "print(e2.name, e2.age)\n",
        "print(e3.name, e3.age)"
      ]
    },
    {
      "cell_type": "code",
      "execution_count": null,
      "metadata": {
        "colab": {
          "base_uri": "https://localhost:8080/"
        },
        "id": "FfrZpOXFggwK",
        "outputId": "25ab49af-f9ea-4aa6-dc6e-9a8e2faffe39"
      },
      "outputs": [
        {
          "name": "stdout",
          "output_type": "stream",
          "text": [
            "My name is  NIkhil\n",
            "My age is  36\n"
          ]
        }
      ],
      "source": [
        "class Employee:\n",
        "    def __init__(self, name, age):\n",
        "        self.name = name\n",
        "        self.age = age\n",
        "\n",
        "    def Print(self):#no parameters\n",
        "        print(\"My name is \", self.name)\n",
        "        print(\"My age is \", self.age)\n",
        "\n",
        "p1 = Employee(\"NIkhil\", 36).Print()\n",
        "p2 = Employee(\"Prerna\", 30)\n",
        "p3 = Employee(\"Sriram\", 26)\n",
        "p4 = Employee(\"Mangesh\", 18)\n",
        "p5 = Employee(\"Shukla\", 32)\n",
        "p6 = Employee(\"Hari\", 15)\n",
        "\n",
        "p1.Print()\n",
        "p2.Print()\n",
        "p3.Print()\n",
        "p4.Print()\n",
        "p5.Print()\n",
        "p6.Print()\n"
      ]
    },
    {
      "cell_type": "code",
      "execution_count": null,
      "metadata": {
        "colab": {
          "base_uri": "https://localhost:8080/"
        },
        "id": "ZTyCWO1chjTc",
        "outputId": "53ef90a1-b214-4aaa-9f03-64170153ced6"
      },
      "outputs": [
        {
          "name": "stdout",
          "output_type": "stream",
          "text": [
            "Brain Lara 0\n"
          ]
        }
      ],
      "source": [
        "class Customer:\n",
        "    def __init__(self, name, balance=0):\n",
        "        self.name = name\n",
        "        self.balance = balance\n",
        "\n",
        "cust = Customer(\"Brain Lara\")\n",
        "\n",
        "print(cust.name, cust.balance)"
      ]
    },
    {
      "cell_type": "code",
      "execution_count": null,
      "metadata": {
        "colab": {
          "base_uri": "https://localhost:8080/"
        },
        "id": "nUlzQBwIjVKS",
        "outputId": "ee3c3185-f9a9-4ce6-ed28-931ccb616fe5"
      },
      "outputs": [
        {
          "name": "stdout",
          "output_type": "stream",
          "text": [
            "John Doe\n"
          ]
        }
      ],
      "source": [
        "class Person:\n",
        "    def __init__(self, fname, lname):\n",
        "        self.firstname = fname\n",
        "        self.lastname = lname\n",
        "\n",
        "    def printname(self):\n",
        "        print(self.firstname, self.lastname)\n",
        "\n",
        "x = Person(\"John\", \"Doe\")\n",
        "\n",
        "x.printname()"
      ]
    },
    {
      "cell_type": "code",
      "execution_count": null,
      "metadata": {
        "id": "3Wi7o8WYnaR4"
      },
      "outputs": [],
      "source": [
        "class child(Person):\n",
        "    pass"
      ]
    },
    {
      "cell_type": "code",
      "execution_count": null,
      "metadata": {
        "colab": {
          "base_uri": "https://localhost:8080/"
        },
        "id": "6qxLq7ZunsQY",
        "outputId": "6767924c-f737-4d5f-cd73-30ed44d2dd93"
      },
      "outputs": [
        {
          "name": "stdout",
          "output_type": "stream",
          "text": [
            "John Doe\n"
          ]
        }
      ],
      "source": [
        "y = Person(\"John\", \"Doe\")\n",
        "\n",
        "y.printname()"
      ]
    },
    {
      "cell_type": "code",
      "execution_count": null,
      "metadata": {
        "colab": {
          "base_uri": "https://localhost:8080/",
          "height": 106
        },
        "id": "XOWfbKZPn4Uy",
        "outputId": "59689fa1-7813-46af-de89-92fd4ba14b71"
      },
      "outputs": [
        {
          "ename": "SyntaxError",
          "evalue": "incomplete input (3619039475.py, line 3)",
          "output_type": "error",
          "traceback": [
            "  \u001b[36mCell\u001b[39m\u001b[36m \u001b[39m\u001b[32mIn[2]\u001b[39m\u001b[32m, line 3\u001b[39m\n\u001b[31m    \u001b[39m\u001b[31m#inheritance is lost if init constructor is used in child class\u001b[39m\n                                                                   ^\n\u001b[31mSyntaxError\u001b[39m\u001b[31m:\u001b[39m incomplete input\n"
          ]
        }
      ],
      "source": [
        "class child(Person):\n",
        "    def __init__():\n",
        "        pass"
      ]
    },
    {
      "cell_type": "code",
      "execution_count": null,
      "metadata": {
        "id": "oYqFHaI_o3wD"
      },
      "outputs": [],
      "source": [
        "class Student(Person):#fname and lname\n",
        "    def __init__(self, fname, lname, year):#year is the additional attribute\n",
        "        Person.__init__(self, fname, lname)#additional call to the parent class"
      ]
    },
    {
      "cell_type": "code",
      "execution_count": null,
      "metadata": {
        "id": "1xXjSRNHpWgl"
      },
      "outputs": [],
      "source": [
        "#using the super function\n",
        "class Student(Person):\n",
        "    def __init__(self, fname, lname, year):\n",
        "        super().__init__(fname, lname)#will come from the parent class"
      ]
    }
  ],
  "metadata": {
    "colab": {
      "provenance": []
    },
    "kernelspec": {
      "display_name": "iitmenv1",
      "language": "python",
      "name": "python3"
    },
    "language_info": {
      "codemirror_mode": {
        "name": "ipython",
        "version": 3
      },
      "file_extension": ".py",
      "mimetype": "text/x-python",
      "name": "python",
      "nbconvert_exporter": "python",
      "pygments_lexer": "ipython3",
      "version": "3.11.11"
    }
  },
  "nbformat": 4,
  "nbformat_minor": 0
}
