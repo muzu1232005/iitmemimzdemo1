{
 "cells": [
  {
   "cell_type": "code",
   "execution_count": 61,
   "id": "e76163ad",
   "metadata": {},
   "outputs": [
    {
     "data": {
      "text/plain": [
       "set()"
      ]
     },
     "execution_count": 61,
     "metadata": {},
     "output_type": "execute_result"
    }
   ],
   "source": [
    "# set() function - creates a unique set\n",
    "empty_set = set()\n",
    "empty_set"
   ]
  },
  {
   "cell_type": "code",
   "execution_count": 62,
   "id": "6293e78a",
   "metadata": {},
   "outputs": [
    {
     "data": {
      "text/plain": [
       "{456, '456', 'IITM', 'green'}"
      ]
     },
     "execution_count": 62,
     "metadata": {},
     "output_type": "execute_result"
    }
   ],
   "source": [
    "set1 ={'green','456','IITM','456',456}\n",
    "# Only unique values are taken. Auto removes duplicate elements\n",
    "set1"
   ]
  },
  {
   "cell_type": "code",
   "execution_count": 63,
   "id": "837193b4",
   "metadata": {},
   "outputs": [
    {
     "data": {
      "text/plain": [
       "{456, '456', 'IITM', 'green'}"
      ]
     },
     "execution_count": 63,
     "metadata": {},
     "output_type": "execute_result"
    }
   ],
   "source": [
    "lst1 =['green','456','IITM','456',456,'IITM','IITM','IITM']\n",
    "# Only unique values are taken. Auto removes duplicate elements\n",
    "setlst1 = set(lst1)\n",
    "setlst1"
   ]
  },
  {
   "cell_type": "code",
   "execution_count": 64,
   "id": "bca2308f",
   "metadata": {},
   "outputs": [
    {
     "data": {
      "text/plain": [
       "{'456', 'IITM', 'green'}"
      ]
     },
     "execution_count": 64,
     "metadata": {},
     "output_type": "execute_result"
    }
   ],
   "source": [
    "set2 ={'green','456','IITM'}\n",
    "set2"
   ]
  },
  {
   "cell_type": "code",
   "execution_count": 65,
   "id": "d958fecb",
   "metadata": {},
   "outputs": [
    {
     "data": {
      "text/plain": [
       "{'456', 'IITC', 'IITD', 'IITM', 'green'}"
      ]
     },
     "execution_count": 65,
     "metadata": {},
     "output_type": "execute_result"
    }
   ],
   "source": [
    "set2.add('IITD')\n",
    "set2.add('IITC')\n",
    "set2"
   ]
  },
  {
   "cell_type": "code",
   "execution_count": 66,
   "id": "5bf4edfd",
   "metadata": {},
   "outputs": [
    {
     "data": {
      "text/plain": [
       "{'456', 'IITC', 'IITM', 'green'}"
      ]
     },
     "execution_count": 66,
     "metadata": {},
     "output_type": "execute_result"
    }
   ],
   "source": [
    "set2.remove('IITD')\n",
    "set2"
   ]
  },
  {
   "cell_type": "code",
   "execution_count": 3,
   "id": "32631070",
   "metadata": {},
   "outputs": [
    {
     "name": "stdout",
     "output_type": "stream",
     "text": [
      "0\n",
      "1\n",
      "2\n",
      "range(0, 3)\n"
     ]
    }
   ],
   "source": [
    "for i in range(3):\n",
    "    print(i)\n",
    "\n",
    "print(range(3))"
   ]
  },
  {
   "cell_type": "code",
   "execution_count": 67,
   "id": "7b8471e3",
   "metadata": {},
   "outputs": [
    {
     "data": {
      "text/plain": [
       "{'456', 'IITC', 'IITM', 'green'}"
      ]
     },
     "execution_count": 67,
     "metadata": {},
     "output_type": "execute_result"
    }
   ],
   "source": [
    "set2.discard('dummy')\n",
    "set2"
   ]
  },
  {
   "cell_type": "code",
   "execution_count": 68,
   "id": "60b9a1a6",
   "metadata": {},
   "outputs": [
    {
     "data": {
      "text/plain": [
       "{'456', 'IITC', 'IITM'}"
      ]
     },
     "execution_count": 68,
     "metadata": {},
     "output_type": "execute_result"
    }
   ],
   "source": [
    "set2.discard('green')\n",
    "set2"
   ]
  },
  {
   "cell_type": "code",
   "execution_count": 69,
   "id": "da6df7e1",
   "metadata": {},
   "outputs": [
    {
     "data": {
      "text/plain": [
       "set()"
      ]
     },
     "execution_count": 69,
     "metadata": {},
     "output_type": "execute_result"
    }
   ],
   "source": [
    "set2.clear()\n",
    "set2"
   ]
  },
  {
   "cell_type": "code",
   "execution_count": 70,
   "id": "b143dff6",
   "metadata": {},
   "outputs": [],
   "source": [
    "mzset1 = {4,5,6}\n",
    "mzset2 = {6,5,90}\n"
   ]
  },
  {
   "cell_type": "code",
   "execution_count": 71,
   "id": "fd1df726",
   "metadata": {},
   "outputs": [
    {
     "name": "stdout",
     "output_type": "stream",
     "text": [
      "{4, 5, 6, 90}\n"
     ]
    }
   ],
   "source": [
    "# union - combines all unique values from 2 sets\n",
    "print(mzset1 | mzset2)"
   ]
  },
  {
   "cell_type": "code",
   "execution_count": 72,
   "id": "4a7bb23b",
   "metadata": {},
   "outputs": [
    {
     "name": "stdout",
     "output_type": "stream",
     "text": [
      "{5, 6}\n"
     ]
    }
   ],
   "source": [
    "# intersection - gives common elements from 2 sets\n",
    "print(mzset1 & mzset2)"
   ]
  },
  {
   "cell_type": "code",
   "execution_count": 73,
   "id": "9b3a4ced",
   "metadata": {},
   "outputs": [
    {
     "name": "stdout",
     "output_type": "stream",
     "text": [
      "{4}\n",
      "{90}\n"
     ]
    }
   ],
   "source": [
    "# differrence - identifies elements in 1st that are not in 2nd.\n",
    "print(mzset1 - mzset2)\n",
    "print(mzset2 - mzset1)"
   ]
  },
  {
   "cell_type": "code",
   "execution_count": 74,
   "id": "35349663",
   "metadata": {},
   "outputs": [
    {
     "name": "stdout",
     "output_type": "stream",
     "text": [
      "{90, 4}\n"
     ]
    }
   ],
   "source": [
    "#symmetric differrence - return unique items in each set.\n",
    "print(mzset1 ^ mzset2)"
   ]
  },
  {
   "cell_type": "code",
   "execution_count": null,
   "id": "a73bde28",
   "metadata": {},
   "outputs": [
    {
     "ename": "TypeError",
     "evalue": "'set' object is not callable",
     "output_type": "error",
     "traceback": [
      "\u001b[31m---------------------------------------------------------------------------\u001b[39m",
      "\u001b[31mTypeError\u001b[39m                                 Traceback (most recent call last)",
      "\u001b[36mCell\u001b[39m\u001b[36m \u001b[39m\u001b[32mIn[60]\u001b[39m\u001b[32m, line 2\u001b[39m\n\u001b[32m      1\u001b[39m \u001b[38;5;66;03m#set is not indexable and no mutable elements can be added.\u001b[39;00m\n\u001b[32m----> \u001b[39m\u001b[32m2\u001b[39m \u001b[43mmzset1\u001b[49m\u001b[43m(\u001b[49m\u001b[32;43m2\u001b[39;49m\u001b[43m)\u001b[49m\n",
      "\u001b[31mTypeError\u001b[39m: 'set' object is not callable"
     ]
    }
   ],
   "source": [
    "#set is not indexable and no mutable elements can be added.\n",
    "mzset1(2)\n"
   ]
  }
 ],
 "metadata": {
  "kernelspec": {
   "display_name": "iitmenv1",
   "language": "python",
   "name": "python3"
  },
  "language_info": {
   "codemirror_mode": {
    "name": "ipython",
    "version": 3
   },
   "file_extension": ".py",
   "mimetype": "text/x-python",
   "name": "python",
   "nbconvert_exporter": "python",
   "pygments_lexer": "ipython3",
   "version": "3.11.11"
  }
 },
 "nbformat": 4,
 "nbformat_minor": 5
}
