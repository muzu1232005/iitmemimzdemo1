{
 "cells": [
  {
   "cell_type": "code",
   "execution_count": null,
   "id": "ccbbf281",
   "metadata": {},
   "outputs": [],
   "source": [
    "#In Python, you cannot define multiple methods with the same name in a class. \n",
    "\n",
    "class Person:\n",
    "# constructor\n",
    "    def __init__(self, i_first_name,i_last_name,i_age):\n",
    "        self.first_name = i_first_name\n",
    "        self.last_name = i_last_name\n",
    "        self.age = i_age\n",
    "        \n",
    "    def display_details(self):\n",
    "        print(\"First_name : \",self.first_name)\n",
    "        print(\"Last_name : \",self.last_name)    \n",
    "        print(\"age : \",self.age)   \n",
    "     "
   ]
  },
  {
   "cell_type": "markdown",
   "id": "4542c9e1",
   "metadata": {},
   "source": [
    "- This defines a new class called Person\n",
    "- __init__ is the constructor method. It runs automatically when you create a new Person object.\n",
    "           This initializes object attributes when a new instance is created.\n",
    "- self refers to the current instance of the class.\n",
    "- The parameters i_first_name, i_last_name, and i_age are passed in when the object is created.\n",
    "- These values are stored in the instance using self.first_name, self.last_name, and self.age.\n",
    "\n",
    "Summary\n",
    "| Component                | Purpose | \n",
    "| __init__                 | Initializes object attributes when a new instance is created | \n",
    "| self.attribute           | Stores data specific to each object | \n",
    "| display_details          | Prints the stored attributes | \n"
   ]
  },
  {
   "cell_type": "code",
   "execution_count": null,
   "id": "231f0d0d",
   "metadata": {},
   "outputs": [],
   "source": [
    "person1 = Person(\"john\",\"cena\",25)\n",
    "person1.display_details()"
   ]
  },
  {
   "cell_type": "code",
   "execution_count": null,
   "id": "01f20f41",
   "metadata": {},
   "outputs": [],
   "source": [
    "# Inheritance\n",
    "class Employee(Person):\n",
    "\n",
    "    def __init__(self, i_first_name,i_last_name,i_age,i_empid,i_depname,i_emp_email):\n",
    "        self.empid = i_empid\n",
    "        self.depname = i_depname\n",
    "        self.emp_email = i_emp_email\n",
    "        super().__init__(i_first_name,i_last_name,i_age)\n",
    "\n",
    "    def display_details(self):\n",
    "        print(\"Emp ID : \",self.empid)\n",
    "        print(\"Dep Name : \",self.depname)\n",
    "        print(\"Company Email : \",self.emp_email)\n",
    "        super().display_details()     "
   ]
  },
  {
   "cell_type": "markdown",
   "id": "e4da8562",
   "metadata": {},
   "source": [
    "You're defining a class Employee that inherits from another class Person. This means Employee gets all the attributes and methods of Person, and can also add its own.\n",
    "- This defines a new class Employee that inherits from Person.\n",
    "- Employee is a subclass, and Person is the superclass.\n",
    "- Inheritance lets you reuse and extend existing functionality.\n",
    "\n",
    "def __init__(self, i_first_name,i_last_name,i_age,i_empid,i_depname,i_emp_email)\n",
    "- This is the constructor for Employee.\n",
    "- It takes six arguments: three for the Person part, and three for the Employee-specific part.\n",
    "- self.empid, self.depname, and self.emp_email are stored as attributes of the Employee.\n",
    "- super().__init__() calls the constructor of the Person class to initialize first_name, last_name, and age.\n",
    "\n",
    "- This method prints the employee-specific details.\n",
    "- Then it calls super().display_details() to also print the inherited Person details.\n",
    "- This is an example of method overriding: you're customizing the behavior of display_details while still using the original    \n",
    "  version.\n",
    "\n",
    " Summary\n",
    "| Concept           | Explanation | \n",
    "| Inheritance       | Employee inherits from Person | \n",
    "| super()           | Calls methods from the parent class (Person) | \n",
    "| Method Overriding | Employee redefines display_details but still uses Person's version | \n"
   ]
  },
  {
   "cell_type": "code",
   "execution_count": null,
   "id": "44f98c66",
   "metadata": {},
   "outputs": [],
   "source": [
    "employee1 = Employee(\"Raj\",\"Sekar\",31,9088,\"Electronics\",\"Raj.Sekar@emiritius.com\")\n",
    "employee1.display_details()"
   ]
  },
  {
   "cell_type": "code",
   "execution_count": null,
   "id": "55f8948e",
   "metadata": {},
   "outputs": [],
   "source": [
    "class PersIdentity:\n",
    "    def __init__(self, fname, lname):\n",
    "        self.firstname = fname\n",
    "        self.lastname = lname\n",
    "\n",
    "    def printname(self):\n",
    "        print(self.firstname, self.lastname)\n",
    "\n",
    "class AnnonymousIdent(PersIdentity):\n",
    "    def __init__(): # AnnonymousIdent.__init__() takes 0 positional arguments\n",
    "      pass\n",
    "\n",
    "AnnonymousIdent(\"raj\",\"mathur\")"
   ]
  },
  {
   "cell_type": "code",
   "execution_count": null,
   "id": "6e516b69",
   "metadata": {},
   "outputs": [],
   "source": [
    "# Using the parent class name itself\n",
    "class Student(Person):#fname and lname\n",
    "    def __init__(self, fname, lname, age, i_course, i_college_name):#year is the additional attribute\n",
    "        self.course = i_course\n",
    "        self.college_name = i_college_name\n",
    "        Person.__init__(self, fname,lname, age)#additional call to the parent class\n",
    "    \n",
    "    def display_details(self):\n",
    "        print(\"Student Course : \",self.course)\n",
    "        print(\"college Name : \",self.college_name)\n",
    "        Person.display_details(self)     "
   ]
  },
  {
   "cell_type": "code",
   "execution_count": 69,
   "id": "bcce366c",
   "metadata": {},
   "outputs": [
    {
     "name": "stdout",
     "output_type": "stream",
     "text": [
      "Student Course :  Electronics\n",
      "college Name :  SKCET\n",
      "First_name :  Kiran\n",
      "Last_name :  Rathod\n",
      "age :  33\n"
     ]
    }
   ],
   "source": [
    "stdnt1 = Student(\"Kiran\",\"Rathod\",33,\"Electronics\",\"SKCET\")\n",
    "stdnt1.display_details()"
   ]
  },
  {
   "cell_type": "code",
   "execution_count": null,
   "id": "a39a8729",
   "metadata": {},
   "outputs": [
    {
     "name": "stdout",
     "output_type": "stream",
     "text": [
      "stdnt initialization is : <__main__.Student object at 0x0000012F165706D0>\n",
      "Student Course :  788888888\n",
      "college Name :  77777777777\n",
      "First_name :  Kiran\n",
      "Last_name :  Rathod\n",
      "age :  SKCET\n"
     ]
    }
   ],
   "source": [
    "stdnt2 = None\n",
    "try:\n",
    "    stdnt2 = Student(\"Kiran\",\"Rathod\",\"SKCET\")\n",
    "except Exception as exception_object:\n",
    "    print(f\"Exception occuured. Exception Message : {exception_object}\")\n",
    "finally:\n",
    "    print(f\"stdnt initialization is : {stdnt2}\")\n",
    "    if(stdnt2 is not None):\n",
    "           stdnt2.display_details()"
   ]
  }
 ],
 "metadata": {
  "kernelspec": {
   "display_name": "iitmenv1",
   "language": "python",
   "name": "python3"
  },
  "language_info": {
   "codemirror_mode": {
    "name": "ipython",
    "version": 3
   },
   "file_extension": ".py",
   "mimetype": "text/x-python",
   "name": "python",
   "nbconvert_exporter": "python",
   "pygments_lexer": "ipython3",
   "version": "3.11.11"
  }
 },
 "nbformat": 4,
 "nbformat_minor": 5
}
