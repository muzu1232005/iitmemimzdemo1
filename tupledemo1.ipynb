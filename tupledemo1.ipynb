{
 "cells": [
  {
   "cell_type": "code",
   "execution_count": 30,
   "id": "5e97e128",
   "metadata": {},
   "outputs": [
    {
     "data": {
      "text/plain": [
       "()"
      ]
     },
     "execution_count": 30,
     "metadata": {},
     "output_type": "execute_result"
    }
   ],
   "source": [
    "empty_tuple = ()\n",
    "empty_tuple"
   ]
  },
  {
   "cell_type": "code",
   "execution_count": 31,
   "id": "f4d73565",
   "metadata": {},
   "outputs": [
    {
     "data": {
      "text/plain": [
       "(2,)"
      ]
     },
     "execution_count": 31,
     "metadata": {},
     "output_type": "execute_result"
    }
   ],
   "source": [
    "tuple1 = (2,)\n",
    "tuple1"
   ]
  },
  {
   "cell_type": "code",
   "execution_count": 32,
   "id": "3d65d555",
   "metadata": {},
   "outputs": [
    {
     "data": {
      "text/plain": [
       "('green', 100, 'blue', 200.5)"
      ]
     },
     "execution_count": 32,
     "metadata": {},
     "output_type": "execute_result"
    }
   ],
   "source": [
    "#immutable tuple that is ordered with insertion order and immutable after creation\n",
    "tuple2 = (\"green\",100,\"blue\",200.5)\n",
    "tuple2"
   ]
  },
  {
   "cell_type": "code",
   "execution_count": 33,
   "id": "f2bc2033",
   "metadata": {},
   "outputs": [
    {
     "data": {
      "text/plain": [
       "100"
      ]
     },
     "execution_count": 33,
     "metadata": {},
     "output_type": "execute_result"
    }
   ],
   "source": [
    "tuple2[1]"
   ]
  },
  {
   "cell_type": "code",
   "execution_count": 34,
   "id": "9a5f4fa2",
   "metadata": {},
   "outputs": [
    {
     "data": {
      "text/plain": [
       "200.5"
      ]
     },
     "execution_count": 34,
     "metadata": {},
     "output_type": "execute_result"
    }
   ],
   "source": [
    "tuple2[-1]"
   ]
  },
  {
   "cell_type": "code",
   "execution_count": 35,
   "id": "c033e592",
   "metadata": {},
   "outputs": [
    {
     "name": "stdout",
     "output_type": "stream",
     "text": [
      "tuple2.count(100) -->  1\n"
     ]
    }
   ],
   "source": [
    "print(\"tuple2.count(100) --> \",tuple2.count(100))"
   ]
  },
  {
   "cell_type": "code",
   "execution_count": 36,
   "id": "0f911fb8",
   "metadata": {},
   "outputs": [
    {
     "name": "stdout",
     "output_type": "stream",
     "text": [
      "green\n",
      "100\n",
      "blue\n",
      "200.5\n"
     ]
    }
   ],
   "source": [
    "for itm in tuple2:\n",
    "  print(itm)"
   ]
  },
  {
   "cell_type": "code",
   "execution_count": 42,
   "id": "31791cd7",
   "metadata": {},
   "outputs": [
    {
     "name": "stdout",
     "output_type": "stream",
     "text": [
      "<function cordinates1 at 0x00000236597CEDE0>\n"
     ]
    }
   ],
   "source": [
    "#return multiple values from a function\n",
    "def cordinates1():\n",
    "    return (450,500)\n",
    "\n",
    "print(cordinates1)"
   ]
  },
  {
   "cell_type": "code",
   "execution_count": 41,
   "id": "551c5f93",
   "metadata": {},
   "outputs": [
    {
     "data": {
      "text/plain": [
       "('#FF5733', '#33FF57')"
      ]
     },
     "execution_count": 41,
     "metadata": {},
     "output_type": "execute_result"
    }
   ],
   "source": [
    "#store constant values\n",
    "color_codes = ('#FF5733','#33FF57')\n",
    "color_codes"
   ]
  },
  {
   "cell_type": "code",
   "execution_count": 38,
   "id": "bb71322a",
   "metadata": {},
   "outputs": [
    {
     "data": {
      "text/plain": [
       "<function dict.keys>"
      ]
     },
     "execution_count": 38,
     "metadata": {},
     "output_type": "execute_result"
    }
   ],
   "source": [
    "# used as a reliable dictionary keys Immutable and hashable\n",
    "blue_color = {\n",
    "    ('yellow','green') : 'blue'\n",
    "}\n",
    "\n",
    "blue_color.keys"
   ]
  },
  {
   "cell_type": "code",
   "execution_count": 43,
   "id": "d3c8fb74",
   "metadata": {},
   "outputs": [
    {
     "data": {
      "text/plain": [
       "('blue', 100, 'yellow', 200.5)"
      ]
     },
     "execution_count": 43,
     "metadata": {},
     "output_type": "execute_result"
    }
   ],
   "source": [
    "tuple3 = (\"blue\",100,\"yellow\",200.5)\n",
    "tuple3"
   ]
  },
  {
   "cell_type": "code",
   "execution_count": 46,
   "id": "c1803d3e",
   "metadata": {},
   "outputs": [
    {
     "name": "stdout",
     "output_type": "stream",
     "text": [
      "(100, 'yellow')\n",
      "original tuple3 --> ('blue', 100, 'yellow', 200.5)\n"
     ]
    }
   ],
   "source": [
    "#slicing from 1 to index-1 elements\n",
    "print(tuple3[1:3])\n",
    "print(\"original tuple3 -->\",tuple3)"
   ]
  },
  {
   "cell_type": "code",
   "execution_count": null,
   "id": "f1fb5d15",
   "metadata": {},
   "outputs": [
    {
     "name": "stdout",
     "output_type": "stream",
     "text": [
      "triplicate tuple data --> (56, 78, 45, 90, 56, 78, 45, 90, 56, 78, 45, 90)\n",
      "original --> (56, 78, 45, 90)\n"
     ]
    }
   ],
   "source": [
    "tuple4 = (56,78,45,90)\n",
    "print(\"triplicate tuple data -->\",3*tuple4)\n",
    "print(\"original -->\",tuple4)"
   ]
  },
  {
   "cell_type": "code",
   "execution_count": 55,
   "id": "89e742c3",
   "metadata": {},
   "outputs": [
    {
     "name": "stdout",
     "output_type": "stream",
     "text": [
      "concat multiple tuples -->  (56, 78, 45, 90, 'blue', 100, 'yellow', 200.5, 'green', 100, 'blue', 200.5)\n"
     ]
    }
   ],
   "source": [
    "#concat\n",
    "print(\"concat multiple tuples --> \", (tuple4+tuple3+tuple2))"
   ]
  }
 ],
 "metadata": {
  "kernelspec": {
   "display_name": "iitmenv1",
   "language": "python",
   "name": "python3"
  },
  "language_info": {
   "codemirror_mode": {
    "name": "ipython",
    "version": 3
   },
   "file_extension": ".py",
   "mimetype": "text/x-python",
   "name": "python",
   "nbconvert_exporter": "python",
   "pygments_lexer": "ipython3",
   "version": "3.11.11"
  }
 },
 "nbformat": 4,
 "nbformat_minor": 5
}
