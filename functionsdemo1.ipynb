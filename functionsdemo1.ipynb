{
 "cells": [
  {
   "cell_type": "code",
   "execution_count": 1,
   "id": "c983ac8d",
   "metadata": {},
   "outputs": [],
   "source": [
    "def add(x,y):\n",
    "    return x+y"
   ]
  },
  {
   "cell_type": "code",
   "execution_count": 2,
   "id": "d335b802",
   "metadata": {},
   "outputs": [
    {
     "data": {
      "text/plain": [
       "1457"
      ]
     },
     "execution_count": 2,
     "metadata": {},
     "output_type": "execute_result"
    }
   ],
   "source": [
    "add(567,890)"
   ]
  },
  {
   "cell_type": "code",
   "execution_count": 3,
   "id": "b437efb7",
   "metadata": {},
   "outputs": [],
   "source": [
    "def emptyVal():\n",
    "    print(\"This is an empty function.\")"
   ]
  },
  {
   "cell_type": "code",
   "execution_count": 4,
   "id": "5d7d7457",
   "metadata": {},
   "outputs": [
    {
     "name": "stdout",
     "output_type": "stream",
     "text": [
      "This is an empty function.\n",
      "Returned value -->  None\n"
     ]
    }
   ],
   "source": [
    "print(\"Returned value --> \",emptyVal())"
   ]
  },
  {
   "cell_type": "code",
   "execution_count": 5,
   "id": "a2c409d4",
   "metadata": {},
   "outputs": [],
   "source": [
    "global_var = 20\n",
    "def funct1():\n",
    "    local_var = 19"
   ]
  },
  {
   "cell_type": "code",
   "execution_count": 6,
   "id": "11b311c8",
   "metadata": {},
   "outputs": [],
   "source": [
    "def myprint1():\n",
    "    print(\"global_var : \",global_var)\n",
    "    #print(\"local_var : \",local_var)"
   ]
  },
  {
   "cell_type": "code",
   "execution_count": 7,
   "id": "417e0ab8",
   "metadata": {},
   "outputs": [
    {
     "name": "stdout",
     "output_type": "stream",
     "text": [
      "global_var :  20\n"
     ]
    }
   ],
   "source": [
    "myprint1()"
   ]
  },
  {
   "cell_type": "code",
   "execution_count": 8,
   "id": "85acbcaa",
   "metadata": {},
   "outputs": [
    {
     "name": "stdout",
     "output_type": "stream",
     "text": [
      "cube  216\n"
     ]
    }
   ],
   "source": [
    "cube = lambda x : x * x * x\n",
    "print(\"cube \",cube(6))"
   ]
  },
  {
   "cell_type": "code",
   "execution_count": 9,
   "id": "2b8fe1bd",
   "metadata": {},
   "outputs": [
    {
     "name": "stdout",
     "output_type": "stream",
     "text": [
      "Y = mx +c  28\n"
     ]
    }
   ],
   "source": [
    "lin_equ = lambda x,m,c : (m*x) + c\n",
    "print(\"Y = mx +c \",lin_equ(6,3,10))"
   ]
  },
  {
   "cell_type": "code",
   "execution_count": 10,
   "id": "ec474456",
   "metadata": {},
   "outputs": [],
   "source": [
    "varg = 100"
   ]
  },
  {
   "cell_type": "code",
   "execution_count": 11,
   "id": "5067ea55",
   "metadata": {},
   "outputs": [
    {
     "name": "stdout",
     "output_type": "stream",
     "text": [
      "100\n",
      "104\n"
     ]
    }
   ],
   "source": [
    "def samplefunct1():\n",
    "    global varg  # to access variable outside the function.\n",
    "    varg = varg + 4\n",
    "\n",
    "print(varg)\n",
    "samplefunct1()\n",
    "print(varg)\n"
   ]
  },
  {
   "cell_type": "code",
   "execution_count": 12,
   "id": "9bd86b31",
   "metadata": {},
   "outputs": [
    {
     "name": "stdout",
     "output_type": "stream",
     "text": [
      "0 0\n",
      "1 1\n",
      "2 3\n",
      "3 6\n",
      "4 10\n",
      "5 15\n",
      "6 21\n",
      "7 28\n",
      "8 36\n",
      "9 45\n",
      "10 55\n",
      "11 66\n",
      "12 78\n",
      "13 91\n",
      "14 105\n",
      "15 120\n"
     ]
    }
   ],
   "source": [
    "i=0\n",
    "for h in range(100):\n",
    "    i = i+ h\n",
    "    print(h,i)\n",
    "    if(h==15):\n",
    "      break"
   ]
  },
  {
   "cell_type": "code",
   "execution_count": 13,
   "id": "222845d7",
   "metadata": {},
   "outputs": [
    {
     "name": "stdout",
     "output_type": "stream",
     "text": [
      "0  mutiply  0 0\n",
      "0  mutiply  1 0\n",
      "0  mutiply  2 0\n",
      "1  mutiply  0 0\n",
      "1  mutiply  1 1\n",
      "1  mutiply  2 2\n",
      "2  mutiply  0 0\n",
      "2  mutiply  1 2\n",
      "2  mutiply  2 4\n",
      "3  mutiply  0 0\n",
      "3  mutiply  1 3\n",
      "3  mutiply  2 6\n",
      "4  mutiply  0 0\n",
      "4  mutiply  1 4\n",
      "4  mutiply  2 8\n"
     ]
    }
   ],
   "source": [
    "for j in range(5):\n",
    "    for k in range(3):\n",
    "       print(f\"{j}\",\" mutiply \",f\"{k}\", k*j)"
   ]
  },
  {
   "cell_type": "code",
   "execution_count": 14,
   "id": "783651de",
   "metadata": {},
   "outputs": [
    {
     "name": "stdout",
     "output_type": "stream",
     "text": [
      "Hello john. Your age is 56. You are living in calcutta. Hope you are doing well !\n"
     ]
    }
   ],
   "source": [
    "# positional arguments\n",
    "def get_descriptive_details(name,age,city):\n",
    "    return f\"Hello {name}. Your age is {age}. You are living in {city}. Hope you are doing well !\"\n",
    "\n",
    "print(get_descriptive_details(\"john\",56,\"calcutta\"))"
   ]
  },
  {
   "cell_type": "code",
   "execution_count": 15,
   "id": "4a0620cc",
   "metadata": {},
   "outputs": [
    {
     "name": "stdout",
     "output_type": "stream",
     "text": [
      "Hello John. Your age is 56. You are living in Calicut. Hope you are doing well !\n"
     ]
    }
   ],
   "source": [
    "#keyword args\n",
    "print(get_descriptive_details(age=56,name=\"John\",city=\"Calicut\"))"
   ]
  },
  {
   "cell_type": "code",
   "execution_count": 16,
   "id": "53b47772",
   "metadata": {},
   "outputs": [
    {
     "name": "stdout",
     "output_type": "stream",
     "text": [
      "Hello John. Your age is 56. You are living in Calicut. Hope you are doing well !\n"
     ]
    }
   ],
   "source": [
    "#positional & keyword args . positional should come first\n",
    "print(get_descriptive_details(\"John\",age=56,city=\"Calicut\"))"
   ]
  },
  {
   "cell_type": "code",
   "execution_count": 17,
   "id": "05b4b2e8",
   "metadata": {},
   "outputs": [],
   "source": [
    "def mzpowercalc(base, exp=2):\n",
    "    return base ** exp"
   ]
  },
  {
   "cell_type": "code",
   "execution_count": 18,
   "id": "2ffd68d4",
   "metadata": {},
   "outputs": [
    {
     "data": {
      "text/plain": [
       "25"
      ]
     },
     "execution_count": 18,
     "metadata": {},
     "output_type": "execute_result"
    }
   ],
   "source": [
    "# default arg\n",
    "mzpowercalc(5)"
   ]
  },
  {
   "cell_type": "code",
   "execution_count": 19,
   "id": "4db2e8c2",
   "metadata": {},
   "outputs": [
    {
     "data": {
      "text/plain": [
       "8"
      ]
     },
     "execution_count": 19,
     "metadata": {},
     "output_type": "execute_result"
    }
   ],
   "source": [
    "# explicit arg\n",
    "mzpowercalc(2,3)"
   ]
  },
  {
   "cell_type": "code",
   "execution_count": 20,
   "id": "127f13b2",
   "metadata": {},
   "outputs": [
    {
     "data": {
      "text/plain": [
       "64"
      ]
     },
     "execution_count": 20,
     "metadata": {},
     "output_type": "execute_result"
    }
   ],
   "source": [
    "# explicit arg\n",
    "mzpowercalc(exp=3,base=4)"
   ]
  },
  {
   "cell_type": "code",
   "execution_count": 21,
   "id": "25166c97",
   "metadata": {},
   "outputs": [],
   "source": [
    "# variable positional - *args \n",
    "def add_all_nums(*args):\n",
    "    print(\"args (tuple) -->\",args)\n",
    "    return sum(args)"
   ]
  },
  {
   "cell_type": "code",
   "execution_count": 22,
   "id": "65abdb36",
   "metadata": {},
   "outputs": [
    {
     "name": "stdout",
     "output_type": "stream",
     "text": [
      "args (tuple) --> (78, 567, 1997, 458)\n"
     ]
    },
    {
     "data": {
      "text/plain": [
       "3100"
      ]
     },
     "execution_count": 22,
     "metadata": {},
     "output_type": "execute_result"
    }
   ],
   "source": [
    "add_all_nums(78,567,1997,458)"
   ]
  },
  {
   "cell_type": "code",
   "execution_count": 23,
   "id": "d0d34ec5",
   "metadata": {},
   "outputs": [],
   "source": [
    "# ** --> signal that it is a collection of named arguments to a \n",
    "#        function and python collects them as dictionary. Gather keyword arguments.\n",
    "def show_details(**kwargs):\n",
    "    print(\"kwargs-->\",kwargs)\n",
    "    for key, val in kwargs.items():\n",
    "        print(f\"{key} : {val}\")"
   ]
  },
  {
   "cell_type": "code",
   "execution_count": 24,
   "id": "b7c26940",
   "metadata": {},
   "outputs": [
    {
     "name": "stdout",
     "output_type": "stream",
     "text": [
      "kwargs--> {'city': 'Delhi', 'state': 'Delhi', 'USP': 'capital of india'}\n",
      "city : Delhi\n",
      "state : Delhi\n",
      "USP : capital of india\n"
     ]
    }
   ],
   "source": [
    "show_details(city=\"Delhi\",state=\"Delhi\",USP=\"capital of india\")"
   ]
  },
  {
   "cell_type": "code",
   "execution_count": 25,
   "id": "b9d09fb5",
   "metadata": {},
   "outputs": [],
   "source": [
    "def calc(x,y):\n",
    "    add_r = x+y\n",
    "    sub_r = x-y\n",
    "    mult_r = x*y\n",
    "    div_r = x/y\n",
    "    return add_r,sub_r,mult_r,div_r\n"
   ]
  },
  {
   "cell_type": "code",
   "execution_count": 26,
   "id": "3ad562c9",
   "metadata": {},
   "outputs": [
    {
     "name": "stdout",
     "output_type": "stream",
     "text": [
      "(110, 24, 2881, 1.558139534883721)\n"
     ]
    }
   ],
   "source": [
    "print(calc(67,43))"
   ]
  },
  {
   "cell_type": "code",
   "execution_count": 27,
   "id": "5ee90ee2",
   "metadata": {},
   "outputs": [
    {
     "name": "stdout",
     "output_type": "stream",
     "text": [
      "calc details--> 110 24 2881 1.558139534883721\n"
     ]
    }
   ],
   "source": [
    "u,v,w,x = calc(67,43)\n",
    "print(\"calc details-->\",u,v,w,x)"
   ]
  },
  {
   "cell_type": "code",
   "execution_count": null,
   "id": "2e195147",
   "metadata": {},
   "outputs": [
    {
     "name": "stdout",
     "output_type": "stream",
     "text": [
      "310.86\n",
      "Help on function area_of_circle in module mzutils:\n",
      "\n",
      "area_of_circle(radius)\n",
      "    Get  Area of circle for the given radius value.\n",
      "    \n",
      "    area_of_circle(1) = 3.14\n",
      "\n"
     ]
    }
   ],
   "source": [
    "#from <python file> import <function>\n",
    "from mzutils import area_of_circle \n",
    "\n",
    "print(area_of_circle(99))\n",
    "help(area_of_circle)"
   ]
  },
  {
   "cell_type": "markdown",
   "id": "f618de0c",
   "metadata": {},
   "source": [
    "When a Python file is run directly (not imported as a module), Python sets a special variable called __name__ to \"__main__\". This lets you control what code runs when the file is executed directly versus when it's imported elsewhere\n",
    "When a Python file is run directly (not imported as a module), Python sets a special variable called __name__ to \"__main__\". This lets you control what code runs when the file is executed directly versus when it's imported elsewhere\n"
   ]
  }
 ],
 "metadata": {
  "kernelspec": {
   "display_name": "iitmenv1",
   "language": "python",
   "name": "python3"
  },
  "language_info": {
   "codemirror_mode": {
    "name": "ipython",
    "version": 3
   },
   "file_extension": ".py",
   "mimetype": "text/x-python",
   "name": "python",
   "nbconvert_exporter": "python",
   "pygments_lexer": "ipython3",
   "version": "3.11.11"
  }
 },
 "nbformat": 4,
 "nbformat_minor": 5
}
