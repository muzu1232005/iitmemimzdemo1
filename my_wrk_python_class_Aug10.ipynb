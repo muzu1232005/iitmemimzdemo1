{
 "cells": [
  {
   "cell_type": "code",
   "execution_count": 63,
   "id": "457d6e9b",
   "metadata": {},
   "outputs": [],
   "source": [
    "# python debugger module.\n",
    "import pdb"
   ]
  },
  {
   "cell_type": "code",
   "execution_count": 46,
   "id": "3286dcd8",
   "metadata": {},
   "outputs": [
    {
     "name": "stdout",
     "output_type": "stream",
     "text": [
      "John Doe\n"
     ]
    }
   ],
   "source": [
    "class Person:\n",
    "    # constructor\n",
    "    def __init__(self, fname, lname):\n",
    "        self.firstname = fname\n",
    "        self.lastname = lname\n",
    "\n",
    "    def print(self):\n",
    "        print(self.firstname, self.lastname)\n",
    "\n",
    "x = Person(\"John\", \"Doe\")\n",
    "\n",
    "x.print()"
   ]
  },
  {
   "cell_type": "code",
   "execution_count": 39,
   "id": "add4980b",
   "metadata": {},
   "outputs": [],
   "source": [
    "class child(Person):\n",
    "    pass"
   ]
  },
  {
   "cell_type": "code",
   "execution_count": 40,
   "id": "45e1c27e",
   "metadata": {},
   "outputs": [],
   "source": [
    "#inheritance is lost if init constructor is used in child class\n",
    "class child(Person):\n",
    "   def __init__():\n",
    "      print(\"initialized\")"
   ]
  },
  {
   "cell_type": "code",
   "execution_count": 41,
   "id": "cfeda47b",
   "metadata": {},
   "outputs": [],
   "source": [
    "class Student(Person):#fname and lname\n",
    "    def __init__(self, fname, lname, year):#year is the additional attribute\n",
    "        Person.__init__(self, fname, lname)#additional call to the parent class"
   ]
  },
  {
   "cell_type": "code",
   "execution_count": 42,
   "id": "05da2919",
   "metadata": {},
   "outputs": [
    {
     "name": "stdout",
     "output_type": "stream",
     "text": [
      "jack russ\n"
     ]
    }
   ],
   "source": [
    "std1 = Student(\"jack\",\"russ\",2015)\n",
    "std1.print()"
   ]
  },
  {
   "cell_type": "code",
   "execution_count": null,
   "id": "d30c72f4",
   "metadata": {},
   "outputs": [],
   "source": [
    "class StudentV1(Person):#fname and lname\n",
    "    def __init__(self, fname, lname, year):#year is the additional attribute\n",
    "        super().__init__(fname, lname)#additional call to the parent class. #for super just put arguments\n",
    "        self.grad_year = year\n",
    "\n",
    "    #overwrite the one in parent class\n",
    "    def print(self):\n",
    "        print(\"Welcome\", self.firstname, self.lastname, \"to the class of\", self.grad_year)    "
   ]
  },
  {
   "cell_type": "code",
   "execution_count": 45,
   "id": "0aa2df1f",
   "metadata": {},
   "outputs": [
    {
     "name": "stdout",
     "output_type": "stream",
     "text": [
      "Welcome jack russ to the class of 2015\n"
     ]
    }
   ],
   "source": [
    "std1 = StudentV1(\"jack\",\"russ\",2015)\n",
    "std1.print()"
   ]
  },
  {
   "cell_type": "code",
   "execution_count": null,
   "id": "ce128437",
   "metadata": {},
   "outputs": [
    {
     "data": {
      "text/plain": [
       "10"
      ]
     },
     "execution_count": 47,
     "metadata": {},
     "output_type": "execute_result"
    }
   ],
   "source": [
    "# Polymorphism - + operator is always concatenating\n",
    "4+6"
   ]
  },
  {
   "cell_type": "code",
   "execution_count": 49,
   "id": "22e4845d",
   "metadata": {},
   "outputs": [
    {
     "data": {
      "text/plain": [
       "'jackjill'"
      ]
     },
     "execution_count": 49,
     "metadata": {},
     "output_type": "execute_result"
    }
   ],
   "source": [
    "# Polymorphism - + operator is always concatenating\n",
    "\"jack\"+\"jill\""
   ]
  },
  {
   "cell_type": "code",
   "execution_count": 50,
   "id": "15d2e869",
   "metadata": {},
   "outputs": [
    {
     "data": {
      "text/plain": [
       "(1, 2, 3, 4, 5, 5)"
      ]
     },
     "execution_count": 50,
     "metadata": {},
     "output_type": "execute_result"
    }
   ],
   "source": [
    "tuple1 = (1,2,3)\n",
    "tuple2 = (4,5,5)\n",
    "tuple1 + tuple2"
   ]
  },
  {
   "cell_type": "code",
   "execution_count": 51,
   "id": "2ee6b9fd",
   "metadata": {},
   "outputs": [
    {
     "data": {
      "text/plain": [
       "4"
      ]
     },
     "execution_count": 51,
     "metadata": {},
     "output_type": "execute_result"
    }
   ],
   "source": [
    "len(\"joke\")"
   ]
  },
  {
   "cell_type": "code",
   "execution_count": 52,
   "id": "a7ff7ada",
   "metadata": {},
   "outputs": [
    {
     "data": {
      "text/plain": [
       "3"
      ]
     },
     "execution_count": 52,
     "metadata": {},
     "output_type": "execute_result"
    }
   ],
   "source": [
    "len(tuple2)"
   ]
  },
  {
   "cell_type": "code",
   "execution_count": 53,
   "id": "754ac400",
   "metadata": {},
   "outputs": [
    {
     "data": {
      "text/plain": [
       "3"
      ]
     },
     "execution_count": 53,
     "metadata": {},
     "output_type": "execute_result"
    }
   ],
   "source": [
    "len([4,5,5])"
   ]
  },
  {
   "cell_type": "code",
   "execution_count": null,
   "id": "05d8182b",
   "metadata": {},
   "outputs": [
    {
     "ename": "TypeError",
     "evalue": "can only concatenate tuple (not \"str\") to tuple",
     "output_type": "error",
     "traceback": [
      "\u001b[31m---------------------------------------------------------------------------\u001b[39m",
      "\u001b[31mTypeError\u001b[39m                                 Traceback (most recent call last)",
      "\u001b[36mCell\u001b[39m\u001b[36m \u001b[39m\u001b[32mIn[54]\u001b[39m\u001b[32m, line 1\u001b[39m\n\u001b[32m----> \u001b[39m\u001b[32m1\u001b[39m \u001b[43mtuple1\u001b[49m\u001b[43m \u001b[49m\u001b[43m+\u001b[49m\u001b[43m \u001b[49m\u001b[33;43m\"\u001b[39;49m\u001b[33;43mtuple2\u001b[39;49m\u001b[33;43m\"\u001b[39;49m\n",
      "\u001b[31mTypeError\u001b[39m: can only concatenate tuple (not \"str\") to tuple"
     ]
    }
   ],
   "source": [
    "tuple1 + \"tuple2\" # differrent data type cannot be concatenated."
   ]
  },
  {
   "cell_type": "code",
   "execution_count": null,
   "id": "cf5c6683",
   "metadata": {},
   "outputs": [
    {
     "data": {
      "text/plain": [
       "tuple"
      ]
     },
     "execution_count": 55,
     "metadata": {},
     "output_type": "execute_result"
    }
   ],
   "source": [
    "# type is to let know the type of data type \n",
    "type(tuple2)"
   ]
  },
  {
   "cell_type": "code",
   "execution_count": 61,
   "id": "e83d4e6e",
   "metadata": {},
   "outputs": [
    {
     "name": "stdout",
     "output_type": "stream",
     "text": [
      "Values : 19,0\n"
     ]
    },
    {
     "ename": "ZeroDivisionError",
     "evalue": "division by zero",
     "output_type": "error",
     "traceback": [
      "\u001b[31m---------------------------------------------------------------------------\u001b[39m",
      "\u001b[31mZeroDivisionError\u001b[39m                         Traceback (most recent call last)",
      "\u001b[36mCell\u001b[39m\u001b[36m \u001b[39m\u001b[32mIn[61]\u001b[39m\u001b[32m, line 4\u001b[39m\n\u001b[32m      2\u001b[39m dv = \u001b[32m0\u001b[39m\n\u001b[32m      3\u001b[39m \u001b[38;5;28mprint\u001b[39m(\u001b[33mf\u001b[39m\u001b[33m\"\u001b[39m\u001b[33mValues : \u001b[39m\u001b[38;5;132;01m{\u001b[39;00md\u001b[38;5;132;01m}\u001b[39;00m\u001b[33m,\u001b[39m\u001b[38;5;132;01m{\u001b[39;00mdv\u001b[38;5;132;01m}\u001b[39;00m\u001b[33m\"\u001b[39m)\n\u001b[32m----> \u001b[39m\u001b[32m4\u001b[39m \u001b[38;5;28mprint\u001b[39m(\u001b[43md\u001b[49m\u001b[43m/\u001b[49m\u001b[43mdv\u001b[49m)\n",
      "\u001b[31mZeroDivisionError\u001b[39m: division by zero"
     ]
    }
   ],
   "source": [
    "d=19\n",
    "dv = 0\n",
    "print(f\"Values : {d},{dv}\")\n",
    "print(d/dv)"
   ]
  },
  {
   "cell_type": "code",
   "execution_count": 62,
   "id": "70576633",
   "metadata": {},
   "outputs": [
    {
     "name": "stdout",
     "output_type": "stream",
     "text": [
      "<class 'str'> <class 'int'>\n"
     ]
    }
   ],
   "source": [
    "dr = \"10\"\n",
    "v =9\n",
    "print(type(dr), type(v))"
   ]
  },
  {
   "cell_type": "markdown",
   "id": "32913205",
   "metadata": {},
   "source": [
    "**Python Debugger Inputs When paused, you can:**\n",
    "\n",
    "* `n` → go to next line\n",
    "* `c` → continue execution\n",
    "* `p variable` → print variable value\n",
    "* `q` → quit debugger"
   ]
  },
  {
   "cell_type": "code",
   "execution_count": 72,
   "id": "6296ee88",
   "metadata": {},
   "outputs": [
    {
     "name": "stdout",
     "output_type": "stream",
     "text": [
      "--Return--\n",
      "None\n",
      "> \u001b[32mc:\\users\\user\\appdata\\local\\temp\\ipykernel_24296\\2466969691.py\u001b[39m(\u001b[92m3\u001b[39m)\u001b[36m<module>\u001b[39m\u001b[34m()\u001b[39m\n",
      "\n"
     ]
    }
   ],
   "source": [
    "d=19\n",
    "dv = 0\n",
    "pdb.set_trace()\n",
    "print(f\"Values : {d},{dv}\")\n",
    "print(d/dv)"
   ]
  },
  {
   "cell_type": "code",
   "execution_count": 74,
   "id": "d139bada",
   "metadata": {},
   "outputs": [
    {
     "name": "stdout",
     "output_type": "stream",
     "text": [
      "Values : 19,0\n"
     ]
    },
    {
     "ename": "ZeroDivisionError",
     "evalue": "division by zero",
     "output_type": "error",
     "traceback": [
      "\u001b[31m---------------------------------------------------------------------------\u001b[39m",
      "\u001b[31mZeroDivisionError\u001b[39m                         Traceback (most recent call last)",
      "\u001b[36mCell\u001b[39m\u001b[36m \u001b[39m\u001b[32mIn[74]\u001b[39m\u001b[32m, line 4\u001b[39m\n\u001b[32m      2\u001b[39m dv = \u001b[32m0\u001b[39m\n\u001b[32m      3\u001b[39m \u001b[38;5;28mprint\u001b[39m(\u001b[33mf\u001b[39m\u001b[33m\"\u001b[39m\u001b[33mValues : \u001b[39m\u001b[38;5;132;01m{\u001b[39;00md\u001b[38;5;132;01m}\u001b[39;00m\u001b[33m,\u001b[39m\u001b[38;5;132;01m{\u001b[39;00mdv\u001b[38;5;132;01m}\u001b[39;00m\u001b[33m\"\u001b[39m)\n\u001b[32m----> \u001b[39m\u001b[32m4\u001b[39m \u001b[38;5;28mprint\u001b[39m(\u001b[43md\u001b[49m\u001b[43m/\u001b[49m\u001b[43mdv\u001b[49m)\n",
      "\u001b[31mZeroDivisionError\u001b[39m: division by zero"
     ]
    }
   ],
   "source": [
    "d=19\n",
    "dv = 0\n",
    "print(f\"Values : {d},{dv}\")\n",
    "print(d/dv)"
   ]
  },
  {
   "cell_type": "code",
   "execution_count": 78,
   "id": "969c2ca9",
   "metadata": {},
   "outputs": [
    {
     "name": "stdout",
     "output_type": "stream",
     "text": [
      "division by zero\n"
     ]
    }
   ],
   "source": [
    "try :\n",
    "    your_num = int(input(\"Enter number : \"))\n",
    "    print(f\"100 / your_num = {100 / your_num}\")\n",
    "except ZeroDivisionError as zde:\n",
    "    print(zde)\n",
    "except ValueError as vlerror:\n",
    "    print(vlerror)"
   ]
  },
  {
   "cell_type": "code",
   "execution_count": 81,
   "id": "539ee5e0",
   "metadata": {},
   "outputs": [
    {
     "data": {
      "text/plain": [
       "float"
      ]
     },
     "execution_count": 81,
     "metadata": {},
     "output_type": "execute_result"
    }
   ],
   "source": [
    "geog_loc = 564646565.8976555433897898798798879\n",
    "type(geog_loc)"
   ]
  },
  {
   "cell_type": "code",
   "execution_count": 82,
   "id": "a75d7c45",
   "metadata": {},
   "outputs": [
    {
     "data": {
      "text/plain": [
       "str"
      ]
     },
     "execution_count": 82,
     "metadata": {},
     "output_type": "execute_result"
    }
   ],
   "source": [
    "geog_loc = \"564646565.8976555433897898798798879\"\n",
    "type(geog_loc)"
   ]
  },
  {
   "cell_type": "code",
   "execution_count": 91,
   "id": "93eccf49",
   "metadata": {},
   "outputs": [
    {
     "data": {
      "text/plain": [
       "{0: 0, 1: 1, 2: 4, 3: 9, 4: 16, 5: 25}"
      ]
     },
     "execution_count": 91,
     "metadata": {},
     "output_type": "execute_result"
    }
   ],
   "source": [
    "# dictionary regular for-loop in traditional way\n",
    "square_vals = {}\n",
    "for num in range(6): #get 6 numbers starting from 0\n",
    "    square_vals[num] = num**2\n",
    "\n",
    "square_vals"
   ]
  },
  {
   "cell_type": "code",
   "execution_count": 94,
   "id": "f9262340",
   "metadata": {},
   "outputs": [
    {
     "data": {
      "text/plain": [
       "{0: 0, 1: 1, 2: 4, 3: 9, 4: 16, 5: 25}"
      ]
     },
     "execution_count": 94,
     "metadata": {},
     "output_type": "execute_result"
    }
   ],
   "source": [
    "# dictionary comprehension\n",
    "#square_vals_dict_cmpr = { key : value  (expression : for item in iterable if condition) }\n",
    "square_vals_dict_cmpr = { num : num**2 for num in range(6)  }\n",
    "square_vals_dict_cmpr"
   ]
  },
  {
   "cell_type": "code",
   "execution_count": 95,
   "id": "59bea4a0",
   "metadata": {},
   "outputs": [
    {
     "data": {
      "text/plain": [
       "[0, 1, 4, 9, 16, 25]"
      ]
     },
     "execution_count": 95,
     "metadata": {},
     "output_type": "execute_result"
    }
   ],
   "source": [
    "# list comprehension\n",
    "square_vals_list_cmpr = [num**2 for num in range(6)  ]\n",
    "square_vals_list_cmpr"
   ]
  },
  {
   "cell_type": "code",
   "execution_count": 97,
   "id": "c872418a",
   "metadata": {},
   "outputs": [
    {
     "data": {
      "text/plain": [
       "{1: 1, 3: 9, 5: 25, 7: 49, 9: 81, 11: 121, 13: 169}"
      ]
     },
     "execution_count": 97,
     "metadata": {},
     "output_type": "execute_result"
    }
   ],
   "source": [
    "# dictionary comprehension\n",
    "#square_vals_dict_cmpr = { key : value  (expression : for item in iterable if condition) }\n",
    "odd_square_vals_dict_cmpr = { num : num**2 for num in range(15) if num % 2 != 0  }\n",
    "odd_square_vals_dict_cmpr"
   ]
  },
  {
   "cell_type": "code",
   "execution_count": 99,
   "id": "19aa6005",
   "metadata": {},
   "outputs": [
    {
     "data": {
      "text/plain": [
       "{'apple': 438.0, 'banana': 613.1999999999999, 'cherry': 788.4}"
      ]
     },
     "execution_count": 99,
     "metadata": {},
     "output_type": "execute_result"
    }
   ],
   "source": [
    "usd_fruit_prices = {\"apple\": 5, \"banana\": 7, \"cherry\": 9}\n",
    "# create dictionary from existing dictionary values.\n",
    "inr_fruit_prices = { item : 87.60 * price for item, price in usd_fruit_prices.items()}\n",
    "inr_fruit_prices"
   ]
  },
  {
   "cell_type": "code",
   "execution_count": 105,
   "id": "78afec4f",
   "metadata": {},
   "outputs": [
    {
     "data": {
      "text/plain": [
       "1"
      ]
     },
     "execution_count": 105,
     "metadata": {},
     "output_type": "execute_result"
    }
   ],
   "source": [
    "text_str1 = \"Hello How are you doing ?\"\n",
    "text_str1.count(\"?\")"
   ]
  },
  {
   "cell_type": "code",
   "execution_count": 106,
   "id": "2e1751a1",
   "metadata": {},
   "outputs": [
    {
     "name": "stdout",
     "output_type": "stream",
     "text": [
      "{'H': 2, 'e': 2, 'l': 2, 'o': 4, ' ': 5, 'w': 1, 'a': 1, 'r': 1, 'y': 1, 'u': 1, 'd': 1, 'i': 1, 'n': 1, 'g': 1, '?': 1}\n"
     ]
    }
   ],
   "source": [
    "text_str1 = \"Hello How are you doing ?\"\n",
    "character_count = {char : str(text_str1).count(char)   for char in text_str1}\n",
    "print(character_count)"
   ]
  },
  {
   "cell_type": "code",
   "execution_count": 111,
   "id": "6ce1354f",
   "metadata": {},
   "outputs": [
    {
     "data": {
      "text/plain": [
       "{'Raj': 'passed', 'Sharath': 'passed', 'Ram': 'passed'}"
      ]
     },
     "execution_count": 111,
     "metadata": {},
     "output_type": "execute_result"
    }
   ],
   "source": [
    "std_marks = {\"Raj\": 85, \"Gopi\": 42, \"Sharath\": 77, \"Ram\": 93}\n",
    "std_pssed_grades = { name : \"passed\"  for name, score in std_marks.items() if score >=50 }\n",
    "std_pssed_grades"
   ]
  },
  {
   "cell_type": "code",
   "execution_count": 112,
   "id": "6545c406",
   "metadata": {},
   "outputs": [
    {
     "data": {
      "text/plain": [
       "{'Raj': 85, 'Sharath': 77, 'Ram': 93}"
      ]
     },
     "execution_count": 112,
     "metadata": {},
     "output_type": "execute_result"
    }
   ],
   "source": [
    "std_marks = {\"Raj\": 85, \"Gopi\": 42, \"Sharath\": 77, \"Ram\": 93}\n",
    "std_pssed_scores = { name : score  for name, score in std_marks.items() if score >=50 }\n",
    "std_pssed_scores"
   ]
  },
  {
   "cell_type": "code",
   "execution_count": 126,
   "id": "092275fc",
   "metadata": {},
   "outputs": [
    {
     "name": "stdout",
     "output_type": "stream",
     "text": [
      "my_even_num_list -> [304, 506, 1006, 346]\n",
      "type of my_even_num_list -> <class 'list'>\n",
      "my_even_num_np_array -> [ 304  506 1006  346]\n",
      "type of my_even_num_np_array -> <class 'numpy.ndarray'>\n",
      "Shape of my_even_num_np_array -> (4,)\n",
      "Dimesnion of my_even_num_np_array -> 1\n"
     ]
    }
   ],
   "source": [
    "import numpy as np # np_lib is a context manager\n",
    "\n",
    "my_even_num_list = [304,506,1006,346]\n",
    "print(f\"my_even_num_list -> {my_even_num_list}\")\n",
    "print(f\"type of my_even_num_list -> {type(my_even_num_list)}\")\n",
    "\n",
    "\n",
    "my_even_num_np_array = np.array(my_even_num_list)\n",
    "print(f\"my_even_num_np_array -> {my_even_num_np_array}\")\n",
    "print(f\"type of my_even_num_np_array -> {type(my_even_num_np_array)}\")\n",
    "print(f\"Shape of my_even_num_np_array -> {my_even_num_np_array.shape}\")\n",
    "print(f\"Dimesnion of my_even_num_np_array -> {my_even_num_np_array.ndim}\")\n"
   ]
  },
  {
   "cell_type": "code",
   "execution_count": 132,
   "id": "3f1e844d",
   "metadata": {},
   "outputs": [
    {
     "name": "stdout",
     "output_type": "stream",
     "text": [
      "List - SubList :  [[304, 506], [1006, 346], [568, 890], [552, 666], [660, 662], [880, 890]]\n",
      "\n",
      " my_even_num_np_array_2D ->\n",
      " [[ 304  506]\n",
      " [1006  346]\n",
      " [ 568  890]\n",
      " [ 552  666]\n",
      " [ 660  662]\n",
      " [ 880  890]]\n",
      "\n",
      " type of my_even_num_np_array_2D ->\n",
      " <class 'numpy.ndarray'>\n",
      "\n",
      " Shape of my_even_num_np_array_2D -> \n",
      "(6, 2)\n",
      "\n",
      " Dimesnion of my_even_num_np_array_2D ->\n",
      " 2\n"
     ]
    }
   ],
   "source": [
    "#multidimension arrays\n",
    "my_even_num_list_2D = [[304,506],[1006,346],[568,890],[552,666],[660,662],[880,890]]\n",
    "print(\"List - SubList : \",my_even_num_list_2D)\n",
    "\n",
    "my_even_num_np_array_2D = np.array(my_even_num_list_2D)\n",
    "print(f\"\\n my_even_num_np_array_2D ->\\n {my_even_num_np_array_2D}\")\n",
    "print(f\"\\n type of my_even_num_np_array_2D ->\\n {type(my_even_num_np_array_2D)}\")\n",
    "print(f\"\\n Shape of my_even_num_np_array_2D -> \\n{my_even_num_np_array_2D.shape}\")\n",
    "print(f\"\\n Dimesnion of my_even_num_np_array_2D ->\\n {my_even_num_np_array_2D.ndim}\")"
   ]
  },
  {
   "cell_type": "code",
   "execution_count": 133,
   "id": "32645f31",
   "metadata": {},
   "outputs": [
    {
     "name": "stdout",
     "output_type": "stream",
     "text": [
      "\n",
      " my_even_num_np_array_2D_1 ->\n",
      " [[  4   6   7   9]\n",
      " [ 40  60  70  90]\n",
      " [400 600 700 900]]\n",
      "\n",
      " type of my_even_num_np_array_2D_1 ->\n",
      " <class 'numpy.ndarray'>\n",
      "\n",
      " Shape of my_even_num_np_array_2D_1 -> \n",
      "(3, 4)\n",
      "\n",
      " Dimesnion of my_even_num_np_array_2D_1 ->\n",
      " 2\n"
     ]
    }
   ],
   "source": [
    "my_even_num_np_array_2D_1 = np.array([ [4,6,7,9] ,  [40,60,70,90] , [400,600,700,900]               ])\n",
    "print(f\"\\n my_even_num_np_array_2D_1 ->\\n {my_even_num_np_array_2D_1}\")\n",
    "print(f\"\\n type of my_even_num_np_array_2D_1 ->\\n {type(my_even_num_np_array_2D_1)}\")\n",
    "print(f\"\\n Shape of my_even_num_np_array_2D_1 -> \\n{my_even_num_np_array_2D_1.shape}\")\n",
    "print(f\"\\n Dimesnion of my_even_num_np_array_2D_1 ->\\n {my_even_num_np_array_2D_1.ndim}\")"
   ]
  },
  {
   "cell_type": "code",
   "execution_count": 134,
   "id": "19f073c6",
   "metadata": {},
   "outputs": [
    {
     "data": {
      "text/plain": [
       "array([0., 0., 0., 0.])"
      ]
     },
     "execution_count": 134,
     "metadata": {},
     "output_type": "execute_result"
    }
   ],
   "source": [
    "#hypothetical arrays\n",
    "np.zeros(4)"
   ]
  },
  {
   "cell_type": "code",
   "execution_count": 139,
   "id": "c10743cf",
   "metadata": {},
   "outputs": [
    {
     "data": {
      "text/plain": [
       "array([[0., 0., 0.],\n",
       "       [0., 0., 0.],\n",
       "       [0., 0., 0.],\n",
       "       [0., 0., 0.]])"
      ]
     },
     "execution_count": 139,
     "metadata": {},
     "output_type": "execute_result"
    }
   ],
   "source": [
    "np.zeros([4,3])"
   ]
  },
  {
   "cell_type": "code",
   "execution_count": 141,
   "id": "736677c9",
   "metadata": {},
   "outputs": [
    {
     "data": {
      "text/plain": [
       "array([1., 1., 1., 1.])"
      ]
     },
     "execution_count": 141,
     "metadata": {},
     "output_type": "execute_result"
    }
   ],
   "source": [
    "np.ones(4)"
   ]
  },
  {
   "cell_type": "code",
   "execution_count": 142,
   "id": "c7769dd1",
   "metadata": {},
   "outputs": [
    {
     "data": {
      "text/plain": [
       "array([[1., 1.],\n",
       "       [1., 1.],\n",
       "       [1., 1.],\n",
       "       [1., 1.]])"
      ]
     },
     "execution_count": 142,
     "metadata": {},
     "output_type": "execute_result"
    }
   ],
   "source": [
    "np.ones([4,2])"
   ]
  },
  {
   "cell_type": "code",
   "execution_count": null,
   "id": "d931c5d9",
   "metadata": {},
   "outputs": [],
   "source": [
    "np.ones([4,2]).shape # count rows and cols"
   ]
  },
  {
   "cell_type": "code",
   "execution_count": 144,
   "id": "c0799f7b",
   "metadata": {},
   "outputs": [
    {
     "data": {
      "text/plain": [
       "array([ 0,  1,  2,  3,  4,  5,  6,  7,  8,  9, 10, 11, 12, 13, 14])"
      ]
     },
     "execution_count": 144,
     "metadata": {},
     "output_type": "execute_result"
    }
   ],
   "source": [
    "np.arange(15) # generate sequence of nmbers as an n-d array"
   ]
  },
  {
   "cell_type": "code",
   "execution_count": 145,
   "id": "d7a395e4",
   "metadata": {},
   "outputs": [
    {
     "data": {
      "text/plain": [
       "array([ 6,  7,  8,  9, 10, 11, 12, 13, 14])"
      ]
     },
     "execution_count": 145,
     "metadata": {},
     "output_type": "execute_result"
    }
   ],
   "source": [
    "np.arange(6,15)"
   ]
  },
  {
   "cell_type": "code",
   "execution_count": 150,
   "id": "30b6f70f",
   "metadata": {},
   "outputs": [
    {
     "name": "stdout",
     "output_type": "stream",
     "text": [
      "[ 6  8 10 12 14 16 18 20 22 24]\n",
      "1\n"
     ]
    }
   ],
   "source": [
    "seq1 = np.arange(6,25,2) # step by 2\n",
    "print(seq1)\n",
    "print(seq1.ndim)"
   ]
  },
  {
   "cell_type": "code",
   "execution_count": null,
   "id": "e9b5aa61",
   "metadata": {},
   "outputs": [
    {
     "data": {
      "text/plain": [
       "array([ 1.,  2.,  3.,  4.,  5.,  6.,  7.,  8.,  9., 10., 11., 12., 13.,\n",
       "       14., 15., 16., 17., 18., 19., 20., 21., 22., 23., 24., 25., 26.,\n",
       "       27., 28., 29., 30., 31., 32., 33., 34., 35., 36., 37., 38., 39.,\n",
       "       40., 41., 42., 43., 44., 45., 46., 47., 48., 49., 50.])"
      ]
     },
     "execution_count": 153,
     "metadata": {},
     "output_type": "execute_result"
    }
   ],
   "source": [
    "np.linspace(1,50) # all generated numbers are equidistant from each other."
   ]
  },
  {
   "cell_type": "code",
   "execution_count": 154,
   "id": "796e53dc",
   "metadata": {},
   "outputs": [
    {
     "data": {
      "text/plain": [
       "array([1.        , 1.02040816, 1.04081633, 1.06122449, 1.08163265,\n",
       "       1.10204082, 1.12244898, 1.14285714, 1.16326531, 1.18367347,\n",
       "       1.20408163, 1.2244898 , 1.24489796, 1.26530612, 1.28571429,\n",
       "       1.30612245, 1.32653061, 1.34693878, 1.36734694, 1.3877551 ,\n",
       "       1.40816327, 1.42857143, 1.44897959, 1.46938776, 1.48979592,\n",
       "       1.51020408, 1.53061224, 1.55102041, 1.57142857, 1.59183673,\n",
       "       1.6122449 , 1.63265306, 1.65306122, 1.67346939, 1.69387755,\n",
       "       1.71428571, 1.73469388, 1.75510204, 1.7755102 , 1.79591837,\n",
       "       1.81632653, 1.83673469, 1.85714286, 1.87755102, 1.89795918,\n",
       "       1.91836735, 1.93877551, 1.95918367, 1.97959184, 2.        ])"
      ]
     },
     "execution_count": 154,
     "metadata": {},
     "output_type": "execute_result"
    }
   ],
   "source": [
    "np.linspace(1,2)"
   ]
  },
  {
   "cell_type": "code",
   "execution_count": 156,
   "id": "843d6cae",
   "metadata": {},
   "outputs": [
    {
     "data": {
      "text/plain": [
       "array([1.  , 1.25, 1.5 , 1.75, 2.  ])"
      ]
     },
     "execution_count": 156,
     "metadata": {},
     "output_type": "execute_result"
    }
   ],
   "source": [
    "np.linspace(1,2,5) # generate 5 numbers only"
   ]
  },
  {
   "cell_type": "code",
   "execution_count": 161,
   "id": "2aea1a50",
   "metadata": {},
   "outputs": [
    {
     "data": {
      "text/plain": [
       "array([  1., 500., 999.])"
      ]
     },
     "execution_count": 161,
     "metadata": {},
     "output_type": "execute_result"
    }
   ],
   "source": [
    "np.linspace(1,999,3)"
   ]
  }
 ],
 "metadata": {
  "kernelspec": {
   "display_name": "iitmenv1",
   "language": "python",
   "name": "python3"
  },
  "language_info": {
   "codemirror_mode": {
    "name": "ipython",
    "version": 3
   },
   "file_extension": ".py",
   "mimetype": "text/x-python",
   "name": "python",
   "nbconvert_exporter": "python",
   "pygments_lexer": "ipython3",
   "version": "3.11.11"
  }
 },
 "nbformat": 4,
 "nbformat_minor": 5
}
