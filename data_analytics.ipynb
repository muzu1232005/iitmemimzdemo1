{
 "cells": [
  {
   "cell_type": "code",
   "execution_count": 2,
   "id": "8b939e84",
   "metadata": {},
   "outputs": [],
   "source": [
    "import pandas as pd\n"
   ]
  },
  {
   "cell_type": "code",
   "execution_count": 4,
   "id": "ae933e54",
   "metadata": {},
   "outputs": [
    {
     "data": {
      "application/vnd.microsoft.datawrangler.viewer.v0+json": {
       "columns": [
        {
         "name": "index",
         "rawType": "int64",
         "type": "integer"
        },
        {
         "name": "invoice_no",
         "rawType": "object",
         "type": "string"
        },
        {
         "name": "customer_id",
         "rawType": "object",
         "type": "string"
        },
        {
         "name": "gender",
         "rawType": "object",
         "type": "string"
        },
        {
         "name": "age",
         "rawType": "int64",
         "type": "integer"
        },
        {
         "name": "category",
         "rawType": "object",
         "type": "string"
        },
        {
         "name": "quantity",
         "rawType": "int64",
         "type": "integer"
        },
        {
         "name": "price",
         "rawType": "float64",
         "type": "float"
        },
        {
         "name": "payment_method",
         "rawType": "object",
         "type": "string"
        },
        {
         "name": "invoice_date",
         "rawType": "object",
         "type": "string"
        },
        {
         "name": "shopping_mall",
         "rawType": "object",
         "type": "string"
        }
       ],
       "ref": "100d846b-6115-4346-be60-93588f14d145",
       "rows": [
        [
         "0",
         "I138884",
         "C241288",
         "Female",
         "28",
         "Clothing",
         "5",
         "1500.4",
         "Credit Card",
         "5/8/2022",
         "Kanyon"
        ],
        [
         "1",
         "I317333",
         "C111565",
         "Male",
         "21",
         "Shoes",
         "3",
         "1800.51",
         "Debit Card",
         "12/12/2021",
         "Forum Istanbul"
        ],
        [
         "2",
         "I127801",
         "C266599",
         "Male",
         "20",
         "Clothing",
         "1",
         "300.08",
         "Cash",
         "9/11/2021",
         "Metrocity"
        ],
        [
         "3",
         "I173702",
         "C988172",
         "Female",
         "66",
         "Shoes",
         "5",
         "3000.85",
         "Credit Card",
         "16/05/2021",
         "Metropol AVM"
        ],
        [
         "4",
         "I337046",
         "C189076",
         "Female",
         "53",
         "Books",
         "4",
         "60.6",
         "Cash",
         "24/10/2021",
         "Kanyon"
        ]
       ],
       "shape": {
        "columns": 10,
        "rows": 5
       }
      },
      "text/html": [
       "<div>\n",
       "<style scoped>\n",
       "    .dataframe tbody tr th:only-of-type {\n",
       "        vertical-align: middle;\n",
       "    }\n",
       "\n",
       "    .dataframe tbody tr th {\n",
       "        vertical-align: top;\n",
       "    }\n",
       "\n",
       "    .dataframe thead th {\n",
       "        text-align: right;\n",
       "    }\n",
       "</style>\n",
       "<table border=\"1\" class=\"dataframe\">\n",
       "  <thead>\n",
       "    <tr style=\"text-align: right;\">\n",
       "      <th></th>\n",
       "      <th>invoice_no</th>\n",
       "      <th>customer_id</th>\n",
       "      <th>gender</th>\n",
       "      <th>age</th>\n",
       "      <th>category</th>\n",
       "      <th>quantity</th>\n",
       "      <th>price</th>\n",
       "      <th>payment_method</th>\n",
       "      <th>invoice_date</th>\n",
       "      <th>shopping_mall</th>\n",
       "    </tr>\n",
       "  </thead>\n",
       "  <tbody>\n",
       "    <tr>\n",
       "      <th>0</th>\n",
       "      <td>I138884</td>\n",
       "      <td>C241288</td>\n",
       "      <td>Female</td>\n",
       "      <td>28</td>\n",
       "      <td>Clothing</td>\n",
       "      <td>5</td>\n",
       "      <td>1500.40</td>\n",
       "      <td>Credit Card</td>\n",
       "      <td>5/8/2022</td>\n",
       "      <td>Kanyon</td>\n",
       "    </tr>\n",
       "    <tr>\n",
       "      <th>1</th>\n",
       "      <td>I317333</td>\n",
       "      <td>C111565</td>\n",
       "      <td>Male</td>\n",
       "      <td>21</td>\n",
       "      <td>Shoes</td>\n",
       "      <td>3</td>\n",
       "      <td>1800.51</td>\n",
       "      <td>Debit Card</td>\n",
       "      <td>12/12/2021</td>\n",
       "      <td>Forum Istanbul</td>\n",
       "    </tr>\n",
       "    <tr>\n",
       "      <th>2</th>\n",
       "      <td>I127801</td>\n",
       "      <td>C266599</td>\n",
       "      <td>Male</td>\n",
       "      <td>20</td>\n",
       "      <td>Clothing</td>\n",
       "      <td>1</td>\n",
       "      <td>300.08</td>\n",
       "      <td>Cash</td>\n",
       "      <td>9/11/2021</td>\n",
       "      <td>Metrocity</td>\n",
       "    </tr>\n",
       "    <tr>\n",
       "      <th>3</th>\n",
       "      <td>I173702</td>\n",
       "      <td>C988172</td>\n",
       "      <td>Female</td>\n",
       "      <td>66</td>\n",
       "      <td>Shoes</td>\n",
       "      <td>5</td>\n",
       "      <td>3000.85</td>\n",
       "      <td>Credit Card</td>\n",
       "      <td>16/05/2021</td>\n",
       "      <td>Metropol AVM</td>\n",
       "    </tr>\n",
       "    <tr>\n",
       "      <th>4</th>\n",
       "      <td>I337046</td>\n",
       "      <td>C189076</td>\n",
       "      <td>Female</td>\n",
       "      <td>53</td>\n",
       "      <td>Books</td>\n",
       "      <td>4</td>\n",
       "      <td>60.60</td>\n",
       "      <td>Cash</td>\n",
       "      <td>24/10/2021</td>\n",
       "      <td>Kanyon</td>\n",
       "    </tr>\n",
       "  </tbody>\n",
       "</table>\n",
       "</div>"
      ],
      "text/plain": [
       "  invoice_no customer_id  gender  age  category  quantity    price  \\\n",
       "0    I138884     C241288  Female   28  Clothing         5  1500.40   \n",
       "1    I317333     C111565    Male   21     Shoes         3  1800.51   \n",
       "2    I127801     C266599    Male   20  Clothing         1   300.08   \n",
       "3    I173702     C988172  Female   66     Shoes         5  3000.85   \n",
       "4    I337046     C189076  Female   53     Books         4    60.60   \n",
       "\n",
       "  payment_method invoice_date   shopping_mall  \n",
       "0    Credit Card     5/8/2022          Kanyon  \n",
       "1     Debit Card   12/12/2021  Forum Istanbul  \n",
       "2           Cash    9/11/2021       Metrocity  \n",
       "3    Credit Card   16/05/2021    Metropol AVM  \n",
       "4           Cash   24/10/2021          Kanyon  "
      ]
     },
     "execution_count": 4,
     "metadata": {},
     "output_type": "execute_result"
    }
   ],
   "source": [
    "csh_dat_df = pd.read_csv(\"customer_shopping_data.csv\")\n",
    "csh_dat_df.head() "
   ]
  },
  {
   "cell_type": "code",
   "execution_count": 5,
   "id": "f829b56b",
   "metadata": {},
   "outputs": [
    {
     "data": {
      "application/vnd.microsoft.datawrangler.viewer.v0+json": {
       "columns": [
        {
         "name": "index",
         "rawType": "int64",
         "type": "integer"
        },
        {
         "name": "invoice_no",
         "rawType": "object",
         "type": "string"
        },
        {
         "name": "customer_id",
         "rawType": "object",
         "type": "string"
        },
        {
         "name": "gender",
         "rawType": "object",
         "type": "string"
        },
        {
         "name": "age",
         "rawType": "int64",
         "type": "integer"
        },
        {
         "name": "category",
         "rawType": "object",
         "type": "string"
        },
        {
         "name": "quantity",
         "rawType": "int64",
         "type": "integer"
        },
        {
         "name": "price",
         "rawType": "float64",
         "type": "float"
        },
        {
         "name": "payment_method",
         "rawType": "object",
         "type": "string"
        },
        {
         "name": "invoice_date",
         "rawType": "datetime64[ns]",
         "type": "datetime"
        },
        {
         "name": "shopping_mall",
         "rawType": "object",
         "type": "string"
        }
       ],
       "ref": "71b44b03-ea78-48fd-bf3a-de14bab4ee39",
       "rows": [
        [
         "0",
         "I138884",
         "C241288",
         "Female",
         "28",
         "Clothing",
         "5",
         "1500.4",
         "Credit Card",
         "2022-08-05 00:00:00",
         "Kanyon"
        ],
        [
         "1",
         "I317333",
         "C111565",
         "Male",
         "21",
         "Shoes",
         "3",
         "1800.51",
         "Debit Card",
         "2021-12-12 00:00:00",
         "Forum Istanbul"
        ],
        [
         "2",
         "I127801",
         "C266599",
         "Male",
         "20",
         "Clothing",
         "1",
         "300.08",
         "Cash",
         "2021-11-09 00:00:00",
         "Metrocity"
        ],
        [
         "3",
         "I173702",
         "C988172",
         "Female",
         "66",
         "Shoes",
         "5",
         "3000.85",
         "Credit Card",
         "2021-05-16 00:00:00",
         "Metropol AVM"
        ],
        [
         "4",
         "I337046",
         "C189076",
         "Female",
         "53",
         "Books",
         "4",
         "60.6",
         "Cash",
         "2021-10-24 00:00:00",
         "Kanyon"
        ]
       ],
       "shape": {
        "columns": 10,
        "rows": 5
       }
      },
      "text/html": [
       "<div>\n",
       "<style scoped>\n",
       "    .dataframe tbody tr th:only-of-type {\n",
       "        vertical-align: middle;\n",
       "    }\n",
       "\n",
       "    .dataframe tbody tr th {\n",
       "        vertical-align: top;\n",
       "    }\n",
       "\n",
       "    .dataframe thead th {\n",
       "        text-align: right;\n",
       "    }\n",
       "</style>\n",
       "<table border=\"1\" class=\"dataframe\">\n",
       "  <thead>\n",
       "    <tr style=\"text-align: right;\">\n",
       "      <th></th>\n",
       "      <th>invoice_no</th>\n",
       "      <th>customer_id</th>\n",
       "      <th>gender</th>\n",
       "      <th>age</th>\n",
       "      <th>category</th>\n",
       "      <th>quantity</th>\n",
       "      <th>price</th>\n",
       "      <th>payment_method</th>\n",
       "      <th>invoice_date</th>\n",
       "      <th>shopping_mall</th>\n",
       "    </tr>\n",
       "  </thead>\n",
       "  <tbody>\n",
       "    <tr>\n",
       "      <th>0</th>\n",
       "      <td>I138884</td>\n",
       "      <td>C241288</td>\n",
       "      <td>Female</td>\n",
       "      <td>28</td>\n",
       "      <td>Clothing</td>\n",
       "      <td>5</td>\n",
       "      <td>1500.40</td>\n",
       "      <td>Credit Card</td>\n",
       "      <td>2022-08-05</td>\n",
       "      <td>Kanyon</td>\n",
       "    </tr>\n",
       "    <tr>\n",
       "      <th>1</th>\n",
       "      <td>I317333</td>\n",
       "      <td>C111565</td>\n",
       "      <td>Male</td>\n",
       "      <td>21</td>\n",
       "      <td>Shoes</td>\n",
       "      <td>3</td>\n",
       "      <td>1800.51</td>\n",
       "      <td>Debit Card</td>\n",
       "      <td>2021-12-12</td>\n",
       "      <td>Forum Istanbul</td>\n",
       "    </tr>\n",
       "    <tr>\n",
       "      <th>2</th>\n",
       "      <td>I127801</td>\n",
       "      <td>C266599</td>\n",
       "      <td>Male</td>\n",
       "      <td>20</td>\n",
       "      <td>Clothing</td>\n",
       "      <td>1</td>\n",
       "      <td>300.08</td>\n",
       "      <td>Cash</td>\n",
       "      <td>2021-11-09</td>\n",
       "      <td>Metrocity</td>\n",
       "    </tr>\n",
       "    <tr>\n",
       "      <th>3</th>\n",
       "      <td>I173702</td>\n",
       "      <td>C988172</td>\n",
       "      <td>Female</td>\n",
       "      <td>66</td>\n",
       "      <td>Shoes</td>\n",
       "      <td>5</td>\n",
       "      <td>3000.85</td>\n",
       "      <td>Credit Card</td>\n",
       "      <td>2021-05-16</td>\n",
       "      <td>Metropol AVM</td>\n",
       "    </tr>\n",
       "    <tr>\n",
       "      <th>4</th>\n",
       "      <td>I337046</td>\n",
       "      <td>C189076</td>\n",
       "      <td>Female</td>\n",
       "      <td>53</td>\n",
       "      <td>Books</td>\n",
       "      <td>4</td>\n",
       "      <td>60.60</td>\n",
       "      <td>Cash</td>\n",
       "      <td>2021-10-24</td>\n",
       "      <td>Kanyon</td>\n",
       "    </tr>\n",
       "  </tbody>\n",
       "</table>\n",
       "</div>"
      ],
      "text/plain": [
       "  invoice_no customer_id  gender  age  category  quantity    price  \\\n",
       "0    I138884     C241288  Female   28  Clothing         5  1500.40   \n",
       "1    I317333     C111565    Male   21     Shoes         3  1800.51   \n",
       "2    I127801     C266599    Male   20  Clothing         1   300.08   \n",
       "3    I173702     C988172  Female   66     Shoes         5  3000.85   \n",
       "4    I337046     C189076  Female   53     Books         4    60.60   \n",
       "\n",
       "  payment_method invoice_date   shopping_mall  \n",
       "0    Credit Card   2022-08-05          Kanyon  \n",
       "1     Debit Card   2021-12-12  Forum Istanbul  \n",
       "2           Cash   2021-11-09       Metrocity  \n",
       "3    Credit Card   2021-05-16    Metropol AVM  \n",
       "4           Cash   2021-10-24          Kanyon  "
      ]
     },
     "execution_count": 5,
     "metadata": {},
     "output_type": "execute_result"
    }
   ],
   "source": [
    "csh_dat_df['invoice_date'] = pd.to_datetime(csh_dat_df['invoice_date'],format=\"%d/%m/%Y\")\n",
    "csh_dat_df.head() "
   ]
  },
  {
   "cell_type": "code",
   "execution_count": 7,
   "id": "aaddfa3d",
   "metadata": {},
   "outputs": [
    {
     "data": {
      "application/vnd.microsoft.datawrangler.viewer.v0+json": {
       "columns": [
        {
         "name": "index",
         "rawType": "int64",
         "type": "integer"
        },
        {
         "name": "invoice_no",
         "rawType": "object",
         "type": "string"
        },
        {
         "name": "customer_id",
         "rawType": "object",
         "type": "string"
        },
        {
         "name": "gender",
         "rawType": "object",
         "type": "string"
        },
        {
         "name": "age",
         "rawType": "int64",
         "type": "integer"
        },
        {
         "name": "category",
         "rawType": "object",
         "type": "string"
        },
        {
         "name": "quantity",
         "rawType": "int64",
         "type": "integer"
        },
        {
         "name": "price",
         "rawType": "float64",
         "type": "float"
        },
        {
         "name": "payment_method",
         "rawType": "object",
         "type": "string"
        },
        {
         "name": "invoice_date",
         "rawType": "datetime64[ns]",
         "type": "datetime"
        },
        {
         "name": "shopping_mall",
         "rawType": "object",
         "type": "string"
        },
        {
         "name": "total_price",
         "rawType": "float64",
         "type": "float"
        }
       ],
       "ref": "e594662f-a2a1-498a-8df3-0ec6c3ca1a57",
       "rows": [
        [
         "0",
         "I138884",
         "C241288",
         "Female",
         "28",
         "Clothing",
         "5",
         "1500.4",
         "Credit Card",
         "2022-08-05 00:00:00",
         "Kanyon",
         "7502.0"
        ],
        [
         "1",
         "I317333",
         "C111565",
         "Male",
         "21",
         "Shoes",
         "3",
         "1800.51",
         "Debit Card",
         "2021-12-12 00:00:00",
         "Forum Istanbul",
         "5401.53"
        ],
        [
         "2",
         "I127801",
         "C266599",
         "Male",
         "20",
         "Clothing",
         "1",
         "300.08",
         "Cash",
         "2021-11-09 00:00:00",
         "Metrocity",
         "300.08"
        ],
        [
         "3",
         "I173702",
         "C988172",
         "Female",
         "66",
         "Shoes",
         "5",
         "3000.85",
         "Credit Card",
         "2021-05-16 00:00:00",
         "Metropol AVM",
         "15004.25"
        ],
        [
         "4",
         "I337046",
         "C189076",
         "Female",
         "53",
         "Books",
         "4",
         "60.6",
         "Cash",
         "2021-10-24 00:00:00",
         "Kanyon",
         "242.4"
        ]
       ],
       "shape": {
        "columns": 11,
        "rows": 5
       }
      },
      "text/html": [
       "<div>\n",
       "<style scoped>\n",
       "    .dataframe tbody tr th:only-of-type {\n",
       "        vertical-align: middle;\n",
       "    }\n",
       "\n",
       "    .dataframe tbody tr th {\n",
       "        vertical-align: top;\n",
       "    }\n",
       "\n",
       "    .dataframe thead th {\n",
       "        text-align: right;\n",
       "    }\n",
       "</style>\n",
       "<table border=\"1\" class=\"dataframe\">\n",
       "  <thead>\n",
       "    <tr style=\"text-align: right;\">\n",
       "      <th></th>\n",
       "      <th>invoice_no</th>\n",
       "      <th>customer_id</th>\n",
       "      <th>gender</th>\n",
       "      <th>age</th>\n",
       "      <th>category</th>\n",
       "      <th>quantity</th>\n",
       "      <th>price</th>\n",
       "      <th>payment_method</th>\n",
       "      <th>invoice_date</th>\n",
       "      <th>shopping_mall</th>\n",
       "      <th>total_price</th>\n",
       "    </tr>\n",
       "  </thead>\n",
       "  <tbody>\n",
       "    <tr>\n",
       "      <th>0</th>\n",
       "      <td>I138884</td>\n",
       "      <td>C241288</td>\n",
       "      <td>Female</td>\n",
       "      <td>28</td>\n",
       "      <td>Clothing</td>\n",
       "      <td>5</td>\n",
       "      <td>1500.40</td>\n",
       "      <td>Credit Card</td>\n",
       "      <td>2022-08-05</td>\n",
       "      <td>Kanyon</td>\n",
       "      <td>7502.00</td>\n",
       "    </tr>\n",
       "    <tr>\n",
       "      <th>1</th>\n",
       "      <td>I317333</td>\n",
       "      <td>C111565</td>\n",
       "      <td>Male</td>\n",
       "      <td>21</td>\n",
       "      <td>Shoes</td>\n",
       "      <td>3</td>\n",
       "      <td>1800.51</td>\n",
       "      <td>Debit Card</td>\n",
       "      <td>2021-12-12</td>\n",
       "      <td>Forum Istanbul</td>\n",
       "      <td>5401.53</td>\n",
       "    </tr>\n",
       "    <tr>\n",
       "      <th>2</th>\n",
       "      <td>I127801</td>\n",
       "      <td>C266599</td>\n",
       "      <td>Male</td>\n",
       "      <td>20</td>\n",
       "      <td>Clothing</td>\n",
       "      <td>1</td>\n",
       "      <td>300.08</td>\n",
       "      <td>Cash</td>\n",
       "      <td>2021-11-09</td>\n",
       "      <td>Metrocity</td>\n",
       "      <td>300.08</td>\n",
       "    </tr>\n",
       "    <tr>\n",
       "      <th>3</th>\n",
       "      <td>I173702</td>\n",
       "      <td>C988172</td>\n",
       "      <td>Female</td>\n",
       "      <td>66</td>\n",
       "      <td>Shoes</td>\n",
       "      <td>5</td>\n",
       "      <td>3000.85</td>\n",
       "      <td>Credit Card</td>\n",
       "      <td>2021-05-16</td>\n",
       "      <td>Metropol AVM</td>\n",
       "      <td>15004.25</td>\n",
       "    </tr>\n",
       "    <tr>\n",
       "      <th>4</th>\n",
       "      <td>I337046</td>\n",
       "      <td>C189076</td>\n",
       "      <td>Female</td>\n",
       "      <td>53</td>\n",
       "      <td>Books</td>\n",
       "      <td>4</td>\n",
       "      <td>60.60</td>\n",
       "      <td>Cash</td>\n",
       "      <td>2021-10-24</td>\n",
       "      <td>Kanyon</td>\n",
       "      <td>242.40</td>\n",
       "    </tr>\n",
       "  </tbody>\n",
       "</table>\n",
       "</div>"
      ],
      "text/plain": [
       "  invoice_no customer_id  gender  age  category  quantity    price  \\\n",
       "0    I138884     C241288  Female   28  Clothing         5  1500.40   \n",
       "1    I317333     C111565    Male   21     Shoes         3  1800.51   \n",
       "2    I127801     C266599    Male   20  Clothing         1   300.08   \n",
       "3    I173702     C988172  Female   66     Shoes         5  3000.85   \n",
       "4    I337046     C189076  Female   53     Books         4    60.60   \n",
       "\n",
       "  payment_method invoice_date   shopping_mall  total_price  \n",
       "0    Credit Card   2022-08-05          Kanyon      7502.00  \n",
       "1     Debit Card   2021-12-12  Forum Istanbul      5401.53  \n",
       "2           Cash   2021-11-09       Metrocity       300.08  \n",
       "3    Credit Card   2021-05-16    Metropol AVM     15004.25  \n",
       "4           Cash   2021-10-24          Kanyon       242.40  "
      ]
     },
     "execution_count": 7,
     "metadata": {},
     "output_type": "execute_result"
    }
   ],
   "source": [
    "csh_dat_df['total_price'] = csh_dat_df['quantity'] * csh_dat_df['price']\n",
    "csh_dat_df.head()"
   ]
  },
  {
   "cell_type": "code",
   "execution_count": null,
   "id": "721016fd",
   "metadata": {},
   "outputs": [
    {
     "data": {
      "application/vnd.microsoft.datawrangler.viewer.v0+json": {
       "columns": [
        {
         "name": "gender",
         "rawType": "object",
         "type": "string"
        },
        {
         "name": "total_price",
         "rawType": "float64",
         "type": "float"
        }
       ],
       "ref": "c0ad7a38-68ea-4247-9727-ad6d156e16a9",
       "rows": [
        [
         "Female",
         "150207136.02"
        ],
        [
         "Male",
         "101298658.23"
        ]
       ],
       "shape": {
        "columns": 1,
        "rows": 2
       }
      },
      "text/plain": [
       "gender\n",
       "Female    1.502071e+08\n",
       "Male      1.012987e+08\n",
       "Name: total_price, dtype: float64"
      ]
     },
     "execution_count": 9,
     "metadata": {},
     "output_type": "execute_result"
    }
   ],
   "source": [
    "#groupby returns a series object\n",
    "tot_prce_grp_by_price = csh_dat_df.groupby('gender')['total_price'].sum()\n",
    "tot_prce_grp_by_price"
   ]
  },
  {
   "cell_type": "code",
   "execution_count": 10,
   "id": "23368962",
   "metadata": {},
   "outputs": [
    {
     "data": {
      "application/vnd.microsoft.datawrangler.viewer.v0+json": {
       "columns": [
        {
         "name": "category",
         "rawType": "object",
         "type": "string"
        },
        {
         "name": "total_price",
         "rawType": "float64",
         "type": "float"
        }
       ],
       "ref": "9457cb1f-5457-4153-8809-cb3be177f95e",
       "rows": [
        [
         "Books",
         "834552.9"
        ],
        [
         "Clothing",
         "113996791.03999999"
        ],
        [
         "Cosmetics",
         "6792862.899999999"
        ],
        [
         "Food & Beverage",
         "849535.05"
        ],
        [
         "Shoes",
         "66553451.47"
        ],
        [
         "Souvenir",
         "635824.65"
        ],
        [
         "Technology",
         "57862350.0"
        ],
        [
         "Toys",
         "3980426.24"
        ]
       ],
       "shape": {
        "columns": 1,
        "rows": 8
       }
      },
      "text/plain": [
       "category\n",
       "Books              8.345529e+05\n",
       "Clothing           1.139968e+08\n",
       "Cosmetics          6.792863e+06\n",
       "Food & Beverage    8.495351e+05\n",
       "Shoes              6.655345e+07\n",
       "Souvenir           6.358247e+05\n",
       "Technology         5.786235e+07\n",
       "Toys               3.980426e+06\n",
       "Name: total_price, dtype: float64"
      ]
     },
     "execution_count": 10,
     "metadata": {},
     "output_type": "execute_result"
    }
   ],
   "source": [
    "#groupby returns a series object\n",
    "tot_prce_grp_by_category = csh_dat_df.groupby('category')['total_price'].sum()\n",
    "tot_prce_grp_by_category"
   ]
  },
  {
   "cell_type": "code",
   "execution_count": 13,
   "id": "b52de083",
   "metadata": {},
   "outputs": [
    {
     "data": {
      "application/vnd.microsoft.datawrangler.viewer.v0+json": {
       "columns": [
        {
         "name": "('category', 'gender')",
         "rawType": "object",
         "type": "unknown"
        },
        {
         "name": "quantity",
         "rawType": "int64",
         "type": "integer"
        }
       ],
       "ref": "7c45886f-08a9-4735-b6d3-9ff2741cdb8c",
       "rows": [
        [
         "('Books', 'Female')",
         "8776"
        ],
        [
         "('Books', 'Male')",
         "6206"
        ],
        [
         "('Clothing', 'Female')",
         "62039"
        ],
        [
         "('Clothing', 'Male')",
         "41519"
        ],
        [
         "('Cosmetics', 'Female')",
         "27261"
        ],
        [
         "('Cosmetics', 'Male')",
         "18204"
        ],
        [
         "('Food & Beverage', 'Female')",
         "26362"
        ],
        [
         "('Food & Beverage', 'Male')",
         "17915"
        ],
        [
         "('Shoes', 'Female')",
         "17906"
        ],
        [
         "('Shoes', 'Male')",
         "12311"
        ],
        [
         "('Souvenir', 'Female')",
         "8976"
        ],
        [
         "('Souvenir', 'Male')",
         "5895"
        ],
        [
         "('Technology', 'Female')",
         "8977"
        ],
        [
         "('Technology', 'Male')",
         "6044"
        ],
        [
         "('Toys', 'Female')",
         "18362"
        ],
        [
         "('Toys', 'Male')",
         "11959"
        ]
       ],
       "shape": {
        "columns": 1,
        "rows": 16
       }
      },
      "text/plain": [
       "category         gender\n",
       "Books            Female     8776\n",
       "                 Male       6206\n",
       "Clothing         Female    62039\n",
       "                 Male      41519\n",
       "Cosmetics        Female    27261\n",
       "                 Male      18204\n",
       "Food & Beverage  Female    26362\n",
       "                 Male      17915\n",
       "Shoes            Female    17906\n",
       "                 Male      12311\n",
       "Souvenir         Female     8976\n",
       "                 Male       5895\n",
       "Technology       Female     8977\n",
       "                 Male       6044\n",
       "Toys             Female    18362\n",
       "                 Male      11959\n",
       "Name: quantity, dtype: int64"
      ]
     },
     "execution_count": 13,
     "metadata": {},
     "output_type": "execute_result"
    }
   ],
   "source": [
    "quantity_grp_by_category_gender = csh_dat_df.groupby(['category','gender'])['quantity'].sum()\n",
    "quantity_grp_by_category_gender"
   ]
  },
  {
   "cell_type": "code",
   "execution_count": 14,
   "id": "355025d2",
   "metadata": {},
   "outputs": [
    {
     "data": {
      "text/plain": [
       "pandas.core.series.Series"
      ]
     },
     "execution_count": 14,
     "metadata": {},
     "output_type": "execute_result"
    }
   ],
   "source": [
    "type(quantity_grp_by_category_gender)"
   ]
  },
  {
   "cell_type": "code",
   "execution_count": 19,
   "id": "5c8d6d3a",
   "metadata": {},
   "outputs": [
    {
     "data": {
      "text/plain": [
       "MultiIndex([(          'Books', 'Female'),\n",
       "            (          'Books',   'Male'),\n",
       "            (       'Clothing', 'Female'),\n",
       "            (       'Clothing',   'Male'),\n",
       "            (      'Cosmetics', 'Female'),\n",
       "            (      'Cosmetics',   'Male'),\n",
       "            ('Food & Beverage', 'Female'),\n",
       "            ('Food & Beverage',   'Male'),\n",
       "            (          'Shoes', 'Female'),\n",
       "            (          'Shoes',   'Male'),\n",
       "            (       'Souvenir', 'Female'),\n",
       "            (       'Souvenir',   'Male'),\n",
       "            (     'Technology', 'Female'),\n",
       "            (     'Technology',   'Male'),\n",
       "            (           'Toys', 'Female'),\n",
       "            (           'Toys',   'Male')],\n",
       "           names=['category', 'gender'])"
      ]
     },
     "execution_count": 19,
     "metadata": {},
     "output_type": "execute_result"
    }
   ],
   "source": [
    "quantity_grp_by_category_gender.index"
   ]
  },
  {
   "cell_type": "code",
   "execution_count": 22,
   "id": "abf1a3ab",
   "metadata": {},
   "outputs": [
    {
     "data": {
      "application/vnd.microsoft.datawrangler.viewer.v0+json": {
       "columns": [
        {
         "name": "index",
         "rawType": "int64",
         "type": "integer"
        },
        {
         "name": "category",
         "rawType": "object",
         "type": "string"
        },
        {
         "name": "gender",
         "rawType": "object",
         "type": "string"
        },
        {
         "name": "quantity",
         "rawType": "int64",
         "type": "integer"
        }
       ],
       "ref": "3eb7ddc8-ca75-43c5-bb35-94efe49a68c1",
       "rows": [
        [
         "0",
         "Books",
         "Female",
         "8776"
        ],
        [
         "1",
         "Books",
         "Male",
         "6206"
        ],
        [
         "2",
         "Clothing",
         "Female",
         "62039"
        ],
        [
         "3",
         "Clothing",
         "Male",
         "41519"
        ],
        [
         "4",
         "Cosmetics",
         "Female",
         "27261"
        ],
        [
         "5",
         "Cosmetics",
         "Male",
         "18204"
        ],
        [
         "6",
         "Food & Beverage",
         "Female",
         "26362"
        ],
        [
         "7",
         "Food & Beverage",
         "Male",
         "17915"
        ],
        [
         "8",
         "Shoes",
         "Female",
         "17906"
        ],
        [
         "9",
         "Shoes",
         "Male",
         "12311"
        ],
        [
         "10",
         "Souvenir",
         "Female",
         "8976"
        ],
        [
         "11",
         "Souvenir",
         "Male",
         "5895"
        ],
        [
         "12",
         "Technology",
         "Female",
         "8977"
        ],
        [
         "13",
         "Technology",
         "Male",
         "6044"
        ],
        [
         "14",
         "Toys",
         "Female",
         "18362"
        ],
        [
         "15",
         "Toys",
         "Male",
         "11959"
        ]
       ],
       "shape": {
        "columns": 3,
        "rows": 16
       }
      },
      "text/html": [
       "<div>\n",
       "<style scoped>\n",
       "    .dataframe tbody tr th:only-of-type {\n",
       "        vertical-align: middle;\n",
       "    }\n",
       "\n",
       "    .dataframe tbody tr th {\n",
       "        vertical-align: top;\n",
       "    }\n",
       "\n",
       "    .dataframe thead th {\n",
       "        text-align: right;\n",
       "    }\n",
       "</style>\n",
       "<table border=\"1\" class=\"dataframe\">\n",
       "  <thead>\n",
       "    <tr style=\"text-align: right;\">\n",
       "      <th></th>\n",
       "      <th>category</th>\n",
       "      <th>gender</th>\n",
       "      <th>quantity</th>\n",
       "    </tr>\n",
       "  </thead>\n",
       "  <tbody>\n",
       "    <tr>\n",
       "      <th>0</th>\n",
       "      <td>Books</td>\n",
       "      <td>Female</td>\n",
       "      <td>8776</td>\n",
       "    </tr>\n",
       "    <tr>\n",
       "      <th>1</th>\n",
       "      <td>Books</td>\n",
       "      <td>Male</td>\n",
       "      <td>6206</td>\n",
       "    </tr>\n",
       "    <tr>\n",
       "      <th>2</th>\n",
       "      <td>Clothing</td>\n",
       "      <td>Female</td>\n",
       "      <td>62039</td>\n",
       "    </tr>\n",
       "    <tr>\n",
       "      <th>3</th>\n",
       "      <td>Clothing</td>\n",
       "      <td>Male</td>\n",
       "      <td>41519</td>\n",
       "    </tr>\n",
       "    <tr>\n",
       "      <th>4</th>\n",
       "      <td>Cosmetics</td>\n",
       "      <td>Female</td>\n",
       "      <td>27261</td>\n",
       "    </tr>\n",
       "    <tr>\n",
       "      <th>5</th>\n",
       "      <td>Cosmetics</td>\n",
       "      <td>Male</td>\n",
       "      <td>18204</td>\n",
       "    </tr>\n",
       "    <tr>\n",
       "      <th>6</th>\n",
       "      <td>Food &amp; Beverage</td>\n",
       "      <td>Female</td>\n",
       "      <td>26362</td>\n",
       "    </tr>\n",
       "    <tr>\n",
       "      <th>7</th>\n",
       "      <td>Food &amp; Beverage</td>\n",
       "      <td>Male</td>\n",
       "      <td>17915</td>\n",
       "    </tr>\n",
       "    <tr>\n",
       "      <th>8</th>\n",
       "      <td>Shoes</td>\n",
       "      <td>Female</td>\n",
       "      <td>17906</td>\n",
       "    </tr>\n",
       "    <tr>\n",
       "      <th>9</th>\n",
       "      <td>Shoes</td>\n",
       "      <td>Male</td>\n",
       "      <td>12311</td>\n",
       "    </tr>\n",
       "    <tr>\n",
       "      <th>10</th>\n",
       "      <td>Souvenir</td>\n",
       "      <td>Female</td>\n",
       "      <td>8976</td>\n",
       "    </tr>\n",
       "    <tr>\n",
       "      <th>11</th>\n",
       "      <td>Souvenir</td>\n",
       "      <td>Male</td>\n",
       "      <td>5895</td>\n",
       "    </tr>\n",
       "    <tr>\n",
       "      <th>12</th>\n",
       "      <td>Technology</td>\n",
       "      <td>Female</td>\n",
       "      <td>8977</td>\n",
       "    </tr>\n",
       "    <tr>\n",
       "      <th>13</th>\n",
       "      <td>Technology</td>\n",
       "      <td>Male</td>\n",
       "      <td>6044</td>\n",
       "    </tr>\n",
       "    <tr>\n",
       "      <th>14</th>\n",
       "      <td>Toys</td>\n",
       "      <td>Female</td>\n",
       "      <td>18362</td>\n",
       "    </tr>\n",
       "    <tr>\n",
       "      <th>15</th>\n",
       "      <td>Toys</td>\n",
       "      <td>Male</td>\n",
       "      <td>11959</td>\n",
       "    </tr>\n",
       "  </tbody>\n",
       "</table>\n",
       "</div>"
      ],
      "text/plain": [
       "           category  gender  quantity\n",
       "0             Books  Female      8776\n",
       "1             Books    Male      6206\n",
       "2          Clothing  Female     62039\n",
       "3          Clothing    Male     41519\n",
       "4         Cosmetics  Female     27261\n",
       "5         Cosmetics    Male     18204\n",
       "6   Food & Beverage  Female     26362\n",
       "7   Food & Beverage    Male     17915\n",
       "8             Shoes  Female     17906\n",
       "9             Shoes    Male     12311\n",
       "10         Souvenir  Female      8976\n",
       "11         Souvenir    Male      5895\n",
       "12       Technology  Female      8977\n",
       "13       Technology    Male      6044\n",
       "14             Toys  Female     18362\n",
       "15             Toys    Male     11959"
      ]
     },
     "execution_count": 22,
     "metadata": {},
     "output_type": "execute_result"
    }
   ],
   "source": [
    "# Generate a new DataFrame or Series with the index reset.\n",
    "#This is useful when the index needs to be treated as a column, or when the index is \n",
    "# meaningless and needs to be reset to the default before another operation.\n",
    "qty_grp_by_cat_gndr = quantity_grp_by_category_gender.reset_index()\n",
    "qty_grp_by_cat_gndr\n",
    "# existing indexes are added as columns to get a dataframe."
   ]
  },
  {
   "cell_type": "markdown",
   "id": "6bc5ac05",
   "metadata": {},
   "source": [
    "Pivot Table creates Dataframes.\n",
    "GroupBy creates a Series."
   ]
  },
  {
   "cell_type": "code",
   "execution_count": null,
   "id": "2bfec8db",
   "metadata": {},
   "outputs": [
    {
     "data": {
      "application/vnd.microsoft.datawrangler.viewer.v0+json": {
       "columns": [
        {
         "name": "category",
         "rawType": "object",
         "type": "string"
        },
        {
         "name": "quantity",
         "rawType": "float64",
         "type": "float"
        }
       ],
       "ref": "196a5288-3e54-4bbe-a383-973be6d00cbd",
       "rows": [
        [
         "Books",
         "3.007829753061634"
        ],
        [
         "Clothing",
         "3.0028126540435527"
        ],
        [
         "Cosmetics",
         "3.011525468636153"
        ],
        [
         "Food & Beverage",
         "2.996548456957228"
        ],
        [
         "Shoes",
         "3.0114610324895357"
        ],
        [
         "Souvenir",
         "2.9747949589917986"
        ],
        [
         "Technology",
         "3.006605284227382"
        ],
        [
         "Toys",
         "3.0059482502230592"
        ]
       ],
       "shape": {
        "columns": 1,
        "rows": 8
       }
      },
      "text/plain": [
       "category\n",
       "Books              3.007830\n",
       "Clothing           3.002813\n",
       "Cosmetics          3.011525\n",
       "Food & Beverage    2.996548\n",
       "Shoes              3.011461\n",
       "Souvenir           2.974795\n",
       "Technology         3.006605\n",
       "Toys               3.005948\n",
       "Name: quantity, dtype: float64"
      ]
     },
     "execution_count": 33,
     "metadata": {},
     "output_type": "execute_result"
    }
   ],
   "source": [
    "csh_dat_df.groupby('category')['quantity'].mean()"
   ]
  },
  {
   "cell_type": "code",
   "execution_count": 35,
   "id": "5c944551",
   "metadata": {},
   "outputs": [
    {
     "data": {
      "application/vnd.microsoft.datawrangler.viewer.v0+json": {
       "columns": [
        {
         "name": "category",
         "rawType": "object",
         "type": "string"
        },
        {
         "name": "quantity",
         "rawType": "float64",
         "type": "float"
        }
       ],
       "ref": "2da0a208-d689-4aac-9950-9b2fbfc5c5b0",
       "rows": [
        [
         "Books",
         "1.4186575644130568"
        ],
        [
         "Clothing",
         "1.4137083229256606"
        ],
        [
         "Cosmetics",
         "1.4131356889513476"
        ],
        [
         "Food & Beverage",
         "1.4191540572920838"
        ],
        [
         "Shoes",
         "1.408128146169749"
        ],
        [
         "Souvenir",
         "1.4121481855548228"
        ],
        [
         "Technology",
         "1.4110093381960942"
        ],
        [
         "Toys",
         "1.4052690817937161"
        ]
       ],
       "shape": {
        "columns": 1,
        "rows": 8
       }
      },
      "text/plain": [
       "category\n",
       "Books              1.418658\n",
       "Clothing           1.413708\n",
       "Cosmetics          1.413136\n",
       "Food & Beverage    1.419154\n",
       "Shoes              1.408128\n",
       "Souvenir           1.412148\n",
       "Technology         1.411009\n",
       "Toys               1.405269\n",
       "Name: quantity, dtype: float64"
      ]
     },
     "execution_count": 35,
     "metadata": {},
     "output_type": "execute_result"
    }
   ],
   "source": [
    "#individual stats\n",
    "csh_dat_df.groupby('category')['quantity'].std()"
   ]
  },
  {
   "cell_type": "code",
   "execution_count": 36,
   "id": "64c01730",
   "metadata": {},
   "outputs": [
    {
     "data": {
      "application/vnd.microsoft.datawrangler.viewer.v0+json": {
       "columns": [
        {
         "name": "category",
         "rawType": "object",
         "type": "string"
        },
        {
         "name": "min",
         "rawType": "int64",
         "type": "integer"
        },
        {
         "name": "max",
         "rawType": "int64",
         "type": "integer"
        },
        {
         "name": "mean",
         "rawType": "float64",
         "type": "float"
        },
        {
         "name": "median",
         "rawType": "float64",
         "type": "float"
        },
        {
         "name": "std",
         "rawType": "float64",
         "type": "float"
        },
        {
         "name": "var",
         "rawType": "float64",
         "type": "float"
        }
       ],
       "ref": "1427ce97-26dc-4854-8844-33c681f72fe4",
       "rows": [
        [
         "Books",
         "1",
         "5",
         "3.007829753061634",
         "3.0",
         "1.4186575644130568",
         "2.0125892850663867"
        ],
        [
         "Clothing",
         "1",
         "5",
         "3.0028126540435527",
         "3.0",
         "1.4137083229256606",
         "1.9985712223092837"
        ],
        [
         "Cosmetics",
         "1",
         "5",
         "3.011525468636153",
         "3.0",
         "1.4131356889513476",
         "1.9969524753879997"
        ],
        [
         "Food & Beverage",
         "1",
         "5",
         "2.996548456957228",
         "3.0",
         "1.4191540572920838",
         "2.013998238328583"
        ],
        [
         "Shoes",
         "1",
         "5",
         "3.0114610324895357",
         "3.0",
         "1.408128146169749",
         "1.9828248760354539"
        ],
        [
         "Souvenir",
         "1",
         "5",
         "2.9747949589917986",
         "3.0",
         "1.4121481855548228",
         "1.994162497965778"
        ],
        [
         "Technology",
         "1",
         "5",
         "3.006605284227382",
         "3.0",
         "1.4110093381960942",
         "1.9909473524765797"
        ],
        [
         "Toys",
         "1",
         "5",
         "3.0059482502230592",
         "3.0",
         "1.4052690817937161",
         "1.974781192245354"
        ]
       ],
       "shape": {
        "columns": 6,
        "rows": 8
       }
      },
      "text/html": [
       "<div>\n",
       "<style scoped>\n",
       "    .dataframe tbody tr th:only-of-type {\n",
       "        vertical-align: middle;\n",
       "    }\n",
       "\n",
       "    .dataframe tbody tr th {\n",
       "        vertical-align: top;\n",
       "    }\n",
       "\n",
       "    .dataframe thead th {\n",
       "        text-align: right;\n",
       "    }\n",
       "</style>\n",
       "<table border=\"1\" class=\"dataframe\">\n",
       "  <thead>\n",
       "    <tr style=\"text-align: right;\">\n",
       "      <th></th>\n",
       "      <th>min</th>\n",
       "      <th>max</th>\n",
       "      <th>mean</th>\n",
       "      <th>median</th>\n",
       "      <th>std</th>\n",
       "      <th>var</th>\n",
       "    </tr>\n",
       "    <tr>\n",
       "      <th>category</th>\n",
       "      <th></th>\n",
       "      <th></th>\n",
       "      <th></th>\n",
       "      <th></th>\n",
       "      <th></th>\n",
       "      <th></th>\n",
       "    </tr>\n",
       "  </thead>\n",
       "  <tbody>\n",
       "    <tr>\n",
       "      <th>Books</th>\n",
       "      <td>1</td>\n",
       "      <td>5</td>\n",
       "      <td>3.007830</td>\n",
       "      <td>3.0</td>\n",
       "      <td>1.418658</td>\n",
       "      <td>2.012589</td>\n",
       "    </tr>\n",
       "    <tr>\n",
       "      <th>Clothing</th>\n",
       "      <td>1</td>\n",
       "      <td>5</td>\n",
       "      <td>3.002813</td>\n",
       "      <td>3.0</td>\n",
       "      <td>1.413708</td>\n",
       "      <td>1.998571</td>\n",
       "    </tr>\n",
       "    <tr>\n",
       "      <th>Cosmetics</th>\n",
       "      <td>1</td>\n",
       "      <td>5</td>\n",
       "      <td>3.011525</td>\n",
       "      <td>3.0</td>\n",
       "      <td>1.413136</td>\n",
       "      <td>1.996952</td>\n",
       "    </tr>\n",
       "    <tr>\n",
       "      <th>Food &amp; Beverage</th>\n",
       "      <td>1</td>\n",
       "      <td>5</td>\n",
       "      <td>2.996548</td>\n",
       "      <td>3.0</td>\n",
       "      <td>1.419154</td>\n",
       "      <td>2.013998</td>\n",
       "    </tr>\n",
       "    <tr>\n",
       "      <th>Shoes</th>\n",
       "      <td>1</td>\n",
       "      <td>5</td>\n",
       "      <td>3.011461</td>\n",
       "      <td>3.0</td>\n",
       "      <td>1.408128</td>\n",
       "      <td>1.982825</td>\n",
       "    </tr>\n",
       "    <tr>\n",
       "      <th>Souvenir</th>\n",
       "      <td>1</td>\n",
       "      <td>5</td>\n",
       "      <td>2.974795</td>\n",
       "      <td>3.0</td>\n",
       "      <td>1.412148</td>\n",
       "      <td>1.994162</td>\n",
       "    </tr>\n",
       "    <tr>\n",
       "      <th>Technology</th>\n",
       "      <td>1</td>\n",
       "      <td>5</td>\n",
       "      <td>3.006605</td>\n",
       "      <td>3.0</td>\n",
       "      <td>1.411009</td>\n",
       "      <td>1.990947</td>\n",
       "    </tr>\n",
       "    <tr>\n",
       "      <th>Toys</th>\n",
       "      <td>1</td>\n",
       "      <td>5</td>\n",
       "      <td>3.005948</td>\n",
       "      <td>3.0</td>\n",
       "      <td>1.405269</td>\n",
       "      <td>1.974781</td>\n",
       "    </tr>\n",
       "  </tbody>\n",
       "</table>\n",
       "</div>"
      ],
      "text/plain": [
       "                 min  max      mean  median       std       var\n",
       "category                                                       \n",
       "Books              1    5  3.007830     3.0  1.418658  2.012589\n",
       "Clothing           1    5  3.002813     3.0  1.413708  1.998571\n",
       "Cosmetics          1    5  3.011525     3.0  1.413136  1.996952\n",
       "Food & Beverage    1    5  2.996548     3.0  1.419154  2.013998\n",
       "Shoes              1    5  3.011461     3.0  1.408128  1.982825\n",
       "Souvenir           1    5  2.974795     3.0  1.412148  1.994162\n",
       "Technology         1    5  3.006605     3.0  1.411009  1.990947\n",
       "Toys               1    5  3.005948     3.0  1.405269  1.974781"
      ]
     },
     "execution_count": 36,
     "metadata": {},
     "output_type": "execute_result"
    }
   ],
   "source": [
    "# multiple agg function\n",
    "cat_qty_series = csh_dat_df.groupby('category')['quantity']\n",
    "cat_qty_stats_agg = cat_qty_series.agg(['min','max','mean','median','std','var'])\n",
    "cat_qty_stats_agg"
   ]
  },
  {
   "cell_type": "code",
   "execution_count": 38,
   "id": "2bb00754",
   "metadata": {},
   "outputs": [
    {
     "data": {
      "application/vnd.microsoft.datawrangler.viewer.v0+json": {
       "columns": [
        {
         "name": "category",
         "rawType": "object",
         "type": "string"
        },
        {
         "name": "Mean_Qty_per_ctgry",
         "rawType": "float64",
         "type": "float"
        },
        {
         "name": "Std_Qty_per_ctgry",
         "rawType": "float64",
         "type": "float"
        }
       ],
       "ref": "9df610ab-bd80-4da1-bda2-70336bf3cb69",
       "rows": [
        [
         "Books",
         "3.007829753061634",
         "1.4186575644130568"
        ],
        [
         "Clothing",
         "3.0028126540435527",
         "1.4137083229256606"
        ],
        [
         "Cosmetics",
         "3.011525468636153",
         "1.4131356889513476"
        ],
        [
         "Food & Beverage",
         "2.996548456957228",
         "1.4191540572920838"
        ],
        [
         "Shoes",
         "3.0114610324895357",
         "1.408128146169749"
        ],
        [
         "Souvenir",
         "2.9747949589917986",
         "1.4121481855548228"
        ],
        [
         "Technology",
         "3.006605284227382",
         "1.4110093381960942"
        ],
        [
         "Toys",
         "3.0059482502230592",
         "1.4052690817937161"
        ]
       ],
       "shape": {
        "columns": 2,
        "rows": 8
       }
      },
      "text/html": [
       "<div>\n",
       "<style scoped>\n",
       "    .dataframe tbody tr th:only-of-type {\n",
       "        vertical-align: middle;\n",
       "    }\n",
       "\n",
       "    .dataframe tbody tr th {\n",
       "        vertical-align: top;\n",
       "    }\n",
       "\n",
       "    .dataframe thead th {\n",
       "        text-align: right;\n",
       "    }\n",
       "</style>\n",
       "<table border=\"1\" class=\"dataframe\">\n",
       "  <thead>\n",
       "    <tr style=\"text-align: right;\">\n",
       "      <th></th>\n",
       "      <th>Mean_Qty_per_ctgry</th>\n",
       "      <th>Std_Qty_per_ctgry</th>\n",
       "    </tr>\n",
       "    <tr>\n",
       "      <th>category</th>\n",
       "      <th></th>\n",
       "      <th></th>\n",
       "    </tr>\n",
       "  </thead>\n",
       "  <tbody>\n",
       "    <tr>\n",
       "      <th>Books</th>\n",
       "      <td>3.007830</td>\n",
       "      <td>1.418658</td>\n",
       "    </tr>\n",
       "    <tr>\n",
       "      <th>Clothing</th>\n",
       "      <td>3.002813</td>\n",
       "      <td>1.413708</td>\n",
       "    </tr>\n",
       "    <tr>\n",
       "      <th>Cosmetics</th>\n",
       "      <td>3.011525</td>\n",
       "      <td>1.413136</td>\n",
       "    </tr>\n",
       "    <tr>\n",
       "      <th>Food &amp; Beverage</th>\n",
       "      <td>2.996548</td>\n",
       "      <td>1.419154</td>\n",
       "    </tr>\n",
       "    <tr>\n",
       "      <th>Shoes</th>\n",
       "      <td>3.011461</td>\n",
       "      <td>1.408128</td>\n",
       "    </tr>\n",
       "    <tr>\n",
       "      <th>Souvenir</th>\n",
       "      <td>2.974795</td>\n",
       "      <td>1.412148</td>\n",
       "    </tr>\n",
       "    <tr>\n",
       "      <th>Technology</th>\n",
       "      <td>3.006605</td>\n",
       "      <td>1.411009</td>\n",
       "    </tr>\n",
       "    <tr>\n",
       "      <th>Toys</th>\n",
       "      <td>3.005948</td>\n",
       "      <td>1.405269</td>\n",
       "    </tr>\n",
       "  </tbody>\n",
       "</table>\n",
       "</div>"
      ],
      "text/plain": [
       "                 Mean_Qty_per_ctgry  Std_Qty_per_ctgry\n",
       "category                                              \n",
       "Books                      3.007830           1.418658\n",
       "Clothing                   3.002813           1.413708\n",
       "Cosmetics                  3.011525           1.413136\n",
       "Food & Beverage            2.996548           1.419154\n",
       "Shoes                      3.011461           1.408128\n",
       "Souvenir                   2.974795           1.412148\n",
       "Technology                 3.006605           1.411009\n",
       "Toys                       3.005948           1.405269"
      ]
     },
     "execution_count": 38,
     "metadata": {},
     "output_type": "execute_result"
    }
   ],
   "source": [
    "#named aggregation\n",
    "csh_dat_df.groupby('category').agg(Mean_Qty_per_ctgry=('quantity','mean'), Std_Qty_per_ctgry=('quantity','std'))"
   ]
  },
  {
   "cell_type": "code",
   "execution_count": 39,
   "id": "723df1bb",
   "metadata": {},
   "outputs": [
    {
     "data": {
      "application/vnd.microsoft.datawrangler.viewer.v0+json": {
       "columns": [
        {
         "name": "category",
         "rawType": "object",
         "type": "string"
        },
        {
         "name": "Revenue",
         "rawType": "float64",
         "type": "float"
        },
        {
         "name": "Avg_Qty",
         "rawType": "float64",
         "type": "float"
        },
        {
         "name": "Total_Q",
         "rawType": "int64",
         "type": "integer"
        }
       ],
       "ref": "161a06eb-01c7-493e-b58a-35e2c5746300",
       "rows": [
        [
         "Books",
         "834552.9",
         "3.007829753061634",
         "14982"
        ],
        [
         "Clothing",
         "113996791.03999999",
         "3.0028126540435527",
         "103558"
        ],
        [
         "Cosmetics",
         "6792862.899999999",
         "3.011525468636153",
         "45465"
        ],
        [
         "Food & Beverage",
         "849535.05",
         "2.996548456957228",
         "44277"
        ],
        [
         "Shoes",
         "66553451.47",
         "3.0114610324895357",
         "30217"
        ],
        [
         "Souvenir",
         "635824.65",
         "2.9747949589917986",
         "14871"
        ],
        [
         "Technology",
         "57862350.0",
         "3.006605284227382",
         "15021"
        ],
        [
         "Toys",
         "3980426.24",
         "3.0059482502230592",
         "30321"
        ]
       ],
       "shape": {
        "columns": 3,
        "rows": 8
       }
      },
      "text/html": [
       "<div>\n",
       "<style scoped>\n",
       "    .dataframe tbody tr th:only-of-type {\n",
       "        vertical-align: middle;\n",
       "    }\n",
       "\n",
       "    .dataframe tbody tr th {\n",
       "        vertical-align: top;\n",
       "    }\n",
       "\n",
       "    .dataframe thead th {\n",
       "        text-align: right;\n",
       "    }\n",
       "</style>\n",
       "<table border=\"1\" class=\"dataframe\">\n",
       "  <thead>\n",
       "    <tr style=\"text-align: right;\">\n",
       "      <th></th>\n",
       "      <th>Revenue</th>\n",
       "      <th>Avg_Qty</th>\n",
       "      <th>Total_Q</th>\n",
       "    </tr>\n",
       "    <tr>\n",
       "      <th>category</th>\n",
       "      <th></th>\n",
       "      <th></th>\n",
       "      <th></th>\n",
       "    </tr>\n",
       "  </thead>\n",
       "  <tbody>\n",
       "    <tr>\n",
       "      <th>Books</th>\n",
       "      <td>8.345529e+05</td>\n",
       "      <td>3.007830</td>\n",
       "      <td>14982</td>\n",
       "    </tr>\n",
       "    <tr>\n",
       "      <th>Clothing</th>\n",
       "      <td>1.139968e+08</td>\n",
       "      <td>3.002813</td>\n",
       "      <td>103558</td>\n",
       "    </tr>\n",
       "    <tr>\n",
       "      <th>Cosmetics</th>\n",
       "      <td>6.792863e+06</td>\n",
       "      <td>3.011525</td>\n",
       "      <td>45465</td>\n",
       "    </tr>\n",
       "    <tr>\n",
       "      <th>Food &amp; Beverage</th>\n",
       "      <td>8.495351e+05</td>\n",
       "      <td>2.996548</td>\n",
       "      <td>44277</td>\n",
       "    </tr>\n",
       "    <tr>\n",
       "      <th>Shoes</th>\n",
       "      <td>6.655345e+07</td>\n",
       "      <td>3.011461</td>\n",
       "      <td>30217</td>\n",
       "    </tr>\n",
       "    <tr>\n",
       "      <th>Souvenir</th>\n",
       "      <td>6.358247e+05</td>\n",
       "      <td>2.974795</td>\n",
       "      <td>14871</td>\n",
       "    </tr>\n",
       "    <tr>\n",
       "      <th>Technology</th>\n",
       "      <td>5.786235e+07</td>\n",
       "      <td>3.006605</td>\n",
       "      <td>15021</td>\n",
       "    </tr>\n",
       "    <tr>\n",
       "      <th>Toys</th>\n",
       "      <td>3.980426e+06</td>\n",
       "      <td>3.005948</td>\n",
       "      <td>30321</td>\n",
       "    </tr>\n",
       "  </tbody>\n",
       "</table>\n",
       "</div>"
      ],
      "text/plain": [
       "                      Revenue   Avg_Qty  Total_Q\n",
       "category                                        \n",
       "Books            8.345529e+05  3.007830    14982\n",
       "Clothing         1.139968e+08  3.002813   103558\n",
       "Cosmetics        6.792863e+06  3.011525    45465\n",
       "Food & Beverage  8.495351e+05  2.996548    44277\n",
       "Shoes            6.655345e+07  3.011461    30217\n",
       "Souvenir         6.358247e+05  2.974795    14871\n",
       "Technology       5.786235e+07  3.006605    15021\n",
       "Toys             3.980426e+06  3.005948    30321"
      ]
     },
     "execution_count": 39,
     "metadata": {},
     "output_type": "execute_result"
    }
   ],
   "source": [
    "csh_dat_df.groupby('category').agg(Revenue=('total_price','sum'), Avg_Qty=('quantity','mean'), Total_Q=('quantity','sum'))"
   ]
  },
  {
   "cell_type": "code",
   "execution_count": null,
   "id": "39365750",
   "metadata": {},
   "outputs": [],
   "source": [
    "#export report to csv\n",
    "catgry_report = csh_dat_df.groupby('category').agg(Revenue=('total_price','sum'), Avg_Qty=('quantity','mean'), Total_Q=('quantity','sum'))\n",
    "catgry_report.to_csv(\"category_report.csv\")"
   ]
  },
  {
   "cell_type": "code",
   "execution_count": 42,
   "id": "b9408e27",
   "metadata": {},
   "outputs": [
    {
     "data": {
      "application/vnd.microsoft.datawrangler.viewer.v0+json": {
       "columns": [
        {
         "name": "category",
         "rawType": "object",
         "type": "string"
        },
        {
         "name": "quantity",
         "rawType": "float64",
         "type": "float"
        }
       ],
       "ref": "377db196-6e4f-43dd-9fa8-3bfe7f4a4791",
       "rows": [
        [
         "Books",
         "1.4186575644130568"
        ],
        [
         "Clothing",
         "1.4137083229256606"
        ],
        [
         "Cosmetics",
         "1.4131356889513476"
        ],
        [
         "Food & Beverage",
         "1.4191540572920838"
        ],
        [
         "Shoes",
         "1.408128146169749"
        ],
        [
         "Souvenir",
         "1.4121481855548228"
        ],
        [
         "Technology",
         "1.4110093381960942"
        ],
        [
         "Toys",
         "1.4052690817937161"
        ]
       ],
       "shape": {
        "columns": 1,
        "rows": 8
       }
      },
      "text/html": [
       "<div>\n",
       "<style scoped>\n",
       "    .dataframe tbody tr th:only-of-type {\n",
       "        vertical-align: middle;\n",
       "    }\n",
       "\n",
       "    .dataframe tbody tr th {\n",
       "        vertical-align: top;\n",
       "    }\n",
       "\n",
       "    .dataframe thead th {\n",
       "        text-align: right;\n",
       "    }\n",
       "</style>\n",
       "<table border=\"1\" class=\"dataframe\">\n",
       "  <thead>\n",
       "    <tr style=\"text-align: right;\">\n",
       "      <th></th>\n",
       "      <th>quantity</th>\n",
       "    </tr>\n",
       "    <tr>\n",
       "      <th>category</th>\n",
       "      <th></th>\n",
       "    </tr>\n",
       "  </thead>\n",
       "  <tbody>\n",
       "    <tr>\n",
       "      <th>Books</th>\n",
       "      <td>1.418658</td>\n",
       "    </tr>\n",
       "    <tr>\n",
       "      <th>Clothing</th>\n",
       "      <td>1.413708</td>\n",
       "    </tr>\n",
       "    <tr>\n",
       "      <th>Cosmetics</th>\n",
       "      <td>1.413136</td>\n",
       "    </tr>\n",
       "    <tr>\n",
       "      <th>Food &amp; Beverage</th>\n",
       "      <td>1.419154</td>\n",
       "    </tr>\n",
       "    <tr>\n",
       "      <th>Shoes</th>\n",
       "      <td>1.408128</td>\n",
       "    </tr>\n",
       "    <tr>\n",
       "      <th>Souvenir</th>\n",
       "      <td>1.412148</td>\n",
       "    </tr>\n",
       "    <tr>\n",
       "      <th>Technology</th>\n",
       "      <td>1.411009</td>\n",
       "    </tr>\n",
       "    <tr>\n",
       "      <th>Toys</th>\n",
       "      <td>1.405269</td>\n",
       "    </tr>\n",
       "  </tbody>\n",
       "</table>\n",
       "</div>"
      ],
      "text/plain": [
       "                 quantity\n",
       "category                 \n",
       "Books            1.418658\n",
       "Clothing         1.413708\n",
       "Cosmetics        1.413136\n",
       "Food & Beverage  1.419154\n",
       "Shoes            1.408128\n",
       "Souvenir         1.412148\n",
       "Technology       1.411009\n",
       "Toys             1.405269"
      ]
     },
     "execution_count": 42,
     "metadata": {},
     "output_type": "execute_result"
    }
   ],
   "source": [
    "#Pivot Table\n",
    "cat_std_pivot_tabe_df1 = pd.pivot_table(data=csh_dat_df,index='category',values='quantity', aggfunc='std')\n",
    "cat_std_pivot_tabe_df1"
   ]
  },
  {
   "cell_type": "code",
   "execution_count": 46,
   "id": "5b48d7c4",
   "metadata": {},
   "outputs": [
    {
     "data": {
      "application/vnd.microsoft.datawrangler.viewer.v0+json": {
       "columns": [
        {
         "name": "index",
         "rawType": "int64",
         "type": "integer"
        },
        {
         "name": "category",
         "rawType": "object",
         "type": "string"
        },
        {
         "name": "quantity",
         "rawType": "int64",
         "type": "integer"
        }
       ],
       "ref": "0b91f7a1-63be-4863-9b8d-118f98ca725d",
       "rows": [
        [
         "0",
         "Books",
         "14982"
        ],
        [
         "1",
         "Clothing",
         "103558"
        ],
        [
         "2",
         "Cosmetics",
         "45465"
        ],
        [
         "3",
         "Food & Beverage",
         "44277"
        ],
        [
         "4",
         "Shoes",
         "30217"
        ],
        [
         "5",
         "Souvenir",
         "14871"
        ],
        [
         "6",
         "Technology",
         "15021"
        ],
        [
         "7",
         "Toys",
         "30321"
        ]
       ],
       "shape": {
        "columns": 2,
        "rows": 8
       }
      },
      "text/html": [
       "<div>\n",
       "<style scoped>\n",
       "    .dataframe tbody tr th:only-of-type {\n",
       "        vertical-align: middle;\n",
       "    }\n",
       "\n",
       "    .dataframe tbody tr th {\n",
       "        vertical-align: top;\n",
       "    }\n",
       "\n",
       "    .dataframe thead th {\n",
       "        text-align: right;\n",
       "    }\n",
       "</style>\n",
       "<table border=\"1\" class=\"dataframe\">\n",
       "  <thead>\n",
       "    <tr style=\"text-align: right;\">\n",
       "      <th></th>\n",
       "      <th>category</th>\n",
       "      <th>quantity</th>\n",
       "    </tr>\n",
       "  </thead>\n",
       "  <tbody>\n",
       "    <tr>\n",
       "      <th>0</th>\n",
       "      <td>Books</td>\n",
       "      <td>14982</td>\n",
       "    </tr>\n",
       "    <tr>\n",
       "      <th>1</th>\n",
       "      <td>Clothing</td>\n",
       "      <td>103558</td>\n",
       "    </tr>\n",
       "    <tr>\n",
       "      <th>2</th>\n",
       "      <td>Cosmetics</td>\n",
       "      <td>45465</td>\n",
       "    </tr>\n",
       "    <tr>\n",
       "      <th>3</th>\n",
       "      <td>Food &amp; Beverage</td>\n",
       "      <td>44277</td>\n",
       "    </tr>\n",
       "    <tr>\n",
       "      <th>4</th>\n",
       "      <td>Shoes</td>\n",
       "      <td>30217</td>\n",
       "    </tr>\n",
       "    <tr>\n",
       "      <th>5</th>\n",
       "      <td>Souvenir</td>\n",
       "      <td>14871</td>\n",
       "    </tr>\n",
       "    <tr>\n",
       "      <th>6</th>\n",
       "      <td>Technology</td>\n",
       "      <td>15021</td>\n",
       "    </tr>\n",
       "    <tr>\n",
       "      <th>7</th>\n",
       "      <td>Toys</td>\n",
       "      <td>30321</td>\n",
       "    </tr>\n",
       "  </tbody>\n",
       "</table>\n",
       "</div>"
      ],
      "text/plain": [
       "          category  quantity\n",
       "0            Books     14982\n",
       "1         Clothing    103558\n",
       "2        Cosmetics     45465\n",
       "3  Food & Beverage     44277\n",
       "4            Shoes     30217\n",
       "5         Souvenir     14871\n",
       "6       Technology     15021\n",
       "7             Toys     30321"
      ]
     },
     "execution_count": 46,
     "metadata": {},
     "output_type": "execute_result"
    }
   ],
   "source": [
    "#Pivot Table\n",
    "cat_std_pivot_tabe_df2 = pd.pivot_table(data=csh_dat_df,index='category',values='quantity', aggfunc='sum').reset_index()\n",
    "cat_std_pivot_tabe_df2"
   ]
  },
  {
   "cell_type": "code",
   "execution_count": null,
   "id": "20140bc3",
   "metadata": {},
   "outputs": [
    {
     "data": {
      "application/vnd.microsoft.datawrangler.viewer.v0+json": {
       "columns": [
        {
         "name": "index",
         "rawType": "int64",
         "type": "integer"
        },
        {
         "name": "category",
         "rawType": "object",
         "type": "string"
        },
        {
         "name": "Female",
         "rawType": "int64",
         "type": "integer"
        },
        {
         "name": "Male",
         "rawType": "int64",
         "type": "integer"
        }
       ],
       "ref": "44410002-ff52-4d76-aba3-b26141d6268a",
       "rows": [
        [
         "0",
         "Books",
         "8776",
         "6206"
        ],
        [
         "1",
         "Clothing",
         "62039",
         "41519"
        ],
        [
         "2",
         "Cosmetics",
         "27261",
         "18204"
        ],
        [
         "3",
         "Food & Beverage",
         "26362",
         "17915"
        ],
        [
         "4",
         "Shoes",
         "17906",
         "12311"
        ],
        [
         "5",
         "Souvenir",
         "8976",
         "5895"
        ],
        [
         "6",
         "Technology",
         "8977",
         "6044"
        ],
        [
         "7",
         "Toys",
         "18362",
         "11959"
        ]
       ],
       "shape": {
        "columns": 3,
        "rows": 8
       }
      },
      "text/html": [
       "<div>\n",
       "<style scoped>\n",
       "    .dataframe tbody tr th:only-of-type {\n",
       "        vertical-align: middle;\n",
       "    }\n",
       "\n",
       "    .dataframe tbody tr th {\n",
       "        vertical-align: top;\n",
       "    }\n",
       "\n",
       "    .dataframe thead th {\n",
       "        text-align: right;\n",
       "    }\n",
       "</style>\n",
       "<table border=\"1\" class=\"dataframe\">\n",
       "  <thead>\n",
       "    <tr style=\"text-align: right;\">\n",
       "      <th>gender</th>\n",
       "      <th>category</th>\n",
       "      <th>Female</th>\n",
       "      <th>Male</th>\n",
       "    </tr>\n",
       "  </thead>\n",
       "  <tbody>\n",
       "    <tr>\n",
       "      <th>0</th>\n",
       "      <td>Books</td>\n",
       "      <td>8776</td>\n",
       "      <td>6206</td>\n",
       "    </tr>\n",
       "    <tr>\n",
       "      <th>1</th>\n",
       "      <td>Clothing</td>\n",
       "      <td>62039</td>\n",
       "      <td>41519</td>\n",
       "    </tr>\n",
       "    <tr>\n",
       "      <th>2</th>\n",
       "      <td>Cosmetics</td>\n",
       "      <td>27261</td>\n",
       "      <td>18204</td>\n",
       "    </tr>\n",
       "    <tr>\n",
       "      <th>3</th>\n",
       "      <td>Food &amp; Beverage</td>\n",
       "      <td>26362</td>\n",
       "      <td>17915</td>\n",
       "    </tr>\n",
       "    <tr>\n",
       "      <th>4</th>\n",
       "      <td>Shoes</td>\n",
       "      <td>17906</td>\n",
       "      <td>12311</td>\n",
       "    </tr>\n",
       "    <tr>\n",
       "      <th>5</th>\n",
       "      <td>Souvenir</td>\n",
       "      <td>8976</td>\n",
       "      <td>5895</td>\n",
       "    </tr>\n",
       "    <tr>\n",
       "      <th>6</th>\n",
       "      <td>Technology</td>\n",
       "      <td>8977</td>\n",
       "      <td>6044</td>\n",
       "    </tr>\n",
       "    <tr>\n",
       "      <th>7</th>\n",
       "      <td>Toys</td>\n",
       "      <td>18362</td>\n",
       "      <td>11959</td>\n",
       "    </tr>\n",
       "  </tbody>\n",
       "</table>\n",
       "</div>"
      ],
      "text/plain": [
       "gender         category  Female   Male\n",
       "0                 Books    8776   6206\n",
       "1              Clothing   62039  41519\n",
       "2             Cosmetics   27261  18204\n",
       "3       Food & Beverage   26362  17915\n",
       "4                 Shoes   17906  12311\n",
       "5              Souvenir    8976   5895\n",
       "6            Technology    8977   6044\n",
       "7                  Toys   18362  11959"
      ]
     },
     "execution_count": 48,
     "metadata": {},
     "output_type": "execute_result"
    }
   ],
   "source": [
    "#Pivot Table helps in achieving differrent layouts\n",
    "cat_std_pivot_tabe_df3 = pd.pivot_table(data=csh_dat_df,index='category',columns='gender',values='quantity', aggfunc='sum').reset_index()\n",
    "cat_std_pivot_tabe_df3"
   ]
  },
  {
   "cell_type": "code",
   "execution_count": 52,
   "id": "85ab7c4c",
   "metadata": {},
   "outputs": [
    {
     "data": {
      "application/vnd.microsoft.datawrangler.viewer.v0+json": {
       "columns": [
        {
         "name": "index",
         "rawType": "int64",
         "type": "integer"
        },
        {
         "name": "shopping_mall",
         "rawType": "object",
         "type": "string"
        },
        {
         "name": "category",
         "rawType": "object",
         "type": "string"
        },
        {
         "name": "Female",
         "rawType": "int64",
         "type": "integer"
        },
        {
         "name": "Male",
         "rawType": "int64",
         "type": "integer"
        }
       ],
       "ref": "7ebee475-7272-4acc-95d4-bbf7dce129f4",
       "rows": [
        [
         "0",
         "Cevahir AVM",
         "Books",
         "444",
         "348"
        ],
        [
         "1",
         "Cevahir AVM",
         "Clothing",
         "3091",
         "2089"
        ],
        [
         "2",
         "Cevahir AVM",
         "Cosmetics",
         "1319",
         "855"
        ],
        [
         "3",
         "Cevahir AVM",
         "Food & Beverage",
         "1327",
         "966"
        ],
        [
         "4",
         "Cevahir AVM",
         "Shoes",
         "940",
         "533"
        ],
        [
         "5",
         "Cevahir AVM",
         "Souvenir",
         "382",
         "326"
        ],
        [
         "6",
         "Cevahir AVM",
         "Technology",
         "431",
         "349"
        ],
        [
         "7",
         "Cevahir AVM",
         "Toys",
         "921",
         "628"
        ],
        [
         "8",
         "Emaar Square Mall",
         "Books",
         "459",
         "271"
        ],
        [
         "9",
         "Emaar Square Mall",
         "Clothing",
         "2867",
         "2171"
        ],
        [
         "10",
         "Emaar Square Mall",
         "Cosmetics",
         "1400",
         "872"
        ],
        [
         "11",
         "Emaar Square Mall",
         "Food & Beverage",
         "1156",
         "953"
        ],
        [
         "12",
         "Emaar Square Mall",
         "Shoes",
         "878",
         "574"
        ],
        [
         "13",
         "Emaar Square Mall",
         "Souvenir",
         "409",
         "317"
        ],
        [
         "14",
         "Emaar Square Mall",
         "Technology",
         "502",
         "293"
        ],
        [
         "15",
         "Emaar Square Mall",
         "Toys",
         "877",
         "502"
        ],
        [
         "16",
         "Forum Istanbul",
         "Books",
         "462",
         "294"
        ],
        [
         "17",
         "Forum Istanbul",
         "Clothing",
         "3203",
         "2036"
        ],
        [
         "18",
         "Forum Istanbul",
         "Cosmetics",
         "1441",
         "901"
        ],
        [
         "19",
         "Forum Istanbul",
         "Food & Beverage",
         "1235",
         "837"
        ],
        [
         "20",
         "Forum Istanbul",
         "Shoes",
         "807",
         "652"
        ],
        [
         "21",
         "Forum Istanbul",
         "Souvenir",
         "467",
         "308"
        ],
        [
         "22",
         "Forum Istanbul",
         "Technology",
         "395",
         "278"
        ],
        [
         "23",
         "Forum Istanbul",
         "Toys",
         "1028",
         "508"
        ],
        [
         "24",
         "Istinye Park",
         "Books",
         "791",
         "577"
        ],
        [
         "25",
         "Istinye Park",
         "Clothing",
         "6214",
         "3951"
        ],
        [
         "26",
         "Istinye Park",
         "Cosmetics",
         "2602",
         "1794"
        ],
        [
         "27",
         "Istinye Park",
         "Food & Beverage",
         "2627",
         "1851"
        ],
        [
         "28",
         "Istinye Park",
         "Shoes",
         "1754",
         "1256"
        ],
        [
         "29",
         "Istinye Park",
         "Souvenir",
         "907",
         "659"
        ],
        [
         "30",
         "Istinye Park",
         "Technology",
         "870",
         "568"
        ],
        [
         "31",
         "Istinye Park",
         "Toys",
         "1935",
         "1109"
        ],
        [
         "32",
         "Kanyon",
         "Books",
         "1695",
         "1274"
        ],
        [
         "33",
         "Kanyon",
         "Clothing",
         "12473",
         "8040"
        ],
        [
         "34",
         "Kanyon",
         "Cosmetics",
         "5449",
         "3706"
        ],
        [
         "35",
         "Kanyon",
         "Food & Beverage",
         "5249",
         "3446"
        ],
        [
         "36",
         "Kanyon",
         "Shoes",
         "3544",
         "2521"
        ],
        [
         "37",
         "Kanyon",
         "Souvenir",
         "1840",
         "1185"
        ],
        [
         "38",
         "Kanyon",
         "Technology",
         "1858",
         "1192"
        ],
        [
         "39",
         "Kanyon",
         "Toys",
         "3587",
         "2398"
        ],
        [
         "40",
         "Mall of Istanbul",
         "Books",
         "1811",
         "1288"
        ],
        [
         "41",
         "Mall of Istanbul",
         "Clothing",
         "12419",
         "8394"
        ],
        [
         "42",
         "Mall of Istanbul",
         "Cosmetics",
         "5528",
         "3665"
        ],
        [
         "43",
         "Mall of Istanbul",
         "Food & Beverage",
         "5329",
         "3549"
        ],
        [
         "44",
         "Mall of Istanbul",
         "Shoes",
         "3565",
         "2547"
        ],
        [
         "45",
         "Mall of Istanbul",
         "Souvenir",
         "1792",
         "1129"
        ],
        [
         "46",
         "Mall of Istanbul",
         "Technology",
         "1795",
         "1272"
        ],
        [
         "47",
         "Mall of Istanbul",
         "Toys",
         "3625",
         "2406"
        ],
        [
         "48",
         "Metrocity",
         "Books",
         "1336",
         "935"
        ],
        [
         "49",
         "Metrocity",
         "Clothing",
         "9402",
         "6327"
        ]
       ],
       "shape": {
        "columns": 4,
        "rows": 80
       }
      },
      "text/html": [
       "<div>\n",
       "<style scoped>\n",
       "    .dataframe tbody tr th:only-of-type {\n",
       "        vertical-align: middle;\n",
       "    }\n",
       "\n",
       "    .dataframe tbody tr th {\n",
       "        vertical-align: top;\n",
       "    }\n",
       "\n",
       "    .dataframe thead th {\n",
       "        text-align: right;\n",
       "    }\n",
       "</style>\n",
       "<table border=\"1\" class=\"dataframe\">\n",
       "  <thead>\n",
       "    <tr style=\"text-align: right;\">\n",
       "      <th>gender</th>\n",
       "      <th>shopping_mall</th>\n",
       "      <th>category</th>\n",
       "      <th>Female</th>\n",
       "      <th>Male</th>\n",
       "    </tr>\n",
       "  </thead>\n",
       "  <tbody>\n",
       "    <tr>\n",
       "      <th>0</th>\n",
       "      <td>Cevahir AVM</td>\n",
       "      <td>Books</td>\n",
       "      <td>444</td>\n",
       "      <td>348</td>\n",
       "    </tr>\n",
       "    <tr>\n",
       "      <th>1</th>\n",
       "      <td>Cevahir AVM</td>\n",
       "      <td>Clothing</td>\n",
       "      <td>3091</td>\n",
       "      <td>2089</td>\n",
       "    </tr>\n",
       "    <tr>\n",
       "      <th>2</th>\n",
       "      <td>Cevahir AVM</td>\n",
       "      <td>Cosmetics</td>\n",
       "      <td>1319</td>\n",
       "      <td>855</td>\n",
       "    </tr>\n",
       "    <tr>\n",
       "      <th>3</th>\n",
       "      <td>Cevahir AVM</td>\n",
       "      <td>Food &amp; Beverage</td>\n",
       "      <td>1327</td>\n",
       "      <td>966</td>\n",
       "    </tr>\n",
       "    <tr>\n",
       "      <th>4</th>\n",
       "      <td>Cevahir AVM</td>\n",
       "      <td>Shoes</td>\n",
       "      <td>940</td>\n",
       "      <td>533</td>\n",
       "    </tr>\n",
       "    <tr>\n",
       "      <th>...</th>\n",
       "      <td>...</td>\n",
       "      <td>...</td>\n",
       "      <td>...</td>\n",
       "      <td>...</td>\n",
       "    </tr>\n",
       "    <tr>\n",
       "      <th>75</th>\n",
       "      <td>Zorlu Center</td>\n",
       "      <td>Food &amp; Beverage</td>\n",
       "      <td>1270</td>\n",
       "      <td>946</td>\n",
       "    </tr>\n",
       "    <tr>\n",
       "      <th>76</th>\n",
       "      <td>Zorlu Center</td>\n",
       "      <td>Shoes</td>\n",
       "      <td>1010</td>\n",
       "      <td>579</td>\n",
       "    </tr>\n",
       "    <tr>\n",
       "      <th>77</th>\n",
       "      <td>Zorlu Center</td>\n",
       "      <td>Souvenir</td>\n",
       "      <td>408</td>\n",
       "      <td>308</td>\n",
       "    </tr>\n",
       "    <tr>\n",
       "      <th>78</th>\n",
       "      <td>Zorlu Center</td>\n",
       "      <td>Technology</td>\n",
       "      <td>496</td>\n",
       "      <td>269</td>\n",
       "    </tr>\n",
       "    <tr>\n",
       "      <th>79</th>\n",
       "      <td>Zorlu Center</td>\n",
       "      <td>Toys</td>\n",
       "      <td>828</td>\n",
       "      <td>698</td>\n",
       "    </tr>\n",
       "  </tbody>\n",
       "</table>\n",
       "<p>80 rows × 4 columns</p>\n",
       "</div>"
      ],
      "text/plain": [
       "gender shopping_mall         category  Female  Male\n",
       "0        Cevahir AVM            Books     444   348\n",
       "1        Cevahir AVM         Clothing    3091  2089\n",
       "2        Cevahir AVM        Cosmetics    1319   855\n",
       "3        Cevahir AVM  Food & Beverage    1327   966\n",
       "4        Cevahir AVM            Shoes     940   533\n",
       "..               ...              ...     ...   ...\n",
       "75      Zorlu Center  Food & Beverage    1270   946\n",
       "76      Zorlu Center            Shoes    1010   579\n",
       "77      Zorlu Center         Souvenir     408   308\n",
       "78      Zorlu Center       Technology     496   269\n",
       "79      Zorlu Center             Toys     828   698\n",
       "\n",
       "[80 rows x 4 columns]"
      ]
     },
     "execution_count": 52,
     "metadata": {},
     "output_type": "execute_result"
    }
   ],
   "source": [
    "#Pivot Table helps in achieving differrent layouts\n",
    "cat_std_pivot_tabe_df4 = pd.pivot_table(data=csh_dat_df,index=['shopping_mall','category'],columns='gender',values='quantity', aggfunc='sum').reset_index()\n",
    "cat_std_pivot_tabe_df4"
   ]
  },
  {
   "cell_type": "code",
   "execution_count": 53,
   "id": "3619ea83",
   "metadata": {},
   "outputs": [
    {
     "data": {
      "application/vnd.microsoft.datawrangler.viewer.v0+json": {
       "columns": [
        {
         "name": "('shopping_mall', 'category')",
         "rawType": "object",
         "type": "unknown"
        },
        {
         "name": "Female",
         "rawType": "int64",
         "type": "integer"
        },
        {
         "name": "Male",
         "rawType": "int64",
         "type": "integer"
        }
       ],
       "ref": "30c778d4-51cb-45f6-92af-f09e7bb19800",
       "rows": [
        [
         "('Cevahir AVM', 'Books')",
         "444",
         "348"
        ],
        [
         "('Cevahir AVM', 'Clothing')",
         "3091",
         "2089"
        ],
        [
         "('Cevahir AVM', 'Cosmetics')",
         "1319",
         "855"
        ],
        [
         "('Cevahir AVM', 'Food & Beverage')",
         "1327",
         "966"
        ],
        [
         "('Cevahir AVM', 'Shoes')",
         "940",
         "533"
        ],
        [
         "('Cevahir AVM', 'Souvenir')",
         "382",
         "326"
        ],
        [
         "('Cevahir AVM', 'Technology')",
         "431",
         "349"
        ],
        [
         "('Cevahir AVM', 'Toys')",
         "921",
         "628"
        ],
        [
         "('Emaar Square Mall', 'Books')",
         "459",
         "271"
        ],
        [
         "('Emaar Square Mall', 'Clothing')",
         "2867",
         "2171"
        ],
        [
         "('Emaar Square Mall', 'Cosmetics')",
         "1400",
         "872"
        ],
        [
         "('Emaar Square Mall', 'Food & Beverage')",
         "1156",
         "953"
        ],
        [
         "('Emaar Square Mall', 'Shoes')",
         "878",
         "574"
        ],
        [
         "('Emaar Square Mall', 'Souvenir')",
         "409",
         "317"
        ],
        [
         "('Emaar Square Mall', 'Technology')",
         "502",
         "293"
        ],
        [
         "('Emaar Square Mall', 'Toys')",
         "877",
         "502"
        ],
        [
         "('Forum Istanbul', 'Books')",
         "462",
         "294"
        ],
        [
         "('Forum Istanbul', 'Clothing')",
         "3203",
         "2036"
        ],
        [
         "('Forum Istanbul', 'Cosmetics')",
         "1441",
         "901"
        ],
        [
         "('Forum Istanbul', 'Food & Beverage')",
         "1235",
         "837"
        ],
        [
         "('Forum Istanbul', 'Shoes')",
         "807",
         "652"
        ],
        [
         "('Forum Istanbul', 'Souvenir')",
         "467",
         "308"
        ],
        [
         "('Forum Istanbul', 'Technology')",
         "395",
         "278"
        ],
        [
         "('Forum Istanbul', 'Toys')",
         "1028",
         "508"
        ],
        [
         "('Istinye Park', 'Books')",
         "791",
         "577"
        ],
        [
         "('Istinye Park', 'Clothing')",
         "6214",
         "3951"
        ],
        [
         "('Istinye Park', 'Cosmetics')",
         "2602",
         "1794"
        ],
        [
         "('Istinye Park', 'Food & Beverage')",
         "2627",
         "1851"
        ],
        [
         "('Istinye Park', 'Shoes')",
         "1754",
         "1256"
        ],
        [
         "('Istinye Park', 'Souvenir')",
         "907",
         "659"
        ],
        [
         "('Istinye Park', 'Technology')",
         "870",
         "568"
        ],
        [
         "('Istinye Park', 'Toys')",
         "1935",
         "1109"
        ],
        [
         "('Kanyon', 'Books')",
         "1695",
         "1274"
        ],
        [
         "('Kanyon', 'Clothing')",
         "12473",
         "8040"
        ],
        [
         "('Kanyon', 'Cosmetics')",
         "5449",
         "3706"
        ],
        [
         "('Kanyon', 'Food & Beverage')",
         "5249",
         "3446"
        ],
        [
         "('Kanyon', 'Shoes')",
         "3544",
         "2521"
        ],
        [
         "('Kanyon', 'Souvenir')",
         "1840",
         "1185"
        ],
        [
         "('Kanyon', 'Technology')",
         "1858",
         "1192"
        ],
        [
         "('Kanyon', 'Toys')",
         "3587",
         "2398"
        ],
        [
         "('Mall of Istanbul', 'Books')",
         "1811",
         "1288"
        ],
        [
         "('Mall of Istanbul', 'Clothing')",
         "12419",
         "8394"
        ],
        [
         "('Mall of Istanbul', 'Cosmetics')",
         "5528",
         "3665"
        ],
        [
         "('Mall of Istanbul', 'Food & Beverage')",
         "5329",
         "3549"
        ],
        [
         "('Mall of Istanbul', 'Shoes')",
         "3565",
         "2547"
        ],
        [
         "('Mall of Istanbul', 'Souvenir')",
         "1792",
         "1129"
        ],
        [
         "('Mall of Istanbul', 'Technology')",
         "1795",
         "1272"
        ],
        [
         "('Mall of Istanbul', 'Toys')",
         "3625",
         "2406"
        ],
        [
         "('Metrocity', 'Books')",
         "1336",
         "935"
        ],
        [
         "('Metrocity', 'Clothing')",
         "9402",
         "6327"
        ]
       ],
       "shape": {
        "columns": 2,
        "rows": 80
       }
      },
      "text/html": [
       "<div>\n",
       "<style scoped>\n",
       "    .dataframe tbody tr th:only-of-type {\n",
       "        vertical-align: middle;\n",
       "    }\n",
       "\n",
       "    .dataframe tbody tr th {\n",
       "        vertical-align: top;\n",
       "    }\n",
       "\n",
       "    .dataframe thead th {\n",
       "        text-align: right;\n",
       "    }\n",
       "</style>\n",
       "<table border=\"1\" class=\"dataframe\">\n",
       "  <thead>\n",
       "    <tr style=\"text-align: right;\">\n",
       "      <th></th>\n",
       "      <th>gender</th>\n",
       "      <th>Female</th>\n",
       "      <th>Male</th>\n",
       "    </tr>\n",
       "    <tr>\n",
       "      <th>shopping_mall</th>\n",
       "      <th>category</th>\n",
       "      <th></th>\n",
       "      <th></th>\n",
       "    </tr>\n",
       "  </thead>\n",
       "  <tbody>\n",
       "    <tr>\n",
       "      <th rowspan=\"5\" valign=\"top\">Cevahir AVM</th>\n",
       "      <th>Books</th>\n",
       "      <td>444</td>\n",
       "      <td>348</td>\n",
       "    </tr>\n",
       "    <tr>\n",
       "      <th>Clothing</th>\n",
       "      <td>3091</td>\n",
       "      <td>2089</td>\n",
       "    </tr>\n",
       "    <tr>\n",
       "      <th>Cosmetics</th>\n",
       "      <td>1319</td>\n",
       "      <td>855</td>\n",
       "    </tr>\n",
       "    <tr>\n",
       "      <th>Food &amp; Beverage</th>\n",
       "      <td>1327</td>\n",
       "      <td>966</td>\n",
       "    </tr>\n",
       "    <tr>\n",
       "      <th>Shoes</th>\n",
       "      <td>940</td>\n",
       "      <td>533</td>\n",
       "    </tr>\n",
       "    <tr>\n",
       "      <th>...</th>\n",
       "      <th>...</th>\n",
       "      <td>...</td>\n",
       "      <td>...</td>\n",
       "    </tr>\n",
       "    <tr>\n",
       "      <th rowspan=\"5\" valign=\"top\">Zorlu Center</th>\n",
       "      <th>Food &amp; Beverage</th>\n",
       "      <td>1270</td>\n",
       "      <td>946</td>\n",
       "    </tr>\n",
       "    <tr>\n",
       "      <th>Shoes</th>\n",
       "      <td>1010</td>\n",
       "      <td>579</td>\n",
       "    </tr>\n",
       "    <tr>\n",
       "      <th>Souvenir</th>\n",
       "      <td>408</td>\n",
       "      <td>308</td>\n",
       "    </tr>\n",
       "    <tr>\n",
       "      <th>Technology</th>\n",
       "      <td>496</td>\n",
       "      <td>269</td>\n",
       "    </tr>\n",
       "    <tr>\n",
       "      <th>Toys</th>\n",
       "      <td>828</td>\n",
       "      <td>698</td>\n",
       "    </tr>\n",
       "  </tbody>\n",
       "</table>\n",
       "<p>80 rows × 2 columns</p>\n",
       "</div>"
      ],
      "text/plain": [
       "gender                         Female  Male\n",
       "shopping_mall category                     \n",
       "Cevahir AVM   Books               444   348\n",
       "              Clothing           3091  2089\n",
       "              Cosmetics          1319   855\n",
       "              Food & Beverage    1327   966\n",
       "              Shoes               940   533\n",
       "...                               ...   ...\n",
       "Zorlu Center  Food & Beverage    1270   946\n",
       "              Shoes              1010   579\n",
       "              Souvenir            408   308\n",
       "              Technology          496   269\n",
       "              Toys                828   698\n",
       "\n",
       "[80 rows x 2 columns]"
      ]
     },
     "execution_count": 53,
     "metadata": {},
     "output_type": "execute_result"
    }
   ],
   "source": [
    "#Pivot Table helps in achieving differrent layouts\n",
    "qty_pvt_mall_catgry_rprt = pd.pivot_table(data=csh_dat_df,index=['shopping_mall','category'],columns='gender',values='quantity', aggfunc='sum')\n",
    "qty_pvt_mall_catgry_rprt"
   ]
  },
  {
   "cell_type": "code",
   "execution_count": 55,
   "id": "a1dca2d3",
   "metadata": {},
   "outputs": [
    {
     "data": {
      "text/plain": [
       "Index(['Female', 'Male'], dtype='object', name='gender')"
      ]
     },
     "execution_count": 55,
     "metadata": {},
     "output_type": "execute_result"
    }
   ],
   "source": [
    "qty_pvt_mall_catgry_rprt.columns"
   ]
  },
  {
   "cell_type": "code",
   "execution_count": 57,
   "id": "905c0450",
   "metadata": {},
   "outputs": [
    {
     "data": {
      "application/vnd.microsoft.datawrangler.viewer.v0+json": {
       "columns": [
        {
         "name": "('shopping_mall', 'category')",
         "rawType": "object",
         "type": "unknown"
        },
        {
         "name": "qty_male",
         "rawType": "int64",
         "type": "integer"
        },
        {
         "name": "qty_female",
         "rawType": "int64",
         "type": "integer"
        }
       ],
       "ref": "a031a739-e136-4ace-8e81-703b223171d0",
       "rows": [
        [
         "('Cevahir AVM', 'Books')",
         "444",
         "348"
        ],
        [
         "('Cevahir AVM', 'Clothing')",
         "3091",
         "2089"
        ],
        [
         "('Cevahir AVM', 'Cosmetics')",
         "1319",
         "855"
        ],
        [
         "('Cevahir AVM', 'Food & Beverage')",
         "1327",
         "966"
        ],
        [
         "('Cevahir AVM', 'Shoes')",
         "940",
         "533"
        ],
        [
         "('Cevahir AVM', 'Souvenir')",
         "382",
         "326"
        ],
        [
         "('Cevahir AVM', 'Technology')",
         "431",
         "349"
        ],
        [
         "('Cevahir AVM', 'Toys')",
         "921",
         "628"
        ],
        [
         "('Emaar Square Mall', 'Books')",
         "459",
         "271"
        ],
        [
         "('Emaar Square Mall', 'Clothing')",
         "2867",
         "2171"
        ],
        [
         "('Emaar Square Mall', 'Cosmetics')",
         "1400",
         "872"
        ],
        [
         "('Emaar Square Mall', 'Food & Beverage')",
         "1156",
         "953"
        ],
        [
         "('Emaar Square Mall', 'Shoes')",
         "878",
         "574"
        ],
        [
         "('Emaar Square Mall', 'Souvenir')",
         "409",
         "317"
        ],
        [
         "('Emaar Square Mall', 'Technology')",
         "502",
         "293"
        ],
        [
         "('Emaar Square Mall', 'Toys')",
         "877",
         "502"
        ],
        [
         "('Forum Istanbul', 'Books')",
         "462",
         "294"
        ],
        [
         "('Forum Istanbul', 'Clothing')",
         "3203",
         "2036"
        ],
        [
         "('Forum Istanbul', 'Cosmetics')",
         "1441",
         "901"
        ],
        [
         "('Forum Istanbul', 'Food & Beverage')",
         "1235",
         "837"
        ],
        [
         "('Forum Istanbul', 'Shoes')",
         "807",
         "652"
        ],
        [
         "('Forum Istanbul', 'Souvenir')",
         "467",
         "308"
        ],
        [
         "('Forum Istanbul', 'Technology')",
         "395",
         "278"
        ],
        [
         "('Forum Istanbul', 'Toys')",
         "1028",
         "508"
        ],
        [
         "('Istinye Park', 'Books')",
         "791",
         "577"
        ],
        [
         "('Istinye Park', 'Clothing')",
         "6214",
         "3951"
        ],
        [
         "('Istinye Park', 'Cosmetics')",
         "2602",
         "1794"
        ],
        [
         "('Istinye Park', 'Food & Beverage')",
         "2627",
         "1851"
        ],
        [
         "('Istinye Park', 'Shoes')",
         "1754",
         "1256"
        ],
        [
         "('Istinye Park', 'Souvenir')",
         "907",
         "659"
        ],
        [
         "('Istinye Park', 'Technology')",
         "870",
         "568"
        ],
        [
         "('Istinye Park', 'Toys')",
         "1935",
         "1109"
        ],
        [
         "('Kanyon', 'Books')",
         "1695",
         "1274"
        ],
        [
         "('Kanyon', 'Clothing')",
         "12473",
         "8040"
        ],
        [
         "('Kanyon', 'Cosmetics')",
         "5449",
         "3706"
        ],
        [
         "('Kanyon', 'Food & Beverage')",
         "5249",
         "3446"
        ],
        [
         "('Kanyon', 'Shoes')",
         "3544",
         "2521"
        ],
        [
         "('Kanyon', 'Souvenir')",
         "1840",
         "1185"
        ],
        [
         "('Kanyon', 'Technology')",
         "1858",
         "1192"
        ],
        [
         "('Kanyon', 'Toys')",
         "3587",
         "2398"
        ],
        [
         "('Mall of Istanbul', 'Books')",
         "1811",
         "1288"
        ],
        [
         "('Mall of Istanbul', 'Clothing')",
         "12419",
         "8394"
        ],
        [
         "('Mall of Istanbul', 'Cosmetics')",
         "5528",
         "3665"
        ],
        [
         "('Mall of Istanbul', 'Food & Beverage')",
         "5329",
         "3549"
        ],
        [
         "('Mall of Istanbul', 'Shoes')",
         "3565",
         "2547"
        ],
        [
         "('Mall of Istanbul', 'Souvenir')",
         "1792",
         "1129"
        ],
        [
         "('Mall of Istanbul', 'Technology')",
         "1795",
         "1272"
        ],
        [
         "('Mall of Istanbul', 'Toys')",
         "3625",
         "2406"
        ],
        [
         "('Metrocity', 'Books')",
         "1336",
         "935"
        ],
        [
         "('Metrocity', 'Clothing')",
         "9402",
         "6327"
        ]
       ],
       "shape": {
        "columns": 2,
        "rows": 80
       }
      },
      "text/html": [
       "<div>\n",
       "<style scoped>\n",
       "    .dataframe tbody tr th:only-of-type {\n",
       "        vertical-align: middle;\n",
       "    }\n",
       "\n",
       "    .dataframe tbody tr th {\n",
       "        vertical-align: top;\n",
       "    }\n",
       "\n",
       "    .dataframe thead th {\n",
       "        text-align: right;\n",
       "    }\n",
       "</style>\n",
       "<table border=\"1\" class=\"dataframe\">\n",
       "  <thead>\n",
       "    <tr style=\"text-align: right;\">\n",
       "      <th></th>\n",
       "      <th></th>\n",
       "      <th>qty_male</th>\n",
       "      <th>qty_female</th>\n",
       "    </tr>\n",
       "    <tr>\n",
       "      <th>shopping_mall</th>\n",
       "      <th>category</th>\n",
       "      <th></th>\n",
       "      <th></th>\n",
       "    </tr>\n",
       "  </thead>\n",
       "  <tbody>\n",
       "    <tr>\n",
       "      <th rowspan=\"5\" valign=\"top\">Cevahir AVM</th>\n",
       "      <th>Books</th>\n",
       "      <td>444</td>\n",
       "      <td>348</td>\n",
       "    </tr>\n",
       "    <tr>\n",
       "      <th>Clothing</th>\n",
       "      <td>3091</td>\n",
       "      <td>2089</td>\n",
       "    </tr>\n",
       "    <tr>\n",
       "      <th>Cosmetics</th>\n",
       "      <td>1319</td>\n",
       "      <td>855</td>\n",
       "    </tr>\n",
       "    <tr>\n",
       "      <th>Food &amp; Beverage</th>\n",
       "      <td>1327</td>\n",
       "      <td>966</td>\n",
       "    </tr>\n",
       "    <tr>\n",
       "      <th>Shoes</th>\n",
       "      <td>940</td>\n",
       "      <td>533</td>\n",
       "    </tr>\n",
       "    <tr>\n",
       "      <th>...</th>\n",
       "      <th>...</th>\n",
       "      <td>...</td>\n",
       "      <td>...</td>\n",
       "    </tr>\n",
       "    <tr>\n",
       "      <th rowspan=\"5\" valign=\"top\">Zorlu Center</th>\n",
       "      <th>Food &amp; Beverage</th>\n",
       "      <td>1270</td>\n",
       "      <td>946</td>\n",
       "    </tr>\n",
       "    <tr>\n",
       "      <th>Shoes</th>\n",
       "      <td>1010</td>\n",
       "      <td>579</td>\n",
       "    </tr>\n",
       "    <tr>\n",
       "      <th>Souvenir</th>\n",
       "      <td>408</td>\n",
       "      <td>308</td>\n",
       "    </tr>\n",
       "    <tr>\n",
       "      <th>Technology</th>\n",
       "      <td>496</td>\n",
       "      <td>269</td>\n",
       "    </tr>\n",
       "    <tr>\n",
       "      <th>Toys</th>\n",
       "      <td>828</td>\n",
       "      <td>698</td>\n",
       "    </tr>\n",
       "  </tbody>\n",
       "</table>\n",
       "<p>80 rows × 2 columns</p>\n",
       "</div>"
      ],
      "text/plain": [
       "                               qty_male  qty_female\n",
       "shopping_mall category                             \n",
       "Cevahir AVM   Books                 444         348\n",
       "              Clothing             3091        2089\n",
       "              Cosmetics            1319         855\n",
       "              Food & Beverage      1327         966\n",
       "              Shoes                 940         533\n",
       "...                                 ...         ...\n",
       "Zorlu Center  Food & Beverage      1270         946\n",
       "              Shoes                1010         579\n",
       "              Souvenir              408         308\n",
       "              Technology            496         269\n",
       "              Toys                  828         698\n",
       "\n",
       "[80 rows x 2 columns]"
      ]
     },
     "execution_count": 57,
     "metadata": {},
     "output_type": "execute_result"
    }
   ],
   "source": [
    "qty_pvt_mall_catgry_rprt.columns=['qty_male','qty_female']\n",
    "qty_pvt_mall_catgry_rprt"
   ]
  }
 ],
 "metadata": {
  "kernelspec": {
   "display_name": "iitmenv1",
   "language": "python",
   "name": "python3"
  },
  "language_info": {
   "codemirror_mode": {
    "name": "ipython",
    "version": 3
   },
   "file_extension": ".py",
   "mimetype": "text/x-python",
   "name": "python",
   "nbconvert_exporter": "python",
   "pygments_lexer": "ipython3",
   "version": "3.11.11"
  }
 },
 "nbformat": 4,
 "nbformat_minor": 5
}
