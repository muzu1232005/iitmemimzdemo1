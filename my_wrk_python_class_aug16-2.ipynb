{
 "cells": [
  {
   "cell_type": "code",
   "execution_count": 2,
   "id": "d7bab221",
   "metadata": {},
   "outputs": [],
   "source": [
    "import numpy as np"
   ]
  },
  {
   "cell_type": "code",
   "execution_count": 3,
   "id": "56d0e423",
   "metadata": {},
   "outputs": [
    {
     "name": "stdout",
     "output_type": "stream",
     "text": [
      "v1.ndim :  2\n",
      "v1.shape :  (3, 3)\n"
     ]
    },
    {
     "data": {
      "text/plain": [
       "[array([[63, 90, 77]]), array([[ 33,  99, 877]]), array([[ 80, 660,  56]])]"
      ]
     },
     "execution_count": 3,
     "metadata": {},
     "output_type": "execute_result"
    }
   ],
   "source": [
    "v1 = np.array([ \n",
    "    [63,90,77],\n",
    "    [33,99,877],\n",
    "    [80,660,56] ] )\n",
    "print(\"v1.ndim : \",v1.ndim)\n",
    "print(\"v1.shape : \",v1.shape)\n",
    "v1_split = np.array_split(v1,3,axis=0) # split along rows.\n",
    "v1_split"
   ]
  },
  {
   "cell_type": "code",
   "execution_count": 4,
   "id": "5c0852f9",
   "metadata": {},
   "outputs": [
    {
     "name": "stdout",
     "output_type": "stream",
     "text": [
      "v2.ndim :  2\n",
      "v2.shape :  (3, 3)\n"
     ]
    },
    {
     "data": {
      "text/plain": [
       "[array([[63],\n",
       "        [33],\n",
       "        [80]]),\n",
       " array([[ 90],\n",
       "        [ 99],\n",
       "        [660]]),\n",
       " array([[ 77],\n",
       "        [877],\n",
       "        [ 56]]),\n",
       " array([], shape=(3, 0), dtype=int64)]"
      ]
     },
     "execution_count": 4,
     "metadata": {},
     "output_type": "execute_result"
    }
   ],
   "source": [
    "v2 = np.array([ \n",
    "    [63,90,77],\n",
    "    [33,99,877],\n",
    "    [80,660,56] ] )\n",
    "print(\"v2.ndim : \",v2.ndim)\n",
    "print(\"v2.shape : \",v2.shape)\n",
    "v2_split = np.array_split(v2,4,axis=1) # split along columns.\n",
    "v2_split"
   ]
  },
  {
   "cell_type": "code",
   "execution_count": 5,
   "id": "21ca015b",
   "metadata": {},
   "outputs": [
    {
     "data": {
      "text/plain": [
       "array([ 12,  31,  56,  66,  67,  77,  89, 456])"
      ]
     },
     "execution_count": 5,
     "metadata": {},
     "output_type": "execute_result"
    }
   ],
   "source": [
    "v3 = np.array([67,89,77,66,12,56,456,31])\n",
    "v3_srt = np.sort(v3) # ascending default sort order\n",
    "v3_srt"
   ]
  },
  {
   "cell_type": "code",
   "execution_count": 6,
   "id": "5b5cb8a7",
   "metadata": {},
   "outputs": [
    {
     "data": {
      "text/plain": [
       "array([456,  89,  77,  67,  66,  56,  31,  12])"
      ]
     },
     "execution_count": 6,
     "metadata": {},
     "output_type": "execute_result"
    }
   ],
   "source": [
    "v3_srt[::-1] # reverse order sort - start index : end index : step -1 indicates reversing"
   ]
  },
  {
   "cell_type": "code",
   "execution_count": 7,
   "id": "36598cee",
   "metadata": {},
   "outputs": [
    {
     "data": {
      "text/plain": [
       "array([456,  77,  66,  31])"
      ]
     },
     "execution_count": 7,
     "metadata": {},
     "output_type": "execute_result"
    }
   ],
   "source": [
    "v3_srt[::-2] # reverse order sort - start index : end index : step -2 indicates reversing\n",
    "# - sign indicates right to left."
   ]
  },
  {
   "cell_type": "code",
   "execution_count": 8,
   "id": "98c59223",
   "metadata": {},
   "outputs": [
    {
     "data": {
      "text/plain": [
       "array([0, 1, 2, 3, 4, 5, 6, 7, 8, 9])"
      ]
     },
     "execution_count": 8,
     "metadata": {},
     "output_type": "execute_result"
    }
   ],
   "source": [
    "# Reshaping\n",
    "v4_arr = np.arange(10)\n",
    "v4_arr"
   ]
  },
  {
   "cell_type": "code",
   "execution_count": 9,
   "id": "ac3bcb8a",
   "metadata": {},
   "outputs": [
    {
     "name": "stdout",
     "output_type": "stream",
     "text": [
      "(10,)\n",
      "1\n"
     ]
    }
   ],
   "source": [
    "print(v4_arr.shape)\n",
    "print(v4_arr.ndim)"
   ]
  },
  {
   "cell_type": "code",
   "execution_count": 10,
   "id": "2d00d00f",
   "metadata": {},
   "outputs": [
    {
     "data": {
      "text/plain": [
       "array([[0, 1],\n",
       "       [2, 3],\n",
       "       [4, 5],\n",
       "       [6, 7],\n",
       "       [8, 9]])"
      ]
     },
     "execution_count": 10,
     "metadata": {},
     "output_type": "execute_result"
    }
   ],
   "source": [
    "v5_arr=v4_arr.reshape(-1,2) # -1 indicates that python calculate the number of rows\n",
    "v5_arr"
   ]
  },
  {
   "cell_type": "code",
   "execution_count": 11,
   "id": "683f6e9b",
   "metadata": {},
   "outputs": [
    {
     "name": "stdout",
     "output_type": "stream",
     "text": [
      "(5, 2)\n",
      "2\n"
     ]
    }
   ],
   "source": [
    "print(v5_arr.shape)\n",
    "print(v5_arr.ndim)"
   ]
  },
  {
   "cell_type": "code",
   "execution_count": 12,
   "id": "ee620880",
   "metadata": {},
   "outputs": [
    {
     "data": {
      "text/plain": [
       "array([[0, 1, 2, 3, 4],\n",
       "       [5, 6, 7, 8, 9]])"
      ]
     },
     "execution_count": 12,
     "metadata": {},
     "output_type": "execute_result"
    }
   ],
   "source": [
    "v6_arr=v4_arr.reshape(2,5) # reshape to 2 rows and 5 columns\n",
    "v6_arr"
   ]
  },
  {
   "cell_type": "code",
   "execution_count": 13,
   "id": "533fa200",
   "metadata": {},
   "outputs": [
    {
     "name": "stdout",
     "output_type": "stream",
     "text": [
      "(2, 5)\n",
      "2\n"
     ]
    }
   ],
   "source": [
    "print(v6_arr.shape)\n",
    "print(v6_arr.ndim)"
   ]
  },
  {
   "cell_type": "code",
   "execution_count": 14,
   "id": "8f882566",
   "metadata": {},
   "outputs": [
    {
     "name": "stdout",
     "output_type": "stream",
     "text": [
      "[[ 10  11]\n",
      " [231 300]]\n",
      "[[3. 3.]\n",
      " [3. 3.]]\n"
     ]
    }
   ],
   "source": [
    "# Arithmetic operations in numpy happen in element wise\n",
    "arthm1 = np.array([\n",
    "         [10, 11],\n",
    "         [231, 300]])\n",
    "\n",
    "arthm2 = np.ones(4).reshape(-1,2) * 3\n",
    "print(arthm1, arthm2, sep=\"\\n\")"
   ]
  },
  {
   "cell_type": "code",
   "execution_count": 15,
   "id": "acdde428",
   "metadata": {},
   "outputs": [
    {
     "data": {
      "text/plain": [
       "array([[ 13.,  14.],\n",
       "       [234., 303.]])"
      ]
     },
     "execution_count": 15,
     "metadata": {},
     "output_type": "execute_result"
    }
   ],
   "source": [
    "arthm2 + arthm1"
   ]
  },
  {
   "cell_type": "code",
   "execution_count": 16,
   "id": "5afe2974",
   "metadata": {},
   "outputs": [
    {
     "data": {
      "text/plain": [
       "array([[ 30.,  33.],\n",
       "       [693., 900.]])"
      ]
     },
     "execution_count": 16,
     "metadata": {},
     "output_type": "execute_result"
    }
   ],
   "source": [
    "arthm2 * arthm1"
   ]
  },
  {
   "cell_type": "code",
   "execution_count": 17,
   "id": "9ea1ea3b",
   "metadata": {},
   "outputs": [
    {
     "data": {
      "text/plain": [
       "array([[0.3       , 0.27272727],\n",
       "       [0.01298701, 0.01      ]])"
      ]
     },
     "execution_count": 17,
     "metadata": {},
     "output_type": "execute_result"
    }
   ],
   "source": [
    "arthm2 / arthm1"
   ]
  },
  {
   "cell_type": "code",
   "execution_count": 18,
   "id": "24b1558d",
   "metadata": {},
   "outputs": [
    {
     "data": {
      "text/plain": [
       "array([[  7.,   8.],\n",
       "       [228., 297.]])"
      ]
     },
     "execution_count": 18,
     "metadata": {},
     "output_type": "execute_result"
    }
   ],
   "source": [
    "arthm1 - arthm2"
   ]
  },
  {
   "cell_type": "code",
   "execution_count": 19,
   "id": "d973cb08",
   "metadata": {},
   "outputs": [
    {
     "data": {
      "text/plain": [
       "array([[  63.,   63.],\n",
       "       [1593., 1593.]])"
      ]
     },
     "execution_count": 19,
     "metadata": {},
     "output_type": "execute_result"
    }
   ],
   "source": [
    "# Matrix Multiplication  used in high -end nueral network modeling\n",
    "np.dot(arthm1,arthm2)"
   ]
  },
  {
   "cell_type": "code",
   "execution_count": 20,
   "id": "5321b7cd",
   "metadata": {},
   "outputs": [
    {
     "name": "stdout",
     "output_type": "stream",
     "text": [
      "[[10 50]\n",
      " [60 70]]\n",
      "[[2 3]\n",
      " [4 5]]\n"
     ]
    }
   ],
   "source": [
    "arthm3 = np.array([\n",
    "         [10, 50],\n",
    "         [60, 70]])\n",
    "\n",
    "arthm4 = np.array([\n",
    "         [2, 3],\n",
    "         [4, 5]])\n",
    "\n",
    "print(arthm3, arthm4, sep=\"\\n\")"
   ]
  },
  {
   "cell_type": "code",
   "execution_count": 21,
   "id": "c95c6f95",
   "metadata": {},
   "outputs": [
    {
     "name": "stdout",
     "output_type": "stream",
     "text": [
      "Arithmetic Product : \n",
      "[[ 20 150]\n",
      " [240 350]]\n"
     ]
    }
   ],
   "source": [
    "print(\"Arithmetic Product : \",arthm3 * arthm4, sep=\"\\n\")"
   ]
  },
  {
   "cell_type": "code",
   "execution_count": 22,
   "id": "e6c3fb88",
   "metadata": {},
   "outputs": [
    {
     "name": "stdout",
     "output_type": "stream",
     "text": [
      "Matrix Product : \n",
      "[[220 280]\n",
      " [400 530]]\n"
     ]
    }
   ],
   "source": [
    "print(\"Matrix Product : \",np.dot(arthm3, arthm4), sep=\"\\n\")"
   ]
  },
  {
   "cell_type": "code",
   "execution_count": 23,
   "id": "2edbbffe",
   "metadata": {},
   "outputs": [
    {
     "name": "stdout",
     "output_type": "stream",
     "text": [
      "(3, 3)\n",
      "(1, 3)\n",
      "[[ 10  50  63]\n",
      " [ 60  70  63]\n",
      " [600 700  63]]\n",
      "[[2 3 7]]\n",
      "[[ 12  53  70]\n",
      " [ 62  73  70]\n",
      " [602 703  70]]\n"
     ]
    }
   ],
   "source": [
    "# add one row array (1,n) to another differrent shaped array (x,n) with same column dimension. Exclusive scenario\n",
    "arthm5 = np.array([\n",
    "         [10, 50,63],\n",
    "         [60, 70,63], \n",
    "         [600, 700,63]])\n",
    "\n",
    "arthm6 = np.array([\n",
    "         [2, 3,7]])\n",
    "\n",
    "print(arthm5.shape, arthm6.shape, sep=\"\\n\")\n",
    "print(arthm5, arthm6, sep=\"\\n\")\n",
    "\n",
    "print(arthm5+arthm6, sep=\"\\n\")"
   ]
  },
  {
   "cell_type": "code",
   "execution_count": 24,
   "id": "adcdecd1",
   "metadata": {},
   "outputs": [
    {
     "name": "stdout",
     "output_type": "stream",
     "text": [
      "[600 700]\n",
      "[50 63 60 70 63 63]\n",
      "[10 50 63 60 70 63 63]\n"
     ]
    }
   ],
   "source": [
    "#filter array elements\n",
    "arthm6 = np.array([\n",
    "         [10, 50,63],\n",
    "         [60, 70,63], \n",
    "         [600, 700,63]])\n",
    "\n",
    "print(arthm6[arthm6 > 100])\n",
    "print(arthm6[(arthm6 > 10) & (arthm6 < 500)])\n",
    "print(arthm6[(arthm6 < 200) | (arthm6 < 50)])"
   ]
  },
  {
   "cell_type": "code",
   "execution_count": 25,
   "id": "0b18d4a1",
   "metadata": {},
   "outputs": [
    {
     "name": "stdout",
     "output_type": "stream",
     "text": [
      "[60 70 63]\n",
      "63\n",
      "[[10 50 65]\n",
      " [60 70 63]]\n",
      "[50 70]\n",
      "[63]\n"
     ]
    }
   ],
   "source": [
    "# Indexing Slicing\n",
    "arthm7 = np.array([\n",
    "         [10, 50,65],\n",
    "         [60, 70,63], \n",
    "         [600, 700,64]])\n",
    "\n",
    "# element is extracted and a row array ius created.\n",
    "print(arthm7[1]) # get row index 1\n",
    "print(arthm7[1,2]) # get row index 1 and col index 32\n",
    "print(arthm7[:2]) # get  2 rows as end index is 2\n",
    "print(arthm7[0:2,1]) # get values from 2 rows and column as index 1\n",
    "print(arthm7[1:2,2]) "
   ]
  },
  {
   "cell_type": "code",
   "execution_count": 27,
   "id": "f88197bd",
   "metadata": {},
   "outputs": [
    {
     "name": "stdout",
     "output_type": "stream",
     "text": [
      "[[ 50  65]\n",
      " [ 70  63]\n",
      " [700  64]]\n",
      "[[64]]\n"
     ]
    }
   ],
   "source": [
    "# Indexing Slicing\n",
    "arthm8 = np.array([\n",
    "         [10, 50,65,78],\n",
    "         [60, 70,63,99], \n",
    "         [600, 700,64,45],\n",
    "         [56, 11,88,31]])\n",
    "\n",
    "print(arthm8[0:3,1:3])\n",
    "print(arthm8[2:3,2:3])"
   ]
  }
 ],
 "metadata": {
  "kernelspec": {
   "display_name": "iitmenv1",
   "language": "python",
   "name": "python3"
  },
  "language_info": {
   "codemirror_mode": {
    "name": "ipython",
    "version": 3
   },
   "file_extension": ".py",
   "mimetype": "text/x-python",
   "name": "python",
   "nbconvert_exporter": "python",
   "pygments_lexer": "ipython3",
   "version": "3.11.11"
  }
 },
 "nbformat": 4,
 "nbformat_minor": 5
}
